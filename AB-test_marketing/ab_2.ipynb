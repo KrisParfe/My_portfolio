{
 "cells": [
  {
   "cell_type": "markdown",
   "metadata": {},
   "source": [
    "# Проект по А/В-тестированию"
   ]
  },
  {
   "cell_type": "markdown",
   "metadata": {},
   "source": [
    "## Изучение данных и предобработка"
   ]
  },
  {
   "cell_type": "code",
   "execution_count": 1,
   "metadata": {},
   "outputs": [],
   "source": [
    "import pandas as pd\n",
    "import matplotlib.pyplot as plt\n",
    "import seaborn as sns\n",
    "from plotly import graph_objects as go\n",
    "import matplotlib\n",
    "import math as mth\n",
    "from scipy import stats as st\n",
    "import plotly.express as px\n",
    "import numpy as np\n",
    "import warnings\n",
    "warnings.filterwarnings(\"ignore\")\n",
    "from datetime import datetime, timedelta\n",
    "import datetime as dt"
   ]
  },
  {
   "cell_type": "code",
   "execution_count": 2,
   "metadata": {},
   "outputs": [
    {
     "data": {
      "text/html": [
       "<div>\n",
       "<style scoped>\n",
       "    .dataframe tbody tr th:only-of-type {\n",
       "        vertical-align: middle;\n",
       "    }\n",
       "\n",
       "    .dataframe tbody tr th {\n",
       "        vertical-align: top;\n",
       "    }\n",
       "\n",
       "    .dataframe thead th {\n",
       "        text-align: right;\n",
       "    }\n",
       "</style>\n",
       "<table border=\"1\" class=\"dataframe\">\n",
       "  <thead>\n",
       "    <tr style=\"text-align: right;\">\n",
       "      <th></th>\n",
       "      <th>name</th>\n",
       "      <th>regions</th>\n",
       "      <th>start_dt</th>\n",
       "      <th>finish_dt</th>\n",
       "    </tr>\n",
       "  </thead>\n",
       "  <tbody>\n",
       "    <tr>\n",
       "      <th>0</th>\n",
       "      <td>Christmas&amp;New Year Promo</td>\n",
       "      <td>EU, N.America</td>\n",
       "      <td>2020-12-25</td>\n",
       "      <td>2021-01-03</td>\n",
       "    </tr>\n",
       "    <tr>\n",
       "      <th>1</th>\n",
       "      <td>St. Valentine's Day Giveaway</td>\n",
       "      <td>EU, CIS, APAC, N.America</td>\n",
       "      <td>2020-02-14</td>\n",
       "      <td>2020-02-16</td>\n",
       "    </tr>\n",
       "    <tr>\n",
       "      <th>2</th>\n",
       "      <td>St. Patric's Day Promo</td>\n",
       "      <td>EU, N.America</td>\n",
       "      <td>2020-03-17</td>\n",
       "      <td>2020-03-19</td>\n",
       "    </tr>\n",
       "    <tr>\n",
       "      <th>3</th>\n",
       "      <td>Easter Promo</td>\n",
       "      <td>EU, CIS, APAC, N.America</td>\n",
       "      <td>2020-04-12</td>\n",
       "      <td>2020-04-19</td>\n",
       "    </tr>\n",
       "    <tr>\n",
       "      <th>4</th>\n",
       "      <td>4th of July Promo</td>\n",
       "      <td>N.America</td>\n",
       "      <td>2020-07-04</td>\n",
       "      <td>2020-07-11</td>\n",
       "    </tr>\n",
       "  </tbody>\n",
       "</table>\n",
       "</div>"
      ],
      "text/plain": [
       "                           name                   regions    start_dt  \\\n",
       "0      Christmas&New Year Promo             EU, N.America  2020-12-25   \n",
       "1  St. Valentine's Day Giveaway  EU, CIS, APAC, N.America  2020-02-14   \n",
       "2        St. Patric's Day Promo             EU, N.America  2020-03-17   \n",
       "3                  Easter Promo  EU, CIS, APAC, N.America  2020-04-12   \n",
       "4             4th of July Promo                 N.America  2020-07-04   \n",
       "\n",
       "    finish_dt  \n",
       "0  2021-01-03  \n",
       "1  2020-02-16  \n",
       "2  2020-03-19  \n",
       "3  2020-04-19  \n",
       "4  2020-07-11  "
      ]
     },
     "execution_count": 2,
     "metadata": {},
     "output_type": "execute_result"
    }
   ],
   "source": [
    "df_calend = pd.read_csv('...')\n",
    "df_calend.head()"
   ]
  },
  {
   "cell_type": "code",
   "execution_count": 3,
   "metadata": {},
   "outputs": [
    {
     "data": {
      "text/html": [
       "<div>\n",
       "<style scoped>\n",
       "    .dataframe tbody tr th:only-of-type {\n",
       "        vertical-align: middle;\n",
       "    }\n",
       "\n",
       "    .dataframe tbody tr th {\n",
       "        vertical-align: top;\n",
       "    }\n",
       "\n",
       "    .dataframe thead th {\n",
       "        text-align: right;\n",
       "    }\n",
       "</style>\n",
       "<table border=\"1\" class=\"dataframe\">\n",
       "  <thead>\n",
       "    <tr style=\"text-align: right;\">\n",
       "      <th></th>\n",
       "      <th>user_id</th>\n",
       "      <th>first_date</th>\n",
       "      <th>region</th>\n",
       "      <th>device</th>\n",
       "    </tr>\n",
       "  </thead>\n",
       "  <tbody>\n",
       "    <tr>\n",
       "      <th>0</th>\n",
       "      <td>D72A72121175D8BE</td>\n",
       "      <td>2020-12-07</td>\n",
       "      <td>EU</td>\n",
       "      <td>PC</td>\n",
       "    </tr>\n",
       "    <tr>\n",
       "      <th>1</th>\n",
       "      <td>F1C668619DFE6E65</td>\n",
       "      <td>2020-12-07</td>\n",
       "      <td>N.America</td>\n",
       "      <td>Android</td>\n",
       "    </tr>\n",
       "    <tr>\n",
       "      <th>2</th>\n",
       "      <td>2E1BF1D4C37EA01F</td>\n",
       "      <td>2020-12-07</td>\n",
       "      <td>EU</td>\n",
       "      <td>PC</td>\n",
       "    </tr>\n",
       "    <tr>\n",
       "      <th>3</th>\n",
       "      <td>50734A22C0C63768</td>\n",
       "      <td>2020-12-07</td>\n",
       "      <td>EU</td>\n",
       "      <td>iPhone</td>\n",
       "    </tr>\n",
       "    <tr>\n",
       "      <th>4</th>\n",
       "      <td>E1BDDCE0DAFA2679</td>\n",
       "      <td>2020-12-07</td>\n",
       "      <td>N.America</td>\n",
       "      <td>iPhone</td>\n",
       "    </tr>\n",
       "  </tbody>\n",
       "</table>\n",
       "</div>"
      ],
      "text/plain": [
       "            user_id  first_date     region   device\n",
       "0  D72A72121175D8BE  2020-12-07         EU       PC\n",
       "1  F1C668619DFE6E65  2020-12-07  N.America  Android\n",
       "2  2E1BF1D4C37EA01F  2020-12-07         EU       PC\n",
       "3  50734A22C0C63768  2020-12-07         EU   iPhone\n",
       "4  E1BDDCE0DAFA2679  2020-12-07  N.America   iPhone"
      ]
     },
     "execution_count": 3,
     "metadata": {},
     "output_type": "execute_result"
    }
   ],
   "source": [
    "df_users = pd.read_csv('...')\n",
    "df_users.head()"
   ]
  },
  {
   "cell_type": "code",
   "execution_count": 4,
   "metadata": {},
   "outputs": [
    {
     "data": {
      "text/html": [
       "<div>\n",
       "<style scoped>\n",
       "    .dataframe tbody tr th:only-of-type {\n",
       "        vertical-align: middle;\n",
       "    }\n",
       "\n",
       "    .dataframe tbody tr th {\n",
       "        vertical-align: top;\n",
       "    }\n",
       "\n",
       "    .dataframe thead th {\n",
       "        text-align: right;\n",
       "    }\n",
       "</style>\n",
       "<table border=\"1\" class=\"dataframe\">\n",
       "  <thead>\n",
       "    <tr style=\"text-align: right;\">\n",
       "      <th></th>\n",
       "      <th>user_id</th>\n",
       "      <th>event_dt</th>\n",
       "      <th>event_name</th>\n",
       "      <th>details</th>\n",
       "    </tr>\n",
       "  </thead>\n",
       "  <tbody>\n",
       "    <tr>\n",
       "      <th>0</th>\n",
       "      <td>E1BDDCE0DAFA2679</td>\n",
       "      <td>2020-12-07 20:22:03</td>\n",
       "      <td>purchase</td>\n",
       "      <td>99.99</td>\n",
       "    </tr>\n",
       "    <tr>\n",
       "      <th>1</th>\n",
       "      <td>7B6452F081F49504</td>\n",
       "      <td>2020-12-07 09:22:53</td>\n",
       "      <td>purchase</td>\n",
       "      <td>9.99</td>\n",
       "    </tr>\n",
       "    <tr>\n",
       "      <th>2</th>\n",
       "      <td>9CD9F34546DF254C</td>\n",
       "      <td>2020-12-07 12:59:29</td>\n",
       "      <td>purchase</td>\n",
       "      <td>4.99</td>\n",
       "    </tr>\n",
       "    <tr>\n",
       "      <th>3</th>\n",
       "      <td>96F27A054B191457</td>\n",
       "      <td>2020-12-07 04:02:40</td>\n",
       "      <td>purchase</td>\n",
       "      <td>4.99</td>\n",
       "    </tr>\n",
       "    <tr>\n",
       "      <th>4</th>\n",
       "      <td>1FD7660FDF94CA1F</td>\n",
       "      <td>2020-12-07 10:15:09</td>\n",
       "      <td>purchase</td>\n",
       "      <td>4.99</td>\n",
       "    </tr>\n",
       "  </tbody>\n",
       "</table>\n",
       "</div>"
      ],
      "text/plain": [
       "            user_id             event_dt event_name  details\n",
       "0  E1BDDCE0DAFA2679  2020-12-07 20:22:03   purchase    99.99\n",
       "1  7B6452F081F49504  2020-12-07 09:22:53   purchase     9.99\n",
       "2  9CD9F34546DF254C  2020-12-07 12:59:29   purchase     4.99\n",
       "3  96F27A054B191457  2020-12-07 04:02:40   purchase     4.99\n",
       "4  1FD7660FDF94CA1F  2020-12-07 10:15:09   purchase     4.99"
      ]
     },
     "execution_count": 4,
     "metadata": {},
     "output_type": "execute_result"
    }
   ],
   "source": [
    "df_events = pd.read_csv('...')\n",
    "df_events.head()"
   ]
  },
  {
   "cell_type": "code",
   "execution_count": 5,
   "metadata": {},
   "outputs": [
    {
     "data": {
      "text/html": [
       "<div>\n",
       "<style scoped>\n",
       "    .dataframe tbody tr th:only-of-type {\n",
       "        vertical-align: middle;\n",
       "    }\n",
       "\n",
       "    .dataframe tbody tr th {\n",
       "        vertical-align: top;\n",
       "    }\n",
       "\n",
       "    .dataframe thead th {\n",
       "        text-align: right;\n",
       "    }\n",
       "</style>\n",
       "<table border=\"1\" class=\"dataframe\">\n",
       "  <thead>\n",
       "    <tr style=\"text-align: right;\">\n",
       "      <th></th>\n",
       "      <th>user_id</th>\n",
       "      <th>group</th>\n",
       "      <th>ab_test</th>\n",
       "    </tr>\n",
       "  </thead>\n",
       "  <tbody>\n",
       "    <tr>\n",
       "      <th>0</th>\n",
       "      <td>D1ABA3E2887B6A73</td>\n",
       "      <td>A</td>\n",
       "      <td>recommender_system_test</td>\n",
       "    </tr>\n",
       "    <tr>\n",
       "      <th>1</th>\n",
       "      <td>A7A3664BD6242119</td>\n",
       "      <td>A</td>\n",
       "      <td>recommender_system_test</td>\n",
       "    </tr>\n",
       "    <tr>\n",
       "      <th>2</th>\n",
       "      <td>DABC14FDDFADD29E</td>\n",
       "      <td>A</td>\n",
       "      <td>recommender_system_test</td>\n",
       "    </tr>\n",
       "    <tr>\n",
       "      <th>3</th>\n",
       "      <td>04988C5DF189632E</td>\n",
       "      <td>A</td>\n",
       "      <td>recommender_system_test</td>\n",
       "    </tr>\n",
       "    <tr>\n",
       "      <th>4</th>\n",
       "      <td>482F14783456D21B</td>\n",
       "      <td>B</td>\n",
       "      <td>recommender_system_test</td>\n",
       "    </tr>\n",
       "  </tbody>\n",
       "</table>\n",
       "</div>"
      ],
      "text/plain": [
       "            user_id group                  ab_test\n",
       "0  D1ABA3E2887B6A73     A  recommender_system_test\n",
       "1  A7A3664BD6242119     A  recommender_system_test\n",
       "2  DABC14FDDFADD29E     A  recommender_system_test\n",
       "3  04988C5DF189632E     A  recommender_system_test\n",
       "4  482F14783456D21B     B  recommender_system_test"
      ]
     },
     "execution_count": 5,
     "metadata": {},
     "output_type": "execute_result"
    }
   ],
   "source": [
    "df_test = pd.read_csv('...')\n",
    "t = df_test.copy()\n",
    "df_test.head()"
   ]
  },
  {
   "cell_type": "markdown",
   "metadata": {},
   "source": [
    "### Преобразование типов данных"
   ]
  },
  {
   "cell_type": "code",
   "execution_count": 6,
   "metadata": {},
   "outputs": [
    {
     "name": "stdout",
     "output_type": "stream",
     "text": [
      "<class 'pandas.core.frame.DataFrame'>\n",
      "RangeIndex: 14 entries, 0 to 13\n",
      "Data columns (total 4 columns):\n",
      " #   Column     Non-Null Count  Dtype \n",
      "---  ------     --------------  ----- \n",
      " 0   name       14 non-null     object\n",
      " 1   regions    14 non-null     object\n",
      " 2   start_dt   14 non-null     object\n",
      " 3   finish_dt  14 non-null     object\n",
      "dtypes: object(4)\n",
      "memory usage: 576.0+ bytes\n"
     ]
    },
    {
     "data": {
      "text/plain": [
       "None"
      ]
     },
     "metadata": {},
     "output_type": "display_data"
    },
    {
     "name": "stdout",
     "output_type": "stream",
     "text": [
      "\n",
      "<class 'pandas.core.frame.DataFrame'>\n",
      "RangeIndex: 61733 entries, 0 to 61732\n",
      "Data columns (total 4 columns):\n",
      " #   Column      Non-Null Count  Dtype \n",
      "---  ------      --------------  ----- \n",
      " 0   user_id     61733 non-null  object\n",
      " 1   first_date  61733 non-null  object\n",
      " 2   region      61733 non-null  object\n",
      " 3   device      61733 non-null  object\n",
      "dtypes: object(4)\n",
      "memory usage: 1.9+ MB\n"
     ]
    },
    {
     "data": {
      "text/plain": [
       "None"
      ]
     },
     "metadata": {},
     "output_type": "display_data"
    },
    {
     "name": "stdout",
     "output_type": "stream",
     "text": [
      "\n",
      "<class 'pandas.core.frame.DataFrame'>\n",
      "RangeIndex: 440317 entries, 0 to 440316\n",
      "Data columns (total 4 columns):\n",
      " #   Column      Non-Null Count   Dtype  \n",
      "---  ------      --------------   -----  \n",
      " 0   user_id     440317 non-null  object \n",
      " 1   event_dt    440317 non-null  object \n",
      " 2   event_name  440317 non-null  object \n",
      " 3   details     62740 non-null   float64\n",
      "dtypes: float64(1), object(3)\n",
      "memory usage: 13.4+ MB\n"
     ]
    },
    {
     "data": {
      "text/plain": [
       "None"
      ]
     },
     "metadata": {},
     "output_type": "display_data"
    },
    {
     "name": "stdout",
     "output_type": "stream",
     "text": [
      "\n",
      "<class 'pandas.core.frame.DataFrame'>\n",
      "RangeIndex: 18268 entries, 0 to 18267\n",
      "Data columns (total 3 columns):\n",
      " #   Column   Non-Null Count  Dtype \n",
      "---  ------   --------------  ----- \n",
      " 0   user_id  18268 non-null  object\n",
      " 1   group    18268 non-null  object\n",
      " 2   ab_test  18268 non-null  object\n",
      "dtypes: object(3)\n",
      "memory usage: 428.3+ KB\n"
     ]
    },
    {
     "data": {
      "text/plain": [
       "None"
      ]
     },
     "metadata": {},
     "output_type": "display_data"
    },
    {
     "name": "stdout",
     "output_type": "stream",
     "text": [
      "\n"
     ]
    }
   ],
   "source": [
    "for table in [df_calend, df_users, df_events, df_test]:\n",
    "    display(table.info())\n",
    "    print()"
   ]
  },
  {
   "cell_type": "markdown",
   "metadata": {},
   "source": [
    "Во всех таблицах столбцы с датами имеют неправильный тип данных. Приведем к типу datetime"
   ]
  },
  {
   "cell_type": "code",
   "execution_count": 7,
   "metadata": {},
   "outputs": [],
   "source": [
    "df_calend['start_dt'] = pd.to_datetime(df_calend['start_dt'])\n",
    "df_calend['finish_dt'] = pd.to_datetime(df_calend['finish_dt'])\n",
    "df_users['first_date'] = pd.to_datetime(df_users['first_date'])\n",
    "df_events['event_dt'] = pd.to_datetime(df_events['event_dt'])"
   ]
  },
  {
   "cell_type": "code",
   "execution_count": 8,
   "metadata": {},
   "outputs": [
    {
     "name": "stdout",
     "output_type": "stream",
     "text": [
      "<class 'pandas.core.frame.DataFrame'>\n",
      "RangeIndex: 14 entries, 0 to 13\n",
      "Data columns (total 4 columns):\n",
      " #   Column     Non-Null Count  Dtype         \n",
      "---  ------     --------------  -----         \n",
      " 0   name       14 non-null     object        \n",
      " 1   regions    14 non-null     object        \n",
      " 2   start_dt   14 non-null     datetime64[ns]\n",
      " 3   finish_dt  14 non-null     datetime64[ns]\n",
      "dtypes: datetime64[ns](2), object(2)\n",
      "memory usage: 576.0+ bytes\n"
     ]
    },
    {
     "data": {
      "text/plain": [
       "None"
      ]
     },
     "metadata": {},
     "output_type": "display_data"
    },
    {
     "name": "stdout",
     "output_type": "stream",
     "text": [
      "\n",
      "<class 'pandas.core.frame.DataFrame'>\n",
      "RangeIndex: 61733 entries, 0 to 61732\n",
      "Data columns (total 4 columns):\n",
      " #   Column      Non-Null Count  Dtype         \n",
      "---  ------      --------------  -----         \n",
      " 0   user_id     61733 non-null  object        \n",
      " 1   first_date  61733 non-null  datetime64[ns]\n",
      " 2   region      61733 non-null  object        \n",
      " 3   device      61733 non-null  object        \n",
      "dtypes: datetime64[ns](1), object(3)\n",
      "memory usage: 1.9+ MB\n"
     ]
    },
    {
     "data": {
      "text/plain": [
       "None"
      ]
     },
     "metadata": {},
     "output_type": "display_data"
    },
    {
     "name": "stdout",
     "output_type": "stream",
     "text": [
      "\n",
      "<class 'pandas.core.frame.DataFrame'>\n",
      "RangeIndex: 440317 entries, 0 to 440316\n",
      "Data columns (total 4 columns):\n",
      " #   Column      Non-Null Count   Dtype         \n",
      "---  ------      --------------   -----         \n",
      " 0   user_id     440317 non-null  object        \n",
      " 1   event_dt    440317 non-null  datetime64[ns]\n",
      " 2   event_name  440317 non-null  object        \n",
      " 3   details     62740 non-null   float64       \n",
      "dtypes: datetime64[ns](1), float64(1), object(2)\n",
      "memory usage: 13.4+ MB\n"
     ]
    },
    {
     "data": {
      "text/plain": [
       "None"
      ]
     },
     "metadata": {},
     "output_type": "display_data"
    },
    {
     "name": "stdout",
     "output_type": "stream",
     "text": [
      "\n",
      "<class 'pandas.core.frame.DataFrame'>\n",
      "RangeIndex: 18268 entries, 0 to 18267\n",
      "Data columns (total 3 columns):\n",
      " #   Column   Non-Null Count  Dtype \n",
      "---  ------   --------------  ----- \n",
      " 0   user_id  18268 non-null  object\n",
      " 1   group    18268 non-null  object\n",
      " 2   ab_test  18268 non-null  object\n",
      "dtypes: object(3)\n",
      "memory usage: 428.3+ KB\n"
     ]
    },
    {
     "data": {
      "text/plain": [
       "None"
      ]
     },
     "metadata": {},
     "output_type": "display_data"
    },
    {
     "name": "stdout",
     "output_type": "stream",
     "text": [
      "\n"
     ]
    }
   ],
   "source": [
    "for table in [df_calend, df_users, df_events, df_test]:\n",
    "    display(table.info())\n",
    "    print()"
   ]
  },
  {
   "cell_type": "markdown",
   "metadata": {},
   "source": [
    "### Пропущенные значения и дубликаты"
   ]
  },
  {
   "cell_type": "code",
   "execution_count": 9,
   "metadata": {},
   "outputs": [
    {
     "name": "stdout",
     "output_type": "stream",
     "text": [
      "Количество пропусков в таблице:\n"
     ]
    },
    {
     "data": {
      "text/plain": [
       "name         0\n",
       "regions      0\n",
       "start_dt     0\n",
       "finish_dt    0\n",
       "dtype: int64"
      ]
     },
     "metadata": {},
     "output_type": "display_data"
    },
    {
     "name": "stdout",
     "output_type": "stream",
     "text": [
      "\n",
      "Количество дубликатов в таблице:\n"
     ]
    },
    {
     "data": {
      "text/plain": [
       "0"
      ]
     },
     "metadata": {},
     "output_type": "display_data"
    },
    {
     "name": "stdout",
     "output_type": "stream",
     "text": [
      "\n",
      "Количество пропусков в таблице:\n"
     ]
    },
    {
     "data": {
      "text/plain": [
       "user_id       0\n",
       "first_date    0\n",
       "region        0\n",
       "device        0\n",
       "dtype: int64"
      ]
     },
     "metadata": {},
     "output_type": "display_data"
    },
    {
     "name": "stdout",
     "output_type": "stream",
     "text": [
      "\n",
      "Количество дубликатов в таблице:\n"
     ]
    },
    {
     "data": {
      "text/plain": [
       "0"
      ]
     },
     "metadata": {},
     "output_type": "display_data"
    },
    {
     "name": "stdout",
     "output_type": "stream",
     "text": [
      "\n",
      "Количество пропусков в таблице:\n"
     ]
    },
    {
     "data": {
      "text/plain": [
       "user_id            0\n",
       "event_dt           0\n",
       "event_name         0\n",
       "details       377577\n",
       "dtype: int64"
      ]
     },
     "metadata": {},
     "output_type": "display_data"
    },
    {
     "name": "stdout",
     "output_type": "stream",
     "text": [
      "\n",
      "Количество дубликатов в таблице:\n"
     ]
    },
    {
     "data": {
      "text/plain": [
       "0"
      ]
     },
     "metadata": {},
     "output_type": "display_data"
    },
    {
     "name": "stdout",
     "output_type": "stream",
     "text": [
      "\n",
      "Количество пропусков в таблице:\n"
     ]
    },
    {
     "data": {
      "text/plain": [
       "user_id    0\n",
       "group      0\n",
       "ab_test    0\n",
       "dtype: int64"
      ]
     },
     "metadata": {},
     "output_type": "display_data"
    },
    {
     "name": "stdout",
     "output_type": "stream",
     "text": [
      "\n",
      "Количество дубликатов в таблице:\n"
     ]
    },
    {
     "data": {
      "text/plain": [
       "0"
      ]
     },
     "metadata": {},
     "output_type": "display_data"
    },
    {
     "name": "stdout",
     "output_type": "stream",
     "text": [
      "\n"
     ]
    }
   ],
   "source": [
    "for table in [df_calend, df_users, df_events, df_test]:\n",
    "    print(f'Количество пропусков в таблице:')\n",
    "    display(table.isna().sum())\n",
    "    print()\n",
    "    print(f'Количество дубликатов в таблице:')\n",
    "    display(table.duplicated().sum())\n",
    "    print()\n",
    "    "
   ]
  },
  {
   "cell_type": "markdown",
   "metadata": {},
   "source": [
    "Дубликатов в таблицах не обнаружено, в таблице df_event есть 377577 пропусков в столбце 'details'. Рассмотрим этот столбец подробнее"
   ]
  },
  {
   "cell_type": "code",
   "execution_count": 10,
   "metadata": {},
   "outputs": [
    {
     "data": {
      "text/plain": [
       "4.99      46362\n",
       "9.99       9530\n",
       "99.99      5631\n",
       "499.99     1217\n",
       "Name: details, dtype: int64"
      ]
     },
     "execution_count": 10,
     "metadata": {},
     "output_type": "execute_result"
    }
   ],
   "source": [
    "df_events['details'].value_counts()"
   ]
  },
  {
   "cell_type": "code",
   "execution_count": 11,
   "metadata": {},
   "outputs": [
    {
     "data": {
      "text/plain": [
       "user_id       0\n",
       "event_dt      0\n",
       "event_name    0\n",
       "details       0\n",
       "dtype: int64"
      ]
     },
     "execution_count": 11,
     "metadata": {},
     "output_type": "execute_result"
    }
   ],
   "source": [
    "df_events[df_events['event_name'] == 'purchase'].isna().sum()"
   ]
  },
  {
   "cell_type": "code",
   "execution_count": 12,
   "metadata": {},
   "outputs": [
    {
     "data": {
      "text/html": [
       "<div>\n",
       "<style scoped>\n",
       "    .dataframe tbody tr th:only-of-type {\n",
       "        vertical-align: middle;\n",
       "    }\n",
       "\n",
       "    .dataframe tbody tr th {\n",
       "        vertical-align: top;\n",
       "    }\n",
       "\n",
       "    .dataframe thead th {\n",
       "        text-align: right;\n",
       "    }\n",
       "</style>\n",
       "<table border=\"1\" class=\"dataframe\">\n",
       "  <thead>\n",
       "    <tr style=\"text-align: right;\">\n",
       "      <th></th>\n",
       "      <th>details</th>\n",
       "    </tr>\n",
       "    <tr>\n",
       "      <th>event_name</th>\n",
       "      <th></th>\n",
       "    </tr>\n",
       "  </thead>\n",
       "  <tbody>\n",
       "    <tr>\n",
       "      <th>login</th>\n",
       "      <td>0</td>\n",
       "    </tr>\n",
       "    <tr>\n",
       "      <th>product_cart</th>\n",
       "      <td>0</td>\n",
       "    </tr>\n",
       "    <tr>\n",
       "      <th>product_page</th>\n",
       "      <td>0</td>\n",
       "    </tr>\n",
       "    <tr>\n",
       "      <th>purchase</th>\n",
       "      <td>62740</td>\n",
       "    </tr>\n",
       "  </tbody>\n",
       "</table>\n",
       "</div>"
      ],
      "text/plain": [
       "              details\n",
       "event_name           \n",
       "login               0\n",
       "product_cart        0\n",
       "product_page        0\n",
       "purchase        62740"
      ]
     },
     "execution_count": 12,
     "metadata": {},
     "output_type": "execute_result"
    }
   ],
   "source": [
    "df_events.groupby('event_name').agg({'details' : 'count'})"
   ]
  },
  {
   "cell_type": "markdown",
   "metadata": {},
   "source": [
    "Столбец 'details' содержит дополнительные данные о событии в столбце 'event_name'. В нашей таблице данные заполнены только для покупок (purchase), в 'details' хранится стоимость покупки в долларах. Стоимость заполнена для всех покупок, оставляем столбец без изменений."
   ]
  },
  {
   "cell_type": "code",
   "execution_count": 13,
   "metadata": {},
   "outputs": [
    {
     "data": {
      "text/plain": [
       "login           189552\n",
       "product_page    125563\n",
       "purchase         62740\n",
       "product_cart     62462\n",
       "Name: event_name, dtype: int64"
      ]
     },
     "execution_count": 13,
     "metadata": {},
     "output_type": "execute_result"
    }
   ],
   "source": [
    "df_events['event_name'].value_counts()"
   ]
  },
  {
   "cell_type": "code",
   "execution_count": 14,
   "metadata": {},
   "outputs": [
    {
     "data": {
      "text/plain": [
       "Android    27520\n",
       "PC         15599\n",
       "iPhone     12530\n",
       "Mac         6084\n",
       "Name: device, dtype: int64"
      ]
     },
     "execution_count": 14,
     "metadata": {},
     "output_type": "execute_result"
    }
   ],
   "source": [
    "df_users['device'].value_counts()"
   ]
  },
  {
   "cell_type": "markdown",
   "metadata": {},
   "source": [
    "Неявных дубликатов также не выявлено"
   ]
  },
  {
   "cell_type": "markdown",
   "metadata": {},
   "source": [
    "### Соответствие данных требованиям технического задания"
   ]
  },
  {
   "cell_type": "markdown",
   "metadata": {},
   "source": [
    "**Техническое задание:**\n",
    "- Название теста: recommender_system_test;\n",
    "- Группы: А (контрольная), B (новая платёжная воронка);\n",
    "- Дата запуска: 2020-12-07;\n",
    "- Дата остановки набора новых пользователей: 2020-12-21;\n",
    "- Дата остановки: 2021-01-04;\n",
    "- Аудитория: 15% новых пользователей из региона EU;\n",
    "- Назначение теста: тестирование изменений, связанных с внедрением улучшенной рекомендательной системы;\n",
    "- Ожидаемое количество участников теста: 6000.\n",
    "- Ожидаемый эффект: за 14 дней с момента регистрации в системе пользователи покажут улучшение каждой метрики не менее, чем на 10%:\n",
    "    - конверсии в просмотр карточек товаров — событие product_page\n",
    "    - просмотры корзины — product_cart\n",
    "    - покупки — purchase."
   ]
  },
  {
   "cell_type": "markdown",
   "metadata": {},
   "source": [
    "#### Название теста: recommender_system_test; Группы: А (контрольная), B (новая платёжная воронка)"
   ]
  },
  {
   "cell_type": "code",
   "execution_count": 15,
   "metadata": {},
   "outputs": [
    {
     "data": {
      "text/html": [
       "<div>\n",
       "<style scoped>\n",
       "    .dataframe tbody tr th:only-of-type {\n",
       "        vertical-align: middle;\n",
       "    }\n",
       "\n",
       "    .dataframe tbody tr th {\n",
       "        vertical-align: top;\n",
       "    }\n",
       "\n",
       "    .dataframe thead th {\n",
       "        text-align: right;\n",
       "    }\n",
       "</style>\n",
       "<table border=\"1\" class=\"dataframe\">\n",
       "  <thead>\n",
       "    <tr style=\"text-align: right;\">\n",
       "      <th>group</th>\n",
       "      <th>A</th>\n",
       "      <th>B</th>\n",
       "    </tr>\n",
       "    <tr>\n",
       "      <th>ab_test</th>\n",
       "      <th></th>\n",
       "      <th></th>\n",
       "    </tr>\n",
       "  </thead>\n",
       "  <tbody>\n",
       "    <tr>\n",
       "      <th>interface_eu_test</th>\n",
       "      <td>5831</td>\n",
       "      <td>5736</td>\n",
       "    </tr>\n",
       "    <tr>\n",
       "      <th>recommender_system_test</th>\n",
       "      <td>3824</td>\n",
       "      <td>2877</td>\n",
       "    </tr>\n",
       "  </tbody>\n",
       "</table>\n",
       "</div>"
      ],
      "text/plain": [
       "group                       A     B\n",
       "ab_test                            \n",
       "interface_eu_test        5831  5736\n",
       "recommender_system_test  3824  2877"
      ]
     },
     "execution_count": 15,
     "metadata": {},
     "output_type": "execute_result"
    }
   ],
   "source": [
    "df_test.pivot_table(index='ab_test', columns='group', values='user_id', aggfunc='nunique')"
   ]
  },
  {
   "cell_type": "markdown",
   "metadata": {},
   "source": [
    "В таблице присутствуют данные для двух разных А/В-тестов. Прежде чем отфильтровать ненужный нам тест, проверим пользователей на предмет пересечения между тестами."
   ]
  },
  {
   "cell_type": "code",
   "execution_count": 16,
   "metadata": {},
   "outputs": [
    {
     "data": {
      "text/html": [
       "<div>\n",
       "<style scoped>\n",
       "    .dataframe tbody tr th:only-of-type {\n",
       "        vertical-align: middle;\n",
       "    }\n",
       "\n",
       "    .dataframe tbody tr th {\n",
       "        vertical-align: top;\n",
       "    }\n",
       "\n",
       "    .dataframe thead th {\n",
       "        text-align: right;\n",
       "    }\n",
       "</style>\n",
       "<table border=\"1\" class=\"dataframe\">\n",
       "  <thead>\n",
       "    <tr style=\"text-align: right;\">\n",
       "      <th></th>\n",
       "      <th>user_id</th>\n",
       "      <th>group_x</th>\n",
       "      <th>ab_test_x</th>\n",
       "      <th>group_y</th>\n",
       "      <th>ab_test_y</th>\n",
       "    </tr>\n",
       "  </thead>\n",
       "  <tbody>\n",
       "    <tr>\n",
       "      <th>0</th>\n",
       "      <td>773ECB64E45DEBAB</td>\n",
       "      <td>A</td>\n",
       "      <td>interface_eu_test</td>\n",
       "      <td>A</td>\n",
       "      <td>recommender_system_test</td>\n",
       "    </tr>\n",
       "    <tr>\n",
       "      <th>1</th>\n",
       "      <td>AABA4219186465C9</td>\n",
       "      <td>A</td>\n",
       "      <td>interface_eu_test</td>\n",
       "      <td>A</td>\n",
       "      <td>recommender_system_test</td>\n",
       "    </tr>\n",
       "    <tr>\n",
       "      <th>2</th>\n",
       "      <td>2BA8FA8754D1FE50</td>\n",
       "      <td>B</td>\n",
       "      <td>interface_eu_test</td>\n",
       "      <td>A</td>\n",
       "      <td>recommender_system_test</td>\n",
       "    </tr>\n",
       "    <tr>\n",
       "      <th>3</th>\n",
       "      <td>FB6F6BC119E1DBD5</td>\n",
       "      <td>B</td>\n",
       "      <td>interface_eu_test</td>\n",
       "      <td>A</td>\n",
       "      <td>recommender_system_test</td>\n",
       "    </tr>\n",
       "    <tr>\n",
       "      <th>4</th>\n",
       "      <td>0ABA6D32AE7AFB9B</td>\n",
       "      <td>A</td>\n",
       "      <td>interface_eu_test</td>\n",
       "      <td>B</td>\n",
       "      <td>recommender_system_test</td>\n",
       "    </tr>\n",
       "  </tbody>\n",
       "</table>\n",
       "</div>"
      ],
      "text/plain": [
       "            user_id group_x          ab_test_x group_y  \\\n",
       "0  773ECB64E45DEBAB       A  interface_eu_test       A   \n",
       "1  AABA4219186465C9       A  interface_eu_test       A   \n",
       "2  2BA8FA8754D1FE50       B  interface_eu_test       A   \n",
       "3  FB6F6BC119E1DBD5       B  interface_eu_test       A   \n",
       "4  0ABA6D32AE7AFB9B       A  interface_eu_test       B   \n",
       "\n",
       "                 ab_test_y  \n",
       "0  recommender_system_test  \n",
       "1  recommender_system_test  \n",
       "2  recommender_system_test  \n",
       "3  recommender_system_test  \n",
       "4  recommender_system_test  "
      ]
     },
     "execution_count": 16,
     "metadata": {},
     "output_type": "execute_result"
    }
   ],
   "source": [
    "df_group = (\n",
    "    df_test[df_test['ab_test'] == 'interface_eu_test']\n",
    "    .merge(df_test[df_test['ab_test'] == 'recommender_system_test'], on='user_id')\n",
    ")\n",
    "df_group.head()"
   ]
  },
  {
   "cell_type": "code",
   "execution_count": 17,
   "metadata": {},
   "outputs": [
    {
     "data": {
      "text/plain": [
       "1602"
      ]
     },
     "execution_count": 17,
     "metadata": {},
     "output_type": "execute_result"
    }
   ],
   "source": [
    "df_group.shape[0]"
   ]
  },
  {
   "cell_type": "code",
   "execution_count": 18,
   "metadata": {},
   "outputs": [],
   "source": [
    "s_aa = df_group.query('group_x == \"A\" and group_y == \"A\"').shape[0]\n",
    "s_ab = df_group.query('group_x == \"A\" and group_y == \"B\"').shape[0]\n",
    "s_ba = df_group.query('group_x == \"B\" and group_y == \"A\"').shape[0]\n",
    "s_bb = df_group.query('group_x == \"B\" and group_y == \"B\"').shape[0]"
   ]
  },
  {
   "cell_type": "code",
   "execution_count": 19,
   "metadata": {},
   "outputs": [],
   "source": [
    "t_a = df_test[(df_test['ab_test'] == 'recommender_system_test') & (df_test['group'] == \"A\")].shape[0]\n",
    "t_b = df_test[(df_test['ab_test'] == 'recommender_system_test') & (df_test['group'] == \"B\")].shape[0]"
   ]
  },
  {
   "cell_type": "code",
   "execution_count": 20,
   "metadata": {},
   "outputs": [
    {
     "name": "stdout",
     "output_type": "stream",
     "text": [
      "p-значение: 0.27035559328835035\n",
      "Не получилось отвергнуть нулевую гипотезу, нет оснований считать доли разными.\n"
     ]
    }
   ],
   "source": [
    "alpha = 0.05 # критический уровень статистической значимости\n",
    "\n",
    "# Пропорции в группах\n",
    "p0 = s_aa / t_a\n",
    "p1 = s_ab / t_b\n",
    "\n",
    "# Пропорция в комбинированном датасете:\n",
    "p_combined = (s_aa + s_ab)/(t_a + t_b)\n",
    "\n",
    "# разница пропорций в датасетах\n",
    "difference = p0 - p1\n",
    "\n",
    "# считаем статистику в ст.отклонениях стандартного нормального распределения\n",
    "z_value = difference / mth.sqrt(p_combined * (1 - p_combined) * (1/t_a + 1/t_b))\n",
    "\n",
    "# задаем стандартное нормальное распределение (среднее 0, ст.отклонение 1)\n",
    "distr = st.norm(0, 1)\n",
    "\n",
    "p_value = (1 - distr.cdf(abs(z_value))) * 2\n",
    "\n",
    "print('p-значение:',p_value)\n",
    "\n",
    "if (p_value < alpha):\n",
    "    print(\"Отвергаем нулевую гипотезу: между долями есть значимая разница\")\n",
    "else:\n",
    "    print(\"Не получилось отвергнуть нулевую гипотезу, нет оснований считать доли разными.\")"
   ]
  },
  {
   "cell_type": "code",
   "execution_count": 21,
   "metadata": {},
   "outputs": [
    {
     "name": "stdout",
     "output_type": "stream",
     "text": [
      "p-значение: 0.5475925169519402\n",
      "Не получилось отвергнуть нулевую гипотезу, нет оснований считать доли разными.\n"
     ]
    }
   ],
   "source": [
    "alpha = 0.05 # критический уровень статистической значимости\n",
    "\n",
    "# Пропорции в группах\n",
    "p0 = s_ba / t_a\n",
    "p1 = s_bb / t_b\n",
    "\n",
    "# Пропорция в комбинированном датасете:\n",
    "p_combined = (s_ba + s_bb)/(t_a + t_b)\n",
    "\n",
    "# разница пропорций в датасетах\n",
    "difference = p0 - p1\n",
    "\n",
    "# считаем статистику в ст.отклонениях стандартного нормального распределения\n",
    "z_value = difference / mth.sqrt(p_combined * (1 - p_combined) * (1/t_a + 1/t_b))\n",
    "\n",
    "# задаем стандартное нормальное распределение (среднее 0, ст.отклонение 1)\n",
    "distr = st.norm(0, 1)\n",
    "\n",
    "p_value = (1 - distr.cdf(abs(z_value))) * 2\n",
    "\n",
    "print('p-значение:',p_value)\n",
    "\n",
    "if (p_value < alpha):\n",
    "    print(\"Отвергаем нулевую гипотезу: между долями есть значимая разница\")\n",
    "else:\n",
    "    print(\"Не получилось отвергнуть нулевую гипотезу, нет оснований считать доли разными.\")"
   ]
  },
  {
   "cell_type": "markdown",
   "metadata": {},
   "source": [
    "Z-тест показал, что между долями переходов из групп А и В смежного теста в целевой нет статистически значимой разницы, т.е. пользователи, участвующие в смежном тесте, распределены между группами целевого теста равномерно и в равной степени влияли на группы А и В целевого теста, что в итоге не должно отразиться на изменении отношения конверсий в группе А и В целевого теста."
   ]
  },
  {
   "cell_type": "code",
   "execution_count": 22,
   "metadata": {},
   "outputs": [],
   "source": [
    "# Оставим в таблице данные только целевого теста\n",
    "df_test = df_test[(df_test['ab_test'] == 'recommender_system_test')]"
   ]
  },
  {
   "cell_type": "code",
   "execution_count": 23,
   "metadata": {},
   "outputs": [
    {
     "data": {
      "text/plain": [
       "0"
      ]
     },
     "execution_count": 23,
     "metadata": {},
     "output_type": "execute_result"
    }
   ],
   "source": [
    "# Проверим наличие пересечений между пользователями групп А и В целевого теста\n",
    "len(df_test[df_test['group'] == \"A\"].merge(df_test[df_test['group'] == \"B\"], on='user_id')['user_id'].unique())"
   ]
  },
  {
   "cell_type": "markdown",
   "metadata": {},
   "source": [
    "Пересечений между группами не обнаружено"
   ]
  },
  {
   "cell_type": "markdown",
   "metadata": {},
   "source": [
    "#### Дата запуска: 2020-12-07. Дата остановки набора новых пользователей: 2020-12-21"
   ]
  },
  {
   "cell_type": "code",
   "execution_count": 24,
   "metadata": {},
   "outputs": [
    {
     "data": {
      "text/plain": [
       "(6701, 3)"
      ]
     },
     "execution_count": 24,
     "metadata": {},
     "output_type": "execute_result"
    }
   ],
   "source": [
    "df_test.shape"
   ]
  },
  {
   "cell_type": "code",
   "execution_count": 25,
   "metadata": {},
   "outputs": [
    {
     "data": {
      "text/plain": [
       "(6701, 6)"
      ]
     },
     "execution_count": 25,
     "metadata": {},
     "output_type": "execute_result"
    }
   ],
   "source": [
    "# Объединим таблицу участников нашего теста с таблицей регистраций новых пользователей\n",
    "df_merge = df_test.merge(df_users, how='left', on='user_id')\n",
    "df_merge.shape"
   ]
  },
  {
   "cell_type": "code",
   "execution_count": 26,
   "metadata": {},
   "outputs": [],
   "source": [
    "df_reg = df_merge.groupby(['first_date','group']).agg({'user_id' : 'count'}).reset_index().sort_values(by='first_date')"
   ]
  },
  {
   "cell_type": "code",
   "execution_count": null,
   "metadata": {},
   "outputs": [],
   "source": [
    "fig = px.bar(\n",
    "    df_reg, x='first_date', y='user_id', color='group', color_discrete_sequence=[\"#00A08B\", \"#EB663B\"],barmode='group'\n",
    ")\n",
    "\n",
    "fig.update_layout(xaxis={'categoryorder':'total descending'}, \n",
    "                  title=\"Распределение пользователей по дате регистрации\",\n",
    "                  yaxis_title=\"Количество пользователей\",\n",
    "                  xaxis_title=\"Дата\")\n",
    "fig.show() "
   ]
  },
  {
   "attachments": {
    "2d885cf0-4b72-4cd1-94dc-5a4d9b81c380.png": {
     "image/png": "[encoded data removed]"
    }
   },
   "cell_type": "markdown",
   "metadata": {},
   "source": [
    "![newplot (16).png](attachment:2d885cf0-4b72-4cd1-94dc-5a4d9b81c380.png)"
   ]
  },
  {
   "cell_type": "markdown",
   "metadata": {},
   "source": [
    "В таблице данные о пользователях, зарегистрировавшихся с 07.12.2020 по 21.12.2020, как и необходимо по ТЗ. При этом разделение по группам происходило неравномерно: в группу А ежедневно добавлялось больше новых пользователей, чем в группу В, в отдельные дни разница достигает 39%."
   ]
  },
  {
   "cell_type": "markdown",
   "metadata": {},
   "source": [
    "#### Дата остановки: 2021-01-04"
   ]
  },
  {
   "cell_type": "code",
   "execution_count": 28,
   "metadata": {},
   "outputs": [],
   "source": [
    "df_ab = df_merge.merge(df_events, on='user_id', how='left')"
   ]
  },
  {
   "cell_type": "code",
   "execution_count": 29,
   "metadata": {},
   "outputs": [
    {
     "name": "stdout",
     "output_type": "stream",
     "text": [
      "<class 'pandas.core.frame.DataFrame'>\n",
      "Int64Index: 27724 entries, 0 to 27723\n",
      "Data columns (total 9 columns):\n",
      " #   Column      Non-Null Count  Dtype         \n",
      "---  ------      --------------  -----         \n",
      " 0   user_id     27724 non-null  object        \n",
      " 1   group       27724 non-null  object        \n",
      " 2   ab_test     27724 non-null  object        \n",
      " 3   first_date  27724 non-null  datetime64[ns]\n",
      " 4   region      27724 non-null  object        \n",
      " 5   device      27724 non-null  object        \n",
      " 6   event_dt    24698 non-null  datetime64[ns]\n",
      " 7   event_name  24698 non-null  object        \n",
      " 8   details     3331 non-null   float64       \n",
      "dtypes: datetime64[ns](2), float64(1), object(6)\n",
      "memory usage: 2.1+ MB\n"
     ]
    }
   ],
   "source": [
    "df_ab.info()"
   ]
  },
  {
   "cell_type": "code",
   "execution_count": 30,
   "metadata": {},
   "outputs": [
    {
     "data": {
      "text/plain": [
       "0"
      ]
     },
     "execution_count": 30,
     "metadata": {},
     "output_type": "execute_result"
    }
   ],
   "source": [
    "# Посмотрим, есть ли заполненные события у пользователей с пропусками\n",
    "df_ab[df_ab['event_dt'].isna()].merge(df_ab[~df_ab['event_dt'].isna()], on='user_id').shape[0]"
   ]
  },
  {
   "cell_type": "code",
   "execution_count": 31,
   "metadata": {},
   "outputs": [
    {
     "data": {
      "text/plain": [
       "3026"
      ]
     },
     "execution_count": 31,
     "metadata": {},
     "output_type": "execute_result"
    }
   ],
   "source": [
    "# Посчитаем, сколько пользователей не совершило ни одного события\n",
    "df_ab[df_ab['event_dt'].isna()]['user_id'].nunique()"
   ]
  },
  {
   "cell_type": "code",
   "execution_count": 32,
   "metadata": {},
   "outputs": [
    {
     "data": {
      "text/html": [
       "<div>\n",
       "<style scoped>\n",
       "    .dataframe tbody tr th:only-of-type {\n",
       "        vertical-align: middle;\n",
       "    }\n",
       "\n",
       "    .dataframe tbody tr th {\n",
       "        vertical-align: top;\n",
       "    }\n",
       "\n",
       "    .dataframe thead th {\n",
       "        text-align: right;\n",
       "    }\n",
       "</style>\n",
       "<table border=\"1\" class=\"dataframe\">\n",
       "  <thead>\n",
       "    <tr style=\"text-align: right;\">\n",
       "      <th></th>\n",
       "      <th>user_id</th>\n",
       "    </tr>\n",
       "    <tr>\n",
       "      <th>group</th>\n",
       "      <th></th>\n",
       "    </tr>\n",
       "  </thead>\n",
       "  <tbody>\n",
       "    <tr>\n",
       "      <th>A</th>\n",
       "      <td>1077</td>\n",
       "    </tr>\n",
       "    <tr>\n",
       "      <th>B</th>\n",
       "      <td>1949</td>\n",
       "    </tr>\n",
       "  </tbody>\n",
       "</table>\n",
       "</div>"
      ],
      "text/plain": [
       "       user_id\n",
       "group         \n",
       "A         1077\n",
       "B         1949"
      ]
     },
     "execution_count": 32,
     "metadata": {},
     "output_type": "execute_result"
    }
   ],
   "source": [
    "df_ab[df_ab['event_dt'].isna()].groupby('group').agg({'user_id' : 'nunique'})"
   ]
  },
  {
   "cell_type": "markdown",
   "metadata": {},
   "source": [
    "В объединенной таблице со всеми событиями для пользователей тестируемых групп есть пропуски в столбцах с датой и названием событий. 3026 пользователей не совершили ни одного события, из них 1949 относятся к группе В. Посмотрим на поведение других пользователей, чтобы определиться, это естественная конверсия или какой-то сбой."
   ]
  },
  {
   "cell_type": "code",
   "execution_count": 33,
   "metadata": {},
   "outputs": [],
   "source": [
    "id_ab = df_ab['user_id'].unique()"
   ]
  },
  {
   "cell_type": "code",
   "execution_count": 34,
   "metadata": {},
   "outputs": [
    {
     "data": {
      "text/html": [
       "<div>\n",
       "<style scoped>\n",
       "    .dataframe tbody tr th:only-of-type {\n",
       "        vertical-align: middle;\n",
       "    }\n",
       "\n",
       "    .dataframe tbody tr th {\n",
       "        vertical-align: top;\n",
       "    }\n",
       "\n",
       "    .dataframe thead th {\n",
       "        text-align: right;\n",
       "    }\n",
       "</style>\n",
       "<table border=\"1\" class=\"dataframe\">\n",
       "  <thead>\n",
       "    <tr style=\"text-align: right;\">\n",
       "      <th></th>\n",
       "      <th></th>\n",
       "      <th>user_id</th>\n",
       "    </tr>\n",
       "    <tr>\n",
       "      <th>group</th>\n",
       "      <th>ab_test</th>\n",
       "      <th></th>\n",
       "    </tr>\n",
       "  </thead>\n",
       "  <tbody>\n",
       "    <tr>\n",
       "      <th>A</th>\n",
       "      <th>interface_eu_test</th>\n",
       "      <td>1</td>\n",
       "    </tr>\n",
       "    <tr>\n",
       "      <th>B</th>\n",
       "      <th>interface_eu_test</th>\n",
       "      <td>1</td>\n",
       "    </tr>\n",
       "  </tbody>\n",
       "</table>\n",
       "</div>"
      ],
      "text/plain": [
       "                         user_id\n",
       "group ab_test                   \n",
       "A     interface_eu_test        1\n",
       "B     interface_eu_test        1"
      ]
     },
     "execution_count": 34,
     "metadata": {},
     "output_type": "execute_result"
    }
   ],
   "source": [
    "test = t.query('user_id not in @id_ab').merge(df_events, on='user_id', how='left')\n",
    "test[test['event_dt'].isna()].groupby(['group','ab_test']).agg({'user_id' : 'nunique'})"
   ]
  },
  {
   "cell_type": "code",
   "execution_count": 35,
   "metadata": {},
   "outputs": [
    {
     "data": {
      "text/plain": [
       "9965"
      ]
     },
     "execution_count": 35,
     "metadata": {},
     "output_type": "execute_result"
    }
   ],
   "source": [
    "test[test['ab_test'] == \"interface_eu_test\"]['user_id'].nunique()"
   ]
  },
  {
   "cell_type": "markdown",
   "metadata": {},
   "source": [
    "В другом тесте встречается всего по одному пользователю без событий из 9965 уникальных пользователей. Таким образом делаем вывод, что скорее всего в наших данных есть ошибка и отфильтруем пользователей без событий."
   ]
  },
  {
   "cell_type": "code",
   "execution_count": 36,
   "metadata": {},
   "outputs": [
    {
     "data": {
      "text/html": [
       "<div>\n",
       "<style scoped>\n",
       "    .dataframe tbody tr th:only-of-type {\n",
       "        vertical-align: middle;\n",
       "    }\n",
       "\n",
       "    .dataframe tbody tr th {\n",
       "        vertical-align: top;\n",
       "    }\n",
       "\n",
       "    .dataframe thead th {\n",
       "        text-align: right;\n",
       "    }\n",
       "</style>\n",
       "<table border=\"1\" class=\"dataframe\">\n",
       "  <thead>\n",
       "    <tr style=\"text-align: right;\">\n",
       "      <th></th>\n",
       "      <th>user_id</th>\n",
       "    </tr>\n",
       "    <tr>\n",
       "      <th>group</th>\n",
       "      <th></th>\n",
       "    </tr>\n",
       "  </thead>\n",
       "  <tbody>\n",
       "    <tr>\n",
       "      <th>A</th>\n",
       "      <td>2747</td>\n",
       "    </tr>\n",
       "    <tr>\n",
       "      <th>B</th>\n",
       "      <td>928</td>\n",
       "    </tr>\n",
       "  </tbody>\n",
       "</table>\n",
       "</div>"
      ],
      "text/plain": [
       "       user_id\n",
       "group         \n",
       "A         2747\n",
       "B          928"
      ]
     },
     "execution_count": 36,
     "metadata": {},
     "output_type": "execute_result"
    }
   ],
   "source": [
    "df_ab_2 = df_ab.dropna(subset=['event_dt'])\n",
    "df_ab_2.groupby('group').agg({'user_id' : 'nunique'})"
   ]
  },
  {
   "cell_type": "code",
   "execution_count": 37,
   "metadata": {},
   "outputs": [
    {
     "data": {
      "text/plain": [
       "3675"
      ]
     },
     "execution_count": 37,
     "metadata": {},
     "output_type": "execute_result"
    }
   ],
   "source": [
    "df_ab_2['user_id'].nunique()"
   ]
  },
  {
   "cell_type": "code",
   "execution_count": 38,
   "metadata": {},
   "outputs": [
    {
     "name": "stdout",
     "output_type": "stream",
     "text": [
      "<class 'pandas.core.frame.DataFrame'>\n",
      "Int64Index: 24698 entries, 0 to 27723\n",
      "Data columns (total 9 columns):\n",
      " #   Column      Non-Null Count  Dtype         \n",
      "---  ------      --------------  -----         \n",
      " 0   user_id     24698 non-null  object        \n",
      " 1   group       24698 non-null  object        \n",
      " 2   ab_test     24698 non-null  object        \n",
      " 3   first_date  24698 non-null  datetime64[ns]\n",
      " 4   region      24698 non-null  object        \n",
      " 5   device      24698 non-null  object        \n",
      " 6   event_dt    24698 non-null  datetime64[ns]\n",
      " 7   event_name  24698 non-null  object        \n",
      " 8   details     3331 non-null   float64       \n",
      "dtypes: datetime64[ns](2), float64(1), object(6)\n",
      "memory usage: 1.9+ MB\n"
     ]
    }
   ],
   "source": [
    "df_ab_2.info()"
   ]
  },
  {
   "cell_type": "markdown",
   "metadata": {},
   "source": [
    "После фильтрации в таблице осталось 3675 пользователей, в т.ч. 2747 в группе А и 928 в группе В."
   ]
  },
  {
   "cell_type": "code",
   "execution_count": 39,
   "metadata": {},
   "outputs": [
    {
     "data": {
      "text/html": [
       "<div>\n",
       "<style scoped>\n",
       "    .dataframe tbody tr th:only-of-type {\n",
       "        vertical-align: middle;\n",
       "    }\n",
       "\n",
       "    .dataframe tbody tr th {\n",
       "        vertical-align: top;\n",
       "    }\n",
       "\n",
       "    .dataframe thead th {\n",
       "        text-align: right;\n",
       "    }\n",
       "</style>\n",
       "<table border=\"1\" class=\"dataframe\">\n",
       "  <thead>\n",
       "    <tr style=\"text-align: right;\">\n",
       "      <th></th>\n",
       "      <th>event_dt</th>\n",
       "      <th>user_id</th>\n",
       "    </tr>\n",
       "  </thead>\n",
       "  <tbody>\n",
       "    <tr>\n",
       "      <th>0</th>\n",
       "      <td>2020-12-07</td>\n",
       "      <td>709</td>\n",
       "    </tr>\n",
       "    <tr>\n",
       "      <th>1</th>\n",
       "      <td>2020-12-08</td>\n",
       "      <td>593</td>\n",
       "    </tr>\n",
       "    <tr>\n",
       "      <th>2</th>\n",
       "      <td>2020-12-09</td>\n",
       "      <td>746</td>\n",
       "    </tr>\n",
       "    <tr>\n",
       "      <th>3</th>\n",
       "      <td>2020-12-10</td>\n",
       "      <td>613</td>\n",
       "    </tr>\n",
       "    <tr>\n",
       "      <th>4</th>\n",
       "      <td>2020-12-11</td>\n",
       "      <td>542</td>\n",
       "    </tr>\n",
       "    <tr>\n",
       "      <th>5</th>\n",
       "      <td>2020-12-12</td>\n",
       "      <td>558</td>\n",
       "    </tr>\n",
       "    <tr>\n",
       "      <th>6</th>\n",
       "      <td>2020-12-13</td>\n",
       "      <td>504</td>\n",
       "    </tr>\n",
       "    <tr>\n",
       "      <th>7</th>\n",
       "      <td>2020-12-14</td>\n",
       "      <td>1355</td>\n",
       "    </tr>\n",
       "    <tr>\n",
       "      <th>8</th>\n",
       "      <td>2020-12-15</td>\n",
       "      <td>1316</td>\n",
       "    </tr>\n",
       "    <tr>\n",
       "      <th>9</th>\n",
       "      <td>2020-12-16</td>\n",
       "      <td>1454</td>\n",
       "    </tr>\n",
       "    <tr>\n",
       "      <th>10</th>\n",
       "      <td>2020-12-17</td>\n",
       "      <td>1548</td>\n",
       "    </tr>\n",
       "    <tr>\n",
       "      <th>11</th>\n",
       "      <td>2020-12-18</td>\n",
       "      <td>1584</td>\n",
       "    </tr>\n",
       "    <tr>\n",
       "      <th>12</th>\n",
       "      <td>2020-12-19</td>\n",
       "      <td>1810</td>\n",
       "    </tr>\n",
       "    <tr>\n",
       "      <th>13</th>\n",
       "      <td>2020-12-20</td>\n",
       "      <td>1848</td>\n",
       "    </tr>\n",
       "    <tr>\n",
       "      <th>14</th>\n",
       "      <td>2020-12-21</td>\n",
       "      <td>2441</td>\n",
       "    </tr>\n",
       "    <tr>\n",
       "      <th>15</th>\n",
       "      <td>2020-12-22</td>\n",
       "      <td>1506</td>\n",
       "    </tr>\n",
       "    <tr>\n",
       "      <th>16</th>\n",
       "      <td>2020-12-23</td>\n",
       "      <td>1201</td>\n",
       "    </tr>\n",
       "    <tr>\n",
       "      <th>17</th>\n",
       "      <td>2020-12-24</td>\n",
       "      <td>1042</td>\n",
       "    </tr>\n",
       "    <tr>\n",
       "      <th>18</th>\n",
       "      <td>2020-12-25</td>\n",
       "      <td>789</td>\n",
       "    </tr>\n",
       "    <tr>\n",
       "      <th>19</th>\n",
       "      <td>2020-12-26</td>\n",
       "      <td>733</td>\n",
       "    </tr>\n",
       "    <tr>\n",
       "      <th>20</th>\n",
       "      <td>2020-12-27</td>\n",
       "      <td>691</td>\n",
       "    </tr>\n",
       "    <tr>\n",
       "      <th>21</th>\n",
       "      <td>2020-12-28</td>\n",
       "      <td>603</td>\n",
       "    </tr>\n",
       "    <tr>\n",
       "      <th>22</th>\n",
       "      <td>2020-12-29</td>\n",
       "      <td>508</td>\n",
       "    </tr>\n",
       "    <tr>\n",
       "      <th>23</th>\n",
       "      <td>2020-12-30</td>\n",
       "      <td>4</td>\n",
       "    </tr>\n",
       "  </tbody>\n",
       "</table>\n",
       "</div>"
      ],
      "text/plain": [
       "     event_dt  user_id\n",
       "0  2020-12-07      709\n",
       "1  2020-12-08      593\n",
       "2  2020-12-09      746\n",
       "3  2020-12-10      613\n",
       "4  2020-12-11      542\n",
       "5  2020-12-12      558\n",
       "6  2020-12-13      504\n",
       "7  2020-12-14     1355\n",
       "8  2020-12-15     1316\n",
       "9  2020-12-16     1454\n",
       "10 2020-12-17     1548\n",
       "11 2020-12-18     1584\n",
       "12 2020-12-19     1810\n",
       "13 2020-12-20     1848\n",
       "14 2020-12-21     2441\n",
       "15 2020-12-22     1506\n",
       "16 2020-12-23     1201\n",
       "17 2020-12-24     1042\n",
       "18 2020-12-25      789\n",
       "19 2020-12-26      733\n",
       "20 2020-12-27      691\n",
       "21 2020-12-28      603\n",
       "22 2020-12-29      508\n",
       "23 2020-12-30        4"
      ]
     },
     "execution_count": 39,
     "metadata": {},
     "output_type": "execute_result"
    }
   ],
   "source": [
    "df_ab_2['event_dtime'] = df_ab_2['event_dt']\n",
    "df_ab_2['event_dt'] = pd.to_datetime(df_ab_2['event_dtime'].dt.date, format='%Y-%m-%d')\n",
    "df_ab_2.groupby('event_dt').agg({'user_id' : 'count'}).reset_index().sort_values(by='event_dt')"
   ]
  },
  {
   "cell_type": "code",
   "execution_count": 40,
   "metadata": {},
   "outputs": [
    {
     "data": {
      "image/png": "[encoded data removed]",
      "text/plain": [
       "<Figure size 1080x360 with 1 Axes>"
      ]
     },
     "metadata": {
      "needs_background": "light"
     },
     "output_type": "display_data"
    }
   ],
   "source": [
    "plt.figure(figsize=(15, 5))\n",
    "sns.histplot(df_ab_2['event_dt'], bins=24)\n",
    "plt.title('Распределение событий во времени')\n",
    "plt.xlabel('Дата')\n",
    "plt.ylabel('Количество событий')\n",
    "plt.gca().xaxis.set_major_locator(matplotlib.dates.DayLocator(interval=1))\n",
    "plt.gca().xaxis.set_major_formatter(matplotlib.dates.DateFormatter('%Y-%m-%d'))\n",
    "plt.xticks(rotation=90)\n",
    "plt.show()"
   ]
  },
  {
   "cell_type": "markdown",
   "metadata": {},
   "source": [
    "Данные не полностью соответствуют техзаданию, в таблице с событиями информация представлена до 30.12.2020, при чем за 30-е число данные неполные."
   ]
  },
  {
   "cell_type": "markdown",
   "metadata": {},
   "source": [
    "#### Аудитория: 15% новых пользователей из региона EU"
   ]
  },
  {
   "cell_type": "code",
   "execution_count": 41,
   "metadata": {},
   "outputs": [
    {
     "data": {
      "text/plain": [
       "EU           23420\n",
       "N.America      838\n",
       "APAC           232\n",
       "CIS            208\n",
       "Name: region, dtype: int64"
      ]
     },
     "execution_count": 41,
     "metadata": {},
     "output_type": "execute_result"
    }
   ],
   "source": [
    "df_ab_2['region'].value_counts()"
   ]
  },
  {
   "cell_type": "markdown",
   "metadata": {},
   "source": [
    "В таблице встречаются пользователи из нескольких регионов, оставим только EU."
   ]
  },
  {
   "cell_type": "code",
   "execution_count": 42,
   "metadata": {},
   "outputs": [],
   "source": [
    "df_ab_2 = df_ab_2.query('region == \"EU\"')"
   ]
  },
  {
   "cell_type": "code",
   "execution_count": 43,
   "metadata": {},
   "outputs": [
    {
     "data": {
      "text/plain": [
       "7.52"
      ]
     },
     "execution_count": 43,
     "metadata": {},
     "output_type": "execute_result"
    }
   ],
   "source": [
    "round(df_ab_2['user_id'].nunique() / df_users.query('region == \"EU\"')['user_id'].nunique() * 100,2)"
   ]
  },
  {
   "cell_type": "markdown",
   "metadata": {},
   "source": [
    "Доля новых пользователей на 7,5% меньше обозначенного в ТЗ."
   ]
  },
  {
   "cell_type": "markdown",
   "metadata": {},
   "source": [
    "#### Ожидаемое количество участников теста: 6000"
   ]
  },
  {
   "cell_type": "code",
   "execution_count": 44,
   "metadata": {},
   "outputs": [
    {
     "data": {
      "text/plain": [
       "3481"
      ]
     },
     "execution_count": 44,
     "metadata": {},
     "output_type": "execute_result"
    }
   ],
   "source": [
    "df_ab_2['user_id'].nunique()"
   ]
  },
  {
   "cell_type": "code",
   "execution_count": 45,
   "metadata": {},
   "outputs": [
    {
     "data": {
      "text/html": [
       "<div>\n",
       "<style scoped>\n",
       "    .dataframe tbody tr th:only-of-type {\n",
       "        vertical-align: middle;\n",
       "    }\n",
       "\n",
       "    .dataframe tbody tr th {\n",
       "        vertical-align: top;\n",
       "    }\n",
       "\n",
       "    .dataframe thead th {\n",
       "        text-align: right;\n",
       "    }\n",
       "</style>\n",
       "<table border=\"1\" class=\"dataframe\">\n",
       "  <thead>\n",
       "    <tr style=\"text-align: right;\">\n",
       "      <th></th>\n",
       "      <th>user_id</th>\n",
       "    </tr>\n",
       "    <tr>\n",
       "      <th>group</th>\n",
       "      <th></th>\n",
       "    </tr>\n",
       "  </thead>\n",
       "  <tbody>\n",
       "    <tr>\n",
       "      <th>A</th>\n",
       "      <td>2604</td>\n",
       "    </tr>\n",
       "    <tr>\n",
       "      <th>B</th>\n",
       "      <td>877</td>\n",
       "    </tr>\n",
       "  </tbody>\n",
       "</table>\n",
       "</div>"
      ],
      "text/plain": [
       "       user_id\n",
       "group         \n",
       "A         2604\n",
       "B          877"
      ]
     },
     "execution_count": 45,
     "metadata": {},
     "output_type": "execute_result"
    }
   ],
   "source": [
    "ab = df_ab_2.groupby('group').agg({'user_id' : 'nunique'})\n",
    "ab"
   ]
  },
  {
   "cell_type": "code",
   "execution_count": 46,
   "metadata": {},
   "outputs": [
    {
     "data": {
      "text/plain": [
       "296.92"
      ]
     },
     "execution_count": 46,
     "metadata": {},
     "output_type": "execute_result"
    }
   ],
   "source": [
    "round(ab.loc['A','user_id'] / ab.loc['B','user_id'] * 100, 2)"
   ]
  },
  {
   "cell_type": "markdown",
   "metadata": {},
   "source": [
    "Количество участников почти на 2,6 тысячи меньше, чем в ТЗ. Кроме того, группы распределены неравномерно, группа А почти в три раза превышает по размеру группу В, что может отразиться на результатах анализа."
   ]
  },
  {
   "cell_type": "markdown",
   "metadata": {},
   "source": [
    "#### 14 дней с момента регистрации в системе"
   ]
  },
  {
   "cell_type": "code",
   "execution_count": 47,
   "metadata": {},
   "outputs": [
    {
     "data": {
      "text/html": [
       "<div>\n",
       "<style scoped>\n",
       "    .dataframe tbody tr th:only-of-type {\n",
       "        vertical-align: middle;\n",
       "    }\n",
       "\n",
       "    .dataframe tbody tr th {\n",
       "        vertical-align: top;\n",
       "    }\n",
       "\n",
       "    .dataframe thead th {\n",
       "        text-align: right;\n",
       "    }\n",
       "</style>\n",
       "<table border=\"1\" class=\"dataframe\">\n",
       "  <thead>\n",
       "    <tr style=\"text-align: right;\">\n",
       "      <th></th>\n",
       "      <th>user_id</th>\n",
       "      <th>group</th>\n",
       "      <th>ab_test</th>\n",
       "      <th>first_date</th>\n",
       "      <th>region</th>\n",
       "      <th>device</th>\n",
       "      <th>event_dt</th>\n",
       "      <th>event_name</th>\n",
       "      <th>details</th>\n",
       "      <th>event_dtime</th>\n",
       "      <th>delta</th>\n",
       "    </tr>\n",
       "  </thead>\n",
       "  <tbody>\n",
       "    <tr>\n",
       "      <th>0</th>\n",
       "      <td>D1ABA3E2887B6A73</td>\n",
       "      <td>A</td>\n",
       "      <td>recommender_system_test</td>\n",
       "      <td>2020-12-07</td>\n",
       "      <td>EU</td>\n",
       "      <td>PC</td>\n",
       "      <td>2020-12-07</td>\n",
       "      <td>purchase</td>\n",
       "      <td>99.99</td>\n",
       "      <td>2020-12-07 14:43:27</td>\n",
       "      <td>0 days</td>\n",
       "    </tr>\n",
       "    <tr>\n",
       "      <th>1</th>\n",
       "      <td>D1ABA3E2887B6A73</td>\n",
       "      <td>A</td>\n",
       "      <td>recommender_system_test</td>\n",
       "      <td>2020-12-07</td>\n",
       "      <td>EU</td>\n",
       "      <td>PC</td>\n",
       "      <td>2020-12-25</td>\n",
       "      <td>purchase</td>\n",
       "      <td>4.99</td>\n",
       "      <td>2020-12-25 00:04:56</td>\n",
       "      <td>18 days</td>\n",
       "    </tr>\n",
       "    <tr>\n",
       "      <th>2</th>\n",
       "      <td>D1ABA3E2887B6A73</td>\n",
       "      <td>A</td>\n",
       "      <td>recommender_system_test</td>\n",
       "      <td>2020-12-07</td>\n",
       "      <td>EU</td>\n",
       "      <td>PC</td>\n",
       "      <td>2020-12-07</td>\n",
       "      <td>product_cart</td>\n",
       "      <td>NaN</td>\n",
       "      <td>2020-12-07 14:43:29</td>\n",
       "      <td>0 days</td>\n",
       "    </tr>\n",
       "    <tr>\n",
       "      <th>3</th>\n",
       "      <td>D1ABA3E2887B6A73</td>\n",
       "      <td>A</td>\n",
       "      <td>recommender_system_test</td>\n",
       "      <td>2020-12-07</td>\n",
       "      <td>EU</td>\n",
       "      <td>PC</td>\n",
       "      <td>2020-12-25</td>\n",
       "      <td>product_cart</td>\n",
       "      <td>NaN</td>\n",
       "      <td>2020-12-25 00:04:57</td>\n",
       "      <td>18 days</td>\n",
       "    </tr>\n",
       "    <tr>\n",
       "      <th>4</th>\n",
       "      <td>D1ABA3E2887B6A73</td>\n",
       "      <td>A</td>\n",
       "      <td>recommender_system_test</td>\n",
       "      <td>2020-12-07</td>\n",
       "      <td>EU</td>\n",
       "      <td>PC</td>\n",
       "      <td>2020-12-07</td>\n",
       "      <td>product_page</td>\n",
       "      <td>NaN</td>\n",
       "      <td>2020-12-07 14:43:27</td>\n",
       "      <td>0 days</td>\n",
       "    </tr>\n",
       "  </tbody>\n",
       "</table>\n",
       "</div>"
      ],
      "text/plain": [
       "            user_id group                  ab_test first_date region device  \\\n",
       "0  D1ABA3E2887B6A73     A  recommender_system_test 2020-12-07     EU     PC   \n",
       "1  D1ABA3E2887B6A73     A  recommender_system_test 2020-12-07     EU     PC   \n",
       "2  D1ABA3E2887B6A73     A  recommender_system_test 2020-12-07     EU     PC   \n",
       "3  D1ABA3E2887B6A73     A  recommender_system_test 2020-12-07     EU     PC   \n",
       "4  D1ABA3E2887B6A73     A  recommender_system_test 2020-12-07     EU     PC   \n",
       "\n",
       "    event_dt    event_name  details         event_dtime   delta  \n",
       "0 2020-12-07      purchase    99.99 2020-12-07 14:43:27  0 days  \n",
       "1 2020-12-25      purchase     4.99 2020-12-25 00:04:56 18 days  \n",
       "2 2020-12-07  product_cart      NaN 2020-12-07 14:43:29  0 days  \n",
       "3 2020-12-25  product_cart      NaN 2020-12-25 00:04:57 18 days  \n",
       "4 2020-12-07  product_page      NaN 2020-12-07 14:43:27  0 days  "
      ]
     },
     "execution_count": 47,
     "metadata": {},
     "output_type": "execute_result"
    }
   ],
   "source": [
    "df_ab_2['delta'] = df_ab_2['event_dt'] - df_ab_2['first_date']\n",
    "df_ab_2.head()"
   ]
  },
  {
   "cell_type": "code",
   "execution_count": 48,
   "metadata": {},
   "outputs": [
    {
     "data": {
      "text/plain": [
       "800"
      ]
     },
     "execution_count": 48,
     "metadata": {},
     "output_type": "execute_result"
    }
   ],
   "source": [
    "# Т.к. данные за первый день считаются как 0, то берем 13 дней\n",
    "df_ab_2.query('delta > \"13 days\"').shape[0]"
   ]
  },
  {
   "cell_type": "code",
   "execution_count": 49,
   "metadata": {},
   "outputs": [],
   "source": [
    "df_ab_2 = df_ab_2.query('delta <= \"13 days\"')"
   ]
  },
  {
   "cell_type": "markdown",
   "metadata": {},
   "source": [
    "В техническом задании прописано, что улучшение метрик должно произойти за 14 дней с момента регистрации пользователя в системе. В нашей таблице есть 800 событий, которые произошли позднее 14 дней с момента регистрации. Отфильтруем эти строки."
   ]
  },
  {
   "cell_type": "markdown",
   "metadata": {},
   "source": [
    "### Время проведения теста и другие маркетинговые активности"
   ]
  },
  {
   "cell_type": "code",
   "execution_count": 50,
   "metadata": {},
   "outputs": [
    {
     "data": {
      "text/html": [
       "<div>\n",
       "<style scoped>\n",
       "    .dataframe tbody tr th:only-of-type {\n",
       "        vertical-align: middle;\n",
       "    }\n",
       "\n",
       "    .dataframe tbody tr th {\n",
       "        vertical-align: top;\n",
       "    }\n",
       "\n",
       "    .dataframe thead th {\n",
       "        text-align: right;\n",
       "    }\n",
       "</style>\n",
       "<table border=\"1\" class=\"dataframe\">\n",
       "  <thead>\n",
       "    <tr style=\"text-align: right;\">\n",
       "      <th></th>\n",
       "      <th>name</th>\n",
       "      <th>regions</th>\n",
       "      <th>start_dt</th>\n",
       "      <th>finish_dt</th>\n",
       "    </tr>\n",
       "  </thead>\n",
       "  <tbody>\n",
       "    <tr>\n",
       "      <th>0</th>\n",
       "      <td>Christmas&amp;New Year Promo</td>\n",
       "      <td>EU, N.America</td>\n",
       "      <td>2020-12-25</td>\n",
       "      <td>2021-01-03</td>\n",
       "    </tr>\n",
       "  </tbody>\n",
       "</table>\n",
       "</div>"
      ],
      "text/plain": [
       "                       name        regions   start_dt  finish_dt\n",
       "0  Christmas&New Year Promo  EU, N.America 2020-12-25 2021-01-03"
      ]
     },
     "execution_count": 50,
     "metadata": {},
     "output_type": "execute_result"
    }
   ],
   "source": [
    "start = dt.date(2020, 12, 7)\n",
    "finish = dt.date(2021, 1, 4)\n",
    "df_calend.query('not(start_dt > @finish or finish_dt < @start) and regions.str.contains(\"EU\")')"
   ]
  },
  {
   "cell_type": "code",
   "execution_count": 51,
   "metadata": {},
   "outputs": [
    {
     "data": {
      "text/plain": [
       "27.03"
      ]
     },
     "execution_count": 51,
     "metadata": {},
     "output_type": "execute_result"
    }
   ],
   "source": [
    "(\n",
    "    round(df_ab_2.query('event_dt >= \"2020-12-25\" and event_dt <= \"2021-01-03\"')['user_id']\n",
    "    .nunique() / df_ab_2['user_id'].nunique() * 100,2)\n",
    ")"
   ]
  },
  {
   "cell_type": "code",
   "execution_count": 52,
   "metadata": {},
   "outputs": [
    {
     "data": {
      "text/plain": [
       "Timestamp('2020-12-21 00:00:00')"
      ]
     },
     "execution_count": 52,
     "metadata": {},
     "output_type": "execute_result"
    }
   ],
   "source": [
    "(\n",
    "    df_ab_2.sort_values(by=['user_id','event_dtime'])\n",
    "    .groupby('user_id').agg({'event_dt': 'first'})\n",
    "    .reset_index()['event_dt'].max()\n",
    "    \n",
    ")"
   ]
  },
  {
   "cell_type": "markdown",
   "metadata": {},
   "source": [
    "Акция \"Christmas&New Year Promo\" проводилась в интересующем нас регионе EU и совпадает со временем проведения целевого А/В-теста. С 25 декабря по 3 января 27% пользователей целевого А/В теста совершали какие-либо действия, но при этом первое действие все пользователи совершили до начала маркетинговой акции. Т.к. промо-акцию будут видеть и А и В группа, будем считать, что она в равной степени окажет влияние на обе группы, но тем не менее будем иметь в виду, что результаты теста могут быть искажены под влиянием маркетингового события."
   ]
  },
  {
   "cell_type": "markdown",
   "metadata": {},
   "source": [
    "## Исследовательский анализ данных"
   ]
  },
  {
   "cell_type": "markdown",
   "metadata": {},
   "source": [
    "### Распределение количества событий на пользователя в выборках"
   ]
  },
  {
   "cell_type": "code",
   "execution_count": 53,
   "metadata": {},
   "outputs": [
    {
     "data": {
      "text/plain": [
       "3481"
      ]
     },
     "execution_count": 53,
     "metadata": {},
     "output_type": "execute_result"
    }
   ],
   "source": [
    "df_ab_2['user_id'].nunique()"
   ]
  },
  {
   "cell_type": "code",
   "execution_count": 54,
   "metadata": {},
   "outputs": [
    {
     "data": {
      "text/html": [
       "<div>\n",
       "<style scoped>\n",
       "    .dataframe tbody tr th:only-of-type {\n",
       "        vertical-align: middle;\n",
       "    }\n",
       "\n",
       "    .dataframe tbody tr th {\n",
       "        vertical-align: top;\n",
       "    }\n",
       "\n",
       "    .dataframe thead th {\n",
       "        text-align: right;\n",
       "    }\n",
       "</style>\n",
       "<table border=\"1\" class=\"dataframe\">\n",
       "  <thead>\n",
       "    <tr style=\"text-align: right;\">\n",
       "      <th></th>\n",
       "      <th>user_id</th>\n",
       "    </tr>\n",
       "    <tr>\n",
       "      <th>group</th>\n",
       "      <th></th>\n",
       "    </tr>\n",
       "  </thead>\n",
       "  <tbody>\n",
       "    <tr>\n",
       "      <th>A</th>\n",
       "      <td>2604</td>\n",
       "    </tr>\n",
       "    <tr>\n",
       "      <th>B</th>\n",
       "      <td>877</td>\n",
       "    </tr>\n",
       "  </tbody>\n",
       "</table>\n",
       "</div>"
      ],
      "text/plain": [
       "       user_id\n",
       "group         \n",
       "A         2604\n",
       "B          877"
      ]
     },
     "execution_count": 54,
     "metadata": {},
     "output_type": "execute_result"
    }
   ],
   "source": [
    "df_ab_2.groupby('group').agg({'user_id' : 'nunique'})"
   ]
  },
  {
   "cell_type": "markdown",
   "metadata": {},
   "source": [
    "В итоговой таблице остался 3481 пользователь, в т.ч. 2604 в группе А и 877 в группе В."
   ]
  },
  {
   "cell_type": "code",
   "execution_count": 55,
   "metadata": {},
   "outputs": [
    {
     "data": {
      "text/html": [
       "<div>\n",
       "<style scoped>\n",
       "    .dataframe tbody tr th:only-of-type {\n",
       "        vertical-align: middle;\n",
       "    }\n",
       "\n",
       "    .dataframe tbody tr th {\n",
       "        vertical-align: top;\n",
       "    }\n",
       "\n",
       "    .dataframe thead th {\n",
       "        text-align: right;\n",
       "    }\n",
       "</style>\n",
       "<table border=\"1\" class=\"dataframe\">\n",
       "  <thead>\n",
       "    <tr style=\"text-align: right;\">\n",
       "      <th></th>\n",
       "      <th>user_id</th>\n",
       "      <th>group</th>\n",
       "      <th>event_name</th>\n",
       "    </tr>\n",
       "  </thead>\n",
       "  <tbody>\n",
       "    <tr>\n",
       "      <th>0</th>\n",
       "      <td>001064FEAAB631A1</td>\n",
       "      <td>B</td>\n",
       "      <td>6</td>\n",
       "    </tr>\n",
       "    <tr>\n",
       "      <th>1</th>\n",
       "      <td>0010A1C096941592</td>\n",
       "      <td>A</td>\n",
       "      <td>12</td>\n",
       "    </tr>\n",
       "    <tr>\n",
       "      <th>2</th>\n",
       "      <td>00341D8401F0F665</td>\n",
       "      <td>A</td>\n",
       "      <td>2</td>\n",
       "    </tr>\n",
       "    <tr>\n",
       "      <th>3</th>\n",
       "      <td>003DF44D7589BBD4</td>\n",
       "      <td>A</td>\n",
       "      <td>15</td>\n",
       "    </tr>\n",
       "    <tr>\n",
       "      <th>4</th>\n",
       "      <td>00505E15A9D81546</td>\n",
       "      <td>A</td>\n",
       "      <td>5</td>\n",
       "    </tr>\n",
       "  </tbody>\n",
       "</table>\n",
       "</div>"
      ],
      "text/plain": [
       "            user_id group  event_name\n",
       "0  001064FEAAB631A1     B           6\n",
       "1  0010A1C096941592     A          12\n",
       "2  00341D8401F0F665     A           2\n",
       "3  003DF44D7589BBD4     A          15\n",
       "4  00505E15A9D81546     A           5"
      ]
     },
     "execution_count": 55,
     "metadata": {},
     "output_type": "execute_result"
    }
   ],
   "source": [
    "# Посчитаем количество событий на одного пользователя\n",
    "event_per_user = df_ab_2.groupby('user_id').agg({'group' : 'first', 'event_name' : 'count'}).reset_index()\n",
    "event_per_user.head()"
   ]
  },
  {
   "cell_type": "code",
   "execution_count": 56,
   "metadata": {},
   "outputs": [
    {
     "data": {
      "image/png": "[encoded data removed]",
      "text/plain": [
       "<Figure size 1080x360 with 1 Axes>"
      ]
     },
     "metadata": {
      "needs_background": "light"
     },
     "output_type": "display_data"
    }
   ],
   "source": [
    "plt.figure(figsize=(15, 5))\n",
    "sns.histplot(data=event_per_user, x='event_name', hue='group', bins=24)\n",
    "plt.xticks(np.arange(0, 30, 1))\n",
    "plt.title('Гистограмма количества событий на одного пользователя')\n",
    "plt.xlabel('Количество событий на одного пользователя')\n",
    "plt.ylabel('Частота')\n",
    "plt.show()"
   ]
  },
  {
   "cell_type": "code",
   "execution_count": 57,
   "metadata": {},
   "outputs": [
    {
     "data": {
      "text/html": [
       "<div>\n",
       "<style scoped>\n",
       "    .dataframe tbody tr th:only-of-type {\n",
       "        vertical-align: middle;\n",
       "    }\n",
       "\n",
       "    .dataframe tbody tr th {\n",
       "        vertical-align: top;\n",
       "    }\n",
       "\n",
       "    .dataframe thead th {\n",
       "        text-align: right;\n",
       "    }\n",
       "</style>\n",
       "<table border=\"1\" class=\"dataframe\">\n",
       "  <thead>\n",
       "    <tr style=\"text-align: right;\">\n",
       "      <th></th>\n",
       "      <th>event_name</th>\n",
       "    </tr>\n",
       "  </thead>\n",
       "  <tbody>\n",
       "    <tr>\n",
       "      <th>count</th>\n",
       "      <td>2604.000000</td>\n",
       "    </tr>\n",
       "    <tr>\n",
       "      <th>mean</th>\n",
       "      <td>6.849078</td>\n",
       "    </tr>\n",
       "    <tr>\n",
       "      <th>std</th>\n",
       "      <td>3.812030</td>\n",
       "    </tr>\n",
       "    <tr>\n",
       "      <th>min</th>\n",
       "      <td>1.000000</td>\n",
       "    </tr>\n",
       "    <tr>\n",
       "      <th>25%</th>\n",
       "      <td>4.000000</td>\n",
       "    </tr>\n",
       "    <tr>\n",
       "      <th>50%</th>\n",
       "      <td>6.000000</td>\n",
       "    </tr>\n",
       "    <tr>\n",
       "      <th>75%</th>\n",
       "      <td>9.000000</td>\n",
       "    </tr>\n",
       "    <tr>\n",
       "      <th>max</th>\n",
       "      <td>24.000000</td>\n",
       "    </tr>\n",
       "  </tbody>\n",
       "</table>\n",
       "</div>"
      ],
      "text/plain": [
       "        event_name\n",
       "count  2604.000000\n",
       "mean      6.849078\n",
       "std       3.812030\n",
       "min       1.000000\n",
       "25%       4.000000\n",
       "50%       6.000000\n",
       "75%       9.000000\n",
       "max      24.000000"
      ]
     },
     "execution_count": 57,
     "metadata": {},
     "output_type": "execute_result"
    }
   ],
   "source": [
    "event_per_user[event_per_user['group'] ==\"A\"].describe()"
   ]
  },
  {
   "cell_type": "code",
   "execution_count": 58,
   "metadata": {},
   "outputs": [
    {
     "data": {
      "text/html": [
       "<div>\n",
       "<style scoped>\n",
       "    .dataframe tbody tr th:only-of-type {\n",
       "        vertical-align: middle;\n",
       "    }\n",
       "\n",
       "    .dataframe tbody tr th {\n",
       "        vertical-align: top;\n",
       "    }\n",
       "\n",
       "    .dataframe thead th {\n",
       "        text-align: right;\n",
       "    }\n",
       "</style>\n",
       "<table border=\"1\" class=\"dataframe\">\n",
       "  <thead>\n",
       "    <tr style=\"text-align: right;\">\n",
       "      <th></th>\n",
       "      <th>event_name</th>\n",
       "    </tr>\n",
       "  </thead>\n",
       "  <tbody>\n",
       "    <tr>\n",
       "      <th>count</th>\n",
       "      <td>877.000000</td>\n",
       "    </tr>\n",
       "    <tr>\n",
       "      <th>mean</th>\n",
       "      <td>5.456100</td>\n",
       "    </tr>\n",
       "    <tr>\n",
       "      <th>std</th>\n",
       "      <td>3.246276</td>\n",
       "    </tr>\n",
       "    <tr>\n",
       "      <th>min</th>\n",
       "      <td>1.000000</td>\n",
       "    </tr>\n",
       "    <tr>\n",
       "      <th>25%</th>\n",
       "      <td>3.000000</td>\n",
       "    </tr>\n",
       "    <tr>\n",
       "      <th>50%</th>\n",
       "      <td>4.000000</td>\n",
       "    </tr>\n",
       "    <tr>\n",
       "      <th>75%</th>\n",
       "      <td>8.000000</td>\n",
       "    </tr>\n",
       "    <tr>\n",
       "      <th>max</th>\n",
       "      <td>24.000000</td>\n",
       "    </tr>\n",
       "  </tbody>\n",
       "</table>\n",
       "</div>"
      ],
      "text/plain": [
       "       event_name\n",
       "count  877.000000\n",
       "mean     5.456100\n",
       "std      3.246276\n",
       "min      1.000000\n",
       "25%      3.000000\n",
       "50%      4.000000\n",
       "75%      8.000000\n",
       "max     24.000000"
      ]
     },
     "execution_count": 58,
     "metadata": {},
     "output_type": "execute_result"
    }
   ],
   "source": [
    "event_per_user[event_per_user['group'] ==\"B\"].describe()"
   ]
  },
  {
   "cell_type": "markdown",
   "metadata": {},
   "source": [
    "Распределения по количеству событий на пользователя для обеих групп в целом схожи, наибольшее количество пользователей совершает 6 событий. В группе А большее количество пользователей совершает от 14 до 20 событий."
   ]
  },
  {
   "cell_type": "markdown",
   "metadata": {},
   "source": [
    "### Распределение числа событий в выборках по дням"
   ]
  },
  {
   "cell_type": "code",
   "execution_count": 59,
   "metadata": {},
   "outputs": [
    {
     "data": {
      "text/html": [
       "<div>\n",
       "<style scoped>\n",
       "    .dataframe tbody tr th:only-of-type {\n",
       "        vertical-align: middle;\n",
       "    }\n",
       "\n",
       "    .dataframe tbody tr th {\n",
       "        vertical-align: top;\n",
       "    }\n",
       "\n",
       "    .dataframe thead th {\n",
       "        text-align: right;\n",
       "    }\n",
       "</style>\n",
       "<table border=\"1\" class=\"dataframe\">\n",
       "  <thead>\n",
       "    <tr style=\"text-align: right;\">\n",
       "      <th></th>\n",
       "      <th>event_dt</th>\n",
       "      <th>group</th>\n",
       "      <th>event_name</th>\n",
       "    </tr>\n",
       "  </thead>\n",
       "  <tbody>\n",
       "    <tr>\n",
       "      <th>0</th>\n",
       "      <td>2020-12-07</td>\n",
       "      <td>A</td>\n",
       "      <td>318</td>\n",
       "    </tr>\n",
       "    <tr>\n",
       "      <th>1</th>\n",
       "      <td>2020-12-07</td>\n",
       "      <td>B</td>\n",
       "      <td>356</td>\n",
       "    </tr>\n",
       "    <tr>\n",
       "      <th>2</th>\n",
       "      <td>2020-12-08</td>\n",
       "      <td>A</td>\n",
       "      <td>313</td>\n",
       "    </tr>\n",
       "    <tr>\n",
       "      <th>3</th>\n",
       "      <td>2020-12-08</td>\n",
       "      <td>B</td>\n",
       "      <td>238</td>\n",
       "    </tr>\n",
       "    <tr>\n",
       "      <th>4</th>\n",
       "      <td>2020-12-09</td>\n",
       "      <td>A</td>\n",
       "      <td>371</td>\n",
       "    </tr>\n",
       "  </tbody>\n",
       "</table>\n",
       "</div>"
      ],
      "text/plain": [
       "    event_dt group  event_name\n",
       "0 2020-12-07     A         318\n",
       "1 2020-12-07     B         356\n",
       "2 2020-12-08     A         313\n",
       "3 2020-12-08     B         238\n",
       "4 2020-12-09     A         371"
      ]
     },
     "execution_count": 59,
     "metadata": {},
     "output_type": "execute_result"
    }
   ],
   "source": [
    "event_per_day = df_ab_2.groupby(['event_dt', 'group']).agg({'event_name' : 'count'}).reset_index()\n",
    "event_per_day.head()"
   ]
  },
  {
   "cell_type": "code",
   "execution_count": null,
   "metadata": {},
   "outputs": [],
   "source": [
    "fig = px.bar(\n",
    "    event_per_day, \n",
    "    x='event_dt', \n",
    "    y='event_name', \n",
    "    color='group', \n",
    "    color_discrete_sequence=[\"#00A08B\", \"#EB663B\"],\n",
    "    barmode='group'\n",
    ")\n",
    "\n",
    "fig.update_layout(xaxis={'categoryorder':'total descending'}, \n",
    "                  title=\"Распределение событий по дням\",\n",
    "                  yaxis_title=\"Количество событий\",\n",
    "                  xaxis_title=\"Дата\")\n",
    "fig.show() "
   ]
  },
  {
   "attachments": {
    "a2ff46e8-cb24-4163-8a44-cee8bab2a207.png": {
     "image/png": "[encoded data removed]"
    }
   },
   "cell_type": "markdown",
   "metadata": {},
   "source": [
    "![newplot (17).png](attachment:a2ff46e8-cb24-4163-8a44-cee8bab2a207.png)"
   ]
  },
  {
   "cell_type": "markdown",
   "metadata": {},
   "source": [
    "В группе А отмечается резкий рост числа событий с 14 декабря, в то время как в группе В осталось примерно на том же уровне. Максимальное количество событий для обеих групп наблюдалось 21 декабря."
   ]
  },
  {
   "cell_type": "markdown",
   "metadata": {},
   "source": [
    "### Конверсия в воронке в выборках на разных этапах"
   ]
  },
  {
   "cell_type": "code",
   "execution_count": 61,
   "metadata": {},
   "outputs": [],
   "source": [
    "df_a = df_ab_2.query('group == \"A\"')\n",
    "df_b = df_ab_2.query('group == \"B\"')"
   ]
  },
  {
   "cell_type": "code",
   "execution_count": 62,
   "metadata": {},
   "outputs": [
    {
     "data": {
      "text/html": [
       "<div>\n",
       "<style scoped>\n",
       "    .dataframe tbody tr th:only-of-type {\n",
       "        vertical-align: middle;\n",
       "    }\n",
       "\n",
       "    .dataframe tbody tr th {\n",
       "        vertical-align: top;\n",
       "    }\n",
       "\n",
       "    .dataframe thead th {\n",
       "        text-align: right;\n",
       "    }\n",
       "</style>\n",
       "<table border=\"1\" class=\"dataframe\">\n",
       "  <thead>\n",
       "    <tr style=\"text-align: right;\">\n",
       "      <th></th>\n",
       "      <th>event_name</th>\n",
       "      <th>user_id</th>\n",
       "      <th>part_%</th>\n",
       "    </tr>\n",
       "  </thead>\n",
       "  <tbody>\n",
       "    <tr>\n",
       "      <th>0</th>\n",
       "      <td>login</td>\n",
       "      <td>2604</td>\n",
       "      <td>100.00</td>\n",
       "    </tr>\n",
       "    <tr>\n",
       "      <th>1</th>\n",
       "      <td>product_page</td>\n",
       "      <td>1685</td>\n",
       "      <td>64.71</td>\n",
       "    </tr>\n",
       "    <tr>\n",
       "      <th>2</th>\n",
       "      <td>product_cart</td>\n",
       "      <td>782</td>\n",
       "      <td>30.03</td>\n",
       "    </tr>\n",
       "    <tr>\n",
       "      <th>3</th>\n",
       "      <td>purchase</td>\n",
       "      <td>833</td>\n",
       "      <td>31.99</td>\n",
       "    </tr>\n",
       "  </tbody>\n",
       "</table>\n",
       "</div>"
      ],
      "text/plain": [
       "     event_name  user_id  part_%\n",
       "0         login     2604  100.00\n",
       "1  product_page     1685   64.71\n",
       "2  product_cart      782   30.03\n",
       "3      purchase      833   31.99"
      ]
     },
     "execution_count": 62,
     "metadata": {},
     "output_type": "execute_result"
    }
   ],
   "source": [
    "df_a_event = df_a.groupby('event_name').agg({'user_id' : 'nunique'}).sort_values(by='user_id', ascending=False).reset_index()\n",
    "df_a_event['part_%'] = round(df_a_event['user_id'] / len(df_a['user_id'].unique()) * 100, 2)\n",
    "df_a_event.iloc[2,:],df_a_event.iloc[3,:]=df_a_event.iloc[3,:],df_a_event.iloc[2,:]\n",
    "df_a_event"
   ]
  },
  {
   "cell_type": "code",
   "execution_count": 63,
   "metadata": {},
   "outputs": [
    {
     "data": {
      "text/html": [
       "<div>\n",
       "<style scoped>\n",
       "    .dataframe tbody tr th:only-of-type {\n",
       "        vertical-align: middle;\n",
       "    }\n",
       "\n",
       "    .dataframe tbody tr th {\n",
       "        vertical-align: top;\n",
       "    }\n",
       "\n",
       "    .dataframe thead th {\n",
       "        text-align: right;\n",
       "    }\n",
       "</style>\n",
       "<table border=\"1\" class=\"dataframe\">\n",
       "  <thead>\n",
       "    <tr style=\"text-align: right;\">\n",
       "      <th></th>\n",
       "      <th>event_name</th>\n",
       "      <th>user_id</th>\n",
       "      <th>part_%</th>\n",
       "    </tr>\n",
       "  </thead>\n",
       "  <tbody>\n",
       "    <tr>\n",
       "      <th>0</th>\n",
       "      <td>login</td>\n",
       "      <td>876</td>\n",
       "      <td>99.89</td>\n",
       "    </tr>\n",
       "    <tr>\n",
       "      <th>1</th>\n",
       "      <td>product_page</td>\n",
       "      <td>493</td>\n",
       "      <td>56.21</td>\n",
       "    </tr>\n",
       "    <tr>\n",
       "      <th>2</th>\n",
       "      <td>product_cart</td>\n",
       "      <td>244</td>\n",
       "      <td>27.82</td>\n",
       "    </tr>\n",
       "    <tr>\n",
       "      <th>3</th>\n",
       "      <td>purchase</td>\n",
       "      <td>249</td>\n",
       "      <td>28.39</td>\n",
       "    </tr>\n",
       "  </tbody>\n",
       "</table>\n",
       "</div>"
      ],
      "text/plain": [
       "     event_name  user_id  part_%\n",
       "0         login      876   99.89\n",
       "1  product_page      493   56.21\n",
       "2  product_cart      244   27.82\n",
       "3      purchase      249   28.39"
      ]
     },
     "execution_count": 63,
     "metadata": {},
     "output_type": "execute_result"
    }
   ],
   "source": [
    "df_b_event = df_b.groupby('event_name').agg({'user_id' : 'nunique'}).sort_values(by='user_id', ascending=False).reset_index()\n",
    "df_b_event['part_%'] = round(df_b_event['user_id'] / len(df_b['user_id'].unique()) * 100, 2)\n",
    "df_b_event.iloc[2,:],df_b_event.iloc[3,:]=df_b_event.iloc[3,:],df_b_event.iloc[2,:]\n",
    "df_b_event"
   ]
  },
  {
   "cell_type": "code",
   "execution_count": null,
   "metadata": {},
   "outputs": [],
   "source": [
    "fig = go.Figure(go.Funnel(\n",
    "    y = df_a_event.event_name, \n",
    "    x = df_a_event.user_id, \n",
    "    textposition = \"inside\", \n",
    "    textinfo = \"value+percent previous+percent initial\"))\n",
    "fig.update_layout(title = \"Воронка событий для группы А\", yaxis_title=\"Событие\")\n",
    "fig.show()"
   ]
  },
  {
   "attachments": {
    "46c52d59-9b9b-445a-87e4-e7d55f471d32.png": {
     "image/png": "[encoded data removed]"
    }
   },
   "cell_type": "markdown",
   "metadata": {},
   "source": [
    "![newplot (18).png](attachment:46c52d59-9b9b-445a-87e4-e7d55f471d32.png)"
   ]
  },
  {
   "cell_type": "code",
   "execution_count": null,
   "metadata": {},
   "outputs": [],
   "source": [
    "fig = go.Figure(go.Funnel(\n",
    "    y = df_b_event.event_name, \n",
    "    x = df_b_event.user_id, \n",
    "    textposition = \"inside\", \n",
    "    textinfo = \"value+percent previous+percent initial\"))\n",
    "fig.update_layout(title = \"Воронка событий для группы В\", yaxis_title=\"Событие\")\n",
    "fig.show()"
   ]
  },
  {
   "attachments": {
    "87379a51-09c8-4923-bdf5-a134b7282cf9.png": {
     "image/png": "[encoded data removed]"
    }
   },
   "cell_type": "markdown",
   "metadata": {},
   "source": [
    "![newplot (19).png](attachment:87379a51-09c8-4923-bdf5-a134b7282cf9.png)"
   ]
  },
  {
   "cell_type": "markdown",
   "metadata": {},
   "source": [
    "Для обеих групп характерно не соблюдение обычного порядка шагов при оформлении покупки. До этапа непосредственно покупки доходит больше пользователей, чем до корзины. Скорее всего в функционале есть возможность \"купить сейчас\", минуя корзину. Для группы А конверсия выше на всех этапах воронки."
   ]
  },
  {
   "cell_type": "markdown",
   "metadata": {},
   "source": [
    "### Особенности данных"
   ]
  },
  {
   "cell_type": "markdown",
   "metadata": {},
   "source": [
    "Данные не соответствуют ТЗ и имеется вероятность получить искаженные данные в связи с другими маркетинговыми мероприятиями и пересечением с другим A/B тестом. Размер итоговой выборки составил 3481 пользователей вместо планируемых 6000. Итоговая доля пользователей из региона EU, попавших в группу тестирования, составляет 8% вместо 15%. Т.к. данные обрываются 30 декабря, не все пользователи успели \"прожить\" 14 дней."
   ]
  },
  {
   "cell_type": "markdown",
   "metadata": {},
   "source": [
    "## Оценка результатов A/B-тестирования"
   ]
  },
  {
   "cell_type": "markdown",
   "metadata": {},
   "source": [
    "### Результаты A/B-тестирования"
   ]
  },
  {
   "cell_type": "code",
   "execution_count": 66,
   "metadata": {},
   "outputs": [
    {
     "data": {
      "text/html": [
       "<div>\n",
       "<style scoped>\n",
       "    .dataframe tbody tr th:only-of-type {\n",
       "        vertical-align: middle;\n",
       "    }\n",
       "\n",
       "    .dataframe tbody tr th {\n",
       "        vertical-align: top;\n",
       "    }\n",
       "\n",
       "    .dataframe thead th {\n",
       "        text-align: right;\n",
       "    }\n",
       "</style>\n",
       "<table border=\"1\" class=\"dataframe\">\n",
       "  <thead>\n",
       "    <tr style=\"text-align: right;\">\n",
       "      <th></th>\n",
       "      <th>event_name</th>\n",
       "      <th>user_id_b</th>\n",
       "      <th>part_%_b</th>\n",
       "      <th>user_id_a</th>\n",
       "      <th>part_%_a</th>\n",
       "      <th>variance</th>\n",
       "    </tr>\n",
       "  </thead>\n",
       "  <tbody>\n",
       "    <tr>\n",
       "      <th>0</th>\n",
       "      <td>login</td>\n",
       "      <td>876</td>\n",
       "      <td>99.89</td>\n",
       "      <td>2604</td>\n",
       "      <td>100.00</td>\n",
       "      <td>-0.11</td>\n",
       "    </tr>\n",
       "    <tr>\n",
       "      <th>1</th>\n",
       "      <td>product_page</td>\n",
       "      <td>493</td>\n",
       "      <td>56.21</td>\n",
       "      <td>1685</td>\n",
       "      <td>64.71</td>\n",
       "      <td>-8.50</td>\n",
       "    </tr>\n",
       "    <tr>\n",
       "      <th>2</th>\n",
       "      <td>product_cart</td>\n",
       "      <td>244</td>\n",
       "      <td>27.82</td>\n",
       "      <td>782</td>\n",
       "      <td>30.03</td>\n",
       "      <td>-2.21</td>\n",
       "    </tr>\n",
       "    <tr>\n",
       "      <th>3</th>\n",
       "      <td>purchase</td>\n",
       "      <td>249</td>\n",
       "      <td>28.39</td>\n",
       "      <td>833</td>\n",
       "      <td>31.99</td>\n",
       "      <td>-3.60</td>\n",
       "    </tr>\n",
       "  </tbody>\n",
       "</table>\n",
       "</div>"
      ],
      "text/plain": [
       "     event_name  user_id_b  part_%_b  user_id_a  part_%_a  variance\n",
       "0         login        876     99.89       2604    100.00     -0.11\n",
       "1  product_page        493     56.21       1685     64.71     -8.50\n",
       "2  product_cart        244     27.82        782     30.03     -2.21\n",
       "3      purchase        249     28.39        833     31.99     -3.60"
      ]
     },
     "execution_count": 66,
     "metadata": {},
     "output_type": "execute_result"
    }
   ],
   "source": [
    "df_ab_event = df_b_event.merge(df_a_event, on='event_name')\n",
    "df_ab_event.columns = ['event_name','user_id_b','part_%_b','user_id_a','part_%_a']\n",
    "df_ab_event['variance'] = df_ab_event['part_%_b'] - df_ab_event['part_%_a']\n",
    "df_ab_event"
   ]
  },
  {
   "cell_type": "markdown",
   "metadata": {},
   "source": [
    "На всех этапах воронки показатели конверсии группы А выше, чем группы В, что говорит о неуспешных результатах теста, новая рекомендательная система показывает худшие показатели конверсии, чем старая система."
   ]
  },
  {
   "cell_type": "markdown",
   "metadata": {},
   "source": [
    "### Проверка статистической разницы долей z-критерием"
   ]
  },
  {
   "cell_type": "markdown",
   "metadata": {},
   "source": [
    "Напишем функцию для проведения z-теста"
   ]
  },
  {
   "cell_type": "code",
   "execution_count": 67,
   "metadata": {},
   "outputs": [],
   "source": [
    "def test_ab(trials, successes, alpha):\n",
    "\n",
    "    \n",
    "    alpha = alpha # критический уровень статистической значимости\n",
    "\n",
    "    # Пропорции в группах\n",
    "    p0 = successes[0] / trials[0]\n",
    "    p1 = successes[1] / trials[1]\n",
    "\n",
    "    # Пропорция в комбинированном датасете:\n",
    "    p_combined = (successes[0] + successes[1])/(trials[0] + trials[1])\n",
    "\n",
    "    # разница пропорций в датасетах\n",
    "    difference = p0 - p1\n",
    "\n",
    "    # считаем статистику в ст.отклонениях стандартного нормального распределения\n",
    "    z_value = difference / mth.sqrt(p_combined * (1 - p_combined) * (1/trials[0] + 1/trials[1]))\n",
    "\n",
    "    # задаем стандартное нормальное распределение (среднее 0, ст.отклонение 1)\n",
    "    distr = st.norm(0, 1)\n",
    "\n",
    "    p_value = (1 - distr.cdf(abs(z_value))) * 2\n",
    "\n",
    "    print('p-значение:',p_value)\n",
    "\n",
    "    if (p_value < alpha):\n",
    "        print(\"Отвергаем нулевую гипотезу: между долями есть значимая разница\")\n",
    "    else:\n",
    "        print(\"Не получилось отвергнуть нулевую гипотезу, нет оснований считать доли разными.\")"
   ]
  },
  {
   "cell_type": "markdown",
   "metadata": {},
   "source": [
    "Сформулируем гипотезы для каждого события 'event_name':\n",
    "\n",
    "- Н0: Между долями пользователей события от общего количества пользователей в группах А и В соответственно нет разницы\n",
    "- Н1: Между долями пользователей события от общего количества пользователей в группах А и В соответственно есть разница"
   ]
  },
  {
   "cell_type": "code",
   "execution_count": 68,
   "metadata": {},
   "outputs": [
    {
     "data": {
      "text/html": [
       "<div>\n",
       "<style scoped>\n",
       "    .dataframe tbody tr th:only-of-type {\n",
       "        vertical-align: middle;\n",
       "    }\n",
       "\n",
       "    .dataframe tbody tr th {\n",
       "        vertical-align: top;\n",
       "    }\n",
       "\n",
       "    .dataframe thead th {\n",
       "        text-align: right;\n",
       "    }\n",
       "</style>\n",
       "<table border=\"1\" class=\"dataframe\">\n",
       "  <thead>\n",
       "    <tr style=\"text-align: right;\">\n",
       "      <th></th>\n",
       "      <th>group</th>\n",
       "      <th>user_id</th>\n",
       "    </tr>\n",
       "  </thead>\n",
       "  <tbody>\n",
       "    <tr>\n",
       "      <th>0</th>\n",
       "      <td>A</td>\n",
       "      <td>2604</td>\n",
       "    </tr>\n",
       "    <tr>\n",
       "      <th>1</th>\n",
       "      <td>B</td>\n",
       "      <td>877</td>\n",
       "    </tr>\n",
       "  </tbody>\n",
       "</table>\n",
       "</div>"
      ],
      "text/plain": [
       "  group  user_id\n",
       "0     A     2604\n",
       "1     B      877"
      ]
     },
     "execution_count": 68,
     "metadata": {},
     "output_type": "execute_result"
    }
   ],
   "source": [
    "df_test_group = df_ab_2.groupby('group').agg({'user_id' : 'nunique'}).reset_index()\n",
    "df_test_group"
   ]
  },
  {
   "cell_type": "markdown",
   "metadata": {},
   "source": [
    "Чтобы снизить вероятность ложнопозитивного результата при множественном тестировании гипотез, применим метод корректировки уровня значимости Бонферрони. Т.к. будем рассматривать одну пару групп по 3 событиям, то разделим уровень значимости alpha = 0,05 на 3."
   ]
  },
  {
   "cell_type": "code",
   "execution_count": 69,
   "metadata": {},
   "outputs": [],
   "source": [
    "bonferroni_alpha = 0.05 / 3"
   ]
  },
  {
   "cell_type": "code",
   "execution_count": 70,
   "metadata": {},
   "outputs": [
    {
     "data": {
      "text/html": [
       "<div>\n",
       "<style scoped>\n",
       "    .dataframe tbody tr th:only-of-type {\n",
       "        vertical-align: middle;\n",
       "    }\n",
       "\n",
       "    .dataframe tbody tr th {\n",
       "        vertical-align: top;\n",
       "    }\n",
       "\n",
       "    .dataframe thead th {\n",
       "        text-align: right;\n",
       "    }\n",
       "</style>\n",
       "<table border=\"1\" class=\"dataframe\">\n",
       "  <thead>\n",
       "    <tr style=\"text-align: right;\">\n",
       "      <th></th>\n",
       "      <th>event_name</th>\n",
       "      <th>user_id_b</th>\n",
       "      <th>part_%_b</th>\n",
       "      <th>user_id_a</th>\n",
       "      <th>part_%_a</th>\n",
       "      <th>variance</th>\n",
       "    </tr>\n",
       "  </thead>\n",
       "  <tbody>\n",
       "    <tr>\n",
       "      <th>0</th>\n",
       "      <td>product_page</td>\n",
       "      <td>493</td>\n",
       "      <td>56.21</td>\n",
       "      <td>1685</td>\n",
       "      <td>64.71</td>\n",
       "      <td>-8.50</td>\n",
       "    </tr>\n",
       "    <tr>\n",
       "      <th>1</th>\n",
       "      <td>product_cart</td>\n",
       "      <td>244</td>\n",
       "      <td>27.82</td>\n",
       "      <td>782</td>\n",
       "      <td>30.03</td>\n",
       "      <td>-2.21</td>\n",
       "    </tr>\n",
       "    <tr>\n",
       "      <th>2</th>\n",
       "      <td>purchase</td>\n",
       "      <td>249</td>\n",
       "      <td>28.39</td>\n",
       "      <td>833</td>\n",
       "      <td>31.99</td>\n",
       "      <td>-3.60</td>\n",
       "    </tr>\n",
       "  </tbody>\n",
       "</table>\n",
       "</div>"
      ],
      "text/plain": [
       "     event_name  user_id_b  part_%_b  user_id_a  part_%_a  variance\n",
       "0  product_page        493     56.21       1685     64.71     -8.50\n",
       "1  product_cart        244     27.82        782     30.03     -2.21\n",
       "2      purchase        249     28.39        833     31.99     -3.60"
      ]
     },
     "execution_count": 70,
     "metadata": {},
     "output_type": "execute_result"
    }
   ],
   "source": [
    "df_ab_event_z = df_ab_event.loc[1:3,:].reset_index(drop=True)\n",
    "df_ab_event_z"
   ]
  },
  {
   "cell_type": "code",
   "execution_count": 71,
   "metadata": {},
   "outputs": [
    {
     "name": "stdout",
     "output_type": "stream",
     "text": [
      "Для события product_page:\n",
      "p-значение: 6.942739359416805e-06\n",
      "Отвергаем нулевую гипотезу: между долями есть значимая разница\n",
      "\n",
      "Для события product_cart:\n",
      "p-значение: 0.21469192029582396\n",
      "Не получилось отвергнуть нулевую гипотезу, нет оснований считать доли разными.\n",
      "\n",
      "Для события purchase:\n",
      "p-значение: 0.04652482738393027\n",
      "Не получилось отвергнуть нулевую гипотезу, нет оснований считать доли разными.\n",
      "\n"
     ]
    }
   ],
   "source": [
    "for i in range(len(df_ab_event_z)):\n",
    "    trials = list(df_test_group.user_id[[0,1]])\n",
    "    successes = list([df_ab_event_z.loc[i, 'user_id_a'], df_ab_event_z.loc[i, 'user_id_b']])\n",
    "    print(f'Для события {df_ab_event_z.event_name[i]}:')\n",
    "    test_ab(trials, successes, bonferroni_alpha)\n",
    "    print()"
   ]
  },
  {
   "cell_type": "markdown",
   "metadata": {},
   "source": [
    "Таким образом, статистически значимая разница между долями в группах А и В обнаружена только для product_page."
   ]
  },
  {
   "cell_type": "markdown",
   "metadata": {},
   "source": [
    "## Выводы"
   ]
  },
  {
   "cell_type": "markdown",
   "metadata": {},
   "source": [
    "- В результате стоит отметить некорректность проведения А/В теста \"recommender_system_test\". Предоставленные данные практически полностью не соответствуют техническому заданию:\n",
    "    - дата остановки теста 30 декабря (полные данные только до 29 декабря) вместо 4 января;\n",
    "    - доля новых пользователей из региона EU - 7,5% вместо 15%;\n",
    "    - количество пользователей, фактически участвующих в тестировании, 3481 вместо 6000;\n",
    "    - остановка теста раньше срока также отразилась на горизонте анализа, не все успели \"прожить\" запланированных 14 дней.\n",
    "- На результаты теста также могло оказать влияние проведение маркетинговой акции в честь нового года. В целом стоит отметить, что период проведения теста выбран не самый удачный, т.к. в преддверии нового года покупательская активность обычно и так на пике.\n",
    "- Кроме того, в ходе анализа обнаружено бездействие большого количества пользователей с момента попадания в группы тестирования, в большей степени это характерно для группы В, что также сказалось на снижении итогового числа пользователей, участвующих в тестировании. Возможно, это ошибка в работе приложения, или при выгрузке данных.\n",
    "\n",
    "- Также стоит отметить неравномерность распределения между тестовыми группами: численность группы А после очистки неактивных пользователей превысила численность группы В более чем в три раза.\n",
    "\n",
    "- По результатам А/В теста конверсия группы В была меньше группы А на всех этапах воронки, для событий product_page эти различия оказались статистически значимыми. \n",
    "\n",
    "- Таким образом, можно сделать вывод, что тест оказался неуспешным, новая рекомендательная система не только не увеличила показатели конверсии, но и снизила их: конверсия в просмотр карточек товаров стала ниже на 8,5%."
   ]
  },
  {
   "cell_type": "code",
   "execution_count": null,
   "metadata": {},
   "outputs": [],
   "source": []
  }
 ],
 "metadata": {
  "ExecuteTimeLog": [
   {
    "duration": 435,
    "start_time": "2023-02-28T03:41:19.052Z"
   },
   {
    "duration": 94,
    "start_time": "2023-02-28T03:41:44.198Z"
   },
   {
    "duration": 73,
    "start_time": "2023-02-28T03:42:11.564Z"
   },
   {
    "duration": 204,
    "start_time": "2023-02-28T03:42:51.031Z"
   },
   {
    "duration": 1560,
    "start_time": "2023-02-28T03:43:22.384Z"
   },
   {
    "duration": 160,
    "start_time": "2023-02-28T03:43:53.277Z"
   },
   {
    "duration": 37,
    "start_time": "2023-02-28T03:45:06.065Z"
   },
   {
    "duration": 87,
    "start_time": "2023-02-28T03:45:20.140Z"
   },
   {
    "duration": 509,
    "start_time": "2023-02-28T03:45:44.599Z"
   },
   {
    "duration": 43,
    "start_time": "2023-02-28T03:45:55.525Z"
   },
   {
    "duration": 99,
    "start_time": "2023-02-28T03:48:15.216Z"
   },
   {
    "duration": 99,
    "start_time": "2023-02-28T03:48:42.225Z"
   },
   {
    "duration": 5,
    "start_time": "2023-02-28T03:53:35.169Z"
   },
   {
    "duration": 97,
    "start_time": "2023-02-28T03:55:45.096Z"
   },
   {
    "duration": 87,
    "start_time": "2023-02-28T03:56:03.208Z"
   },
   {
    "duration": 312,
    "start_time": "2023-02-28T03:59:47.495Z"
   },
   {
    "duration": 48,
    "start_time": "2023-02-28T04:00:45.490Z"
   },
   {
    "duration": 302,
    "start_time": "2023-02-28T04:01:05.956Z"
   },
   {
    "duration": 11,
    "start_time": "2023-02-28T04:04:17.838Z"
   },
   {
    "duration": 290,
    "start_time": "2023-02-28T04:11:45.420Z"
   },
   {
    "duration": 10,
    "start_time": "2023-02-28T04:15:42.836Z"
   },
   {
    "duration": 42,
    "start_time": "2023-02-28T04:17:10.332Z"
   },
   {
    "duration": 38,
    "start_time": "2023-02-28T04:18:28.607Z"
   },
   {
    "duration": 10,
    "start_time": "2023-02-28T04:27:51.828Z"
   },
   {
    "duration": 7,
    "start_time": "2023-02-28T04:28:21.019Z"
   },
   {
    "duration": 5,
    "start_time": "2023-02-28T04:29:36.711Z"
   },
   {
    "duration": 8,
    "start_time": "2023-02-28T04:30:30.048Z"
   },
   {
    "duration": 8,
    "start_time": "2023-02-28T04:37:50.433Z"
   },
   {
    "duration": 935,
    "start_time": "2023-02-28T04:50:15.240Z"
   },
   {
    "duration": 538,
    "start_time": "2023-02-28T04:50:36.132Z"
   },
   {
    "duration": 50,
    "start_time": "2023-02-28T04:55:42.286Z"
   },
   {
    "duration": 1204,
    "start_time": "2023-02-28T04:59:32.265Z"
   },
   {
    "duration": 36,
    "start_time": "2023-02-28T04:59:33.472Z"
   },
   {
    "duration": 77,
    "start_time": "2023-02-28T04:59:33.509Z"
   },
   {
    "duration": 495,
    "start_time": "2023-02-28T04:59:33.588Z"
   },
   {
    "duration": 30,
    "start_time": "2023-02-28T04:59:34.084Z"
   },
   {
    "duration": 103,
    "start_time": "2023-02-28T04:59:34.116Z"
   },
   {
    "duration": 114,
    "start_time": "2023-02-28T04:59:34.220Z"
   },
   {
    "duration": 108,
    "start_time": "2023-02-28T04:59:34.336Z"
   },
   {
    "duration": 344,
    "start_time": "2023-02-28T04:59:34.447Z"
   },
   {
    "duration": 7,
    "start_time": "2023-02-28T04:59:34.793Z"
   },
   {
    "duration": 62,
    "start_time": "2023-02-28T04:59:34.802Z"
   },
   {
    "duration": 40,
    "start_time": "2023-02-28T04:59:34.866Z"
   },
   {
    "duration": 6,
    "start_time": "2023-02-28T04:59:34.908Z"
   },
   {
    "duration": 6,
    "start_time": "2023-02-28T04:59:34.916Z"
   },
   {
    "duration": 6,
    "start_time": "2023-02-28T04:59:34.945Z"
   },
   {
    "duration": 14,
    "start_time": "2023-02-28T04:59:34.952Z"
   },
   {
    "duration": 583,
    "start_time": "2023-02-28T04:59:41.416Z"
   },
   {
    "duration": 559,
    "start_time": "2023-02-28T05:00:20.186Z"
   },
   {
    "duration": 566,
    "start_time": "2023-02-28T05:01:51.688Z"
   },
   {
    "duration": 646,
    "start_time": "2023-02-28T05:02:03.481Z"
   },
   {
    "duration": 484,
    "start_time": "2023-02-28T05:02:20.668Z"
   },
   {
    "duration": 603,
    "start_time": "2023-02-28T05:02:38.673Z"
   },
   {
    "duration": 475,
    "start_time": "2023-02-28T05:04:49.549Z"
   },
   {
    "duration": 15,
    "start_time": "2023-02-28T05:06:59.925Z"
   },
   {
    "duration": 461,
    "start_time": "2023-02-28T05:07:23.609Z"
   },
   {
    "duration": 7,
    "start_time": "2023-02-28T05:10:03.586Z"
   },
   {
    "duration": 14,
    "start_time": "2023-02-28T05:10:16.057Z"
   },
   {
    "duration": 122,
    "start_time": "2023-02-28T05:12:56.107Z"
   },
   {
    "duration": 246,
    "start_time": "2023-02-28T05:35:19.529Z"
   },
   {
    "duration": 243,
    "start_time": "2023-02-28T05:36:08.142Z"
   },
   {
    "duration": 1699,
    "start_time": "2023-02-28T05:37:37.902Z"
   },
   {
    "duration": 16,
    "start_time": "2023-02-28T05:42:24.150Z"
   },
   {
    "duration": 10,
    "start_time": "2023-02-28T05:43:20.939Z"
   },
   {
    "duration": 40,
    "start_time": "2023-02-28T05:57:56.479Z"
   },
   {
    "duration": 10,
    "start_time": "2023-02-28T05:58:09.679Z"
   },
   {
    "duration": 16,
    "start_time": "2023-02-28T05:59:35.419Z"
   },
   {
    "duration": 20,
    "start_time": "2023-02-28T06:02:47.726Z"
   },
   {
    "duration": 14,
    "start_time": "2023-02-28T06:03:32.125Z"
   },
   {
    "duration": 55,
    "start_time": "2023-02-28T06:05:04.310Z"
   },
   {
    "duration": 14,
    "start_time": "2023-02-28T06:05:11.782Z"
   },
   {
    "duration": 8,
    "start_time": "2023-02-28T09:11:06.602Z"
   },
   {
    "duration": 11,
    "start_time": "2023-02-28T09:12:07.501Z"
   },
   {
    "duration": 12,
    "start_time": "2023-02-28T09:17:19.626Z"
   },
   {
    "duration": 12,
    "start_time": "2023-02-28T09:18:15.666Z"
   },
   {
    "duration": 496,
    "start_time": "2023-02-28T09:28:35.994Z"
   },
   {
    "duration": 43,
    "start_time": "2023-02-28T09:28:51.961Z"
   },
   {
    "duration": 10,
    "start_time": "2023-02-28T09:30:50.414Z"
   },
   {
    "duration": 1139,
    "start_time": "2023-02-28T10:09:33.069Z"
   },
   {
    "duration": 34,
    "start_time": "2023-02-28T10:09:34.210Z"
   },
   {
    "duration": 76,
    "start_time": "2023-02-28T10:09:34.246Z"
   },
   {
    "duration": 585,
    "start_time": "2023-02-28T10:09:34.325Z"
   },
   {
    "duration": 0,
    "start_time": "2023-02-28T10:09:34.912Z"
   },
   {
    "duration": 0,
    "start_time": "2023-02-28T10:09:34.913Z"
   },
   {
    "duration": 0,
    "start_time": "2023-02-28T10:09:34.915Z"
   },
   {
    "duration": 0,
    "start_time": "2023-02-28T10:09:34.916Z"
   },
   {
    "duration": 0,
    "start_time": "2023-02-28T10:09:34.917Z"
   },
   {
    "duration": 0,
    "start_time": "2023-02-28T10:09:34.918Z"
   },
   {
    "duration": 0,
    "start_time": "2023-02-28T10:09:34.920Z"
   },
   {
    "duration": 0,
    "start_time": "2023-02-28T10:09:34.921Z"
   },
   {
    "duration": 0,
    "start_time": "2023-02-28T10:09:34.945Z"
   },
   {
    "duration": 0,
    "start_time": "2023-02-28T10:09:34.946Z"
   },
   {
    "duration": 523,
    "start_time": "2023-02-28T10:09:52.403Z"
   },
   {
    "duration": 40,
    "start_time": "2023-02-28T10:09:53.795Z"
   },
   {
    "duration": 102,
    "start_time": "2023-02-28T10:09:58.004Z"
   },
   {
    "duration": 28,
    "start_time": "2023-02-28T10:10:06.287Z"
   },
   {
    "duration": 109,
    "start_time": "2023-02-28T10:10:13.639Z"
   },
   {
    "duration": 81,
    "start_time": "2023-02-28T10:10:16.975Z"
   },
   {
    "duration": 302,
    "start_time": "2023-02-28T10:10:23.087Z"
   },
   {
    "duration": 10,
    "start_time": "2023-02-28T10:10:29.356Z"
   },
   {
    "duration": 40,
    "start_time": "2023-02-28T10:10:30.048Z"
   },
   {
    "duration": 36,
    "start_time": "2023-02-28T10:10:30.759Z"
   },
   {
    "duration": 38,
    "start_time": "2023-02-28T10:10:33.354Z"
   },
   {
    "duration": 10,
    "start_time": "2023-02-28T10:10:34.024Z"
   },
   {
    "duration": 7,
    "start_time": "2023-02-28T10:10:45.495Z"
   },
   {
    "duration": 21,
    "start_time": "2023-02-28T10:54:08.080Z"
   },
   {
    "duration": 24,
    "start_time": "2023-02-28T10:56:59.154Z"
   },
   {
    "duration": 39,
    "start_time": "2023-02-28T11:10:33.455Z"
   },
   {
    "duration": 21,
    "start_time": "2023-02-28T11:11:12.844Z"
   },
   {
    "duration": 10,
    "start_time": "2023-02-28T11:30:52.686Z"
   },
   {
    "duration": 18,
    "start_time": "2023-02-28T11:30:56.711Z"
   },
   {
    "duration": 37,
    "start_time": "2023-02-28T11:30:57.301Z"
   },
   {
    "duration": 8,
    "start_time": "2023-02-28T11:31:32.675Z"
   },
   {
    "duration": 4,
    "start_time": "2023-02-28T11:32:01.531Z"
   },
   {
    "duration": 14,
    "start_time": "2023-02-28T11:32:10.805Z"
   },
   {
    "duration": 4,
    "start_time": "2023-02-28T11:32:11.365Z"
   },
   {
    "duration": 8,
    "start_time": "2023-02-28T11:32:12.164Z"
   },
   {
    "duration": 7,
    "start_time": "2023-02-28T11:32:35.984Z"
   },
   {
    "duration": 7,
    "start_time": "2023-02-28T11:32:36.771Z"
   },
   {
    "duration": 7,
    "start_time": "2023-02-28T11:32:37.410Z"
   },
   {
    "duration": 7,
    "start_time": "2023-02-28T11:39:08.674Z"
   },
   {
    "duration": 8,
    "start_time": "2023-02-28T11:39:39.020Z"
   },
   {
    "duration": 21,
    "start_time": "2023-02-28T11:41:20.406Z"
   },
   {
    "duration": 6,
    "start_time": "2023-02-28T11:57:51.578Z"
   },
   {
    "duration": 6,
    "start_time": "2023-02-28T11:57:53.407Z"
   },
   {
    "duration": 8,
    "start_time": "2023-02-28T11:57:55.886Z"
   },
   {
    "duration": 6,
    "start_time": "2023-02-28T11:57:56.669Z"
   },
   {
    "duration": 11,
    "start_time": "2023-02-28T11:57:59.791Z"
   },
   {
    "duration": 3,
    "start_time": "2023-02-28T11:58:20.275Z"
   },
   {
    "duration": 10,
    "start_time": "2023-02-28T11:58:25.509Z"
   },
   {
    "duration": 4,
    "start_time": "2023-02-28T11:58:43.773Z"
   },
   {
    "duration": 7,
    "start_time": "2023-02-28T11:58:52.314Z"
   },
   {
    "duration": 10,
    "start_time": "2023-02-28T12:01:23.388Z"
   },
   {
    "duration": 6,
    "start_time": "2023-02-28T12:01:30.365Z"
   },
   {
    "duration": 6,
    "start_time": "2023-02-28T12:01:30.933Z"
   },
   {
    "duration": 7,
    "start_time": "2023-02-28T12:01:34.602Z"
   },
   {
    "duration": 45,
    "start_time": "2023-02-28T12:39:13.196Z"
   },
   {
    "duration": 6,
    "start_time": "2023-02-28T12:39:26.527Z"
   },
   {
    "duration": 6,
    "start_time": "2023-02-28T12:39:40.895Z"
   },
   {
    "duration": 21,
    "start_time": "2023-02-28T12:41:43.019Z"
   },
   {
    "duration": 8,
    "start_time": "2023-02-28T12:42:23.269Z"
   },
   {
    "duration": 8,
    "start_time": "2023-02-28T12:42:41.036Z"
   },
   {
    "duration": 23,
    "start_time": "2023-02-28T12:45:43.883Z"
   },
   {
    "duration": 657,
    "start_time": "2023-02-28T12:45:52.743Z"
   },
   {
    "duration": 8,
    "start_time": "2023-02-28T12:46:12.875Z"
   },
   {
    "duration": 15,
    "start_time": "2023-02-28T12:46:17.977Z"
   },
   {
    "duration": 244,
    "start_time": "2023-02-28T12:46:35.361Z"
   },
   {
    "duration": 1779,
    "start_time": "2023-02-28T12:46:44.364Z"
   },
   {
    "duration": 14,
    "start_time": "2023-02-28T12:47:05.476Z"
   },
   {
    "duration": 10,
    "start_time": "2023-02-28T12:47:20.078Z"
   },
   {
    "duration": 20,
    "start_time": "2023-02-28T12:47:43.287Z"
   },
   {
    "duration": 15,
    "start_time": "2023-02-28T12:47:44.384Z"
   },
   {
    "duration": 7,
    "start_time": "2023-02-28T12:48:05.983Z"
   },
   {
    "duration": 9,
    "start_time": "2023-02-28T12:49:50.821Z"
   },
   {
    "duration": 10,
    "start_time": "2023-02-28T12:49:52.395Z"
   },
   {
    "duration": 24,
    "start_time": "2023-02-28T12:52:41.590Z"
   },
   {
    "duration": 1291,
    "start_time": "2023-02-28T12:53:05.006Z"
   },
   {
    "duration": 42,
    "start_time": "2023-02-28T12:53:06.301Z"
   },
   {
    "duration": 89,
    "start_time": "2023-02-28T12:53:06.344Z"
   },
   {
    "duration": 600,
    "start_time": "2023-02-28T12:53:06.435Z"
   },
   {
    "duration": 42,
    "start_time": "2023-02-28T12:53:07.037Z"
   },
   {
    "duration": 134,
    "start_time": "2023-02-28T12:53:07.081Z"
   },
   {
    "duration": 130,
    "start_time": "2023-02-28T12:53:07.217Z"
   },
   {
    "duration": 133,
    "start_time": "2023-02-28T12:53:07.349Z"
   },
   {
    "duration": 376,
    "start_time": "2023-02-28T12:53:07.484Z"
   },
   {
    "duration": 12,
    "start_time": "2023-02-28T12:53:07.863Z"
   },
   {
    "duration": 43,
    "start_time": "2023-02-28T12:53:07.878Z"
   },
   {
    "duration": 66,
    "start_time": "2023-02-28T12:53:07.923Z"
   },
   {
    "duration": 55,
    "start_time": "2023-02-28T12:53:07.991Z"
   },
   {
    "duration": 10,
    "start_time": "2023-02-28T12:53:08.049Z"
   },
   {
    "duration": 8,
    "start_time": "2023-02-28T12:53:08.062Z"
   },
   {
    "duration": 29,
    "start_time": "2023-02-28T12:53:08.072Z"
   },
   {
    "duration": 53,
    "start_time": "2023-02-28T12:53:08.103Z"
   },
   {
    "duration": 5,
    "start_time": "2023-02-28T12:53:08.158Z"
   },
   {
    "duration": 27,
    "start_time": "2023-02-28T12:53:08.165Z"
   },
   {
    "duration": 21,
    "start_time": "2023-02-28T12:53:08.195Z"
   },
   {
    "duration": 7,
    "start_time": "2023-02-28T12:53:08.219Z"
   },
   {
    "duration": 18,
    "start_time": "2023-02-28T12:53:08.228Z"
   },
   {
    "duration": 15,
    "start_time": "2023-02-28T12:53:08.249Z"
   },
   {
    "duration": 27,
    "start_time": "2023-02-28T12:53:08.267Z"
   },
   {
    "duration": 596,
    "start_time": "2023-02-28T12:53:08.297Z"
   },
   {
    "duration": 8,
    "start_time": "2023-02-28T12:53:08.894Z"
   },
   {
    "duration": 304,
    "start_time": "2023-02-28T12:53:08.903Z"
   },
   {
    "duration": 1825,
    "start_time": "2023-02-28T12:53:09.209Z"
   },
   {
    "duration": 16,
    "start_time": "2023-02-28T12:53:11.036Z"
   },
   {
    "duration": 29,
    "start_time": "2023-02-28T12:53:11.054Z"
   },
   {
    "duration": 31,
    "start_time": "2023-02-28T12:53:11.085Z"
   },
   {
    "duration": 22,
    "start_time": "2023-02-28T12:53:11.117Z"
   },
   {
    "duration": 7,
    "start_time": "2023-02-28T12:53:11.141Z"
   },
   {
    "duration": 33,
    "start_time": "2023-02-28T12:53:11.149Z"
   },
   {
    "duration": 18,
    "start_time": "2023-02-28T12:53:11.184Z"
   },
   {
    "duration": 34,
    "start_time": "2023-02-28T12:53:11.204Z"
   },
   {
    "duration": 7,
    "start_time": "2023-02-28T12:55:15.082Z"
   },
   {
    "duration": 129,
    "start_time": "2023-02-28T14:32:47.715Z"
   },
   {
    "duration": 15,
    "start_time": "2023-02-28T14:35:11.291Z"
   },
   {
    "duration": 9,
    "start_time": "2023-02-28T14:50:30.321Z"
   },
   {
    "duration": 11,
    "start_time": "2023-02-28T14:50:41.554Z"
   },
   {
    "duration": 10,
    "start_time": "2023-02-28T14:50:59.563Z"
   },
   {
    "duration": 14,
    "start_time": "2023-02-28T14:52:00.798Z"
   },
   {
    "duration": 132,
    "start_time": "2023-02-28T14:53:23.523Z"
   },
   {
    "duration": 143,
    "start_time": "2023-02-28T14:53:48.151Z"
   },
   {
    "duration": 149,
    "start_time": "2023-02-28T14:54:52.677Z"
   },
   {
    "duration": 68,
    "start_time": "2023-02-28T15:00:12.557Z"
   },
   {
    "duration": 33,
    "start_time": "2023-02-28T15:00:39.183Z"
   },
   {
    "duration": 5,
    "start_time": "2023-02-28T15:01:29.421Z"
   },
   {
    "duration": 5,
    "start_time": "2023-02-28T15:01:37.561Z"
   },
   {
    "duration": 36,
    "start_time": "2023-02-28T15:01:54.839Z"
   },
   {
    "duration": 35,
    "start_time": "2023-02-28T15:02:08.165Z"
   },
   {
    "duration": 29,
    "start_time": "2023-02-28T15:03:42.684Z"
   },
   {
    "duration": 171,
    "start_time": "2023-02-28T15:05:59.020Z"
   },
   {
    "duration": 13,
    "start_time": "2023-02-28T15:07:40.641Z"
   },
   {
    "duration": 12,
    "start_time": "2023-02-28T15:09:08.174Z"
   },
   {
    "duration": 8,
    "start_time": "2023-02-28T15:09:24.548Z"
   },
   {
    "duration": 32,
    "start_time": "2023-02-28T15:10:33.481Z"
   },
   {
    "duration": 42,
    "start_time": "2023-02-28T15:11:33.443Z"
   },
   {
    "duration": 34,
    "start_time": "2023-02-28T15:12:14.420Z"
   },
   {
    "duration": 1332,
    "start_time": "2023-03-01T03:28:15.616Z"
   },
   {
    "duration": 79,
    "start_time": "2023-03-01T03:28:16.950Z"
   },
   {
    "duration": 248,
    "start_time": "2023-03-01T03:28:17.031Z"
   },
   {
    "duration": 584,
    "start_time": "2023-03-01T03:28:17.281Z"
   },
   {
    "duration": 69,
    "start_time": "2023-03-01T03:28:17.866Z"
   },
   {
    "duration": 93,
    "start_time": "2023-03-01T03:28:17.937Z"
   },
   {
    "duration": 108,
    "start_time": "2023-03-01T03:28:18.032Z"
   },
   {
    "duration": 98,
    "start_time": "2023-03-01T03:28:18.142Z"
   },
   {
    "duration": 319,
    "start_time": "2023-03-01T03:28:18.242Z"
   },
   {
    "duration": 8,
    "start_time": "2023-03-01T03:28:18.563Z"
   },
   {
    "duration": 50,
    "start_time": "2023-03-01T03:28:18.573Z"
   },
   {
    "duration": 37,
    "start_time": "2023-03-01T03:28:18.625Z"
   },
   {
    "duration": 33,
    "start_time": "2023-03-01T03:28:18.663Z"
   },
   {
    "duration": 28,
    "start_time": "2023-03-01T03:28:18.698Z"
   },
   {
    "duration": 28,
    "start_time": "2023-03-01T03:28:18.728Z"
   },
   {
    "duration": 20,
    "start_time": "2023-03-01T03:28:18.757Z"
   },
   {
    "duration": 3,
    "start_time": "2023-03-01T03:28:18.778Z"
   },
   {
    "duration": 32,
    "start_time": "2023-03-01T03:28:18.783Z"
   },
   {
    "duration": 23,
    "start_time": "2023-03-01T03:28:18.821Z"
   },
   {
    "duration": 27,
    "start_time": "2023-03-01T03:28:18.845Z"
   },
   {
    "duration": 42,
    "start_time": "2023-03-01T03:28:18.874Z"
   },
   {
    "duration": 51,
    "start_time": "2023-03-01T03:28:18.918Z"
   },
   {
    "duration": 43,
    "start_time": "2023-03-01T03:28:18.971Z"
   },
   {
    "duration": 23,
    "start_time": "2023-03-01T03:28:19.015Z"
   },
   {
    "duration": 533,
    "start_time": "2023-03-01T03:28:19.040Z"
   },
   {
    "duration": 6,
    "start_time": "2023-03-01T03:28:19.575Z"
   },
   {
    "duration": 243,
    "start_time": "2023-03-01T03:28:19.583Z"
   },
   {
    "duration": 1550,
    "start_time": "2023-03-01T03:28:19.829Z"
   },
   {
    "duration": 9,
    "start_time": "2023-03-01T03:28:21.380Z"
   },
   {
    "duration": 12,
    "start_time": "2023-03-01T03:28:21.391Z"
   },
   {
    "duration": 34,
    "start_time": "2023-03-01T03:28:21.405Z"
   },
   {
    "duration": 14,
    "start_time": "2023-03-01T03:28:21.441Z"
   },
   {
    "duration": 6,
    "start_time": "2023-03-01T03:28:21.458Z"
   },
   {
    "duration": 6,
    "start_time": "2023-03-01T03:28:21.466Z"
   },
   {
    "duration": 15,
    "start_time": "2023-03-01T03:28:21.474Z"
   },
   {
    "duration": 34,
    "start_time": "2023-03-01T03:28:21.490Z"
   },
   {
    "duration": 14,
    "start_time": "2023-03-01T03:28:21.527Z"
   },
   {
    "duration": 158,
    "start_time": "2023-03-01T03:28:21.544Z"
   },
   {
    "duration": 10,
    "start_time": "2023-03-01T03:28:21.705Z"
   },
   {
    "duration": 29,
    "start_time": "2023-03-01T03:28:21.722Z"
   },
   {
    "duration": 10,
    "start_time": "2023-03-01T03:28:21.753Z"
   },
   {
    "duration": 52,
    "start_time": "2023-03-01T03:28:21.765Z"
   },
   {
    "duration": 28,
    "start_time": "2023-03-01T03:28:21.819Z"
   },
   {
    "duration": 83,
    "start_time": "2023-03-01T03:28:21.849Z"
   },
   {
    "duration": 3,
    "start_time": "2023-03-01T03:28:35.495Z"
   },
   {
    "duration": 15,
    "start_time": "2023-03-01T03:28:48.826Z"
   },
   {
    "duration": 6,
    "start_time": "2023-03-01T03:29:32.658Z"
   },
   {
    "duration": 8,
    "start_time": "2023-03-01T03:31:42.416Z"
   },
   {
    "duration": 9,
    "start_time": "2023-03-01T03:37:40.254Z"
   },
   {
    "duration": 7,
    "start_time": "2023-03-01T03:38:53.775Z"
   },
   {
    "duration": 14,
    "start_time": "2023-03-01T03:42:46.811Z"
   },
   {
    "duration": 10,
    "start_time": "2023-03-01T03:46:19.753Z"
   },
   {
    "duration": 8,
    "start_time": "2023-03-01T03:47:36.262Z"
   },
   {
    "duration": 41,
    "start_time": "2023-03-01T03:48:11.868Z"
   },
   {
    "duration": 29,
    "start_time": "2023-03-01T03:53:05.706Z"
   },
   {
    "duration": 12,
    "start_time": "2023-03-01T03:53:36.921Z"
   },
   {
    "duration": 14,
    "start_time": "2023-03-01T04:00:36.805Z"
   },
   {
    "duration": 23,
    "start_time": "2023-03-01T04:03:33.635Z"
   },
   {
    "duration": 17,
    "start_time": "2023-03-01T04:03:51.296Z"
   },
   {
    "duration": 18,
    "start_time": "2023-03-01T04:04:33.114Z"
   },
   {
    "duration": 8,
    "start_time": "2023-03-01T04:04:56.520Z"
   },
   {
    "duration": 12,
    "start_time": "2023-03-01T04:06:16.558Z"
   },
   {
    "duration": 146,
    "start_time": "2023-03-01T04:26:14.769Z"
   },
   {
    "duration": 4,
    "start_time": "2023-03-01T04:26:24.062Z"
   },
   {
    "duration": 61,
    "start_time": "2023-03-01T04:26:24.844Z"
   },
   {
    "duration": 48,
    "start_time": "2023-03-01T04:26:33.269Z"
   },
   {
    "duration": 8,
    "start_time": "2023-03-01T04:27:28.196Z"
   },
   {
    "duration": 148,
    "start_time": "2023-03-01T04:29:30.841Z"
   },
   {
    "duration": 4,
    "start_time": "2023-03-01T04:30:16.575Z"
   },
   {
    "duration": 11,
    "start_time": "2023-03-01T04:30:53.168Z"
   },
   {
    "duration": 187,
    "start_time": "2023-03-01T04:34:20.400Z"
   },
   {
    "duration": 34,
    "start_time": "2023-03-01T04:35:01.547Z"
   },
   {
    "duration": 147,
    "start_time": "2023-03-01T04:35:02.773Z"
   },
   {
    "duration": 13,
    "start_time": "2023-03-01T04:35:08.143Z"
   },
   {
    "duration": 117,
    "start_time": "2023-03-01T04:37:18.032Z"
   },
   {
    "duration": 6,
    "start_time": "2023-03-01T05:02:29.156Z"
   },
   {
    "duration": 17,
    "start_time": "2023-03-01T05:03:01.525Z"
   },
   {
    "duration": 10,
    "start_time": "2023-03-01T05:03:29.722Z"
   },
   {
    "duration": 13,
    "start_time": "2023-03-01T05:11:54.194Z"
   },
   {
    "duration": 14,
    "start_time": "2023-03-01T05:13:50.486Z"
   },
   {
    "duration": 18,
    "start_time": "2023-03-01T05:16:57.477Z"
   },
   {
    "duration": 8,
    "start_time": "2023-03-01T05:18:10.946Z"
   },
   {
    "duration": 80,
    "start_time": "2023-03-01T05:18:32.673Z"
   },
   {
    "duration": 432,
    "start_time": "2023-03-01T05:18:38.349Z"
   },
   {
    "duration": 299,
    "start_time": "2023-03-01T05:36:16.519Z"
   },
   {
    "duration": 246,
    "start_time": "2023-03-01T05:36:37.068Z"
   },
   {
    "duration": 239,
    "start_time": "2023-03-01T05:38:33.942Z"
   },
   {
    "duration": 246,
    "start_time": "2023-03-01T05:38:41.137Z"
   },
   {
    "duration": 72,
    "start_time": "2023-03-01T05:43:50.877Z"
   },
   {
    "duration": 18,
    "start_time": "2023-03-01T05:44:24.729Z"
   },
   {
    "duration": 417,
    "start_time": "2023-03-01T05:45:25.570Z"
   },
   {
    "duration": 1883,
    "start_time": "2023-03-01T05:45:57.626Z"
   },
   {
    "duration": 346,
    "start_time": "2023-03-01T05:46:13.632Z"
   },
   {
    "duration": 341,
    "start_time": "2023-03-01T05:48:20.905Z"
   },
   {
    "duration": 15,
    "start_time": "2023-03-01T05:52:44.601Z"
   },
   {
    "duration": 242,
    "start_time": "2023-03-01T05:53:10.055Z"
   },
   {
    "duration": 432,
    "start_time": "2023-03-01T05:53:55.827Z"
   },
   {
    "duration": 10,
    "start_time": "2023-03-01T05:56:33.624Z"
   },
   {
    "duration": 60,
    "start_time": "2023-03-01T05:56:42.615Z"
   },
   {
    "duration": 61,
    "start_time": "2023-03-01T07:07:31.332Z"
   },
   {
    "duration": 4,
    "start_time": "2023-03-01T07:15:04.805Z"
   },
   {
    "duration": 404,
    "start_time": "2023-03-01T07:15:16.646Z"
   },
   {
    "duration": 375,
    "start_time": "2023-03-01T07:15:36.230Z"
   },
   {
    "duration": 364,
    "start_time": "2023-03-01T07:15:58.365Z"
   },
   {
    "duration": 436,
    "start_time": "2023-03-01T07:18:00.547Z"
   },
   {
    "duration": 478,
    "start_time": "2023-03-01T07:18:27.206Z"
   },
   {
    "duration": 14,
    "start_time": "2023-03-01T07:46:23.676Z"
   },
   {
    "duration": 20,
    "start_time": "2023-03-01T07:47:15.493Z"
   },
   {
    "duration": 17,
    "start_time": "2023-03-01T07:47:33.174Z"
   },
   {
    "duration": 14,
    "start_time": "2023-03-01T07:48:02.626Z"
   },
   {
    "duration": 8,
    "start_time": "2023-03-01T08:34:34.195Z"
   },
   {
    "duration": 15,
    "start_time": "2023-03-01T08:37:07.975Z"
   },
   {
    "duration": 15,
    "start_time": "2023-03-01T08:38:57.741Z"
   },
   {
    "duration": 93,
    "start_time": "2023-03-01T08:39:32.466Z"
   },
   {
    "duration": 16,
    "start_time": "2023-03-01T08:39:51.342Z"
   },
   {
    "duration": 670,
    "start_time": "2023-03-01T08:40:11.661Z"
   },
   {
    "duration": 14,
    "start_time": "2023-03-01T08:40:42.749Z"
   },
   {
    "duration": 5,
    "start_time": "2023-03-01T08:45:32.789Z"
   },
   {
    "duration": 4,
    "start_time": "2023-03-01T08:46:03.011Z"
   },
   {
    "duration": 5,
    "start_time": "2023-03-01T08:46:09.618Z"
   },
   {
    "duration": 23,
    "start_time": "2023-03-01T08:48:18.763Z"
   },
   {
    "duration": 63,
    "start_time": "2023-03-01T08:49:23.377Z"
   },
   {
    "duration": 23,
    "start_time": "2023-03-01T08:49:47.428Z"
   },
   {
    "duration": 24,
    "start_time": "2023-03-01T08:50:31.118Z"
   },
   {
    "duration": 11,
    "start_time": "2023-03-01T08:54:54.231Z"
   },
   {
    "duration": 5,
    "start_time": "2023-03-01T08:55:18.492Z"
   },
   {
    "duration": 25,
    "start_time": "2023-03-01T08:55:23.719Z"
   },
   {
    "duration": 12,
    "start_time": "2023-03-01T08:58:14.319Z"
   },
   {
    "duration": 23,
    "start_time": "2023-03-01T08:58:15.852Z"
   },
   {
    "duration": 23,
    "start_time": "2023-03-01T08:58:17.680Z"
   },
   {
    "duration": 25,
    "start_time": "2023-03-01T08:58:28.738Z"
   },
   {
    "duration": 22,
    "start_time": "2023-03-01T08:58:37.964Z"
   },
   {
    "duration": 22,
    "start_time": "2023-03-01T08:58:43.261Z"
   },
   {
    "duration": 21,
    "start_time": "2023-03-01T08:58:58.798Z"
   },
   {
    "duration": 14,
    "start_time": "2023-03-01T09:17:43.064Z"
   },
   {
    "duration": 14,
    "start_time": "2023-03-01T09:23:57.212Z"
   },
   {
    "duration": 9,
    "start_time": "2023-03-01T09:25:33.922Z"
   },
   {
    "duration": 14,
    "start_time": "2023-03-01T09:25:43.511Z"
   },
   {
    "duration": 13,
    "start_time": "2023-03-01T09:25:50.582Z"
   },
   {
    "duration": 15,
    "start_time": "2023-03-01T09:26:30.209Z"
   },
   {
    "duration": 9,
    "start_time": "2023-03-01T09:38:51.034Z"
   },
   {
    "duration": 14,
    "start_time": "2023-03-01T09:38:56.131Z"
   },
   {
    "duration": 5,
    "start_time": "2023-03-01T09:39:37.870Z"
   },
   {
    "duration": 1253,
    "start_time": "2023-03-01T09:41:04.093Z"
   },
   {
    "duration": 2,
    "start_time": "2023-03-01T09:41:19.634Z"
   },
   {
    "duration": 13,
    "start_time": "2023-03-01T09:41:55.901Z"
   },
   {
    "duration": 13,
    "start_time": "2023-03-01T09:42:22.494Z"
   },
   {
    "duration": 3,
    "start_time": "2023-03-01T09:46:57.289Z"
   },
   {
    "duration": 14,
    "start_time": "2023-03-01T09:47:05.037Z"
   },
   {
    "duration": 4,
    "start_time": "2023-03-01T10:19:47.889Z"
   },
   {
    "duration": 3,
    "start_time": "2023-03-01T10:20:53.744Z"
   },
   {
    "duration": 87,
    "start_time": "2023-03-01T10:21:57.347Z"
   },
   {
    "duration": 4,
    "start_time": "2023-03-01T10:22:08.261Z"
   },
   {
    "duration": 10,
    "start_time": "2023-03-01T10:23:34.915Z"
   },
   {
    "duration": 1161,
    "start_time": "2023-03-01T10:23:54.365Z"
   },
   {
    "duration": 15,
    "start_time": "2023-03-01T10:24:45.545Z"
   },
   {
    "duration": 10,
    "start_time": "2023-03-01T10:24:57.717Z"
   },
   {
    "duration": 12,
    "start_time": "2023-03-01T10:26:34.608Z"
   },
   {
    "duration": 146,
    "start_time": "2023-03-01T11:24:19.822Z"
   },
   {
    "duration": 20,
    "start_time": "2023-03-01T11:30:51.688Z"
   },
   {
    "duration": 16,
    "start_time": "2023-03-01T11:34:48.043Z"
   },
   {
    "duration": 13,
    "start_time": "2023-03-01T11:36:59.097Z"
   },
   {
    "duration": 13,
    "start_time": "2023-03-01T11:37:13.095Z"
   },
   {
    "duration": 12,
    "start_time": "2023-03-01T11:38:42.938Z"
   },
   {
    "duration": 12,
    "start_time": "2023-03-01T11:39:03.206Z"
   },
   {
    "duration": 17,
    "start_time": "2023-03-01T12:03:07.612Z"
   },
   {
    "duration": 1253,
    "start_time": "2023-03-01T12:07:22.158Z"
   },
   {
    "duration": 39,
    "start_time": "2023-03-01T12:07:23.413Z"
   },
   {
    "duration": 108,
    "start_time": "2023-03-01T12:07:23.454Z"
   },
   {
    "duration": 515,
    "start_time": "2023-03-01T12:07:23.563Z"
   },
   {
    "duration": 29,
    "start_time": "2023-03-01T12:07:24.080Z"
   },
   {
    "duration": 97,
    "start_time": "2023-03-01T12:07:24.111Z"
   },
   {
    "duration": 124,
    "start_time": "2023-03-01T12:07:24.210Z"
   },
   {
    "duration": 99,
    "start_time": "2023-03-01T12:07:24.336Z"
   },
   {
    "duration": 321,
    "start_time": "2023-03-01T12:07:24.437Z"
   },
   {
    "duration": 8,
    "start_time": "2023-03-01T12:07:24.759Z"
   },
   {
    "duration": 53,
    "start_time": "2023-03-01T12:07:24.770Z"
   },
   {
    "duration": 55,
    "start_time": "2023-03-01T12:07:24.825Z"
   },
   {
    "duration": 35,
    "start_time": "2023-03-01T12:07:24.882Z"
   },
   {
    "duration": 32,
    "start_time": "2023-03-01T12:07:24.923Z"
   },
   {
    "duration": 50,
    "start_time": "2023-03-01T12:07:24.957Z"
   },
   {
    "duration": 23,
    "start_time": "2023-03-01T12:07:25.009Z"
   },
   {
    "duration": 11,
    "start_time": "2023-03-01T12:07:25.034Z"
   },
   {
    "duration": 18,
    "start_time": "2023-03-01T12:07:25.047Z"
   },
   {
    "duration": 15,
    "start_time": "2023-03-01T12:07:25.067Z"
   },
   {
    "duration": 21,
    "start_time": "2023-03-01T12:07:25.084Z"
   },
   {
    "duration": 14,
    "start_time": "2023-03-01T12:07:25.107Z"
   },
   {
    "duration": 25,
    "start_time": "2023-03-01T12:07:25.123Z"
   },
   {
    "duration": 15,
    "start_time": "2023-03-01T12:07:25.151Z"
   },
   {
    "duration": 22,
    "start_time": "2023-03-01T12:07:25.168Z"
   },
   {
    "duration": 573,
    "start_time": "2023-03-01T12:07:25.192Z"
   },
   {
    "duration": 7,
    "start_time": "2023-03-01T12:07:25.767Z"
   },
   {
    "duration": 260,
    "start_time": "2023-03-01T12:07:25.776Z"
   },
   {
    "duration": 1739,
    "start_time": "2023-03-01T12:07:26.043Z"
   },
   {
    "duration": 10,
    "start_time": "2023-03-01T12:07:27.783Z"
   },
   {
    "duration": 24,
    "start_time": "2023-03-01T12:07:27.794Z"
   },
   {
    "duration": 23,
    "start_time": "2023-03-01T12:07:27.819Z"
   },
   {
    "duration": 17,
    "start_time": "2023-03-01T12:07:27.844Z"
   },
   {
    "duration": 7,
    "start_time": "2023-03-01T12:07:27.863Z"
   },
   {
    "duration": 7,
    "start_time": "2023-03-01T12:07:27.872Z"
   },
   {
    "duration": 9,
    "start_time": "2023-03-01T12:07:27.881Z"
   },
   {
    "duration": 42,
    "start_time": "2023-03-01T12:07:27.891Z"
   },
   {
    "duration": 154,
    "start_time": "2023-03-01T12:07:27.935Z"
   },
   {
    "duration": 15,
    "start_time": "2023-03-01T12:07:28.091Z"
   },
   {
    "duration": 44,
    "start_time": "2023-03-01T12:07:28.107Z"
   },
   {
    "duration": 17,
    "start_time": "2023-03-01T12:07:28.153Z"
   },
   {
    "duration": 26,
    "start_time": "2023-03-01T12:07:28.173Z"
   },
   {
    "duration": 21,
    "start_time": "2023-03-01T12:07:28.201Z"
   },
   {
    "duration": 23,
    "start_time": "2023-03-01T12:07:28.224Z"
   },
   {
    "duration": 36,
    "start_time": "2023-03-01T12:07:28.249Z"
   },
   {
    "duration": 166,
    "start_time": "2023-03-01T12:07:28.287Z"
   },
   {
    "duration": 19,
    "start_time": "2023-03-01T12:07:28.455Z"
   },
   {
    "duration": 31,
    "start_time": "2023-03-01T12:07:28.477Z"
   },
   {
    "duration": 9,
    "start_time": "2023-03-01T12:07:28.510Z"
   },
   {
    "duration": 47,
    "start_time": "2023-03-01T12:07:28.522Z"
   },
   {
    "duration": 22,
    "start_time": "2023-03-01T12:07:28.571Z"
   },
   {
    "duration": 466,
    "start_time": "2023-03-01T12:07:28.596Z"
   },
   {
    "duration": 14,
    "start_time": "2023-03-01T12:07:29.064Z"
   },
   {
    "duration": 16,
    "start_time": "2023-03-01T12:07:29.080Z"
   },
   {
    "duration": 34,
    "start_time": "2023-03-01T12:07:29.098Z"
   },
   {
    "duration": 359,
    "start_time": "2023-03-01T12:07:29.134Z"
   },
   {
    "duration": 10,
    "start_time": "2023-03-01T12:07:29.494Z"
   },
   {
    "duration": 33,
    "start_time": "2023-03-01T12:07:29.505Z"
   },
   {
    "duration": 17,
    "start_time": "2023-03-01T12:07:29.543Z"
   },
   {
    "duration": 67,
    "start_time": "2023-03-01T12:07:29.562Z"
   },
   {
    "duration": 6,
    "start_time": "2023-03-01T12:07:29.630Z"
   },
   {
    "duration": 32,
    "start_time": "2023-03-01T12:07:29.638Z"
   },
   {
    "duration": 20,
    "start_time": "2023-03-01T12:07:29.671Z"
   },
   {
    "duration": 20,
    "start_time": "2023-03-01T12:07:29.721Z"
   },
   {
    "duration": 5,
    "start_time": "2023-03-01T12:07:29.743Z"
   },
   {
    "duration": 17,
    "start_time": "2023-03-01T12:07:29.749Z"
   },
   {
    "duration": 3,
    "start_time": "2023-03-01T12:07:29.768Z"
   },
   {
    "duration": 13,
    "start_time": "2023-03-01T12:07:29.772Z"
   },
   {
    "duration": 40,
    "start_time": "2023-03-01T12:07:29.786Z"
   },
   {
    "duration": 70,
    "start_time": "2023-03-01T12:50:11.222Z"
   },
   {
    "duration": 0,
    "start_time": "2023-03-01T12:50:11.294Z"
   },
   {
    "duration": 0,
    "start_time": "2023-03-01T12:50:11.296Z"
   },
   {
    "duration": 0,
    "start_time": "2023-03-01T12:50:11.297Z"
   },
   {
    "duration": 0,
    "start_time": "2023-03-01T12:50:11.298Z"
   },
   {
    "duration": 0,
    "start_time": "2023-03-01T12:50:11.299Z"
   },
   {
    "duration": 0,
    "start_time": "2023-03-01T12:50:11.300Z"
   },
   {
    "duration": 0,
    "start_time": "2023-03-01T12:50:11.302Z"
   },
   {
    "duration": 0,
    "start_time": "2023-03-01T12:50:11.303Z"
   },
   {
    "duration": 0,
    "start_time": "2023-03-01T12:50:11.305Z"
   },
   {
    "duration": 0,
    "start_time": "2023-03-01T12:50:11.306Z"
   },
   {
    "duration": 0,
    "start_time": "2023-03-01T12:50:11.308Z"
   },
   {
    "duration": 0,
    "start_time": "2023-03-01T12:50:11.310Z"
   },
   {
    "duration": 0,
    "start_time": "2023-03-01T12:50:11.311Z"
   },
   {
    "duration": 0,
    "start_time": "2023-03-01T12:50:11.313Z"
   },
   {
    "duration": 1237,
    "start_time": "2023-03-01T12:50:19.144Z"
   },
   {
    "duration": 103,
    "start_time": "2023-03-01T12:50:20.384Z"
   },
   {
    "duration": 181,
    "start_time": "2023-03-01T12:50:20.489Z"
   },
   {
    "duration": 1575,
    "start_time": "2023-03-01T12:50:20.673Z"
   },
   {
    "duration": 132,
    "start_time": "2023-03-01T12:50:22.250Z"
   },
   {
    "duration": 114,
    "start_time": "2023-03-01T12:50:22.384Z"
   },
   {
    "duration": 106,
    "start_time": "2023-03-01T12:50:22.500Z"
   },
   {
    "duration": 102,
    "start_time": "2023-03-01T12:50:22.607Z"
   },
   {
    "duration": 326,
    "start_time": "2023-03-01T12:50:22.711Z"
   },
   {
    "duration": 7,
    "start_time": "2023-03-01T12:50:23.040Z"
   },
   {
    "duration": 60,
    "start_time": "2023-03-01T12:50:23.049Z"
   },
   {
    "duration": 52,
    "start_time": "2023-03-01T12:50:23.112Z"
   },
   {
    "duration": 55,
    "start_time": "2023-03-01T12:50:23.166Z"
   },
   {
    "duration": 17,
    "start_time": "2023-03-01T12:50:23.223Z"
   },
   {
    "duration": 52,
    "start_time": "2023-03-01T12:50:23.242Z"
   },
   {
    "duration": 25,
    "start_time": "2023-03-01T12:50:23.296Z"
   },
   {
    "duration": 4,
    "start_time": "2023-03-01T12:50:23.323Z"
   },
   {
    "duration": 22,
    "start_time": "2023-03-01T12:50:23.329Z"
   },
   {
    "duration": 11,
    "start_time": "2023-03-01T12:50:23.353Z"
   },
   {
    "duration": 30,
    "start_time": "2023-03-01T12:50:23.366Z"
   },
   {
    "duration": 11,
    "start_time": "2023-03-01T12:50:23.398Z"
   },
   {
    "duration": 11,
    "start_time": "2023-03-01T12:50:23.411Z"
   },
   {
    "duration": 16,
    "start_time": "2023-03-01T12:50:23.424Z"
   },
   {
    "duration": 15,
    "start_time": "2023-03-01T12:50:23.442Z"
   },
   {
    "duration": 594,
    "start_time": "2023-03-01T12:50:23.492Z"
   },
   {
    "duration": 10,
    "start_time": "2023-03-01T12:50:24.088Z"
   },
   {
    "duration": 243,
    "start_time": "2023-03-01T12:50:24.100Z"
   },
   {
    "duration": 1612,
    "start_time": "2023-03-01T12:50:24.347Z"
   },
   {
    "duration": 10,
    "start_time": "2023-03-01T12:50:25.961Z"
   },
   {
    "duration": 28,
    "start_time": "2023-03-01T12:50:25.973Z"
   },
   {
    "duration": 29,
    "start_time": "2023-03-01T12:50:26.003Z"
   },
   {
    "duration": 15,
    "start_time": "2023-03-01T12:50:26.034Z"
   },
   {
    "duration": 6,
    "start_time": "2023-03-01T12:50:26.050Z"
   },
   {
    "duration": 35,
    "start_time": "2023-03-01T12:50:26.058Z"
   },
   {
    "duration": 7,
    "start_time": "2023-03-01T12:50:26.094Z"
   },
   {
    "duration": 9,
    "start_time": "2023-03-01T12:50:26.103Z"
   },
   {
    "duration": 169,
    "start_time": "2023-03-01T12:50:26.114Z"
   },
   {
    "duration": 25,
    "start_time": "2023-03-01T12:50:26.285Z"
   },
   {
    "duration": 35,
    "start_time": "2023-03-01T12:50:26.313Z"
   },
   {
    "duration": 16,
    "start_time": "2023-03-01T12:50:26.351Z"
   },
   {
    "duration": 18,
    "start_time": "2023-03-01T12:50:26.391Z"
   },
   {
    "duration": 7,
    "start_time": "2023-03-01T12:50:26.411Z"
   },
   {
    "duration": 12,
    "start_time": "2023-03-01T12:50:26.420Z"
   },
   {
    "duration": 39,
    "start_time": "2023-03-01T12:50:26.434Z"
   },
   {
    "duration": 198,
    "start_time": "2023-03-01T12:50:26.476Z"
   },
   {
    "duration": 36,
    "start_time": "2023-03-01T12:50:26.677Z"
   },
   {
    "duration": 19,
    "start_time": "2023-03-01T12:50:26.715Z"
   },
   {
    "duration": 16,
    "start_time": "2023-03-01T12:50:26.736Z"
   },
   {
    "duration": 37,
    "start_time": "2023-03-01T12:50:26.754Z"
   },
   {
    "duration": 19,
    "start_time": "2023-03-01T12:50:26.796Z"
   },
   {
    "duration": 461,
    "start_time": "2023-03-01T12:50:26.817Z"
   },
   {
    "duration": 17,
    "start_time": "2023-03-01T12:50:27.280Z"
   },
   {
    "duration": 14,
    "start_time": "2023-03-01T12:50:27.298Z"
   },
   {
    "duration": 18,
    "start_time": "2023-03-01T12:50:27.314Z"
   },
   {
    "duration": 693,
    "start_time": "2023-03-01T12:50:27.334Z"
   },
   {
    "duration": 10,
    "start_time": "2023-03-01T12:50:28.028Z"
   },
   {
    "duration": 59,
    "start_time": "2023-03-01T12:50:28.040Z"
   },
   {
    "duration": 15,
    "start_time": "2023-03-01T12:50:28.100Z"
   },
   {
    "duration": 18,
    "start_time": "2023-03-01T12:50:28.118Z"
   },
   {
    "duration": 10,
    "start_time": "2023-03-01T12:50:28.194Z"
   },
   {
    "duration": 88,
    "start_time": "2023-03-01T12:50:28.206Z"
   },
   {
    "duration": 33,
    "start_time": "2023-03-01T12:50:28.296Z"
   },
   {
    "duration": 16,
    "start_time": "2023-03-01T12:50:28.330Z"
   },
   {
    "duration": 47,
    "start_time": "2023-03-01T12:50:28.348Z"
   },
   {
    "duration": 23,
    "start_time": "2023-03-01T12:50:28.397Z"
   },
   {
    "duration": 3,
    "start_time": "2023-03-01T12:50:28.421Z"
   },
   {
    "duration": 12,
    "start_time": "2023-03-01T12:50:28.426Z"
   },
   {
    "duration": 16,
    "start_time": "2023-03-01T12:50:28.440Z"
   },
   {
    "duration": 12,
    "start_time": "2023-03-01T13:43:50.916Z"
   },
   {
    "duration": 10,
    "start_time": "2023-03-01T14:01:01.238Z"
   },
   {
    "duration": 16,
    "start_time": "2023-03-01T14:02:15.189Z"
   },
   {
    "duration": 10,
    "start_time": "2023-03-01T14:02:20.355Z"
   },
   {
    "duration": 20,
    "start_time": "2023-03-01T14:02:41.966Z"
   },
   {
    "duration": 11,
    "start_time": "2023-03-01T14:03:23.180Z"
   },
   {
    "duration": 10,
    "start_time": "2023-03-01T14:03:29.184Z"
   },
   {
    "duration": 146,
    "start_time": "2023-03-01T14:10:43.365Z"
   },
   {
    "duration": 1202,
    "start_time": "2023-03-01T14:10:53.500Z"
   },
   {
    "duration": 30,
    "start_time": "2023-03-01T14:10:54.704Z"
   },
   {
    "duration": 63,
    "start_time": "2023-03-01T14:10:54.736Z"
   },
   {
    "duration": 442,
    "start_time": "2023-03-01T14:10:54.801Z"
   },
   {
    "duration": 28,
    "start_time": "2023-03-01T14:10:55.245Z"
   },
   {
    "duration": 88,
    "start_time": "2023-03-01T14:10:55.274Z"
   },
   {
    "duration": 101,
    "start_time": "2023-03-01T14:10:55.364Z"
   },
   {
    "duration": 103,
    "start_time": "2023-03-01T14:10:55.467Z"
   },
   {
    "duration": 325,
    "start_time": "2023-03-01T14:10:55.572Z"
   },
   {
    "duration": 7,
    "start_time": "2023-03-01T14:10:55.899Z"
   },
   {
    "duration": 32,
    "start_time": "2023-03-01T14:10:55.921Z"
   },
   {
    "duration": 37,
    "start_time": "2023-03-01T14:10:55.954Z"
   },
   {
    "duration": 47,
    "start_time": "2023-03-01T14:10:55.992Z"
   },
   {
    "duration": 21,
    "start_time": "2023-03-01T14:10:56.040Z"
   },
   {
    "duration": 31,
    "start_time": "2023-03-01T14:10:56.062Z"
   },
   {
    "duration": 17,
    "start_time": "2023-03-01T14:10:56.095Z"
   },
   {
    "duration": 10,
    "start_time": "2023-03-01T14:10:56.114Z"
   },
   {
    "duration": 24,
    "start_time": "2023-03-01T14:10:56.126Z"
   },
   {
    "duration": 31,
    "start_time": "2023-03-01T14:10:56.152Z"
   },
   {
    "duration": 14,
    "start_time": "2023-03-01T14:10:56.185Z"
   },
   {
    "duration": 19,
    "start_time": "2023-03-01T14:10:56.200Z"
   },
   {
    "duration": 23,
    "start_time": "2023-03-01T14:10:56.221Z"
   },
   {
    "duration": 14,
    "start_time": "2023-03-01T14:10:56.245Z"
   },
   {
    "duration": 18,
    "start_time": "2023-03-01T14:10:56.261Z"
   },
   {
    "duration": 538,
    "start_time": "2023-03-01T14:10:56.280Z"
   },
   {
    "duration": 7,
    "start_time": "2023-03-01T14:10:56.821Z"
   },
   {
    "duration": 214,
    "start_time": "2023-03-01T14:10:56.829Z"
   },
   {
    "duration": 1487,
    "start_time": "2023-03-01T14:10:57.047Z"
   },
   {
    "duration": 8,
    "start_time": "2023-03-01T14:10:58.535Z"
   },
   {
    "duration": 21,
    "start_time": "2023-03-01T14:10:58.545Z"
   },
   {
    "duration": 16,
    "start_time": "2023-03-01T14:10:58.567Z"
   },
   {
    "duration": 12,
    "start_time": "2023-03-01T14:10:58.585Z"
   },
   {
    "duration": 5,
    "start_time": "2023-03-01T14:10:58.599Z"
   },
   {
    "duration": 31,
    "start_time": "2023-03-01T14:10:58.605Z"
   },
   {
    "duration": 9,
    "start_time": "2023-03-01T14:10:58.638Z"
   },
   {
    "duration": 11,
    "start_time": "2023-03-01T14:10:58.649Z"
   },
   {
    "duration": 101,
    "start_time": "2023-03-01T14:10:58.661Z"
   },
   {
    "duration": 0,
    "start_time": "2023-03-01T14:10:58.764Z"
   },
   {
    "duration": 0,
    "start_time": "2023-03-01T14:10:58.765Z"
   },
   {
    "duration": 0,
    "start_time": "2023-03-01T14:10:58.765Z"
   },
   {
    "duration": 0,
    "start_time": "2023-03-01T14:10:58.766Z"
   },
   {
    "duration": 0,
    "start_time": "2023-03-01T14:10:58.767Z"
   },
   {
    "duration": 0,
    "start_time": "2023-03-01T14:10:58.768Z"
   },
   {
    "duration": 0,
    "start_time": "2023-03-01T14:10:58.769Z"
   },
   {
    "duration": 1,
    "start_time": "2023-03-01T14:10:58.770Z"
   },
   {
    "duration": 0,
    "start_time": "2023-03-01T14:10:58.772Z"
   },
   {
    "duration": 0,
    "start_time": "2023-03-01T14:10:58.772Z"
   },
   {
    "duration": 0,
    "start_time": "2023-03-01T14:10:58.773Z"
   },
   {
    "duration": 0,
    "start_time": "2023-03-01T14:10:58.775Z"
   },
   {
    "duration": 0,
    "start_time": "2023-03-01T14:10:58.775Z"
   },
   {
    "duration": 0,
    "start_time": "2023-03-01T14:10:58.776Z"
   },
   {
    "duration": 0,
    "start_time": "2023-03-01T14:10:58.777Z"
   },
   {
    "duration": 0,
    "start_time": "2023-03-01T14:10:58.778Z"
   },
   {
    "duration": 0,
    "start_time": "2023-03-01T14:10:58.779Z"
   },
   {
    "duration": 0,
    "start_time": "2023-03-01T14:10:58.780Z"
   },
   {
    "duration": 0,
    "start_time": "2023-03-01T14:10:58.781Z"
   },
   {
    "duration": 0,
    "start_time": "2023-03-01T14:10:58.782Z"
   },
   {
    "duration": 0,
    "start_time": "2023-03-01T14:10:58.783Z"
   },
   {
    "duration": 0,
    "start_time": "2023-03-01T14:10:58.784Z"
   },
   {
    "duration": 0,
    "start_time": "2023-03-01T14:10:58.822Z"
   },
   {
    "duration": 0,
    "start_time": "2023-03-01T14:10:58.823Z"
   },
   {
    "duration": 0,
    "start_time": "2023-03-01T14:10:58.824Z"
   },
   {
    "duration": 0,
    "start_time": "2023-03-01T14:10:58.825Z"
   },
   {
    "duration": 0,
    "start_time": "2023-03-01T14:10:58.826Z"
   },
   {
    "duration": 0,
    "start_time": "2023-03-01T14:10:58.826Z"
   },
   {
    "duration": 0,
    "start_time": "2023-03-01T14:10:58.827Z"
   },
   {
    "duration": 0,
    "start_time": "2023-03-01T14:10:58.828Z"
   },
   {
    "duration": 0,
    "start_time": "2023-03-01T14:10:58.829Z"
   },
   {
    "duration": 0,
    "start_time": "2023-03-01T14:10:58.830Z"
   },
   {
    "duration": 0,
    "start_time": "2023-03-01T14:10:58.831Z"
   },
   {
    "duration": 0,
    "start_time": "2023-03-01T14:10:58.832Z"
   },
   {
    "duration": 4,
    "start_time": "2023-03-01T14:11:53.121Z"
   },
   {
    "duration": 10,
    "start_time": "2023-03-01T14:12:08.438Z"
   },
   {
    "duration": 11,
    "start_time": "2023-03-01T14:16:38.450Z"
   },
   {
    "duration": 1189,
    "start_time": "2023-03-01T14:18:41.307Z"
   },
   {
    "duration": 34,
    "start_time": "2023-03-01T14:18:42.498Z"
   },
   {
    "duration": 67,
    "start_time": "2023-03-01T14:18:42.533Z"
   },
   {
    "duration": 454,
    "start_time": "2023-03-01T14:18:42.602Z"
   },
   {
    "duration": 30,
    "start_time": "2023-03-01T14:18:43.058Z"
   },
   {
    "duration": 90,
    "start_time": "2023-03-01T14:18:43.090Z"
   },
   {
    "duration": 106,
    "start_time": "2023-03-01T14:18:43.182Z"
   },
   {
    "duration": 86,
    "start_time": "2023-03-01T14:18:43.290Z"
   },
   {
    "duration": 295,
    "start_time": "2023-03-01T14:18:43.378Z"
   },
   {
    "duration": 8,
    "start_time": "2023-03-01T14:18:43.676Z"
   },
   {
    "duration": 51,
    "start_time": "2023-03-01T14:18:43.685Z"
   },
   {
    "duration": 39,
    "start_time": "2023-03-01T14:18:43.738Z"
   },
   {
    "duration": 58,
    "start_time": "2023-03-01T14:18:43.778Z"
   },
   {
    "duration": 21,
    "start_time": "2023-03-01T14:18:43.837Z"
   },
   {
    "duration": 30,
    "start_time": "2023-03-01T14:18:43.859Z"
   },
   {
    "duration": 22,
    "start_time": "2023-03-01T14:18:43.891Z"
   },
   {
    "duration": 16,
    "start_time": "2023-03-01T14:18:43.922Z"
   },
   {
    "duration": 30,
    "start_time": "2023-03-01T14:18:43.940Z"
   },
   {
    "duration": 25,
    "start_time": "2023-03-01T14:18:43.972Z"
   },
   {
    "duration": 7,
    "start_time": "2023-03-01T14:18:43.998Z"
   },
   {
    "duration": 21,
    "start_time": "2023-03-01T14:18:44.007Z"
   },
   {
    "duration": 14,
    "start_time": "2023-03-01T14:18:44.030Z"
   },
   {
    "duration": 13,
    "start_time": "2023-03-01T14:18:44.046Z"
   },
   {
    "duration": 13,
    "start_time": "2023-03-01T14:18:44.060Z"
   },
   {
    "duration": 502,
    "start_time": "2023-03-01T14:18:44.074Z"
   },
   {
    "duration": 6,
    "start_time": "2023-03-01T14:18:44.577Z"
   },
   {
    "duration": 211,
    "start_time": "2023-03-01T14:18:44.585Z"
   },
   {
    "duration": 1608,
    "start_time": "2023-03-01T14:18:44.799Z"
   },
   {
    "duration": 18,
    "start_time": "2023-03-01T14:18:46.409Z"
   },
   {
    "duration": 19,
    "start_time": "2023-03-01T14:18:46.429Z"
   },
   {
    "duration": 25,
    "start_time": "2023-03-01T14:18:46.450Z"
   },
   {
    "duration": 18,
    "start_time": "2023-03-01T14:18:46.477Z"
   },
   {
    "duration": 14,
    "start_time": "2023-03-01T14:18:46.497Z"
   },
   {
    "duration": 11,
    "start_time": "2023-03-01T14:18:46.512Z"
   },
   {
    "duration": 9,
    "start_time": "2023-03-01T14:18:46.524Z"
   },
   {
    "duration": 17,
    "start_time": "2023-03-01T14:18:46.534Z"
   },
   {
    "duration": 126,
    "start_time": "2023-03-01T14:18:46.552Z"
   },
   {
    "duration": 12,
    "start_time": "2023-03-01T14:18:46.680Z"
   },
   {
    "duration": 36,
    "start_time": "2023-03-01T14:18:46.693Z"
   },
   {
    "duration": 15,
    "start_time": "2023-03-01T14:18:46.731Z"
   },
   {
    "duration": 15,
    "start_time": "2023-03-01T14:18:46.748Z"
   },
   {
    "duration": 6,
    "start_time": "2023-03-01T14:18:46.764Z"
   },
   {
    "duration": 9,
    "start_time": "2023-03-01T14:18:46.772Z"
   },
   {
    "duration": 25,
    "start_time": "2023-03-01T14:18:46.783Z"
   },
   {
    "duration": 199,
    "start_time": "2023-03-01T14:18:46.809Z"
   },
   {
    "duration": 20,
    "start_time": "2023-03-01T14:18:47.010Z"
   },
   {
    "duration": 26,
    "start_time": "2023-03-01T14:18:47.032Z"
   },
   {
    "duration": 7,
    "start_time": "2023-03-01T14:18:47.059Z"
   },
   {
    "duration": 27,
    "start_time": "2023-03-01T14:18:47.068Z"
   },
   {
    "duration": 15,
    "start_time": "2023-03-01T14:18:47.097Z"
   },
   {
    "duration": 431,
    "start_time": "2023-03-01T14:18:47.122Z"
   },
   {
    "duration": 11,
    "start_time": "2023-03-01T14:18:47.555Z"
   },
   {
    "duration": 11,
    "start_time": "2023-03-01T14:18:47.567Z"
   },
   {
    "duration": 22,
    "start_time": "2023-03-01T14:18:47.579Z"
   },
   {
    "duration": 339,
    "start_time": "2023-03-01T14:18:47.602Z"
   },
   {
    "duration": 9,
    "start_time": "2023-03-01T14:18:47.942Z"
   },
   {
    "duration": 20,
    "start_time": "2023-03-01T14:18:47.953Z"
   },
   {
    "duration": 15,
    "start_time": "2023-03-01T14:18:48.023Z"
   },
   {
    "duration": 18,
    "start_time": "2023-03-01T14:18:48.040Z"
   },
   {
    "duration": 8,
    "start_time": "2023-03-01T14:18:48.060Z"
   },
   {
    "duration": 54,
    "start_time": "2023-03-01T14:18:48.070Z"
   },
   {
    "duration": 5,
    "start_time": "2023-03-01T14:18:48.126Z"
   },
   {
    "duration": 24,
    "start_time": "2023-03-01T14:18:48.133Z"
   },
   {
    "duration": 21,
    "start_time": "2023-03-01T14:18:48.159Z"
   },
   {
    "duration": 40,
    "start_time": "2023-03-01T14:18:48.182Z"
   },
   {
    "duration": 6,
    "start_time": "2023-03-01T14:18:48.224Z"
   },
   {
    "duration": 24,
    "start_time": "2023-03-01T14:18:48.231Z"
   },
   {
    "duration": 2,
    "start_time": "2023-03-01T14:18:48.257Z"
   },
   {
    "duration": 13,
    "start_time": "2023-03-01T14:18:48.261Z"
   },
   {
    "duration": 17,
    "start_time": "2023-03-01T14:18:48.276Z"
   },
   {
    "duration": 11,
    "start_time": "2023-03-01T14:20:15.720Z"
   },
   {
    "duration": 14,
    "start_time": "2023-03-01T14:20:38.750Z"
   },
   {
    "duration": 6,
    "start_time": "2023-03-01T14:36:15.661Z"
   },
   {
    "duration": 27,
    "start_time": "2023-03-01T14:36:17.108Z"
   },
   {
    "duration": 20,
    "start_time": "2023-03-01T14:36:22.332Z"
   },
   {
    "duration": 27,
    "start_time": "2023-03-01T14:41:26.012Z"
   },
   {
    "duration": 26,
    "start_time": "2023-03-01T14:41:32.549Z"
   },
   {
    "duration": 5,
    "start_time": "2023-03-01T14:42:58.818Z"
   },
   {
    "duration": 126,
    "start_time": "2023-03-01T14:46:23.036Z"
   },
   {
    "duration": 11,
    "start_time": "2023-03-01T14:50:08.598Z"
   },
   {
    "duration": 7,
    "start_time": "2023-03-01T14:51:07.261Z"
   },
   {
    "duration": 1194,
    "start_time": "2023-03-01T14:51:22.615Z"
   },
   {
    "duration": 33,
    "start_time": "2023-03-01T14:51:23.811Z"
   },
   {
    "duration": 81,
    "start_time": "2023-03-01T14:51:23.845Z"
   },
   {
    "duration": 447,
    "start_time": "2023-03-01T14:51:23.928Z"
   },
   {
    "duration": 27,
    "start_time": "2023-03-01T14:51:24.377Z"
   },
   {
    "duration": 83,
    "start_time": "2023-03-01T14:51:24.406Z"
   },
   {
    "duration": 112,
    "start_time": "2023-03-01T14:51:24.491Z"
   },
   {
    "duration": 79,
    "start_time": "2023-03-01T14:51:24.604Z"
   },
   {
    "duration": 293,
    "start_time": "2023-03-01T14:51:24.685Z"
   },
   {
    "duration": 7,
    "start_time": "2023-03-01T14:51:24.979Z"
   },
   {
    "duration": 53,
    "start_time": "2023-03-01T14:51:24.987Z"
   },
   {
    "duration": 39,
    "start_time": "2023-03-01T14:51:25.042Z"
   },
   {
    "duration": 48,
    "start_time": "2023-03-01T14:51:25.083Z"
   },
   {
    "duration": 11,
    "start_time": "2023-03-01T14:51:25.134Z"
   },
   {
    "duration": 24,
    "start_time": "2023-03-01T14:51:25.147Z"
   },
   {
    "duration": 18,
    "start_time": "2023-03-01T14:51:25.172Z"
   },
   {
    "duration": 3,
    "start_time": "2023-03-01T14:51:25.192Z"
   },
   {
    "duration": 14,
    "start_time": "2023-03-01T14:51:25.221Z"
   },
   {
    "duration": 8,
    "start_time": "2023-03-01T14:51:25.236Z"
   },
   {
    "duration": 7,
    "start_time": "2023-03-01T14:51:25.246Z"
   },
   {
    "duration": 10,
    "start_time": "2023-03-01T14:51:25.254Z"
   },
   {
    "duration": 9,
    "start_time": "2023-03-01T14:51:25.266Z"
   },
   {
    "duration": 13,
    "start_time": "2023-03-01T14:51:25.277Z"
   },
   {
    "duration": 31,
    "start_time": "2023-03-01T14:51:25.292Z"
   },
   {
    "duration": 588,
    "start_time": "2023-03-01T14:51:25.325Z"
   },
   {
    "duration": 11,
    "start_time": "2023-03-01T14:51:25.915Z"
   },
   {
    "duration": 215,
    "start_time": "2023-03-01T14:51:25.928Z"
   },
   {
    "duration": 1582,
    "start_time": "2023-03-01T14:51:26.144Z"
   },
   {
    "duration": 9,
    "start_time": "2023-03-01T14:51:27.727Z"
   },
   {
    "duration": 36,
    "start_time": "2023-03-01T14:51:27.738Z"
   },
   {
    "duration": 19,
    "start_time": "2023-03-01T14:51:27.775Z"
   },
   {
    "duration": 14,
    "start_time": "2023-03-01T14:51:27.795Z"
   },
   {
    "duration": 5,
    "start_time": "2023-03-01T14:51:27.810Z"
   },
   {
    "duration": 5,
    "start_time": "2023-03-01T14:51:27.822Z"
   },
   {
    "duration": 13,
    "start_time": "2023-03-01T14:51:27.828Z"
   },
   {
    "duration": 137,
    "start_time": "2023-03-01T14:51:27.842Z"
   },
   {
    "duration": 9,
    "start_time": "2023-03-01T14:51:27.980Z"
   },
   {
    "duration": 10,
    "start_time": "2023-03-01T14:51:27.991Z"
   },
   {
    "duration": 31,
    "start_time": "2023-03-01T14:51:28.002Z"
   },
   {
    "duration": 12,
    "start_time": "2023-03-01T14:51:28.035Z"
   },
   {
    "duration": 10,
    "start_time": "2023-03-01T14:51:28.050Z"
   },
   {
    "duration": 17,
    "start_time": "2023-03-01T14:51:28.062Z"
   },
   {
    "duration": 42,
    "start_time": "2023-03-01T14:51:28.081Z"
   },
   {
    "duration": 21,
    "start_time": "2023-03-01T14:51:28.125Z"
   },
   {
    "duration": 7,
    "start_time": "2023-03-01T14:51:28.148Z"
   },
   {
    "duration": 18,
    "start_time": "2023-03-01T14:51:28.156Z"
   },
   {
    "duration": 4,
    "start_time": "2023-03-01T14:51:28.176Z"
   },
   {
    "duration": 167,
    "start_time": "2023-03-01T14:51:28.181Z"
   },
   {
    "duration": 21,
    "start_time": "2023-03-01T14:51:28.350Z"
   },
   {
    "duration": 12,
    "start_time": "2023-03-01T14:51:28.373Z"
   },
   {
    "duration": 5,
    "start_time": "2023-03-01T14:51:28.387Z"
   },
   {
    "duration": 35,
    "start_time": "2023-03-01T14:51:28.393Z"
   },
   {
    "duration": 18,
    "start_time": "2023-03-01T14:51:28.430Z"
   },
   {
    "duration": 425,
    "start_time": "2023-03-01T14:51:28.449Z"
   },
   {
    "duration": 14,
    "start_time": "2023-03-01T14:51:28.876Z"
   },
   {
    "duration": 30,
    "start_time": "2023-03-01T14:51:28.892Z"
   },
   {
    "duration": 14,
    "start_time": "2023-03-01T14:51:28.924Z"
   },
   {
    "duration": 325,
    "start_time": "2023-03-01T14:51:28.939Z"
   },
   {
    "duration": 9,
    "start_time": "2023-03-01T14:51:29.265Z"
   },
   {
    "duration": 47,
    "start_time": "2023-03-01T14:51:29.276Z"
   },
   {
    "duration": 16,
    "start_time": "2023-03-01T14:51:29.325Z"
   },
   {
    "duration": 13,
    "start_time": "2023-03-01T14:51:29.342Z"
   },
   {
    "duration": 64,
    "start_time": "2023-03-01T14:51:29.357Z"
   },
   {
    "duration": 14,
    "start_time": "2023-03-01T14:51:29.423Z"
   },
   {
    "duration": 20,
    "start_time": "2023-03-01T14:51:29.438Z"
   },
   {
    "duration": 16,
    "start_time": "2023-03-01T14:51:29.459Z"
   },
   {
    "duration": 23,
    "start_time": "2023-03-01T14:51:29.476Z"
   },
   {
    "duration": 2,
    "start_time": "2023-03-01T14:51:29.501Z"
   },
   {
    "duration": 35,
    "start_time": "2023-03-01T14:51:29.505Z"
   },
   {
    "duration": 15,
    "start_time": "2023-03-01T14:51:29.541Z"
   },
   {
    "duration": 9,
    "start_time": "2023-03-01T14:53:36.954Z"
   },
   {
    "duration": 129,
    "start_time": "2023-03-01T15:00:55.130Z"
   },
   {
    "duration": 1250,
    "start_time": "2023-03-01T15:01:04.068Z"
   },
   {
    "duration": 32,
    "start_time": "2023-03-01T15:01:05.321Z"
   },
   {
    "duration": 87,
    "start_time": "2023-03-01T15:01:05.355Z"
   },
   {
    "duration": 528,
    "start_time": "2023-03-01T15:01:05.444Z"
   },
   {
    "duration": 31,
    "start_time": "2023-03-01T15:01:05.974Z"
   },
   {
    "duration": 126,
    "start_time": "2023-03-01T15:01:06.006Z"
   },
   {
    "duration": 119,
    "start_time": "2023-03-01T15:01:06.133Z"
   },
   {
    "duration": 89,
    "start_time": "2023-03-01T15:01:06.253Z"
   },
   {
    "duration": 321,
    "start_time": "2023-03-01T15:01:06.344Z"
   },
   {
    "duration": 7,
    "start_time": "2023-03-01T15:01:06.667Z"
   },
   {
    "duration": 59,
    "start_time": "2023-03-01T15:01:06.676Z"
   },
   {
    "duration": 42,
    "start_time": "2023-03-01T15:01:06.737Z"
   },
   {
    "duration": 48,
    "start_time": "2023-03-01T15:01:06.781Z"
   },
   {
    "duration": 13,
    "start_time": "2023-03-01T15:01:06.831Z"
   },
   {
    "duration": 39,
    "start_time": "2023-03-01T15:01:06.845Z"
   },
   {
    "duration": 21,
    "start_time": "2023-03-01T15:01:06.885Z"
   },
   {
    "duration": 14,
    "start_time": "2023-03-01T15:01:06.908Z"
   },
   {
    "duration": 14,
    "start_time": "2023-03-01T15:01:06.923Z"
   },
   {
    "duration": 13,
    "start_time": "2023-03-01T15:01:06.939Z"
   },
   {
    "duration": 9,
    "start_time": "2023-03-01T15:01:06.954Z"
   },
   {
    "duration": 14,
    "start_time": "2023-03-01T15:01:06.965Z"
   },
   {
    "duration": 24,
    "start_time": "2023-03-01T15:01:06.981Z"
   },
   {
    "duration": 24,
    "start_time": "2023-03-01T15:01:07.007Z"
   },
   {
    "duration": 14,
    "start_time": "2023-03-01T15:01:07.032Z"
   },
   {
    "duration": 575,
    "start_time": "2023-03-01T15:01:07.048Z"
   },
   {
    "duration": 6,
    "start_time": "2023-03-01T15:01:07.626Z"
   },
   {
    "duration": 242,
    "start_time": "2023-03-01T15:01:07.634Z"
   },
   {
    "duration": 1636,
    "start_time": "2023-03-01T15:01:07.880Z"
   },
   {
    "duration": 10,
    "start_time": "2023-03-01T15:01:09.518Z"
   },
   {
    "duration": 50,
    "start_time": "2023-03-01T15:01:09.530Z"
   },
   {
    "duration": 39,
    "start_time": "2023-03-01T15:01:09.582Z"
   },
   {
    "duration": 15,
    "start_time": "2023-03-01T15:01:09.623Z"
   },
   {
    "duration": 6,
    "start_time": "2023-03-01T15:01:09.640Z"
   },
   {
    "duration": 24,
    "start_time": "2023-03-01T15:01:09.647Z"
   },
   {
    "duration": 12,
    "start_time": "2023-03-01T15:01:09.673Z"
   },
   {
    "duration": 147,
    "start_time": "2023-03-01T15:01:09.686Z"
   },
   {
    "duration": 9,
    "start_time": "2023-03-01T15:01:09.836Z"
   },
   {
    "duration": 12,
    "start_time": "2023-03-01T15:01:09.847Z"
   },
   {
    "duration": 17,
    "start_time": "2023-03-01T15:01:09.861Z"
   },
   {
    "duration": 15,
    "start_time": "2023-03-01T15:01:09.880Z"
   },
   {
    "duration": 43,
    "start_time": "2023-03-01T15:01:09.897Z"
   },
   {
    "duration": 19,
    "start_time": "2023-03-01T15:01:09.942Z"
   },
   {
    "duration": 15,
    "start_time": "2023-03-01T15:01:09.962Z"
   },
   {
    "duration": 9,
    "start_time": "2023-03-01T15:01:09.979Z"
   },
   {
    "duration": 36,
    "start_time": "2023-03-01T15:01:09.990Z"
   },
   {
    "duration": 18,
    "start_time": "2023-03-01T15:01:10.028Z"
   },
   {
    "duration": 160,
    "start_time": "2023-03-01T15:01:10.048Z"
   },
   {
    "duration": 27,
    "start_time": "2023-03-01T15:01:10.210Z"
   },
   {
    "duration": 20,
    "start_time": "2023-03-01T15:01:10.239Z"
   },
   {
    "duration": 11,
    "start_time": "2023-03-01T15:01:10.260Z"
   },
   {
    "duration": 21,
    "start_time": "2023-03-01T15:01:10.273Z"
   },
   {
    "duration": 18,
    "start_time": "2023-03-01T15:01:10.296Z"
   },
   {
    "duration": 450,
    "start_time": "2023-03-01T15:01:10.316Z"
   },
   {
    "duration": 12,
    "start_time": "2023-03-01T15:01:10.768Z"
   },
   {
    "duration": 12,
    "start_time": "2023-03-01T15:01:10.782Z"
   },
   {
    "duration": 35,
    "start_time": "2023-03-01T15:01:10.795Z"
   },
   {
    "duration": 369,
    "start_time": "2023-03-01T15:01:10.832Z"
   },
   {
    "duration": 21,
    "start_time": "2023-03-01T15:01:11.203Z"
   },
   {
    "duration": 36,
    "start_time": "2023-03-01T15:01:11.225Z"
   },
   {
    "duration": 67,
    "start_time": "2023-03-01T15:01:11.263Z"
   },
   {
    "duration": 12,
    "start_time": "2023-03-01T15:01:11.331Z"
   },
   {
    "duration": 10,
    "start_time": "2023-03-01T15:01:11.344Z"
   },
   {
    "duration": 20,
    "start_time": "2023-03-01T15:01:11.356Z"
   },
   {
    "duration": 15,
    "start_time": "2023-03-01T15:01:11.378Z"
   },
   {
    "duration": 29,
    "start_time": "2023-03-01T15:01:11.394Z"
   },
   {
    "duration": 19,
    "start_time": "2023-03-01T15:01:11.425Z"
   },
   {
    "duration": 2,
    "start_time": "2023-03-01T15:01:11.446Z"
   },
   {
    "duration": 12,
    "start_time": "2023-03-01T15:01:11.450Z"
   },
   {
    "duration": 15,
    "start_time": "2023-03-01T15:01:11.464Z"
   },
   {
    "duration": 117,
    "start_time": "2023-03-01T15:07:02.527Z"
   },
   {
    "duration": 19,
    "start_time": "2023-03-01T15:10:29.821Z"
   },
   {
    "duration": 4,
    "start_time": "2023-03-01T15:10:54.423Z"
   },
   {
    "duration": 15,
    "start_time": "2023-03-01T15:11:09.270Z"
   },
   {
    "duration": 430,
    "start_time": "2023-03-01T15:11:28.350Z"
   },
   {
    "duration": 469,
    "start_time": "2023-03-01T15:11:39.174Z"
   },
   {
    "duration": 163,
    "start_time": "2023-03-01T15:13:31.185Z"
   },
   {
    "duration": 15,
    "start_time": "2023-03-01T15:14:20.966Z"
   },
   {
    "duration": 17,
    "start_time": "2023-03-01T15:14:25.081Z"
   },
   {
    "duration": 21,
    "start_time": "2023-03-01T15:16:25.746Z"
   },
   {
    "duration": 24,
    "start_time": "2023-03-01T15:20:57.861Z"
   },
   {
    "duration": 250,
    "start_time": "2023-03-01T15:21:56.489Z"
   },
   {
    "duration": 10,
    "start_time": "2023-03-01T15:22:59.434Z"
   },
   {
    "duration": 51,
    "start_time": "2023-03-01T15:23:07.355Z"
   },
   {
    "duration": 51,
    "start_time": "2023-03-01T16:04:40.087Z"
   },
   {
    "duration": 49,
    "start_time": "2023-03-01T16:08:02.324Z"
   },
   {
    "duration": 1189,
    "start_time": "2023-03-01T16:15:55.841Z"
   },
   {
    "duration": 32,
    "start_time": "2023-03-01T16:15:57.031Z"
   },
   {
    "duration": 68,
    "start_time": "2023-03-01T16:15:57.065Z"
   },
   {
    "duration": 470,
    "start_time": "2023-03-01T16:15:57.135Z"
   },
   {
    "duration": 32,
    "start_time": "2023-03-01T16:15:57.606Z"
   },
   {
    "duration": 97,
    "start_time": "2023-03-01T16:15:57.640Z"
   },
   {
    "duration": 109,
    "start_time": "2023-03-01T16:15:57.738Z"
   },
   {
    "duration": 97,
    "start_time": "2023-03-01T16:15:57.849Z"
   },
   {
    "duration": 317,
    "start_time": "2023-03-01T16:15:57.947Z"
   },
   {
    "duration": 7,
    "start_time": "2023-03-01T16:15:58.266Z"
   },
   {
    "duration": 50,
    "start_time": "2023-03-01T16:15:58.274Z"
   },
   {
    "duration": 38,
    "start_time": "2023-03-01T16:15:58.326Z"
   },
   {
    "duration": 37,
    "start_time": "2023-03-01T16:15:58.366Z"
   },
   {
    "duration": 27,
    "start_time": "2023-03-01T16:15:58.405Z"
   },
   {
    "duration": 47,
    "start_time": "2023-03-01T16:15:58.434Z"
   },
   {
    "duration": 23,
    "start_time": "2023-03-01T16:15:58.483Z"
   },
   {
    "duration": 5,
    "start_time": "2023-03-01T16:15:58.508Z"
   },
   {
    "duration": 37,
    "start_time": "2023-03-01T16:15:58.516Z"
   },
   {
    "duration": 17,
    "start_time": "2023-03-01T16:15:58.555Z"
   },
   {
    "duration": 8,
    "start_time": "2023-03-01T16:15:58.574Z"
   },
   {
    "duration": 16,
    "start_time": "2023-03-01T16:15:58.583Z"
   },
   {
    "duration": 21,
    "start_time": "2023-03-01T16:15:58.601Z"
   },
   {
    "duration": 27,
    "start_time": "2023-03-01T16:15:58.624Z"
   },
   {
    "duration": 4,
    "start_time": "2023-03-01T16:16:12.011Z"
   },
   {
    "duration": 37,
    "start_time": "2023-03-01T16:18:01.671Z"
   },
   {
    "duration": 10,
    "start_time": "2023-03-01T16:18:11.909Z"
   },
   {
    "duration": 364,
    "start_time": "2023-03-01T16:18:12.759Z"
   },
   {
    "duration": 132,
    "start_time": "2023-03-01T16:21:02.362Z"
   },
   {
    "duration": 29,
    "start_time": "2023-03-01T16:21:28.940Z"
   },
   {
    "duration": 548,
    "start_time": "2023-03-01T16:21:59.141Z"
   },
   {
    "duration": 9,
    "start_time": "2023-03-01T16:23:03.979Z"
   },
   {
    "duration": 8,
    "start_time": "2023-03-01T16:23:27.171Z"
   },
   {
    "duration": 9,
    "start_time": "2023-03-01T16:23:46.762Z"
   },
   {
    "duration": 21,
    "start_time": "2023-03-01T16:24:01.279Z"
   },
   {
    "duration": 7,
    "start_time": "2023-03-01T16:25:34.855Z"
   },
   {
    "duration": 8,
    "start_time": "2023-03-01T16:25:41.572Z"
   },
   {
    "duration": 142,
    "start_time": "2023-03-01T16:26:44.606Z"
   },
   {
    "duration": 17,
    "start_time": "2023-03-01T16:27:58.491Z"
   },
   {
    "duration": 12,
    "start_time": "2023-03-01T16:29:19.229Z"
   },
   {
    "duration": 7,
    "start_time": "2023-03-01T16:32:31.737Z"
   },
   {
    "duration": 10,
    "start_time": "2023-03-01T16:38:13.657Z"
   },
   {
    "duration": 13,
    "start_time": "2023-03-01T16:38:22.655Z"
   },
   {
    "duration": 12,
    "start_time": "2023-03-01T16:38:26.530Z"
   },
   {
    "duration": 1169,
    "start_time": "2023-03-01T16:38:35.937Z"
   },
   {
    "duration": 1203,
    "start_time": "2023-03-01T16:39:01.437Z"
   },
   {
    "duration": 4,
    "start_time": "2023-03-01T16:39:26.067Z"
   },
   {
    "duration": 16,
    "start_time": "2023-03-01T16:40:01.375Z"
   },
   {
    "duration": 8,
    "start_time": "2023-03-01T16:40:03.928Z"
   },
   {
    "duration": 7,
    "start_time": "2023-03-01T16:40:12.527Z"
   },
   {
    "duration": 14,
    "start_time": "2023-03-01T16:40:44.325Z"
   },
   {
    "duration": 12,
    "start_time": "2023-03-01T16:40:49.561Z"
   },
   {
    "duration": 11,
    "start_time": "2023-03-01T16:41:22.745Z"
   },
   {
    "duration": 11,
    "start_time": "2023-03-01T16:41:49.845Z"
   },
   {
    "duration": 22,
    "start_time": "2023-03-01T16:41:54.903Z"
   },
   {
    "duration": 14,
    "start_time": "2023-03-01T16:42:53.544Z"
   },
   {
    "duration": 1210,
    "start_time": "2023-03-01T16:46:10.093Z"
   },
   {
    "duration": 107,
    "start_time": "2023-03-01T16:46:11.305Z"
   },
   {
    "duration": 0,
    "start_time": "2023-03-01T16:46:11.415Z"
   },
   {
    "duration": 1,
    "start_time": "2023-03-01T16:46:11.416Z"
   },
   {
    "duration": 0,
    "start_time": "2023-03-01T16:46:11.418Z"
   },
   {
    "duration": 0,
    "start_time": "2023-03-01T16:46:11.419Z"
   },
   {
    "duration": 0,
    "start_time": "2023-03-01T16:46:11.421Z"
   },
   {
    "duration": 0,
    "start_time": "2023-03-01T16:46:11.422Z"
   },
   {
    "duration": 0,
    "start_time": "2023-03-01T16:46:11.424Z"
   },
   {
    "duration": 0,
    "start_time": "2023-03-01T16:46:11.425Z"
   },
   {
    "duration": 0,
    "start_time": "2023-03-01T16:46:11.426Z"
   },
   {
    "duration": 0,
    "start_time": "2023-03-01T16:46:11.428Z"
   },
   {
    "duration": 0,
    "start_time": "2023-03-01T16:46:11.428Z"
   },
   {
    "duration": 0,
    "start_time": "2023-03-01T16:46:11.429Z"
   },
   {
    "duration": 0,
    "start_time": "2023-03-01T16:46:11.430Z"
   },
   {
    "duration": 0,
    "start_time": "2023-03-01T16:46:11.431Z"
   },
   {
    "duration": 0,
    "start_time": "2023-03-01T16:46:11.432Z"
   },
   {
    "duration": 0,
    "start_time": "2023-03-01T16:46:11.433Z"
   },
   {
    "duration": 0,
    "start_time": "2023-03-01T16:46:11.434Z"
   },
   {
    "duration": 0,
    "start_time": "2023-03-01T16:46:11.435Z"
   },
   {
    "duration": 0,
    "start_time": "2023-03-01T16:46:11.436Z"
   },
   {
    "duration": 0,
    "start_time": "2023-03-01T16:46:11.437Z"
   },
   {
    "duration": 0,
    "start_time": "2023-03-01T16:46:11.439Z"
   },
   {
    "duration": 0,
    "start_time": "2023-03-01T16:46:11.440Z"
   },
   {
    "duration": 0,
    "start_time": "2023-03-01T16:46:11.441Z"
   },
   {
    "duration": 0,
    "start_time": "2023-03-01T16:46:11.442Z"
   },
   {
    "duration": 0,
    "start_time": "2023-03-01T16:46:11.443Z"
   },
   {
    "duration": 0,
    "start_time": "2023-03-01T16:46:11.444Z"
   },
   {
    "duration": 0,
    "start_time": "2023-03-01T16:46:11.445Z"
   },
   {
    "duration": 0,
    "start_time": "2023-03-01T16:46:11.445Z"
   },
   {
    "duration": 0,
    "start_time": "2023-03-01T16:46:11.446Z"
   },
   {
    "duration": 0,
    "start_time": "2023-03-01T16:46:11.447Z"
   },
   {
    "duration": 0,
    "start_time": "2023-03-01T16:46:11.448Z"
   },
   {
    "duration": 0,
    "start_time": "2023-03-01T16:46:11.450Z"
   },
   {
    "duration": 0,
    "start_time": "2023-03-01T16:46:11.451Z"
   },
   {
    "duration": 0,
    "start_time": "2023-03-01T16:46:11.452Z"
   },
   {
    "duration": 0,
    "start_time": "2023-03-01T16:46:11.453Z"
   },
   {
    "duration": 22,
    "start_time": "2023-03-01T16:46:53.005Z"
   },
   {
    "duration": 22,
    "start_time": "2023-03-01T16:47:11.762Z"
   },
   {
    "duration": 22,
    "start_time": "2023-03-01T16:48:06.187Z"
   },
   {
    "duration": 22,
    "start_time": "2023-03-01T16:49:58.991Z"
   },
   {
    "duration": 1193,
    "start_time": "2023-03-01T16:52:49.501Z"
   },
   {
    "duration": 107,
    "start_time": "2023-03-01T16:52:50.696Z"
   },
   {
    "duration": 0,
    "start_time": "2023-03-01T16:52:50.806Z"
   },
   {
    "duration": 0,
    "start_time": "2023-03-01T16:52:50.807Z"
   },
   {
    "duration": 0,
    "start_time": "2023-03-01T16:52:50.808Z"
   },
   {
    "duration": 0,
    "start_time": "2023-03-01T16:52:50.809Z"
   },
   {
    "duration": 0,
    "start_time": "2023-03-01T16:52:50.810Z"
   },
   {
    "duration": 0,
    "start_time": "2023-03-01T16:52:50.811Z"
   },
   {
    "duration": 0,
    "start_time": "2023-03-01T16:52:50.812Z"
   },
   {
    "duration": 0,
    "start_time": "2023-03-01T16:52:50.813Z"
   },
   {
    "duration": 0,
    "start_time": "2023-03-01T16:52:50.822Z"
   },
   {
    "duration": 0,
    "start_time": "2023-03-01T16:52:50.823Z"
   },
   {
    "duration": 0,
    "start_time": "2023-03-01T16:52:50.824Z"
   },
   {
    "duration": 0,
    "start_time": "2023-03-01T16:52:50.825Z"
   },
   {
    "duration": 0,
    "start_time": "2023-03-01T16:52:50.826Z"
   },
   {
    "duration": 0,
    "start_time": "2023-03-01T16:52:50.827Z"
   },
   {
    "duration": 0,
    "start_time": "2023-03-01T16:52:50.828Z"
   },
   {
    "duration": 0,
    "start_time": "2023-03-01T16:52:50.829Z"
   },
   {
    "duration": 0,
    "start_time": "2023-03-01T16:52:50.830Z"
   },
   {
    "duration": 0,
    "start_time": "2023-03-01T16:52:50.831Z"
   },
   {
    "duration": 0,
    "start_time": "2023-03-01T16:52:50.832Z"
   },
   {
    "duration": 0,
    "start_time": "2023-03-01T16:52:50.833Z"
   },
   {
    "duration": 0,
    "start_time": "2023-03-01T16:52:50.834Z"
   },
   {
    "duration": 0,
    "start_time": "2023-03-01T16:52:50.835Z"
   },
   {
    "duration": 0,
    "start_time": "2023-03-01T16:52:50.836Z"
   },
   {
    "duration": 0,
    "start_time": "2023-03-01T16:52:50.837Z"
   },
   {
    "duration": 0,
    "start_time": "2023-03-01T16:52:50.838Z"
   },
   {
    "duration": 0,
    "start_time": "2023-03-01T16:52:50.839Z"
   },
   {
    "duration": 0,
    "start_time": "2023-03-01T16:52:50.840Z"
   },
   {
    "duration": 0,
    "start_time": "2023-03-01T16:52:50.841Z"
   },
   {
    "duration": 0,
    "start_time": "2023-03-01T16:52:50.843Z"
   },
   {
    "duration": 0,
    "start_time": "2023-03-01T16:52:50.843Z"
   },
   {
    "duration": 0,
    "start_time": "2023-03-01T16:52:50.844Z"
   },
   {
    "duration": 0,
    "start_time": "2023-03-01T16:52:50.845Z"
   },
   {
    "duration": 0,
    "start_time": "2023-03-01T16:52:50.846Z"
   },
   {
    "duration": 0,
    "start_time": "2023-03-01T16:52:50.847Z"
   },
   {
    "duration": 0,
    "start_time": "2023-03-01T16:52:50.849Z"
   },
   {
    "duration": 0,
    "start_time": "2023-03-01T16:52:50.849Z"
   },
   {
    "duration": 0,
    "start_time": "2023-03-01T16:52:50.850Z"
   },
   {
    "duration": 0,
    "start_time": "2023-03-01T16:52:50.851Z"
   },
   {
    "duration": 0,
    "start_time": "2023-03-01T16:52:50.852Z"
   },
   {
    "duration": 0,
    "start_time": "2023-03-01T16:52:50.853Z"
   },
   {
    "duration": 0,
    "start_time": "2023-03-01T16:52:50.854Z"
   },
   {
    "duration": 0,
    "start_time": "2023-03-01T16:52:50.855Z"
   },
   {
    "duration": 0,
    "start_time": "2023-03-01T16:52:50.856Z"
   },
   {
    "duration": 1,
    "start_time": "2023-03-01T16:52:50.857Z"
   },
   {
    "duration": 0,
    "start_time": "2023-03-01T16:52:50.859Z"
   },
   {
    "duration": 0,
    "start_time": "2023-03-01T16:52:50.922Z"
   },
   {
    "duration": 0,
    "start_time": "2023-03-01T16:52:50.923Z"
   },
   {
    "duration": 0,
    "start_time": "2023-03-01T16:52:50.924Z"
   },
   {
    "duration": 0,
    "start_time": "2023-03-01T16:52:50.925Z"
   },
   {
    "duration": 0,
    "start_time": "2023-03-01T16:52:50.927Z"
   },
   {
    "duration": 0,
    "start_time": "2023-03-01T16:52:50.928Z"
   },
   {
    "duration": 0,
    "start_time": "2023-03-01T16:52:50.928Z"
   },
   {
    "duration": 0,
    "start_time": "2023-03-01T16:52:50.929Z"
   },
   {
    "duration": 0,
    "start_time": "2023-03-01T16:52:50.930Z"
   },
   {
    "duration": 0,
    "start_time": "2023-03-01T16:52:50.931Z"
   },
   {
    "duration": 0,
    "start_time": "2023-03-01T16:52:50.932Z"
   },
   {
    "duration": 0,
    "start_time": "2023-03-01T16:52:50.933Z"
   },
   {
    "duration": 0,
    "start_time": "2023-03-01T16:52:50.934Z"
   },
   {
    "duration": 0,
    "start_time": "2023-03-01T16:52:50.935Z"
   },
   {
    "duration": 0,
    "start_time": "2023-03-01T16:52:50.937Z"
   },
   {
    "duration": 0,
    "start_time": "2023-03-01T16:52:50.937Z"
   },
   {
    "duration": 0,
    "start_time": "2023-03-01T16:52:50.938Z"
   },
   {
    "duration": 0,
    "start_time": "2023-03-01T16:52:50.939Z"
   },
   {
    "duration": 0,
    "start_time": "2023-03-01T16:52:50.940Z"
   },
   {
    "duration": 0,
    "start_time": "2023-03-01T16:52:50.941Z"
   },
   {
    "duration": 0,
    "start_time": "2023-03-01T16:52:50.942Z"
   },
   {
    "duration": 0,
    "start_time": "2023-03-01T16:52:50.943Z"
   },
   {
    "duration": 0,
    "start_time": "2023-03-01T16:52:50.944Z"
   },
   {
    "duration": 1193,
    "start_time": "2023-03-01T16:55:16.206Z"
   },
   {
    "duration": 108,
    "start_time": "2023-03-01T16:55:18.209Z"
   },
   {
    "duration": 23,
    "start_time": "2023-03-01T16:55:28.275Z"
   },
   {
    "duration": 4,
    "start_time": "2023-03-01T16:59:04.266Z"
   },
   {
    "duration": 22,
    "start_time": "2023-03-01T16:59:08.500Z"
   },
   {
    "duration": 1397,
    "start_time": "2023-03-01T18:39:43.051Z"
   },
   {
    "duration": 83,
    "start_time": "2023-03-01T18:39:44.450Z"
   },
   {
    "duration": 240,
    "start_time": "2023-03-01T18:39:46.498Z"
   },
   {
    "duration": 1994,
    "start_time": "2023-03-01T18:39:47.578Z"
   },
   {
    "duration": 164,
    "start_time": "2023-03-01T18:39:51.673Z"
   },
   {
    "duration": 88,
    "start_time": "2023-03-01T18:39:54.364Z"
   },
   {
    "duration": 126,
    "start_time": "2023-03-01T18:39:58.025Z"
   },
   {
    "duration": 109,
    "start_time": "2023-03-01T18:39:59.855Z"
   },
   {
    "duration": 296,
    "start_time": "2023-03-01T18:40:03.497Z"
   },
   {
    "duration": 10,
    "start_time": "2023-03-01T18:40:06.421Z"
   },
   {
    "duration": 43,
    "start_time": "2023-03-01T18:40:07.173Z"
   },
   {
    "duration": 38,
    "start_time": "2023-03-01T18:40:07.968Z"
   },
   {
    "duration": 31,
    "start_time": "2023-03-01T18:40:10.512Z"
   },
   {
    "duration": 9,
    "start_time": "2023-03-01T18:40:11.270Z"
   },
   {
    "duration": 22,
    "start_time": "2023-03-01T18:40:19.434Z"
   },
   {
    "duration": 19,
    "start_time": "2023-03-01T18:40:22.783Z"
   },
   {
    "duration": 4,
    "start_time": "2023-03-01T18:40:23.860Z"
   },
   {
    "duration": 19,
    "start_time": "2023-03-01T18:40:26.815Z"
   },
   {
    "duration": 12,
    "start_time": "2023-03-01T18:40:27.610Z"
   },
   {
    "duration": 9,
    "start_time": "2023-03-01T18:40:28.205Z"
   },
   {
    "duration": 9,
    "start_time": "2023-03-01T18:40:30.091Z"
   },
   {
    "duration": 7,
    "start_time": "2023-03-01T18:40:34.024Z"
   },
   {
    "duration": 13,
    "start_time": "2023-03-01T18:40:34.796Z"
   },
   {
    "duration": 1375,
    "start_time": "2023-03-01T18:50:27.559Z"
   },
   {
    "duration": 39,
    "start_time": "2023-03-01T18:50:28.936Z"
   },
   {
    "duration": 69,
    "start_time": "2023-03-01T18:50:28.977Z"
   },
   {
    "duration": 465,
    "start_time": "2023-03-01T18:50:29.049Z"
   },
   {
    "duration": 38,
    "start_time": "2023-03-01T18:50:29.516Z"
   },
   {
    "duration": 195,
    "start_time": "2023-03-01T18:50:29.555Z"
   },
   {
    "duration": 176,
    "start_time": "2023-03-01T18:50:29.752Z"
   },
   {
    "duration": 141,
    "start_time": "2023-03-01T18:50:29.932Z"
   },
   {
    "duration": 397,
    "start_time": "2023-03-01T18:50:30.075Z"
   },
   {
    "duration": 9,
    "start_time": "2023-03-01T18:50:30.476Z"
   },
   {
    "duration": 80,
    "start_time": "2023-03-01T18:50:30.487Z"
   },
   {
    "duration": 103,
    "start_time": "2023-03-01T18:50:30.569Z"
   },
   {
    "duration": 74,
    "start_time": "2023-03-01T18:50:30.674Z"
   },
   {
    "duration": 57,
    "start_time": "2023-03-01T18:50:30.751Z"
   },
   {
    "duration": 52,
    "start_time": "2023-03-01T18:50:30.811Z"
   },
   {
    "duration": 33,
    "start_time": "2023-03-01T18:50:30.865Z"
   },
   {
    "duration": 4,
    "start_time": "2023-03-01T18:50:30.900Z"
   },
   {
    "duration": 42,
    "start_time": "2023-03-01T18:50:30.906Z"
   },
   {
    "duration": 54,
    "start_time": "2023-03-01T18:50:30.950Z"
   },
   {
    "duration": 115,
    "start_time": "2023-03-01T18:50:31.006Z"
   },
   {
    "duration": 197,
    "start_time": "2023-03-01T18:50:31.123Z"
   },
   {
    "duration": 15,
    "start_time": "2023-03-01T18:50:31.323Z"
   },
   {
    "duration": 35,
    "start_time": "2023-03-01T18:50:31.340Z"
   },
   {
    "duration": 14,
    "start_time": "2023-03-01T18:50:31.377Z"
   },
   {
    "duration": 70,
    "start_time": "2023-03-01T18:50:31.394Z"
   },
   {
    "duration": 16,
    "start_time": "2023-03-01T18:50:31.467Z"
   },
   {
    "duration": 440,
    "start_time": "2023-03-01T18:50:31.486Z"
   },
   {
    "duration": 232,
    "start_time": "2023-03-01T18:50:31.933Z"
   },
   {
    "duration": 33,
    "start_time": "2023-03-01T18:50:32.167Z"
   },
   {
    "duration": 46,
    "start_time": "2023-03-01T18:50:32.203Z"
   },
   {
    "duration": 9,
    "start_time": "2023-03-01T18:50:32.251Z"
   },
   {
    "duration": 34,
    "start_time": "2023-03-01T18:50:32.262Z"
   },
   {
    "duration": 7,
    "start_time": "2023-03-01T18:50:32.298Z"
   },
   {
    "duration": 271,
    "start_time": "2023-03-01T18:50:32.307Z"
   },
   {
    "duration": 37,
    "start_time": "2023-03-01T18:50:32.580Z"
   },
   {
    "duration": 30,
    "start_time": "2023-03-01T18:50:32.620Z"
   },
   {
    "duration": 10,
    "start_time": "2023-03-01T18:50:32.652Z"
   },
   {
    "duration": 33,
    "start_time": "2023-03-01T18:50:32.664Z"
   },
   {
    "duration": 59,
    "start_time": "2023-03-01T18:50:32.701Z"
   },
   {
    "duration": 606,
    "start_time": "2023-03-01T18:50:32.765Z"
   },
   {
    "duration": 7,
    "start_time": "2023-03-01T18:50:33.374Z"
   },
   {
    "duration": 17,
    "start_time": "2023-03-01T18:50:33.383Z"
   },
   {
    "duration": 50,
    "start_time": "2023-03-01T18:50:33.403Z"
   },
   {
    "duration": 11,
    "start_time": "2023-03-01T18:50:33.455Z"
   },
   {
    "duration": 13,
    "start_time": "2023-03-01T18:50:33.468Z"
   },
   {
    "duration": 6,
    "start_time": "2023-03-01T18:50:33.484Z"
   },
   {
    "duration": 53,
    "start_time": "2023-03-01T18:50:33.492Z"
   },
   {
    "duration": 9,
    "start_time": "2023-03-01T18:50:33.547Z"
   },
   {
    "duration": 10,
    "start_time": "2023-03-01T18:50:33.558Z"
   },
   {
    "duration": 14,
    "start_time": "2023-03-01T18:50:33.570Z"
   },
   {
    "duration": 16,
    "start_time": "2023-03-01T18:50:33.585Z"
   },
   {
    "duration": 57,
    "start_time": "2023-03-01T18:50:33.603Z"
   },
   {
    "duration": 10,
    "start_time": "2023-03-01T18:50:33.662Z"
   },
   {
    "duration": 21,
    "start_time": "2023-03-01T18:50:33.674Z"
   },
   {
    "duration": 52,
    "start_time": "2023-03-01T18:50:33.697Z"
   },
   {
    "duration": 340,
    "start_time": "2023-03-01T18:50:33.751Z"
   },
   {
    "duration": 16,
    "start_time": "2023-03-01T18:50:34.093Z"
   },
   {
    "duration": 32,
    "start_time": "2023-03-01T18:50:34.111Z"
   },
   {
    "duration": 14,
    "start_time": "2023-03-01T18:50:34.144Z"
   },
   {
    "duration": 53,
    "start_time": "2023-03-01T18:50:34.160Z"
   },
   {
    "duration": 10,
    "start_time": "2023-03-01T18:50:34.243Z"
   },
   {
    "duration": 27,
    "start_time": "2023-03-01T18:50:34.254Z"
   },
   {
    "duration": 16,
    "start_time": "2023-03-01T18:50:34.282Z"
   },
   {
    "duration": 44,
    "start_time": "2023-03-01T18:50:34.299Z"
   },
   {
    "duration": 11,
    "start_time": "2023-03-01T18:50:34.344Z"
   },
   {
    "duration": 20,
    "start_time": "2023-03-01T18:50:34.357Z"
   },
   {
    "duration": 7,
    "start_time": "2023-03-01T18:50:34.379Z"
   },
   {
    "duration": 16,
    "start_time": "2023-03-01T18:50:34.388Z"
   },
   {
    "duration": 36,
    "start_time": "2023-03-01T18:50:34.406Z"
   },
   {
    "duration": 13,
    "start_time": "2023-03-01T18:50:34.444Z"
   },
   {
    "duration": 20,
    "start_time": "2023-03-01T18:50:34.459Z"
   },
   {
    "duration": 20,
    "start_time": "2023-03-01T18:54:20.927Z"
   },
   {
    "duration": 1301,
    "start_time": "2023-03-02T05:19:29.494Z"
   },
   {
    "duration": 80,
    "start_time": "2023-03-02T05:19:30.797Z"
   },
   {
    "duration": 235,
    "start_time": "2023-03-02T05:19:30.878Z"
   },
   {
    "duration": 2021,
    "start_time": "2023-03-02T05:19:31.115Z"
   },
   {
    "duration": 125,
    "start_time": "2023-03-02T05:19:33.138Z"
   },
   {
    "duration": 81,
    "start_time": "2023-03-02T05:19:33.265Z"
   },
   {
    "duration": 102,
    "start_time": "2023-03-02T05:19:33.348Z"
   },
   {
    "duration": 69,
    "start_time": "2023-03-02T05:19:33.451Z"
   },
   {
    "duration": 278,
    "start_time": "2023-03-02T05:19:33.540Z"
   },
   {
    "duration": 6,
    "start_time": "2023-03-02T05:19:33.819Z"
   },
   {
    "duration": 41,
    "start_time": "2023-03-02T05:19:33.826Z"
   },
   {
    "duration": 34,
    "start_time": "2023-03-02T05:19:33.868Z"
   },
   {
    "duration": 44,
    "start_time": "2023-03-02T05:19:33.904Z"
   },
   {
    "duration": 8,
    "start_time": "2023-03-02T05:19:33.951Z"
   },
   {
    "duration": 24,
    "start_time": "2023-03-02T05:19:33.960Z"
   },
   {
    "duration": 18,
    "start_time": "2023-03-02T05:19:33.985Z"
   },
   {
    "duration": 3,
    "start_time": "2023-03-02T05:19:34.005Z"
   },
   {
    "duration": 38,
    "start_time": "2023-03-02T05:19:34.009Z"
   },
   {
    "duration": 7,
    "start_time": "2023-03-02T05:19:34.049Z"
   },
   {
    "duration": 5,
    "start_time": "2023-03-02T05:19:34.058Z"
   },
   {
    "duration": 8,
    "start_time": "2023-03-02T05:19:34.064Z"
   },
   {
    "duration": 8,
    "start_time": "2023-03-02T05:19:34.073Z"
   },
   {
    "duration": 11,
    "start_time": "2023-03-02T05:19:34.082Z"
   },
   {
    "duration": 6,
    "start_time": "2023-03-02T05:19:34.094Z"
   },
   {
    "duration": 48,
    "start_time": "2023-03-02T05:19:34.101Z"
   },
   {
    "duration": 8,
    "start_time": "2023-03-02T05:19:34.151Z"
   },
   {
    "duration": 729,
    "start_time": "2023-03-02T05:19:34.160Z"
   },
   {
    "duration": 151,
    "start_time": "2023-03-02T05:19:34.890Z"
   },
   {
    "duration": 14,
    "start_time": "2023-03-02T05:19:35.043Z"
   },
   {
    "duration": 15,
    "start_time": "2023-03-02T05:19:35.059Z"
   },
   {
    "duration": 5,
    "start_time": "2023-03-02T05:19:35.076Z"
   },
   {
    "duration": 10,
    "start_time": "2023-03-02T05:19:35.083Z"
   },
   {
    "duration": 4,
    "start_time": "2023-03-02T05:19:35.095Z"
   },
   {
    "duration": 145,
    "start_time": "2023-03-02T05:19:35.100Z"
   },
   {
    "duration": 19,
    "start_time": "2023-03-02T05:19:35.247Z"
   },
   {
    "duration": 14,
    "start_time": "2023-03-02T05:19:35.268Z"
   },
   {
    "duration": 7,
    "start_time": "2023-03-02T05:19:35.284Z"
   },
   {
    "duration": 18,
    "start_time": "2023-03-02T05:19:35.292Z"
   },
   {
    "duration": 54,
    "start_time": "2023-03-02T05:19:35.312Z"
   },
   {
    "duration": 514,
    "start_time": "2023-03-02T05:19:35.368Z"
   },
   {
    "duration": 6,
    "start_time": "2023-03-02T05:19:35.886Z"
   },
   {
    "duration": 8,
    "start_time": "2023-03-02T05:19:35.894Z"
   },
   {
    "duration": 20,
    "start_time": "2023-03-02T05:19:35.904Z"
   },
   {
    "duration": 17,
    "start_time": "2023-03-02T05:19:35.926Z"
   },
   {
    "duration": 12,
    "start_time": "2023-03-02T05:19:35.944Z"
   },
   {
    "duration": 3,
    "start_time": "2023-03-02T05:19:35.957Z"
   },
   {
    "duration": 14,
    "start_time": "2023-03-02T05:19:35.962Z"
   },
   {
    "duration": 6,
    "start_time": "2023-03-02T05:19:35.978Z"
   },
   {
    "duration": 8,
    "start_time": "2023-03-02T05:19:35.985Z"
   },
   {
    "duration": 10,
    "start_time": "2023-03-02T05:19:35.994Z"
   },
   {
    "duration": 43,
    "start_time": "2023-03-02T05:19:36.006Z"
   },
   {
    "duration": 23,
    "start_time": "2023-03-02T05:19:36.051Z"
   },
   {
    "duration": 6,
    "start_time": "2023-03-02T05:19:36.075Z"
   },
   {
    "duration": 14,
    "start_time": "2023-03-02T05:19:36.082Z"
   },
   {
    "duration": 38,
    "start_time": "2023-03-02T05:19:36.097Z"
   },
   {
    "duration": 347,
    "start_time": "2023-03-02T05:19:36.136Z"
   },
   {
    "duration": 12,
    "start_time": "2023-03-02T05:19:36.485Z"
   },
   {
    "duration": 15,
    "start_time": "2023-03-02T05:19:36.498Z"
   },
   {
    "duration": 39,
    "start_time": "2023-03-02T05:19:36.515Z"
   },
   {
    "duration": 60,
    "start_time": "2023-03-02T05:19:36.556Z"
   },
   {
    "duration": 24,
    "start_time": "2023-03-02T05:19:36.618Z"
   },
   {
    "duration": 20,
    "start_time": "2023-03-02T05:19:36.643Z"
   },
   {
    "duration": 16,
    "start_time": "2023-03-02T05:19:36.665Z"
   },
   {
    "duration": 12,
    "start_time": "2023-03-02T05:19:36.682Z"
   },
   {
    "duration": 9,
    "start_time": "2023-03-02T05:19:36.696Z"
   },
   {
    "duration": 46,
    "start_time": "2023-03-02T05:19:36.707Z"
   },
   {
    "duration": 16,
    "start_time": "2023-03-02T05:19:36.755Z"
   },
   {
    "duration": 21,
    "start_time": "2023-03-02T05:19:36.773Z"
   },
   {
    "duration": 2,
    "start_time": "2023-03-02T05:19:36.795Z"
   },
   {
    "duration": 20,
    "start_time": "2023-03-02T05:19:36.798Z"
   },
   {
    "duration": 21,
    "start_time": "2023-03-02T05:19:36.819Z"
   },
   {
    "duration": 118,
    "start_time": "2023-03-02T05:19:51.490Z"
   }
  ],
  "kernelspec": {
   "display_name": "Python 3 (ipykernel)",
   "language": "python",
   "name": "python3"
  },
  "language_info": {
   "codemirror_mode": {
    "name": "ipython",
    "version": 3
   },
   "file_extension": ".py",
   "mimetype": "text/x-python",
   "name": "python",
   "nbconvert_exporter": "python",
   "pygments_lexer": "ipython3",
   "version": "3.9.18"
  },
  "toc": {
   "base_numbering": 1,
   "nav_menu": {},
   "number_sections": true,
   "sideBar": true,
   "skip_h1_title": true,
   "title_cell": "Table of Contents",
   "title_sidebar": "Contents",
   "toc_cell": false,
   "toc_position": {
    "height": "calc(100% - 180px)",
    "left": "10px",
    "top": "150px",
    "width": "165px"
   },
   "toc_section_display": true,
   "toc_window_display": true
  }
 },
 "nbformat": 4,
 "nbformat_minor": 4
}
