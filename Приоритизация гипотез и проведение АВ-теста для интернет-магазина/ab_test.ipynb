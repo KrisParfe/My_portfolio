{
 "cells": [
  {
   "cell_type": "markdown",
   "metadata": {},
   "source": [
    "# Приоритизация гипотез и проведение А/В-теста"
   ]
  },
  {
   "cell_type": "markdown",
   "metadata": {},
   "source": [
    "## Приоритизация гипотез"
   ]
  },
  {
   "cell_type": "code",
   "execution_count": 1,
   "metadata": {},
   "outputs": [],
   "source": [
    "import pandas as pd\n",
    "import scipy.stats as stats\n",
    "import datetime as dt\n",
    "import numpy as np\n",
    "import matplotlib\n",
    "import matplotlib.pyplot as plt\n",
    "pd.options.display.max_columns = None\n",
    "pd.options.display.max_rows = None\n",
    "pd.options.display.max_colwidth = None"
   ]
  },
  {
   "cell_type": "code",
   "execution_count": 2,
   "metadata": {},
   "outputs": [
    {
     "data": {
      "text/html": [
       "<div>\n",
       "<style scoped>\n",
       "    .dataframe tbody tr th:only-of-type {\n",
       "        vertical-align: middle;\n",
       "    }\n",
       "\n",
       "    .dataframe tbody tr th {\n",
       "        vertical-align: top;\n",
       "    }\n",
       "\n",
       "    .dataframe thead th {\n",
       "        text-align: right;\n",
       "    }\n",
       "</style>\n",
       "<table border=\"1\" class=\"dataframe\">\n",
       "  <thead>\n",
       "    <tr style=\"text-align: right;\">\n",
       "      <th></th>\n",
       "      <th>Hypothesis</th>\n",
       "      <th>Reach</th>\n",
       "      <th>Impact</th>\n",
       "      <th>Confidence</th>\n",
       "      <th>Efforts</th>\n",
       "    </tr>\n",
       "  </thead>\n",
       "  <tbody>\n",
       "    <tr>\n",
       "      <th>0</th>\n",
       "      <td>Добавить два новых канала привлечения трафика, что позволит привлекать на 30% больше пользователей</td>\n",
       "      <td>3</td>\n",
       "      <td>10</td>\n",
       "      <td>8</td>\n",
       "      <td>6</td>\n",
       "    </tr>\n",
       "    <tr>\n",
       "      <th>1</th>\n",
       "      <td>Запустить собственную службу доставки, что сократит срок доставки заказов</td>\n",
       "      <td>2</td>\n",
       "      <td>5</td>\n",
       "      <td>4</td>\n",
       "      <td>10</td>\n",
       "    </tr>\n",
       "    <tr>\n",
       "      <th>2</th>\n",
       "      <td>Добавить блоки рекомендаций товаров на сайт интернет магазина, чтобы повысить конверсию и средний чек заказа</td>\n",
       "      <td>8</td>\n",
       "      <td>3</td>\n",
       "      <td>7</td>\n",
       "      <td>3</td>\n",
       "    </tr>\n",
       "    <tr>\n",
       "      <th>3</th>\n",
       "      <td>Изменить структура категорий, что увеличит конверсию, т.к. пользователи быстрее найдут нужный товар</td>\n",
       "      <td>8</td>\n",
       "      <td>3</td>\n",
       "      <td>3</td>\n",
       "      <td>8</td>\n",
       "    </tr>\n",
       "    <tr>\n",
       "      <th>4</th>\n",
       "      <td>Изменить цвет фона главной страницы, чтобы увеличить вовлеченность пользователей</td>\n",
       "      <td>3</td>\n",
       "      <td>1</td>\n",
       "      <td>1</td>\n",
       "      <td>1</td>\n",
       "    </tr>\n",
       "    <tr>\n",
       "      <th>5</th>\n",
       "      <td>Добавить страницу отзывов клиентов о магазине, что позволит увеличить количество заказов</td>\n",
       "      <td>3</td>\n",
       "      <td>2</td>\n",
       "      <td>2</td>\n",
       "      <td>3</td>\n",
       "    </tr>\n",
       "    <tr>\n",
       "      <th>6</th>\n",
       "      <td>Показать на главной странице баннеры с актуальными акциями и распродажами, чтобы увеличить конверсию</td>\n",
       "      <td>5</td>\n",
       "      <td>3</td>\n",
       "      <td>8</td>\n",
       "      <td>3</td>\n",
       "    </tr>\n",
       "    <tr>\n",
       "      <th>7</th>\n",
       "      <td>Добавить форму подписки на все основные страницы, чтобы собрать базу клиентов для email-рассылок</td>\n",
       "      <td>10</td>\n",
       "      <td>7</td>\n",
       "      <td>8</td>\n",
       "      <td>5</td>\n",
       "    </tr>\n",
       "    <tr>\n",
       "      <th>8</th>\n",
       "      <td>Запустить акцию, дающую скидку на товар в день рождения</td>\n",
       "      <td>1</td>\n",
       "      <td>9</td>\n",
       "      <td>9</td>\n",
       "      <td>5</td>\n",
       "    </tr>\n",
       "  </tbody>\n",
       "</table>\n",
       "</div>"
      ],
      "text/plain": [
       "                                                                                                     Hypothesis  \\\n",
       "0            Добавить два новых канала привлечения трафика, что позволит привлекать на 30% больше пользователей   \n",
       "1                                     Запустить собственную службу доставки, что сократит срок доставки заказов   \n",
       "2  Добавить блоки рекомендаций товаров на сайт интернет магазина, чтобы повысить конверсию и средний чек заказа   \n",
       "3           Изменить структура категорий, что увеличит конверсию, т.к. пользователи быстрее найдут нужный товар   \n",
       "4                              Изменить цвет фона главной страницы, чтобы увеличить вовлеченность пользователей   \n",
       "5                      Добавить страницу отзывов клиентов о магазине, что позволит увеличить количество заказов   \n",
       "6          Показать на главной странице баннеры с актуальными акциями и распродажами, чтобы увеличить конверсию   \n",
       "7              Добавить форму подписки на все основные страницы, чтобы собрать базу клиентов для email-рассылок   \n",
       "8                                                       Запустить акцию, дающую скидку на товар в день рождения   \n",
       "\n",
       "   Reach  Impact  Confidence  Efforts  \n",
       "0      3      10           8        6  \n",
       "1      2       5           4       10  \n",
       "2      8       3           7        3  \n",
       "3      8       3           3        8  \n",
       "4      3       1           1        1  \n",
       "5      3       2           2        3  \n",
       "6      5       3           8        3  \n",
       "7     10       7           8        5  \n",
       "8      1       9           9        5  "
      ]
     },
     "execution_count": 2,
     "metadata": {},
     "output_type": "execute_result"
    }
   ],
   "source": [
    "data = pd.read_csv('...')\n",
    "data"
   ]
  },
  {
   "cell_type": "code",
   "execution_count": 3,
   "metadata": {},
   "outputs": [
    {
     "name": "stdout",
     "output_type": "stream",
     "text": [
      "<class 'pandas.core.frame.DataFrame'>\n",
      "RangeIndex: 9 entries, 0 to 8\n",
      "Data columns (total 5 columns):\n",
      " #   Column      Non-Null Count  Dtype \n",
      "---  ------      --------------  ----- \n",
      " 0   Hypothesis  9 non-null      object\n",
      " 1   Reach       9 non-null      int64 \n",
      " 2   Impact      9 non-null      int64 \n",
      " 3   Confidence  9 non-null      int64 \n",
      " 4   Efforts     9 non-null      int64 \n",
      "dtypes: int64(4), object(1)\n",
      "memory usage: 488.0+ bytes\n"
     ]
    }
   ],
   "source": [
    "data.info()"
   ]
  },
  {
   "cell_type": "markdown",
   "metadata": {},
   "source": [
    "Пропусков нет, все столбцы имеют правильный тип данных."
   ]
  },
  {
   "cell_type": "markdown",
   "metadata": {},
   "source": [
    "### Применение фреймворка ICE для приоритизации гипотез"
   ]
  },
  {
   "cell_type": "code",
   "execution_count": 4,
   "metadata": {},
   "outputs": [
    {
     "data": {
      "text/html": [
       "<div>\n",
       "<style scoped>\n",
       "    .dataframe tbody tr th:only-of-type {\n",
       "        vertical-align: middle;\n",
       "    }\n",
       "\n",
       "    .dataframe tbody tr th {\n",
       "        vertical-align: top;\n",
       "    }\n",
       "\n",
       "    .dataframe thead th {\n",
       "        text-align: right;\n",
       "    }\n",
       "</style>\n",
       "<table border=\"1\" class=\"dataframe\">\n",
       "  <thead>\n",
       "    <tr style=\"text-align: right;\">\n",
       "      <th></th>\n",
       "      <th>Hypothesis</th>\n",
       "      <th>Reach</th>\n",
       "      <th>Impact</th>\n",
       "      <th>Confidence</th>\n",
       "      <th>Efforts</th>\n",
       "      <th>ICE</th>\n",
       "    </tr>\n",
       "  </thead>\n",
       "  <tbody>\n",
       "    <tr>\n",
       "      <th>8</th>\n",
       "      <td>Запустить акцию, дающую скидку на товар в день рождения</td>\n",
       "      <td>1</td>\n",
       "      <td>9</td>\n",
       "      <td>9</td>\n",
       "      <td>5</td>\n",
       "      <td>16.2</td>\n",
       "    </tr>\n",
       "    <tr>\n",
       "      <th>0</th>\n",
       "      <td>Добавить два новых канала привлечения трафика, что позволит привлекать на 30% больше пользователей</td>\n",
       "      <td>3</td>\n",
       "      <td>10</td>\n",
       "      <td>8</td>\n",
       "      <td>6</td>\n",
       "      <td>13.3</td>\n",
       "    </tr>\n",
       "    <tr>\n",
       "      <th>7</th>\n",
       "      <td>Добавить форму подписки на все основные страницы, чтобы собрать базу клиентов для email-рассылок</td>\n",
       "      <td>10</td>\n",
       "      <td>7</td>\n",
       "      <td>8</td>\n",
       "      <td>5</td>\n",
       "      <td>11.2</td>\n",
       "    </tr>\n",
       "    <tr>\n",
       "      <th>6</th>\n",
       "      <td>Показать на главной странице баннеры с актуальными акциями и распродажами, чтобы увеличить конверсию</td>\n",
       "      <td>5</td>\n",
       "      <td>3</td>\n",
       "      <td>8</td>\n",
       "      <td>3</td>\n",
       "      <td>8.0</td>\n",
       "    </tr>\n",
       "    <tr>\n",
       "      <th>2</th>\n",
       "      <td>Добавить блоки рекомендаций товаров на сайт интернет магазина, чтобы повысить конверсию и средний чек заказа</td>\n",
       "      <td>8</td>\n",
       "      <td>3</td>\n",
       "      <td>7</td>\n",
       "      <td>3</td>\n",
       "      <td>7.0</td>\n",
       "    </tr>\n",
       "    <tr>\n",
       "      <th>1</th>\n",
       "      <td>Запустить собственную службу доставки, что сократит срок доставки заказов</td>\n",
       "      <td>2</td>\n",
       "      <td>5</td>\n",
       "      <td>4</td>\n",
       "      <td>10</td>\n",
       "      <td>2.0</td>\n",
       "    </tr>\n",
       "    <tr>\n",
       "      <th>5</th>\n",
       "      <td>Добавить страницу отзывов клиентов о магазине, что позволит увеличить количество заказов</td>\n",
       "      <td>3</td>\n",
       "      <td>2</td>\n",
       "      <td>2</td>\n",
       "      <td>3</td>\n",
       "      <td>1.3</td>\n",
       "    </tr>\n",
       "    <tr>\n",
       "      <th>3</th>\n",
       "      <td>Изменить структура категорий, что увеличит конверсию, т.к. пользователи быстрее найдут нужный товар</td>\n",
       "      <td>8</td>\n",
       "      <td>3</td>\n",
       "      <td>3</td>\n",
       "      <td>8</td>\n",
       "      <td>1.1</td>\n",
       "    </tr>\n",
       "    <tr>\n",
       "      <th>4</th>\n",
       "      <td>Изменить цвет фона главной страницы, чтобы увеличить вовлеченность пользователей</td>\n",
       "      <td>3</td>\n",
       "      <td>1</td>\n",
       "      <td>1</td>\n",
       "      <td>1</td>\n",
       "      <td>1.0</td>\n",
       "    </tr>\n",
       "  </tbody>\n",
       "</table>\n",
       "</div>"
      ],
      "text/plain": [
       "                                                                                                     Hypothesis  \\\n",
       "8                                                       Запустить акцию, дающую скидку на товар в день рождения   \n",
       "0            Добавить два новых канала привлечения трафика, что позволит привлекать на 30% больше пользователей   \n",
       "7              Добавить форму подписки на все основные страницы, чтобы собрать базу клиентов для email-рассылок   \n",
       "6          Показать на главной странице баннеры с актуальными акциями и распродажами, чтобы увеличить конверсию   \n",
       "2  Добавить блоки рекомендаций товаров на сайт интернет магазина, чтобы повысить конверсию и средний чек заказа   \n",
       "1                                     Запустить собственную службу доставки, что сократит срок доставки заказов   \n",
       "5                      Добавить страницу отзывов клиентов о магазине, что позволит увеличить количество заказов   \n",
       "3           Изменить структура категорий, что увеличит конверсию, т.к. пользователи быстрее найдут нужный товар   \n",
       "4                              Изменить цвет фона главной страницы, чтобы увеличить вовлеченность пользователей   \n",
       "\n",
       "   Reach  Impact  Confidence  Efforts   ICE  \n",
       "8      1       9           9        5  16.2  \n",
       "0      3      10           8        6  13.3  \n",
       "7     10       7           8        5  11.2  \n",
       "6      5       3           8        3   8.0  \n",
       "2      8       3           7        3   7.0  \n",
       "1      2       5           4       10   2.0  \n",
       "5      3       2           2        3   1.3  \n",
       "3      8       3           3        8   1.1  \n",
       "4      3       1           1        1   1.0  "
      ]
     },
     "execution_count": 4,
     "metadata": {},
     "output_type": "execute_result"
    }
   ],
   "source": [
    "data['ICE'] = round(data['Impact'] * data['Confidence'] / data['Efforts'], 1)\n",
    "data.sort_values(by='ICE', ascending=False)"
   ]
  },
  {
   "cell_type": "markdown",
   "metadata": {},
   "source": [
    "<div style=\"border:solid orange 3px; padding: 20px\">В результате применения фреймворка ICE лидируют гипотезы с индексом 8,0 и 7. На первом месте гипотеза о том, что увеличению выручки будет способствовать акция, дающая скидку на товар в день рождения."
   ]
  },
  {
   "cell_type": "markdown",
   "metadata": {},
   "source": [
    "### Применение фреймворка RICE для приоритизации гипотез"
   ]
  },
  {
   "cell_type": "code",
   "execution_count": 5,
   "metadata": {},
   "outputs": [
    {
     "data": {
      "text/html": [
       "<div>\n",
       "<style scoped>\n",
       "    .dataframe tbody tr th:only-of-type {\n",
       "        vertical-align: middle;\n",
       "    }\n",
       "\n",
       "    .dataframe tbody tr th {\n",
       "        vertical-align: top;\n",
       "    }\n",
       "\n",
       "    .dataframe thead th {\n",
       "        text-align: right;\n",
       "    }\n",
       "</style>\n",
       "<table border=\"1\" class=\"dataframe\">\n",
       "  <thead>\n",
       "    <tr style=\"text-align: right;\">\n",
       "      <th></th>\n",
       "      <th>Hypothesis</th>\n",
       "      <th>Reach</th>\n",
       "      <th>Impact</th>\n",
       "      <th>Confidence</th>\n",
       "      <th>Efforts</th>\n",
       "      <th>ICE</th>\n",
       "      <th>RICE</th>\n",
       "    </tr>\n",
       "  </thead>\n",
       "  <tbody>\n",
       "    <tr>\n",
       "      <th>7</th>\n",
       "      <td>Добавить форму подписки на все основные страницы, чтобы собрать базу клиентов для email-рассылок</td>\n",
       "      <td>10</td>\n",
       "      <td>7</td>\n",
       "      <td>8</td>\n",
       "      <td>5</td>\n",
       "      <td>11.2</td>\n",
       "      <td>112.0</td>\n",
       "    </tr>\n",
       "    <tr>\n",
       "      <th>2</th>\n",
       "      <td>Добавить блоки рекомендаций товаров на сайт интернет магазина, чтобы повысить конверсию и средний чек заказа</td>\n",
       "      <td>8</td>\n",
       "      <td>3</td>\n",
       "      <td>7</td>\n",
       "      <td>3</td>\n",
       "      <td>7.0</td>\n",
       "      <td>56.0</td>\n",
       "    </tr>\n",
       "    <tr>\n",
       "      <th>0</th>\n",
       "      <td>Добавить два новых канала привлечения трафика, что позволит привлекать на 30% больше пользователей</td>\n",
       "      <td>3</td>\n",
       "      <td>10</td>\n",
       "      <td>8</td>\n",
       "      <td>6</td>\n",
       "      <td>13.3</td>\n",
       "      <td>40.0</td>\n",
       "    </tr>\n",
       "    <tr>\n",
       "      <th>6</th>\n",
       "      <td>Показать на главной странице баннеры с актуальными акциями и распродажами, чтобы увеличить конверсию</td>\n",
       "      <td>5</td>\n",
       "      <td>3</td>\n",
       "      <td>8</td>\n",
       "      <td>3</td>\n",
       "      <td>8.0</td>\n",
       "      <td>40.0</td>\n",
       "    </tr>\n",
       "    <tr>\n",
       "      <th>8</th>\n",
       "      <td>Запустить акцию, дающую скидку на товар в день рождения</td>\n",
       "      <td>1</td>\n",
       "      <td>9</td>\n",
       "      <td>9</td>\n",
       "      <td>5</td>\n",
       "      <td>16.2</td>\n",
       "      <td>16.2</td>\n",
       "    </tr>\n",
       "    <tr>\n",
       "      <th>3</th>\n",
       "      <td>Изменить структура категорий, что увеличит конверсию, т.к. пользователи быстрее найдут нужный товар</td>\n",
       "      <td>8</td>\n",
       "      <td>3</td>\n",
       "      <td>3</td>\n",
       "      <td>8</td>\n",
       "      <td>1.1</td>\n",
       "      <td>9.0</td>\n",
       "    </tr>\n",
       "    <tr>\n",
       "      <th>1</th>\n",
       "      <td>Запустить собственную службу доставки, что сократит срок доставки заказов</td>\n",
       "      <td>2</td>\n",
       "      <td>5</td>\n",
       "      <td>4</td>\n",
       "      <td>10</td>\n",
       "      <td>2.0</td>\n",
       "      <td>4.0</td>\n",
       "    </tr>\n",
       "    <tr>\n",
       "      <th>5</th>\n",
       "      <td>Добавить страницу отзывов клиентов о магазине, что позволит увеличить количество заказов</td>\n",
       "      <td>3</td>\n",
       "      <td>2</td>\n",
       "      <td>2</td>\n",
       "      <td>3</td>\n",
       "      <td>1.3</td>\n",
       "      <td>4.0</td>\n",
       "    </tr>\n",
       "    <tr>\n",
       "      <th>4</th>\n",
       "      <td>Изменить цвет фона главной страницы, чтобы увеличить вовлеченность пользователей</td>\n",
       "      <td>3</td>\n",
       "      <td>1</td>\n",
       "      <td>1</td>\n",
       "      <td>1</td>\n",
       "      <td>1.0</td>\n",
       "      <td>3.0</td>\n",
       "    </tr>\n",
       "  </tbody>\n",
       "</table>\n",
       "</div>"
      ],
      "text/plain": [
       "                                                                                                     Hypothesis  \\\n",
       "7              Добавить форму подписки на все основные страницы, чтобы собрать базу клиентов для email-рассылок   \n",
       "2  Добавить блоки рекомендаций товаров на сайт интернет магазина, чтобы повысить конверсию и средний чек заказа   \n",
       "0            Добавить два новых канала привлечения трафика, что позволит привлекать на 30% больше пользователей   \n",
       "6          Показать на главной странице баннеры с актуальными акциями и распродажами, чтобы увеличить конверсию   \n",
       "8                                                       Запустить акцию, дающую скидку на товар в день рождения   \n",
       "3           Изменить структура категорий, что увеличит конверсию, т.к. пользователи быстрее найдут нужный товар   \n",
       "1                                     Запустить собственную службу доставки, что сократит срок доставки заказов   \n",
       "5                      Добавить страницу отзывов клиентов о магазине, что позволит увеличить количество заказов   \n",
       "4                              Изменить цвет фона главной страницы, чтобы увеличить вовлеченность пользователей   \n",
       "\n",
       "   Reach  Impact  Confidence  Efforts   ICE   RICE  \n",
       "7     10       7           8        5  11.2  112.0  \n",
       "2      8       3           7        3   7.0   56.0  \n",
       "0      3      10           8        6  13.3   40.0  \n",
       "6      5       3           8        3   8.0   40.0  \n",
       "8      1       9           9        5  16.2   16.2  \n",
       "3      8       3           3        8   1.1    9.0  \n",
       "1      2       5           4       10   2.0    4.0  \n",
       "5      3       2           2        3   1.3    4.0  \n",
       "4      3       1           1        1   1.0    3.0  "
      ]
     },
     "execution_count": 5,
     "metadata": {},
     "output_type": "execute_result"
    }
   ],
   "source": [
    "data['RICE'] = data['Reach'] * data['Impact'] * data['Confidence'] / data['Efforts']\n",
    "data.sort_values(by='RICE', ascending=False)"
   ]
  },
  {
   "cell_type": "markdown",
   "metadata": {},
   "source": [
    "<div style=\"border:solid orange 3px; padding: 20px\">В результате применения фреймворка RICE лидируют гипотезы с индексом 7,2,0 и 6. На первом месте гипотеза о том, что увеличению выручки будет способствовать добавление формы подписки на все основные страницы, чтобы собрать базу клиентов для email-рассылок, при чем эта гипотеза существенно опережает все остальные. "
   ]
  },
  {
   "cell_type": "markdown",
   "metadata": {},
   "source": [
    "### Как изменилась приоритизация гипотез при применении RICE вместо ICE"
   ]
  },
  {
   "cell_type": "markdown",
   "metadata": {},
   "source": [
    "<div style=\"border:solid orange 3px; padding: 20px\">Приоритизация гипотез при применении RICE изменила порядок приоритета. По сравнению с ICE приоритеты поменялись из-за параметра Reach, определяющего охват пользователей. У 7й стратегии, являющейся лидером по RICE, этот параметр максимальный, а у лидера по ICE (стратегия 8) - минимальный, в связи с чем эта гипотеза скатилась в середину рейтинга."
   ]
  },
  {
   "cell_type": "markdown",
   "metadata": {},
   "source": [
    "## Анализ A/B-теста"
   ]
  },
  {
   "cell_type": "markdown",
   "metadata": {},
   "source": [
    "Изучим таблицы и проведем предобработку данных в случае необходимости"
   ]
  },
  {
   "cell_type": "code",
   "execution_count": 6,
   "metadata": {},
   "outputs": [
    {
     "data": {
      "text/html": [
       "<div>\n",
       "<style scoped>\n",
       "    .dataframe tbody tr th:only-of-type {\n",
       "        vertical-align: middle;\n",
       "    }\n",
       "\n",
       "    .dataframe tbody tr th {\n",
       "        vertical-align: top;\n",
       "    }\n",
       "\n",
       "    .dataframe thead th {\n",
       "        text-align: right;\n",
       "    }\n",
       "</style>\n",
       "<table border=\"1\" class=\"dataframe\">\n",
       "  <thead>\n",
       "    <tr style=\"text-align: right;\">\n",
       "      <th></th>\n",
       "      <th>transactionId</th>\n",
       "      <th>visitorId</th>\n",
       "      <th>date</th>\n",
       "      <th>revenue</th>\n",
       "      <th>group</th>\n",
       "    </tr>\n",
       "  </thead>\n",
       "  <tbody>\n",
       "    <tr>\n",
       "      <th>0</th>\n",
       "      <td>3667963787</td>\n",
       "      <td>3312258926</td>\n",
       "      <td>2019-08-15</td>\n",
       "      <td>1650</td>\n",
       "      <td>B</td>\n",
       "    </tr>\n",
       "    <tr>\n",
       "      <th>1</th>\n",
       "      <td>2804400009</td>\n",
       "      <td>3642806036</td>\n",
       "      <td>2019-08-15</td>\n",
       "      <td>730</td>\n",
       "      <td>B</td>\n",
       "    </tr>\n",
       "    <tr>\n",
       "      <th>2</th>\n",
       "      <td>2961555356</td>\n",
       "      <td>4069496402</td>\n",
       "      <td>2019-08-15</td>\n",
       "      <td>400</td>\n",
       "      <td>A</td>\n",
       "    </tr>\n",
       "    <tr>\n",
       "      <th>3</th>\n",
       "      <td>3797467345</td>\n",
       "      <td>1196621759</td>\n",
       "      <td>2019-08-15</td>\n",
       "      <td>9759</td>\n",
       "      <td>B</td>\n",
       "    </tr>\n",
       "    <tr>\n",
       "      <th>4</th>\n",
       "      <td>2282983706</td>\n",
       "      <td>2322279887</td>\n",
       "      <td>2019-08-15</td>\n",
       "      <td>2308</td>\n",
       "      <td>B</td>\n",
       "    </tr>\n",
       "  </tbody>\n",
       "</table>\n",
       "</div>"
      ],
      "text/plain": [
       "   transactionId   visitorId        date  revenue group\n",
       "0     3667963787  3312258926  2019-08-15     1650     B\n",
       "1     2804400009  3642806036  2019-08-15      730     B\n",
       "2     2961555356  4069496402  2019-08-15      400     A\n",
       "3     3797467345  1196621759  2019-08-15     9759     B\n",
       "4     2282983706  2322279887  2019-08-15     2308     B"
      ]
     },
     "execution_count": 6,
     "metadata": {},
     "output_type": "execute_result"
    }
   ],
   "source": [
    "orders = pd.read_csv('...')\n",
    "orders.head()"
   ]
  },
  {
   "cell_type": "code",
   "execution_count": 7,
   "metadata": {},
   "outputs": [
    {
     "name": "stdout",
     "output_type": "stream",
     "text": [
      "<class 'pandas.core.frame.DataFrame'>\n",
      "RangeIndex: 1197 entries, 0 to 1196\n",
      "Data columns (total 5 columns):\n",
      " #   Column         Non-Null Count  Dtype \n",
      "---  ------         --------------  ----- \n",
      " 0   transactionId  1197 non-null   int64 \n",
      " 1   visitorId      1197 non-null   int64 \n",
      " 2   date           1197 non-null   object\n",
      " 3   revenue        1197 non-null   int64 \n",
      " 4   group          1197 non-null   object\n",
      "dtypes: int64(3), object(2)\n",
      "memory usage: 46.9+ KB\n"
     ]
    }
   ],
   "source": [
    "orders.info()"
   ]
  },
  {
   "cell_type": "markdown",
   "metadata": {},
   "source": [
    "Пропуски отсутствуют. Необходимо привести столбец **`date`** к правильному типу данных."
   ]
  },
  {
   "cell_type": "code",
   "execution_count": 8,
   "metadata": {},
   "outputs": [
    {
     "name": "stdout",
     "output_type": "stream",
     "text": [
      "<class 'pandas.core.frame.DataFrame'>\n",
      "RangeIndex: 1197 entries, 0 to 1196\n",
      "Data columns (total 5 columns):\n",
      " #   Column         Non-Null Count  Dtype         \n",
      "---  ------         --------------  -----         \n",
      " 0   transactionId  1197 non-null   int64         \n",
      " 1   visitorId      1197 non-null   int64         \n",
      " 2   date           1197 non-null   datetime64[ns]\n",
      " 3   revenue        1197 non-null   int64         \n",
      " 4   group          1197 non-null   object        \n",
      "dtypes: datetime64[ns](1), int64(3), object(1)\n",
      "memory usage: 46.9+ KB\n"
     ]
    }
   ],
   "source": [
    "orders['date'] = orders['date'].map(lambda x: dt.datetime.strptime(x, '%Y-%m-%d'))\n",
    "orders.info()"
   ]
  },
  {
   "cell_type": "code",
   "execution_count": 9,
   "metadata": {},
   "outputs": [
    {
     "data": {
      "text/plain": [
       "0"
      ]
     },
     "execution_count": 9,
     "metadata": {},
     "output_type": "execute_result"
    }
   ],
   "source": [
    "#проверим на наличие дубликатов\n",
    "orders.duplicated().sum()"
   ]
  },
  {
   "cell_type": "code",
   "execution_count": 10,
   "metadata": {},
   "outputs": [
    {
     "data": {
      "text/html": [
       "<div>\n",
       "<style scoped>\n",
       "    .dataframe tbody tr th:only-of-type {\n",
       "        vertical-align: middle;\n",
       "    }\n",
       "\n",
       "    .dataframe tbody tr th {\n",
       "        vertical-align: top;\n",
       "    }\n",
       "\n",
       "    .dataframe thead th {\n",
       "        text-align: right;\n",
       "    }\n",
       "</style>\n",
       "<table border=\"1\" class=\"dataframe\">\n",
       "  <thead>\n",
       "    <tr style=\"text-align: right;\">\n",
       "      <th></th>\n",
       "      <th>date</th>\n",
       "      <th>group</th>\n",
       "      <th>visitors</th>\n",
       "    </tr>\n",
       "  </thead>\n",
       "  <tbody>\n",
       "    <tr>\n",
       "      <th>0</th>\n",
       "      <td>2019-08-01</td>\n",
       "      <td>A</td>\n",
       "      <td>719</td>\n",
       "    </tr>\n",
       "    <tr>\n",
       "      <th>1</th>\n",
       "      <td>2019-08-02</td>\n",
       "      <td>A</td>\n",
       "      <td>619</td>\n",
       "    </tr>\n",
       "    <tr>\n",
       "      <th>2</th>\n",
       "      <td>2019-08-03</td>\n",
       "      <td>A</td>\n",
       "      <td>507</td>\n",
       "    </tr>\n",
       "    <tr>\n",
       "      <th>3</th>\n",
       "      <td>2019-08-04</td>\n",
       "      <td>A</td>\n",
       "      <td>717</td>\n",
       "    </tr>\n",
       "    <tr>\n",
       "      <th>4</th>\n",
       "      <td>2019-08-05</td>\n",
       "      <td>A</td>\n",
       "      <td>756</td>\n",
       "    </tr>\n",
       "  </tbody>\n",
       "</table>\n",
       "</div>"
      ],
      "text/plain": [
       "         date group  visitors\n",
       "0  2019-08-01     A       719\n",
       "1  2019-08-02     A       619\n",
       "2  2019-08-03     A       507\n",
       "3  2019-08-04     A       717\n",
       "4  2019-08-05     A       756"
      ]
     },
     "execution_count": 10,
     "metadata": {},
     "output_type": "execute_result"
    }
   ],
   "source": [
    "visitors = pd.read_csv('...')\n",
    "visitors.head()"
   ]
  },
  {
   "cell_type": "code",
   "execution_count": 11,
   "metadata": {},
   "outputs": [
    {
     "name": "stdout",
     "output_type": "stream",
     "text": [
      "<class 'pandas.core.frame.DataFrame'>\n",
      "RangeIndex: 62 entries, 0 to 61\n",
      "Data columns (total 3 columns):\n",
      " #   Column    Non-Null Count  Dtype \n",
      "---  ------    --------------  ----- \n",
      " 0   date      62 non-null     object\n",
      " 1   group     62 non-null     object\n",
      " 2   visitors  62 non-null     int64 \n",
      "dtypes: int64(1), object(2)\n",
      "memory usage: 1.6+ KB\n"
     ]
    }
   ],
   "source": [
    "visitors.info()"
   ]
  },
  {
   "cell_type": "markdown",
   "metadata": {},
   "source": [
    "Пропуски отсутствуют. Необходимо привести столбец **`date`** к правильному типу данных."
   ]
  },
  {
   "cell_type": "code",
   "execution_count": 12,
   "metadata": {},
   "outputs": [
    {
     "name": "stdout",
     "output_type": "stream",
     "text": [
      "<class 'pandas.core.frame.DataFrame'>\n",
      "RangeIndex: 62 entries, 0 to 61\n",
      "Data columns (total 3 columns):\n",
      " #   Column    Non-Null Count  Dtype         \n",
      "---  ------    --------------  -----         \n",
      " 0   date      62 non-null     datetime64[ns]\n",
      " 1   group     62 non-null     object        \n",
      " 2   visitors  62 non-null     int64         \n",
      "dtypes: datetime64[ns](1), int64(1), object(1)\n",
      "memory usage: 1.6+ KB\n"
     ]
    }
   ],
   "source": [
    "visitors['date'] = visitors['date'].map(lambda x: dt.datetime.strptime(x, '%Y-%m-%d'))\n",
    "visitors.info()"
   ]
  },
  {
   "cell_type": "code",
   "execution_count": 13,
   "metadata": {},
   "outputs": [
    {
     "data": {
      "text/plain": [
       "0"
      ]
     },
     "execution_count": 13,
     "metadata": {},
     "output_type": "execute_result"
    }
   ],
   "source": [
    "#проверим на наличие дубликатов\n",
    "visitors.duplicated().sum()"
   ]
  },
  {
   "cell_type": "code",
   "execution_count": 14,
   "metadata": {},
   "outputs": [
    {
     "data": {
      "text/plain": [
       "58"
      ]
     },
     "execution_count": 14,
     "metadata": {},
     "output_type": "execute_result"
    }
   ],
   "source": [
    "# проверим на наличие пользователей, которые попали в обе группы\n",
    "orders_a = orders.query('group == \"A\"')\n",
    "orders_b = orders.query('group == \"B\"')\n",
    "orders_repeat_id = orders_a.merge(orders_b, on='visitorId')['visitorId'].unique()\n",
    "len(orders_repeat_id)"
   ]
  },
  {
   "cell_type": "code",
   "execution_count": 15,
   "metadata": {},
   "outputs": [
    {
     "data": {
      "text/plain": [
       "1031"
      ]
     },
     "execution_count": 15,
     "metadata": {},
     "output_type": "execute_result"
    }
   ],
   "source": [
    "len(orders['visitorId'].unique())"
   ]
  },
  {
   "cell_type": "markdown",
   "metadata": {},
   "source": [
    "Найдено 58 пользователей, которые попали в обе группы (5,6% от общего числа уникальных пользователей). Доля небольшая, но их наличие может исказить результаты теста. Удалим этих пользователей."
   ]
  },
  {
   "cell_type": "code",
   "execution_count": 16,
   "metadata": {},
   "outputs": [
    {
     "name": "stdout",
     "output_type": "stream",
     "text": [
      "<class 'pandas.core.frame.DataFrame'>\n",
      "Int64Index: 1016 entries, 0 to 1196\n",
      "Data columns (total 5 columns):\n",
      " #   Column         Non-Null Count  Dtype         \n",
      "---  ------         --------------  -----         \n",
      " 0   transactionId  1016 non-null   int64         \n",
      " 1   visitorId      1016 non-null   int64         \n",
      " 2   date           1016 non-null   datetime64[ns]\n",
      " 3   revenue        1016 non-null   int64         \n",
      " 4   group          1016 non-null   object        \n",
      "dtypes: datetime64[ns](1), int64(3), object(1)\n",
      "memory usage: 47.6+ KB\n"
     ]
    }
   ],
   "source": [
    "orders = orders.query('visitorId not in @orders_repeat_id')\n",
    "orders.info()"
   ]
  },
  {
   "cell_type": "markdown",
   "metadata": {},
   "source": [
    "### График кумулятивной выручки по группам"
   ]
  },
  {
   "cell_type": "code",
   "execution_count": 17,
   "metadata": {},
   "outputs": [
    {
     "data": {
      "text/html": [
       "<div>\n",
       "<style scoped>\n",
       "    .dataframe tbody tr th:only-of-type {\n",
       "        vertical-align: middle;\n",
       "    }\n",
       "\n",
       "    .dataframe tbody tr th {\n",
       "        vertical-align: top;\n",
       "    }\n",
       "\n",
       "    .dataframe thead th {\n",
       "        text-align: right;\n",
       "    }\n",
       "</style>\n",
       "<table border=\"1\" class=\"dataframe\">\n",
       "  <thead>\n",
       "    <tr style=\"text-align: right;\">\n",
       "      <th></th>\n",
       "      <th>date</th>\n",
       "      <th>group</th>\n",
       "      <th>orders</th>\n",
       "      <th>buyers</th>\n",
       "      <th>revenue</th>\n",
       "      <th>visitors</th>\n",
       "    </tr>\n",
       "  </thead>\n",
       "  <tbody>\n",
       "    <tr>\n",
       "      <th>0</th>\n",
       "      <td>2019-08-01</td>\n",
       "      <td>A</td>\n",
       "      <td>23</td>\n",
       "      <td>19</td>\n",
       "      <td>142779</td>\n",
       "      <td>719</td>\n",
       "    </tr>\n",
       "    <tr>\n",
       "      <th>1</th>\n",
       "      <td>2019-08-01</td>\n",
       "      <td>B</td>\n",
       "      <td>17</td>\n",
       "      <td>17</td>\n",
       "      <td>59758</td>\n",
       "      <td>713</td>\n",
       "    </tr>\n",
       "    <tr>\n",
       "      <th>2</th>\n",
       "      <td>2019-08-02</td>\n",
       "      <td>A</td>\n",
       "      <td>42</td>\n",
       "      <td>36</td>\n",
       "      <td>234381</td>\n",
       "      <td>1338</td>\n",
       "    </tr>\n",
       "    <tr>\n",
       "      <th>3</th>\n",
       "      <td>2019-08-02</td>\n",
       "      <td>B</td>\n",
       "      <td>40</td>\n",
       "      <td>39</td>\n",
       "      <td>221801</td>\n",
       "      <td>1294</td>\n",
       "    </tr>\n",
       "    <tr>\n",
       "      <th>4</th>\n",
       "      <td>2019-08-03</td>\n",
       "      <td>A</td>\n",
       "      <td>66</td>\n",
       "      <td>60</td>\n",
       "      <td>346854</td>\n",
       "      <td>1845</td>\n",
       "    </tr>\n",
       "  </tbody>\n",
       "</table>\n",
       "</div>"
      ],
      "text/plain": [
       "        date group  orders  buyers  revenue  visitors\n",
       "0 2019-08-01     A      23      19   142779       719\n",
       "1 2019-08-01     B      17      17    59758       713\n",
       "2 2019-08-02     A      42      36   234381      1338\n",
       "3 2019-08-02     B      40      39   221801      1294\n",
       "4 2019-08-03     A      66      60   346854      1845"
      ]
     },
     "execution_count": 17,
     "metadata": {},
     "output_type": "execute_result"
    }
   ],
   "source": [
    "# создаем массив уникальных пар значений дат и групп теста\n",
    "datesGroups = orders[['date','group']].drop_duplicates()\n",
    "\n",
    "# получаем агрегированные кумулятивные по дням данные о заказах\n",
    "ordersAggregated = (\n",
    "    datesGroups.apply(lambda x: orders[np.logical_and(orders['date'] <= x['date'], orders['group'] == x['group'])]\n",
    "    .agg({'date' : 'max', 'group' : 'max', 'transactionId' : 'nunique', 'visitorId' : 'nunique', 'revenue' : 'sum'}), axis=1)\n",
    "    .sort_values(by=['date','group'])\n",
    ")\n",
    "\n",
    "# получаем агрегированные кумулятивные по дням данные о посетителях интернет-магазина\n",
    "visitorsAggregated = (\n",
    "    datesGroups.apply(lambda x: visitors[np.logical_and(visitors['date'] <= x['date'], visitors['group'] == x['group'])]\n",
    "    .agg({'date' : 'max', 'group' : 'max', 'visitors' : 'sum'}), axis=1)\n",
    "    .sort_values(by=['date','group'])\n",
    ")\n",
    "\n",
    "# объединяем кумулятивные данные в одной таблице и присваиваем ее столбцам понятные названия\n",
    "cumulativeData = ordersAggregated.merge(visitorsAggregated, left_on=['date', 'group'], right_on=['date', 'group'])\n",
    "cumulativeData.columns = ['date', 'group', 'orders', 'buyers', 'revenue', 'visitors']\n",
    "\n",
    "cumulativeData.head()"
   ]
  },
  {
   "cell_type": "code",
   "execution_count": 18,
   "metadata": {},
   "outputs": [
    {
     "data": {
      "image/png": "[encoded data removed]",
      "text/plain": [
       "<Figure size 1080x360 with 1 Axes>"
      ]
     },
     "metadata": {
      "needs_background": "light"
     },
     "output_type": "display_data"
    }
   ],
   "source": [
    "# датафрейм с кумулятивным количеством заказов и кумулятивной выручкой по дням в группе А\n",
    "cumulativeRevenueA = cumulativeData[cumulativeData['group']=='A'][['date','revenue', 'orders']]\n",
    "\n",
    "# датафрейм с кумулятивным количеством заказов и кумулятивной выручкой по дням в группе B\n",
    "cumulativeRevenueB = cumulativeData[cumulativeData['group']=='B'][['date','revenue', 'orders']]\n",
    "\n",
    "# Установим размер графика\n",
    "plt.figure(figsize=(15, 5))\n",
    "\n",
    "# Строим график выручки группы А\n",
    "plt.plot(cumulativeRevenueA['date'], cumulativeRevenueA['revenue'], label='A')\n",
    "\n",
    "# Строим график выручки группы B\n",
    "plt.plot(cumulativeRevenueB['date'], cumulativeRevenueB['revenue'], label='B')\n",
    "\n",
    "# Настроим отображение графика\n",
    "plt.grid()\n",
    "plt.gca().xaxis.set_major_locator(matplotlib.dates.DayLocator(interval=1))\n",
    "plt.gca().xaxis.set_major_formatter(matplotlib.dates.DateFormatter('%Y-%m-%d'))\n",
    "plt.xticks(rotation=90)\n",
    "plt.title('График кумулятивной выручки по группам А и В')\n",
    "plt.xlabel('Дата')\n",
    "plt.ylabel('Выручка')\n",
    "plt.legend()\n",
    "plt.show()"
   ]
  },
  {
   "cell_type": "markdown",
   "metadata": {},
   "source": [
    "<div style=\"border:solid orange 3px; padding: 20px\"> Выручка почти равномерно увеличивается в течение всего теста для обеих групп, но при этом в группе В отмечается резкий скачок 19 августа, что может означать наличие аномально высоких значений выручки в этот день. На протяжении всего теста, за исключением нескольких дней, кумулятивная выручка группы В превышает кумулятивную выручку группы А."
   ]
  },
  {
   "cell_type": "markdown",
   "metadata": {},
   "source": [
    "### График кумулятивного среднего чека по группам"
   ]
  },
  {
   "cell_type": "code",
   "execution_count": 19,
   "metadata": {},
   "outputs": [
    {
     "data": {
      "image/png": "[encoded data removed]",
      "text/plain": [
       "<Figure size 1080x360 with 1 Axes>"
      ]
     },
     "metadata": {
      "needs_background": "light"
     },
     "output_type": "display_data"
    }
   ],
   "source": [
    "plt.figure(figsize=(15, 5))\n",
    "plt.plot(cumulativeRevenueA['date'], cumulativeRevenueA['revenue']/cumulativeRevenueA['orders'], label='A')\n",
    "plt.plot(cumulativeRevenueB['date'], cumulativeRevenueB['revenue']/cumulativeRevenueB['orders'], label='B')\n",
    "plt.grid()\n",
    "plt.gca().xaxis.set_major_locator(matplotlib.dates.DayLocator(interval=1))\n",
    "plt.gca().xaxis.set_major_formatter(matplotlib.dates.DateFormatter('%Y-%m-%d'))\n",
    "plt.xticks(rotation=90)\n",
    "plt.title('График кумулятивного среднего чека по группам А и В')\n",
    "plt.xlabel('Дата')\n",
    "plt.ylabel('Средний чек')\n",
    "plt.legend()\n",
    "plt.show()"
   ]
  },
  {
   "cell_type": "markdown",
   "metadata": {},
   "source": [
    "<div style=\"border:solid orange 3px; padding: 20px\"> На графике среднего чека группы В также наблюдается резкий скачок 19-го августа, в целом на протяжении теста, за исключением отдельных дней, средний чек группы В превышал средний чек группы А, в последние три дня теста чек становится равномерным для обеих групп."
   ]
  },
  {
   "cell_type": "markdown",
   "metadata": {},
   "source": [
    "### График относительного изменения кумулятивного среднего чека группы B к группе A"
   ]
  },
  {
   "cell_type": "code",
   "execution_count": 20,
   "metadata": {},
   "outputs": [
    {
     "data": {
      "image/png": "[encoded data removed]",
      "text/plain": [
       "<Figure size 1080x360 with 1 Axes>"
      ]
     },
     "metadata": {
      "needs_background": "light"
     },
     "output_type": "display_data"
    }
   ],
   "source": [
    "# собираем данные в одном датафрейме\n",
    "mergedCumulativeRevenue = (\n",
    "    cumulativeRevenueA\n",
    "    .merge(cumulativeRevenueB, left_on='date', right_on='date', how='left', suffixes=['A', 'B'])\n",
    ")\n",
    "\n",
    "# cтроим отношение средних чеков\n",
    "plt.figure(figsize=(15, 5))\n",
    "(\n",
    "    plt.plot(mergedCumulativeRevenue['date'], \n",
    "             (mergedCumulativeRevenue['revenueB']/mergedCumulativeRevenue['ordersB'])\n",
    "             /(mergedCumulativeRevenue['revenueA']/mergedCumulativeRevenue['ordersA'])-1)\n",
    ")\n",
    "plt.grid()\n",
    "plt.gca().xaxis.set_major_locator(matplotlib.dates.DayLocator(interval=1))\n",
    "plt.gca().xaxis.set_major_formatter(matplotlib.dates.DateFormatter('%Y-%m-%d'))\n",
    "plt.xticks(rotation=90)\n",
    "plt.title('График относительного изменения кумулятивного среднего чека группы B к группе A')\n",
    "plt.xlabel('Дата')\n",
    "plt.ylabel('Относительное изменение')\n",
    "# добавляем ось X\n",
    "plt.axhline(y=0, color='red', linestyle='--')\n",
    "plt.show()"
   ]
  },
  {
   "cell_type": "markdown",
   "metadata": {},
   "source": [
    "<div style=\"border:solid orange 3px; padding: 20px\"> На графике видны аналогичные тенденции, как на предыдущем графике. По большей части средний чек группы В превышал средний чек группы А, затем отмечается резкий скачок 19 августа и постепенное снижение, последние три дня теста средний чек практически не менялся. Наличие резких изменений среднего чека может свидетельствовать о наличии выбросов, которые могут искажать результаты тестирования."
   ]
  },
  {
   "cell_type": "markdown",
   "metadata": {},
   "source": [
    "### График кумулятивного среднего количества заказов на посетителя по группам"
   ]
  },
  {
   "cell_type": "code",
   "execution_count": 21,
   "metadata": {},
   "outputs": [
    {
     "data": {
      "image/png": "[encoded data removed]",
      "text/plain": [
       "<Figure size 1080x360 with 1 Axes>"
      ]
     },
     "metadata": {
      "needs_background": "light"
     },
     "output_type": "display_data"
    }
   ],
   "source": [
    "# считаем среднее количество заказов на посетителя, или конверсию\n",
    "cumulativeData['conversion'] = cumulativeData['orders']/cumulativeData['visitors']\n",
    "\n",
    "# отделяем данные по группе A\n",
    "cumulativeDataA = cumulativeData[cumulativeData['group']=='A']\n",
    "\n",
    "# отделяем данные по группе B\n",
    "cumulativeDataB = cumulativeData[cumulativeData['group']=='B']\n",
    "\n",
    "# строим графики\n",
    "plt.figure(figsize=(15, 5))\n",
    "plt.plot(cumulativeDataA['date'], cumulativeDataA['conversion'], label='A')\n",
    "plt.plot(cumulativeDataB['date'], cumulativeDataB['conversion'], label='B')\n",
    "plt.grid()\n",
    "plt.gca().xaxis.set_major_locator(matplotlib.dates.DayLocator(interval=1))\n",
    "plt.gca().xaxis.set_major_formatter(matplotlib.dates.DateFormatter('%Y-%m-%d'))\n",
    "plt.xticks(rotation=90)\n",
    "plt.title('График кумулятивного среднего количества заказов на посетителя по группам')\n",
    "plt.xlabel('Дата')\n",
    "plt.ylabel('Количество заказов на посетителя')\n",
    "plt.legend()\n",
    "\n",
    "# задаем масштаб оси\n",
    "plt.ylim([0, 0.04])\n",
    "plt.show()"
   ]
  },
  {
   "cell_type": "markdown",
   "metadata": {},
   "source": [
    "<div style=\"border:solid orange 3px; padding: 20px\"> Первые 5 дней теста конверсия группы А превышала конверсию группы В, но начиная с 6 августа конверсия группы В обогнала группу А и превышала ее до конца теста. Группа А колебалась около значения 0,025, а группа В - около 0,03."
   ]
  },
  {
   "cell_type": "markdown",
   "metadata": {},
   "source": [
    "### График относительного изменения кумулятивного среднего количества заказов на посетителя группы B к группе A"
   ]
  },
  {
   "cell_type": "code",
   "execution_count": 22,
   "metadata": {},
   "outputs": [
    {
     "data": {
      "image/png": "[encoded data removed]",
      "text/plain": [
       "<Figure size 1080x360 with 1 Axes>"
      ]
     },
     "metadata": {
      "needs_background": "light"
     },
     "output_type": "display_data"
    }
   ],
   "source": [
    "mergedCumulativeConversions = (\n",
    "    cumulativeDataA[['date','conversion']]\n",
    "    .merge(cumulativeDataB[['date','conversion']], left_on='date', right_on='date', how='left', suffixes=['A', 'B'])\n",
    ")\n",
    "plt.figure(figsize=(15, 5))\n",
    "plt.plot(\n",
    "    mergedCumulativeConversions['date'], \n",
    "    mergedCumulativeConversions['conversionB']/mergedCumulativeConversions['conversionA']-1, \n",
    "    label=\"Относительный прирост конверсии группы B относительно группы A\"\n",
    ")\n",
    "plt.grid()\n",
    "plt.gca().xaxis.set_major_locator(matplotlib.dates.DayLocator(interval=1))\n",
    "plt.gca().xaxis.set_major_formatter(matplotlib.dates.DateFormatter('%Y-%m-%d'))\n",
    "plt.xticks(rotation=90)\n",
    "plt.title('График относительного изменения кумулятивного среднего количества заказов на посетителя группы B к группе A')\n",
    "plt.xlabel('Дата')\n",
    "plt.ylabel('Относительное изменение')\n",
    "plt.legend()\n",
    "\n",
    "plt.axhline(y=0, color='red', linestyle='--')\n",
    "plt.axhline(y=0.1, color='grey', linestyle='--')\n",
    "plt.axhline(y=0.2, color='grey', linestyle='--')\n",
    "plt.show()"
   ]
  },
  {
   "cell_type": "markdown",
   "metadata": {},
   "source": [
    "<div style=\"border:solid orange 3px; padding: 20px\"> Начиная с 7 августа конверсия группы В больше конверсии группы А. Большую часть месяца конверсия группы В была на 10-20% выше конверсии группы А."
   ]
  },
  {
   "cell_type": "markdown",
   "metadata": {},
   "source": [
    "### Точечный график количества заказов по пользователям"
   ]
  },
  {
   "cell_type": "code",
   "execution_count": 23,
   "metadata": {},
   "outputs": [
    {
     "data": {
      "image/png": "[encoded data removed]",
      "text/plain": [
       "<Figure size 432x288 with 1 Axes>"
      ]
     },
     "metadata": {
      "needs_background": "light"
     },
     "output_type": "display_data"
    }
   ],
   "source": [
    "ordersByUsers = (\n",
    "    orders.groupby('visitorId', as_index=False)\n",
    "    .agg({'transactionId': 'nunique'})\n",
    ")\n",
    "\n",
    "ordersByUsers.columns = ['userId', 'orders']\n",
    "\n",
    "x_values = pd.Series(range(0,len(ordersByUsers)))\n",
    "\n",
    "plt.scatter(x_values, ordersByUsers['orders'])\n",
    "plt.title('Точечный график количества заказов по пользователям')\n",
    "plt.xlabel('Номера наблюдений')\n",
    "plt.ylabel('Количество заказов')\n",
    "plt.show()"
   ]
  },
  {
   "cell_type": "markdown",
   "metadata": {},
   "source": [
    "<div style=\"border:solid orange 3px; padding: 20px\"> Большинство пользователей делают 1-2 заказа, небольшой % - 3 заказа."
   ]
  },
  {
   "cell_type": "markdown",
   "metadata": {},
   "source": [
    "### Расчет 95-ого и 99-ого перцентилей количества заказов на пользователя. Выбор границы для определения аномальных пользователей"
   ]
  },
  {
   "cell_type": "code",
   "execution_count": 24,
   "metadata": {},
   "outputs": [
    {
     "data": {
      "text/plain": [
       "array([1., 2.])"
      ]
     },
     "execution_count": 24,
     "metadata": {},
     "output_type": "execute_result"
    }
   ],
   "source": [
    "np.percentile(ordersByUsers['orders'], [95, 99])"
   ]
  },
  {
   "cell_type": "markdown",
   "metadata": {},
   "source": [
    "<div style=\"border:solid orange 3px; padding: 20px\"> Расчет перцентилей подтвердил предыдущие выводы по графику: всего 5% пользователей делают больше одного заказа, из них 1% - больше двух заказов. Отсеем 1% аномальных пользователей, т.е. сделавших более двух заказов."
   ]
  },
  {
   "cell_type": "markdown",
   "metadata": {},
   "source": [
    "### Точечный график стоимостей заказов"
   ]
  },
  {
   "cell_type": "code",
   "execution_count": 25,
   "metadata": {},
   "outputs": [
    {
     "data": {
      "image/png": "[encoded data removed]",
      "text/plain": [
       "<Figure size 432x288 with 1 Axes>"
      ]
     },
     "metadata": {
      "needs_background": "light"
     },
     "output_type": "display_data"
    }
   ],
   "source": [
    "x_values = pd.Series(range(0,len(orders['revenue'])))\n",
    "plt.scatter(x_values, orders['revenue'])\n",
    "plt.title('Точечный график стоимостей заказов')\n",
    "plt.xlabel('Номера наблюдений')\n",
    "plt.ylabel('Стоимость заказов')\n",
    "plt.show()"
   ]
  },
  {
   "cell_type": "code",
   "execution_count": 26,
   "metadata": {},
   "outputs": [
    {
     "data": {
      "image/png": "[encoded data removed]",
      "text/plain": [
       "<Figure size 432x288 with 1 Axes>"
      ]
     },
     "metadata": {
      "needs_background": "light"
     },
     "output_type": "display_data"
    }
   ],
   "source": [
    "# Построим ещё один график без учета выбросов для наглядности\n",
    "x_values_ = pd.Series(range(0,len(orders[orders['revenue'] < 200000]['revenue'])))\n",
    "plt.scatter(x_values_, orders[orders['revenue'] < 200000]['revenue'])\n",
    "plt.title('Точечный график стоимостей заказов')\n",
    "plt.xlabel('Номера наблюдений')\n",
    "plt.ylabel('Стоимость заказов')\n",
    "plt.show()"
   ]
  },
  {
   "cell_type": "code",
   "execution_count": 27,
   "metadata": {},
   "outputs": [
    {
     "data": {
      "text/html": [
       "<div>\n",
       "<style scoped>\n",
       "    .dataframe tbody tr th:only-of-type {\n",
       "        vertical-align: middle;\n",
       "    }\n",
       "\n",
       "    .dataframe tbody tr th {\n",
       "        vertical-align: top;\n",
       "    }\n",
       "\n",
       "    .dataframe thead th {\n",
       "        text-align: right;\n",
       "    }\n",
       "</style>\n",
       "<table border=\"1\" class=\"dataframe\">\n",
       "  <thead>\n",
       "    <tr style=\"text-align: right;\">\n",
       "      <th></th>\n",
       "      <th>transactionId</th>\n",
       "      <th>visitorId</th>\n",
       "      <th>date</th>\n",
       "      <th>revenue</th>\n",
       "      <th>group</th>\n",
       "    </tr>\n",
       "  </thead>\n",
       "  <tbody>\n",
       "    <tr>\n",
       "      <th>425</th>\n",
       "      <td>590470918</td>\n",
       "      <td>1920142716</td>\n",
       "      <td>2019-08-19</td>\n",
       "      <td>1294500</td>\n",
       "      <td>B</td>\n",
       "    </tr>\n",
       "    <tr>\n",
       "      <th>1196</th>\n",
       "      <td>3936777065</td>\n",
       "      <td>2108080724</td>\n",
       "      <td>2019-08-15</td>\n",
       "      <td>202740</td>\n",
       "      <td>B</td>\n",
       "    </tr>\n",
       "    <tr>\n",
       "      <th>1136</th>\n",
       "      <td>666610489</td>\n",
       "      <td>1307669133</td>\n",
       "      <td>2019-08-13</td>\n",
       "      <td>92550</td>\n",
       "      <td>A</td>\n",
       "    </tr>\n",
       "    <tr>\n",
       "      <th>744</th>\n",
       "      <td>3668308183</td>\n",
       "      <td>888512513</td>\n",
       "      <td>2019-08-27</td>\n",
       "      <td>86620</td>\n",
       "      <td>B</td>\n",
       "    </tr>\n",
       "    <tr>\n",
       "      <th>743</th>\n",
       "      <td>3603576309</td>\n",
       "      <td>4133034833</td>\n",
       "      <td>2019-08-09</td>\n",
       "      <td>67990</td>\n",
       "      <td>A</td>\n",
       "    </tr>\n",
       "  </tbody>\n",
       "</table>\n",
       "</div>"
      ],
      "text/plain": [
       "      transactionId   visitorId       date  revenue group\n",
       "425       590470918  1920142716 2019-08-19  1294500     B\n",
       "1196     3936777065  2108080724 2019-08-15   202740     B\n",
       "1136      666610489  1307669133 2019-08-13    92550     A\n",
       "744      3668308183   888512513 2019-08-27    86620     B\n",
       "743      3603576309  4133034833 2019-08-09    67990     A"
      ]
     },
     "execution_count": 27,
     "metadata": {},
     "output_type": "execute_result"
    }
   ],
   "source": [
    "# Посмотрим на заказы с наибольшей стоимостью\n",
    "orders.sort_values(by='revenue', ascending=False).head()"
   ]
  },
  {
   "cell_type": "markdown",
   "metadata": {},
   "source": [
    "Видим, что в группе В есть заказ стоимостью почти 1,3 млн, в то время как большинство заказов не превышает 60 тысяч."
   ]
  },
  {
   "cell_type": "markdown",
   "metadata": {},
   "source": [
    "<div style=\"border:solid orange 3px; padding: 20px\"> Судя по графику есть один заказ, стоимость которого более чем в 10 раз превышает стоимость остальных заказов. Видимо этот заказ и есть причина скачка для группы В на графиках кумулятивной выручки и кумулятивного среднего чека. Большинство заказов не превышает 60 тысяч."
   ]
  },
  {
   "cell_type": "markdown",
   "metadata": {},
   "source": [
    "### Расчет 95-ого и 99-ого перцентилей стоимости заказов. Выбор границы для определения аномальных заказов"
   ]
  },
  {
   "cell_type": "code",
   "execution_count": 28,
   "metadata": {},
   "outputs": [
    {
     "data": {
      "text/plain": [
       "array([26785., 53904.])"
      ]
     },
     "execution_count": 28,
     "metadata": {},
     "output_type": "execute_result"
    }
   ],
   "source": [
    "np.percentile(orders['revenue'], [95, 99])"
   ]
  },
  {
   "cell_type": "markdown",
   "metadata": {},
   "source": [
    "<div style=\"border:solid orange 3px; padding: 20px\"> Всего 5% заказов имеют стоимость более 26,8 тысячи, из них 1% - более 53,9 тысячи. Отсеем 1% аномальных пользователей, т.е. заказавших более чем на 53,9 тысячи."
   ]
  },
  {
   "cell_type": "markdown",
   "metadata": {},
   "source": [
    "### Статистическая значимость различий в среднем количестве заказов на посетителя между группами по «сырым» данным"
   ]
  },
  {
   "cell_type": "markdown",
   "metadata": {},
   "source": [
    "Сформулируем гипотезы: \n",
    "- H0: различий в среднем количестве заказов между группами А и В нет. \n",
    "- H1: различия в среднем количестве заказов между группами А и В есть. "
   ]
  },
  {
   "cell_type": "markdown",
   "metadata": {},
   "source": [
    "Здесь и далее критический уровень статистической значимости - 0,05"
   ]
  },
  {
   "cell_type": "code",
   "execution_count": 29,
   "metadata": {},
   "outputs": [
    {
     "name": "stdout",
     "output_type": "stream",
     "text": [
      "p-value: 0.011\n",
      "Относительный прирост среднего числа заказов группы B: 0.160\n"
     ]
    }
   ],
   "source": [
    "# количество пользователей группы А в день\n",
    "visitorsADaily = visitors[visitors['group'] == 'A'][['date', 'visitors']]\n",
    "visitorsADaily.columns = ['date', 'visitorsPerDateA']\n",
    "\n",
    "# кумулятивное количество пользователей группы А в день\n",
    "visitorsACummulative = visitorsADaily.apply(\n",
    "    lambda x: visitorsADaily[visitorsADaily['date'] <= x['date']].agg(\n",
    "        {'date': 'max', 'visitorsPerDateA': 'sum'}\n",
    "    ),\n",
    "    axis=1,\n",
    ")\n",
    "visitorsACummulative.columns = ['date', 'visitorsCummulativeA']\n",
    "\n",
    "# количество пользователей группы B в день\n",
    "visitorsBDaily = visitors[visitors['group'] == 'B'][['date', 'visitors']]\n",
    "visitorsBDaily.columns = ['date', 'visitorsPerDateB']\n",
    "\n",
    "# кумулятивное количество пользователей группы B в день\n",
    "visitorsBCummulative = visitorsBDaily.apply(\n",
    "    lambda x: visitorsBDaily[visitorsBDaily['date'] <= x['date']].agg(\n",
    "        {'date': 'max', 'visitorsPerDateB': 'sum'}\n",
    "    ),\n",
    "    axis=1,\n",
    ")\n",
    "visitorsBCummulative.columns = ['date', 'visitorsCummulativeB']\n",
    "\n",
    "# количество заказов и суммарная выручка группы А в день\n",
    "ordersADaily = (\n",
    "    orders[orders['group'] == 'A'][['date', 'transactionId', 'visitorId', 'revenue']]\n",
    "    .groupby('date', as_index=False)\n",
    "    .agg({'transactionId': pd.Series.nunique, 'revenue': 'sum'})\n",
    ")\n",
    "ordersADaily.columns = ['date', 'ordersPerDateA', 'revenuePerDateA']\n",
    "\n",
    "# кумулятивное количество заказов и суммарная выручка группы А в день\n",
    "ordersACummulative = ordersADaily.apply(\n",
    "    lambda x: ordersADaily[ordersADaily['date'] <= x['date']].agg(\n",
    "        {'date': 'max', 'ordersPerDateA': 'sum', 'revenuePerDateA': 'sum'}\n",
    "    ),\n",
    "    axis=1,\n",
    ").sort_values(by=['date'])\n",
    "ordersACummulative.columns = [\n",
    "    'date',\n",
    "    'ordersCummulativeA',\n",
    "    'revenueCummulativeA',\n",
    "]\n",
    "\n",
    "# количество заказов и суммарная выручка группы B в день\n",
    "ordersBDaily = (\n",
    "    orders[orders['group'] == 'B'][['date', 'transactionId', 'visitorId', 'revenue']]\n",
    "    .groupby('date', as_index=False)\n",
    "    .agg({'transactionId': pd.Series.nunique, 'revenue': 'sum'})\n",
    ")\n",
    "ordersBDaily.columns = ['date', 'ordersPerDateB', 'revenuePerDateB']\n",
    "\n",
    "# кумулятивное количество заказов и суммарная выручка группы B в день\n",
    "ordersBCummulative = ordersBDaily.apply(\n",
    "    lambda x: ordersBDaily[ordersBDaily['date'] <= x['date']].agg(\n",
    "        {'date': 'max', 'ordersPerDateB': 'sum', 'revenuePerDateB': 'sum'}\n",
    "    ),\n",
    "    axis=1,\n",
    ").sort_values(by=['date'])\n",
    "ordersBCummulative.columns = [\n",
    "    'date',\n",
    "    'ordersCummulativeB',\n",
    "    'revenueCummulativeB',\n",
    "]\n",
    "\n",
    "# Объединяем полученные таблицы в одну\n",
    "df = (\n",
    "    ordersADaily.merge(\n",
    "        ordersBDaily, left_on='date', right_on='date', how='left'\n",
    "    )\n",
    "    .merge(ordersACummulative, left_on='date', right_on='date', how='left')\n",
    "    .merge(ordersBCummulative, left_on='date', right_on='date', how='left')\n",
    "    .merge(visitorsADaily, left_on='date', right_on='date', how='left')\n",
    "    .merge(visitorsBDaily, left_on='date', right_on='date', how='left')\n",
    "    .merge(visitorsACummulative, left_on='date', right_on='date', how='left')\n",
    "    .merge(visitorsBCummulative, left_on='date', right_on='date', how='left')\n",
    ")\n",
    "\n",
    "# Создадим переменные ordersByUsersA и ordersByUsersB со столбцами ['userId', 'orders']. \n",
    "# В них для пользователей, которые заказывали хотя бы 1 раз, укажем число совершённых заказов.\n",
    "\n",
    "ordersByUsersA = (\n",
    "    orders[orders['group'] == 'A']\n",
    "    .groupby('visitorId', as_index=False)\n",
    "    .agg({'transactionId': pd.Series.nunique})\n",
    ")\n",
    "ordersByUsersA.columns = ['userId', 'orders']\n",
    "\n",
    "ordersByUsersB = (\n",
    "    orders[orders['group'] == 'B']\n",
    "    .groupby('visitorId', as_index=False)\n",
    "    .agg({'transactionId': pd.Series.nunique})\n",
    ")\n",
    "ordersByUsersB.columns = ['userId', 'orders']\n",
    "\n",
    "# Объявим переменные sampleA и sampleB, в которых пользователям из разных групп будет соответствовать количество заказов. \n",
    "# Тем, кто ничего не заказал, будут соответствовать нули. Это нужно, чтобы подготовить выборки к проверке критерием Манна-Уитни.\n",
    "sampleA = pd.concat(\n",
    "    [ordersByUsersA['orders'],\n",
    "     pd.Series(0, index=np.arange(df['visitorsPerDateA'].sum() - len(ordersByUsersA['orders'])), name='orders')],axis=0\n",
    ")\n",
    "\n",
    "sampleB = pd.concat(\n",
    "    [ordersByUsersB['orders'],\n",
    "     pd.Series(0, index=np.arange(df['visitorsPerDateB'].sum() - len(ordersByUsersB['orders'])), name='orders')],axis=0\n",
    ")\n",
    "\n",
    "# Проверка критерием Манна-Уитни\n",
    "print(\"p-value: {0:.3f}\".format(stats.mannwhitneyu(sampleA, sampleB)[1]))\n",
    "\n",
    "# Относительный прирост среднего числа заказов группы B\n",
    "print(\"Относительный прирост среднего числа заказов группы B: {0:.3f}\".format(sampleB.mean() / sampleA.mean() - 1))"
   ]
  },
  {
   "cell_type": "markdown",
   "metadata": {},
   "source": [
    "<div style=\"border:solid orange 3px; padding: 20px\"> Т.к. 0,011 < 0,05, то нулевая гипотеза об отсутствии статистически значимых различий в среднем количестве заказов на посетителя между группами А и В отвергается. Относительный выигрыш группы B по \"сырым\" данным равен 16,0%."
   ]
  },
  {
   "cell_type": "markdown",
   "metadata": {},
   "source": [
    "### Статистическая значимость различий в среднем чеке заказа между группами по «сырым» данным"
   ]
  },
  {
   "cell_type": "markdown",
   "metadata": {},
   "source": [
    "Сформулируем гипотезы.\n",
    "\n",
    "- H0: различий в среднем чеке между группами А и В нет.\n",
    "- H1: различия в среднем чеке между группами А и В есть."
   ]
  },
  {
   "cell_type": "code",
   "execution_count": 30,
   "metadata": {},
   "outputs": [
    {
     "name": "stdout",
     "output_type": "stream",
     "text": [
      "p-value: 0.829\n",
      "Относительный прирост среднего чека группы B: 0.287\n"
     ]
    }
   ],
   "source": [
    "# Проверка критерием Манна-Уитни\n",
    "print(\n",
    "    'p-value: {0:.3f}'\n",
    "    .format(stats.mannwhitneyu(orders[orders['group']=='A']['revenue'], orders[orders['group']=='B']['revenue'])[1])\n",
    ")\n",
    "\n",
    "# Относительный прирост среднего чека группы B\n",
    "print(\n",
    "    'Относительный прирост среднего чека группы B: {0:.3f}'\n",
    "    .format(orders[orders['group']=='B']['revenue']\n",
    "            .mean()/orders[orders['group']=='A']['revenue']\n",
    "            .mean()-1)\n",
    ")"
   ]
  },
  {
   "cell_type": "markdown",
   "metadata": {},
   "source": [
    "<div style=\"border:solid orange 3px; padding: 20px\"> P-value 0.829 значительно больше 0.05. Значит, причин отвергать нулевую гипотезу и считать, что в среднем чеке есть различия, нет. Наблюдаемое различие в 28,7% между средними чеками групп А и В не является статистически значимым."
   ]
  },
  {
   "cell_type": "markdown",
   "metadata": {},
   "source": [
    "### Статистическая значимость различий в среднем количестве заказов на посетителя между группами по «очищенным» данным"
   ]
  },
  {
   "cell_type": "markdown",
   "metadata": {},
   "source": [
    "Примем за аномальных пользователей тех, кто совершил больше 2 заказов или совершил заказ дороже 53904. Так мы уберём 1% пользователей с наибольшим числом заказов и 1% пользователей с дорогими заказами. Сделаем срезы пользователей с числом заказов больше 2 — `usersWithManyOrders` и пользователей, совершивших заказы дороже 53904 — `usersWithExpensiveOrders`. Объединим их в таблице `abnormalUsers`.\n",
    "\n",
    "Узнаем, сколько всего аномальных пользователей атрибутом `shape`."
   ]
  },
  {
   "cell_type": "code",
   "execution_count": 31,
   "metadata": {},
   "outputs": [
    {
     "data": {
      "text/plain": [
       "16"
      ]
     },
     "execution_count": 31,
     "metadata": {},
     "output_type": "execute_result"
    }
   ],
   "source": [
    "orders_lim = np.percentile(ordersByUsers['orders'], 99)\n",
    "usersWithManyOrders = pd.concat(\n",
    "    [\n",
    "        ordersByUsersA[ordersByUsersA['orders'] > orders_lim]['userId'],\n",
    "        ordersByUsersB[ordersByUsersB['orders'] > orders_lim]['userId'],\n",
    "    ],\n",
    "    axis=0,\n",
    ")\n",
    "revenue_lim = np.percentile(orders['revenue'], 99)\n",
    "usersWithExpensiveOrders = orders[orders['revenue'] > revenue_lim]['visitorId']\n",
    "abnormalUsers = (\n",
    "    pd.concat([usersWithManyOrders, usersWithExpensiveOrders], axis=0)\n",
    "    .drop_duplicates()\n",
    "    .sort_values()\n",
    ")\n",
    "\n",
    "abnormalUsers.shape[0]"
   ]
  },
  {
   "cell_type": "markdown",
   "metadata": {},
   "source": [
    "Таким образом, будет отсеяно 16 пользователей с аномальными показателями. Посчитаем статистическую значимость различий в среднем количестве заказов на посетителя между группами по «очищенным» данным."
   ]
  },
  {
   "cell_type": "code",
   "execution_count": 32,
   "metadata": {},
   "outputs": [
    {
     "name": "stdout",
     "output_type": "stream",
     "text": [
      "p-value: 0.007\n",
      "Относительный прирост среднего числа заказов группы B: 0.189\n"
     ]
    }
   ],
   "source": [
    "sampleAFiltered = pd.concat(\n",
    "    [\n",
    "        ordersByUsersA[\n",
    "            np.logical_not(ordersByUsersA['userId'].isin(abnormalUsers))\n",
    "        ]['orders'],\n",
    "        pd.Series(\n",
    "            0,\n",
    "            index=np.arange(\n",
    "                df['visitorsPerDateA'].sum() - len(ordersByUsersA['orders'])\n",
    "            ),\n",
    "            name='orders',\n",
    "        ),\n",
    "    ],\n",
    "    axis=0,\n",
    ")\n",
    "\n",
    "sampleBFiltered = pd.concat(\n",
    "    [\n",
    "        ordersByUsersB[\n",
    "            np.logical_not(ordersByUsersB['userId'].isin(abnormalUsers))\n",
    "        ]['orders'],\n",
    "        pd.Series(\n",
    "            0,\n",
    "            index=np.arange(\n",
    "                df['visitorsPerDateB'].sum() - len(ordersByUsersB['orders'])\n",
    "            ),\n",
    "            name='orders',\n",
    "        ),\n",
    "    ],\n",
    "    axis=0,\n",
    ")\n",
    "print('p-value: {0:.3f}'.format(stats.mannwhitneyu(sampleAFiltered, sampleBFiltered)[1]))\n",
    "print('Относительный прирост среднего числа заказов группы B: {0:.3f}'.format(sampleBFiltered.mean()/sampleAFiltered.mean()-1))"
   ]
  },
  {
   "cell_type": "markdown",
   "metadata": {},
   "source": [
    "<div style=\"border:solid orange 3px; padding: 20px\"> Т.к. 0,007 < 0,05, то нулевая гипотеза об отсутствии статистически значимых различий в среднем количестве заказов на посетителя между группами А и В по \"очищенным\" данным также отвергается. Относительный выигрыш группы B по \"очищенным\" данным выше, чем по \"сырым\", и равен 18,9% (16,0% по \"сырым\")."
   ]
  },
  {
   "cell_type": "markdown",
   "metadata": {},
   "source": [
    "### Статистическая значимость различий в среднем чеке заказа между группами по «очищенным» данным"
   ]
  },
  {
   "cell_type": "code",
   "execution_count": 33,
   "metadata": {},
   "outputs": [
    {
     "name": "stdout",
     "output_type": "stream",
     "text": [
      "p-value: 0.788\n",
      "Относительный прирост среднего чека группы B: -0.032\n"
     ]
    }
   ],
   "source": [
    "print(\n",
    "    'p-value: {0:.3f}'.format(\n",
    "        stats.mannwhitneyu(\n",
    "            orders[\n",
    "                np.logical_and(\n",
    "                    orders['group'] == 'A',\n",
    "                    np.logical_not(orders['visitorId'].isin(abnormalUsers)),\n",
    "                )\n",
    "            ]['revenue'],\n",
    "            orders[\n",
    "                np.logical_and(\n",
    "                    orders['group'] == 'B',\n",
    "                    np.logical_not(orders['visitorId'].isin(abnormalUsers)),\n",
    "                )\n",
    "            ]['revenue'],\n",
    "        )[1]\n",
    "    )\n",
    ")\n",
    "\n",
    "print(\n",
    "    \"Относительный прирост среднего чека группы B: {0:.3f}\".format(\n",
    "        orders[\n",
    "            np.logical_and(\n",
    "                orders['group'] == 'B',\n",
    "                np.logical_not(orders['visitorId'].isin(abnormalUsers)),\n",
    "            )\n",
    "        ]['revenue'].mean()\n",
    "        / orders[\n",
    "            np.logical_and(\n",
    "                orders['group'] == 'A',\n",
    "                np.logical_not(orders['visitorId'].isin(abnormalUsers)),\n",
    "            )\n",
    "        ]['revenue'].mean()\n",
    "        - 1\n",
    "    )\n",
    ")"
   ]
  },
  {
   "cell_type": "markdown",
   "metadata": {},
   "source": [
    "<div style=\"border:solid orange 3px; padding: 20px\"> P-value 0.788 значительно больше 0.05. Значит, причин отвергать нулевую гипотезу и считать, что в среднем чеке есть различия, нет. Наблюдаемое различие в 3,2% между средними чеками групп А и В не является статистически значимым."
   ]
  },
  {
   "cell_type": "markdown",
   "metadata": {},
   "source": [
    "### Решение по результатам теста"
   ]
  },
  {
   "cell_type": "markdown",
   "metadata": {},
   "source": [
    "Варианты решений: 1. Остановить тест, зафиксировать победу одной из групп. 2. Остановить тест, зафиксировать отсутствие различий между группами. 3. Продолжить тест."
   ]
  },
  {
   "cell_type": "markdown",
   "metadata": {},
   "source": [
    "<div style=\"border:solid orange 3px; padding: 20px\"> Таким образом:\n",
    "\n",
    "- Имеются статистически значимые различия по среднему количеству заказов между группами по «сырым», и по данным после фильтрации аномалий. Выигрыш группы В по \"очищенным\" данным составил 18,9%;\n",
    "- Нет статистически значимого различия по среднему чеку между группами ни по «сырым», ни по данным после фильтрации аномалий;\n",
    "- График различия конверсии между группами сообщает, что результаты группы B лучше группы A и нет значительной тенденции к ухудшению.\n",
    "\n",
    "\n",
    "Исходя из обнаруженных фактов, тест предлагается остановить и зафиксировать победу группы В."
   ]
  }
 ],
 "metadata": {
  "ExecuteTimeLog": [
   {
    "duration": 807,
    "start_time": "2022-12-15T14:26:36.436Z"
   },
   {
    "duration": 81,
    "start_time": "2022-12-15T14:28:28.064Z"
   },
   {
    "duration": 33,
    "start_time": "2022-12-15T14:28:36.057Z"
   },
   {
    "duration": 3,
    "start_time": "2022-12-15T14:30:32.162Z"
   },
   {
    "duration": 31,
    "start_time": "2022-12-15T14:30:33.340Z"
   },
   {
    "duration": 30,
    "start_time": "2022-12-15T14:36:58.349Z"
   },
   {
    "duration": 12,
    "start_time": "2022-12-15T14:37:38.704Z"
   },
   {
    "duration": 13,
    "start_time": "2022-12-15T14:39:03.052Z"
   },
   {
    "duration": 12,
    "start_time": "2022-12-15T14:39:30.886Z"
   },
   {
    "duration": 13,
    "start_time": "2022-12-15T14:39:38.616Z"
   },
   {
    "duration": 106,
    "start_time": "2022-12-15T14:43:35.030Z"
   },
   {
    "duration": 77,
    "start_time": "2022-12-15T14:43:39.843Z"
   },
   {
    "duration": 13,
    "start_time": "2022-12-15T14:44:22.949Z"
   },
   {
    "duration": 11,
    "start_time": "2022-12-15T14:44:53.121Z"
   },
   {
    "duration": 21,
    "start_time": "2022-12-15T14:54:02.085Z"
   },
   {
    "duration": 301,
    "start_time": "2022-12-15T14:54:47.177Z"
   },
   {
    "duration": 12,
    "start_time": "2022-12-15T14:55:51.240Z"
   },
   {
    "duration": 35,
    "start_time": "2022-12-15T15:01:37.902Z"
   },
   {
    "duration": 287,
    "start_time": "2022-12-15T15:03:26.415Z"
   },
   {
    "duration": 284,
    "start_time": "2022-12-15T15:07:33.615Z"
   },
   {
    "duration": 443,
    "start_time": "2022-12-15T15:08:12.745Z"
   },
   {
    "duration": 348,
    "start_time": "2022-12-15T15:08:48.261Z"
   },
   {
    "duration": 325,
    "start_time": "2022-12-15T15:10:18.043Z"
   },
   {
    "duration": 230,
    "start_time": "2022-12-15T15:10:40.272Z"
   },
   {
    "duration": 222,
    "start_time": "2022-12-15T15:12:29.340Z"
   },
   {
    "duration": 239,
    "start_time": "2022-12-15T15:15:29.902Z"
   },
   {
    "duration": 223,
    "start_time": "2022-12-15T15:15:41.892Z"
   },
   {
    "duration": 219,
    "start_time": "2022-12-15T15:15:59.909Z"
   },
   {
    "duration": 202,
    "start_time": "2022-12-15T15:17:47.238Z"
   },
   {
    "duration": 349,
    "start_time": "2022-12-15T15:19:08.027Z"
   },
   {
    "duration": 340,
    "start_time": "2022-12-15T15:22:36.473Z"
   },
   {
    "duration": 336,
    "start_time": "2022-12-15T15:23:02.265Z"
   },
   {
    "duration": 361,
    "start_time": "2022-12-15T15:24:34.674Z"
   },
   {
    "duration": 341,
    "start_time": "2022-12-15T15:27:05.166Z"
   },
   {
    "duration": 227,
    "start_time": "2022-12-15T15:43:57.515Z"
   },
   {
    "duration": 251,
    "start_time": "2022-12-15T15:45:50.446Z"
   },
   {
    "duration": 247,
    "start_time": "2022-12-15T15:46:29.894Z"
   },
   {
    "duration": 5,
    "start_time": "2022-12-15T15:50:20.296Z"
   },
   {
    "duration": 234,
    "start_time": "2022-12-15T15:50:46.968Z"
   },
   {
    "duration": 341,
    "start_time": "2022-12-15T15:52:22.449Z"
   },
   {
    "duration": 296,
    "start_time": "2022-12-15T15:53:27.519Z"
   },
   {
    "duration": 1127,
    "start_time": "2022-12-16T07:05:56.230Z"
   },
   {
    "duration": 127,
    "start_time": "2022-12-16T07:05:57.359Z"
   },
   {
    "duration": 12,
    "start_time": "2022-12-16T07:05:57.488Z"
   },
   {
    "duration": 12,
    "start_time": "2022-12-16T07:05:57.501Z"
   },
   {
    "duration": 95,
    "start_time": "2022-12-16T07:05:57.515Z"
   },
   {
    "duration": 11,
    "start_time": "2022-12-16T07:05:57.611Z"
   },
   {
    "duration": 25,
    "start_time": "2022-12-16T07:05:57.623Z"
   },
   {
    "duration": 77,
    "start_time": "2022-12-16T07:05:57.649Z"
   },
   {
    "duration": 9,
    "start_time": "2022-12-16T07:05:57.728Z"
   },
   {
    "duration": 18,
    "start_time": "2022-12-16T07:05:57.738Z"
   },
   {
    "duration": 276,
    "start_time": "2022-12-16T07:05:57.757Z"
   },
   {
    "duration": 270,
    "start_time": "2022-12-16T07:05:58.035Z"
   },
   {
    "duration": 207,
    "start_time": "2022-12-16T07:05:58.307Z"
   },
   {
    "duration": 369,
    "start_time": "2022-12-16T07:05:58.517Z"
   },
   {
    "duration": 188,
    "start_time": "2022-12-16T07:05:58.888Z"
   },
   {
    "duration": 293,
    "start_time": "2022-12-16T07:05:59.077Z"
   },
   {
    "duration": 934,
    "start_time": "2022-12-16T07:17:45.313Z"
   },
   {
    "duration": 136,
    "start_time": "2022-12-16T07:19:01.455Z"
   },
   {
    "duration": 732,
    "start_time": "2022-12-16T07:20:15.535Z"
   },
   {
    "duration": 5,
    "start_time": "2022-12-16T07:20:28.478Z"
   },
   {
    "duration": 118,
    "start_time": "2022-12-16T07:35:27.456Z"
   },
   {
    "duration": 6,
    "start_time": "2022-12-16T07:35:28.842Z"
   },
   {
    "duration": 112,
    "start_time": "2022-12-16T07:45:19.626Z"
   },
   {
    "duration": 5,
    "start_time": "2022-12-16T07:45:49.789Z"
   },
   {
    "duration": 99,
    "start_time": "2022-12-16T08:05:08.727Z"
   },
   {
    "duration": 267,
    "start_time": "2022-12-16T08:09:27.540Z"
   },
   {
    "duration": 416,
    "start_time": "2022-12-16T08:10:44.050Z"
   },
   {
    "duration": 11,
    "start_time": "2022-12-16T08:11:50.296Z"
   },
   {
    "duration": 819,
    "start_time": "2022-12-16T08:17:31.047Z"
   },
   {
    "duration": 744,
    "start_time": "2022-12-16T08:18:06.747Z"
   },
   {
    "duration": 9,
    "start_time": "2022-12-16T08:18:41.776Z"
   },
   {
    "duration": 9,
    "start_time": "2022-12-16T08:19:04.710Z"
   },
   {
    "duration": 13,
    "start_time": "2022-12-16T08:20:59.710Z"
   },
   {
    "duration": 29,
    "start_time": "2022-12-16T08:21:30.292Z"
   },
   {
    "duration": 758,
    "start_time": "2022-12-16T08:22:06.191Z"
   },
   {
    "duration": 13,
    "start_time": "2022-12-16T08:22:52.438Z"
   },
   {
    "duration": 3,
    "start_time": "2022-12-16T08:26:09.626Z"
   },
   {
    "duration": 35,
    "start_time": "2022-12-16T08:26:09.631Z"
   },
   {
    "duration": 10,
    "start_time": "2022-12-16T08:26:09.667Z"
   },
   {
    "duration": 21,
    "start_time": "2022-12-16T08:26:09.679Z"
   },
   {
    "duration": 43,
    "start_time": "2022-12-16T08:26:09.702Z"
   },
   {
    "duration": 11,
    "start_time": "2022-12-16T08:26:09.746Z"
   },
   {
    "duration": 26,
    "start_time": "2022-12-16T08:26:09.759Z"
   },
   {
    "duration": 26,
    "start_time": "2022-12-16T08:26:09.786Z"
   },
   {
    "duration": 9,
    "start_time": "2022-12-16T08:26:09.815Z"
   },
   {
    "duration": 13,
    "start_time": "2022-12-16T08:26:09.826Z"
   },
   {
    "duration": 284,
    "start_time": "2022-12-16T08:26:09.840Z"
   },
   {
    "duration": 218,
    "start_time": "2022-12-16T08:26:10.126Z"
   },
   {
    "duration": 211,
    "start_time": "2022-12-16T08:26:10.345Z"
   },
   {
    "duration": 289,
    "start_time": "2022-12-16T08:26:10.557Z"
   },
   {
    "duration": 192,
    "start_time": "2022-12-16T08:26:10.848Z"
   },
   {
    "duration": 302,
    "start_time": "2022-12-16T08:26:11.042Z"
   },
   {
    "duration": 125,
    "start_time": "2022-12-16T08:26:11.345Z"
   },
   {
    "duration": 6,
    "start_time": "2022-12-16T08:26:11.472Z"
   },
   {
    "duration": 147,
    "start_time": "2022-12-16T08:26:11.479Z"
   },
   {
    "duration": 4,
    "start_time": "2022-12-16T08:26:11.628Z"
   },
   {
    "duration": 345,
    "start_time": "2022-12-16T08:26:11.634Z"
   },
   {
    "duration": 9,
    "start_time": "2022-12-16T08:26:11.981Z"
   },
   {
    "duration": 23,
    "start_time": "2022-12-16T08:26:11.991Z"
   },
   {
    "duration": 32,
    "start_time": "2022-12-16T08:26:12.017Z"
   },
   {
    "duration": 13,
    "start_time": "2022-12-16T08:26:12.050Z"
   },
   {
    "duration": 51,
    "start_time": "2022-12-16T14:23:18.240Z"
   },
   {
    "duration": 1355,
    "start_time": "2022-12-16T14:23:47.718Z"
   },
   {
    "duration": 145,
    "start_time": "2022-12-16T14:23:49.077Z"
   },
   {
    "duration": 13,
    "start_time": "2022-12-16T14:23:49.224Z"
   },
   {
    "duration": 13,
    "start_time": "2022-12-16T14:23:49.238Z"
   },
   {
    "duration": 105,
    "start_time": "2022-12-16T14:23:49.254Z"
   },
   {
    "duration": 12,
    "start_time": "2022-12-16T14:23:49.361Z"
   },
   {
    "duration": 26,
    "start_time": "2022-12-16T14:23:49.374Z"
   },
   {
    "duration": 14,
    "start_time": "2022-12-16T14:23:49.402Z"
   },
   {
    "duration": 65,
    "start_time": "2022-12-16T14:23:49.418Z"
   },
   {
    "duration": 10,
    "start_time": "2022-12-16T14:23:49.485Z"
   },
   {
    "duration": 14,
    "start_time": "2022-12-16T14:23:49.497Z"
   },
   {
    "duration": 8,
    "start_time": "2022-12-16T14:23:49.513Z"
   },
   {
    "duration": 316,
    "start_time": "2022-12-16T14:23:49.523Z"
   },
   {
    "duration": 335,
    "start_time": "2022-12-16T14:23:49.843Z"
   },
   {
    "duration": 234,
    "start_time": "2022-12-16T14:23:50.180Z"
   },
   {
    "duration": 408,
    "start_time": "2022-12-16T14:23:50.416Z"
   },
   {
    "duration": 250,
    "start_time": "2022-12-16T14:23:50.826Z"
   },
   {
    "duration": 337,
    "start_time": "2022-12-16T14:23:51.077Z"
   },
   {
    "duration": 143,
    "start_time": "2022-12-16T14:23:51.416Z"
   },
   {
    "duration": 6,
    "start_time": "2022-12-16T14:23:51.561Z"
   },
   {
    "duration": 155,
    "start_time": "2022-12-16T14:23:51.578Z"
   },
   {
    "duration": 5,
    "start_time": "2022-12-16T14:23:51.735Z"
   },
   {
    "duration": 392,
    "start_time": "2022-12-16T14:23:51.742Z"
   },
   {
    "duration": 11,
    "start_time": "2022-12-16T14:23:52.136Z"
   },
   {
    "duration": 10,
    "start_time": "2022-12-16T14:23:52.148Z"
   },
   {
    "duration": 43,
    "start_time": "2022-12-16T14:23:52.159Z"
   },
   {
    "duration": 14,
    "start_time": "2022-12-16T14:23:52.204Z"
   },
   {
    "duration": 5,
    "start_time": "2022-12-16T14:43:45.453Z"
   },
   {
    "duration": 33,
    "start_time": "2022-12-16T14:43:59.768Z"
   },
   {
    "duration": 13,
    "start_time": "2022-12-16T14:45:29.448Z"
   },
   {
    "duration": 10,
    "start_time": "2022-12-16T14:48:51.704Z"
   },
   {
    "duration": 14,
    "start_time": "2022-12-16T14:50:02.875Z"
   },
   {
    "duration": 12,
    "start_time": "2022-12-16T14:50:58.025Z"
   },
   {
    "duration": 221,
    "start_time": "2022-12-16T15:06:53.604Z"
   },
   {
    "duration": 282,
    "start_time": "2022-12-16T15:08:36.883Z"
   },
   {
    "duration": 142,
    "start_time": "2022-12-16T15:09:07.494Z"
   },
   {
    "duration": 248,
    "start_time": "2022-12-16T15:09:19.652Z"
   },
   {
    "duration": 140,
    "start_time": "2022-12-16T15:18:12.214Z"
   },
   {
    "duration": 136,
    "start_time": "2022-12-16T15:18:34.845Z"
   },
   {
    "duration": 4,
    "start_time": "2022-12-16T15:19:27.446Z"
   },
   {
    "duration": 339,
    "start_time": "2022-12-16T15:19:55.051Z"
   },
   {
    "duration": 360,
    "start_time": "2022-12-16T15:23:16.453Z"
   },
   {
    "duration": 383,
    "start_time": "2022-12-16T15:24:16.478Z"
   },
   {
    "duration": 410,
    "start_time": "2022-12-16T15:26:18.384Z"
   },
   {
    "duration": 348,
    "start_time": "2022-12-16T15:27:44.118Z"
   },
   {
    "duration": 467,
    "start_time": "2022-12-16T15:28:46.899Z"
   },
   {
    "duration": 471,
    "start_time": "2022-12-16T15:29:49.193Z"
   },
   {
    "duration": 358,
    "start_time": "2022-12-16T15:30:06.580Z"
   },
   {
    "duration": 365,
    "start_time": "2022-12-16T15:31:23.898Z"
   },
   {
    "duration": 483,
    "start_time": "2022-12-16T15:37:02.959Z"
   },
   {
    "duration": 490,
    "start_time": "2022-12-16T15:37:19.506Z"
   },
   {
    "duration": 114,
    "start_time": "2022-12-16T16:21:22.955Z"
   },
   {
    "duration": 132,
    "start_time": "2022-12-16T16:22:14.014Z"
   },
   {
    "duration": 1105,
    "start_time": "2022-12-18T05:05:40.368Z"
   },
   {
    "duration": 133,
    "start_time": "2022-12-18T05:05:41.476Z"
   },
   {
    "duration": 13,
    "start_time": "2022-12-18T05:05:41.611Z"
   },
   {
    "duration": 12,
    "start_time": "2022-12-18T05:05:41.626Z"
   },
   {
    "duration": 97,
    "start_time": "2022-12-18T05:05:41.639Z"
   },
   {
    "duration": 12,
    "start_time": "2022-12-18T05:05:41.737Z"
   },
   {
    "duration": 21,
    "start_time": "2022-12-18T05:05:41.751Z"
   },
   {
    "duration": 6,
    "start_time": "2022-12-18T05:05:41.774Z"
   },
   {
    "duration": 62,
    "start_time": "2022-12-18T05:05:41.781Z"
   },
   {
    "duration": 9,
    "start_time": "2022-12-18T05:05:41.846Z"
   },
   {
    "duration": 11,
    "start_time": "2022-12-18T05:05:41.857Z"
   },
   {
    "duration": 6,
    "start_time": "2022-12-18T05:05:41.870Z"
   },
   {
    "duration": 288,
    "start_time": "2022-12-18T05:05:41.877Z"
   },
   {
    "duration": 429,
    "start_time": "2022-12-18T05:05:42.166Z"
   },
   {
    "duration": 344,
    "start_time": "2022-12-18T05:05:42.597Z"
   },
   {
    "duration": 512,
    "start_time": "2022-12-18T05:05:42.943Z"
   },
   {
    "duration": 359,
    "start_time": "2022-12-18T05:05:43.457Z"
   },
   {
    "duration": 468,
    "start_time": "2022-12-18T05:05:43.818Z"
   },
   {
    "duration": 109,
    "start_time": "2022-12-18T05:05:44.287Z"
   },
   {
    "duration": 5,
    "start_time": "2022-12-18T05:05:44.398Z"
   },
   {
    "duration": 124,
    "start_time": "2022-12-18T05:05:44.416Z"
   },
   {
    "duration": 122,
    "start_time": "2022-12-18T05:05:44.542Z"
   },
   {
    "duration": 4,
    "start_time": "2022-12-18T05:05:44.665Z"
   },
   {
    "duration": 352,
    "start_time": "2022-12-18T05:05:44.671Z"
   },
   {
    "duration": 10,
    "start_time": "2022-12-18T05:05:45.025Z"
   },
   {
    "duration": 19,
    "start_time": "2022-12-18T05:05:45.037Z"
   },
   {
    "duration": 27,
    "start_time": "2022-12-18T05:05:45.058Z"
   },
   {
    "duration": 32,
    "start_time": "2022-12-18T05:05:45.088Z"
   },
   {
    "duration": 438,
    "start_time": "2022-12-18T05:49:45.174Z"
   },
   {
    "duration": 438,
    "start_time": "2022-12-18T06:08:35.529Z"
   },
   {
    "duration": 9,
    "start_time": "2022-12-18T07:07:17.214Z"
   },
   {
    "duration": 11,
    "start_time": "2022-12-18T08:27:31.356Z"
   },
   {
    "duration": 4,
    "start_time": "2022-12-18T08:27:45.019Z"
   },
   {
    "duration": 37,
    "start_time": "2022-12-18T08:27:45.025Z"
   },
   {
    "duration": 12,
    "start_time": "2022-12-18T08:27:45.064Z"
   },
   {
    "duration": 15,
    "start_time": "2022-12-18T08:27:45.077Z"
   },
   {
    "duration": 12,
    "start_time": "2022-12-18T08:27:45.094Z"
   },
   {
    "duration": 52,
    "start_time": "2022-12-18T08:27:45.108Z"
   },
   {
    "duration": 10,
    "start_time": "2022-12-18T08:27:45.162Z"
   },
   {
    "duration": 24,
    "start_time": "2022-12-18T08:27:45.173Z"
   },
   {
    "duration": 9,
    "start_time": "2022-12-18T08:27:45.198Z"
   },
   {
    "duration": 34,
    "start_time": "2022-12-18T08:27:45.208Z"
   },
   {
    "duration": 9,
    "start_time": "2022-12-18T08:27:45.245Z"
   },
   {
    "duration": 14,
    "start_time": "2022-12-18T08:27:45.255Z"
   },
   {
    "duration": 8,
    "start_time": "2022-12-18T08:27:45.270Z"
   },
   {
    "duration": 266,
    "start_time": "2022-12-18T08:27:45.279Z"
   },
   {
    "duration": 333,
    "start_time": "2022-12-18T08:27:45.546Z"
   },
   {
    "duration": 353,
    "start_time": "2022-12-18T08:27:45.881Z"
   },
   {
    "duration": 503,
    "start_time": "2022-12-18T08:27:46.236Z"
   },
   {
    "duration": 362,
    "start_time": "2022-12-18T08:27:46.741Z"
   },
   {
    "duration": 465,
    "start_time": "2022-12-18T08:27:47.104Z"
   },
   {
    "duration": 117,
    "start_time": "2022-12-18T08:27:47.571Z"
   },
   {
    "duration": 4,
    "start_time": "2022-12-18T08:27:47.690Z"
   },
   {
    "duration": 143,
    "start_time": "2022-12-18T08:27:47.696Z"
   },
   {
    "duration": 122,
    "start_time": "2022-12-18T08:27:47.841Z"
   },
   {
    "duration": 5,
    "start_time": "2022-12-18T08:27:47.964Z"
   },
   {
    "duration": 444,
    "start_time": "2022-12-18T08:27:47.970Z"
   },
   {
    "duration": 9,
    "start_time": "2022-12-18T08:27:48.416Z"
   },
   {
    "duration": 10,
    "start_time": "2022-12-18T08:27:48.426Z"
   },
   {
    "duration": 29,
    "start_time": "2022-12-18T08:27:48.438Z"
   },
   {
    "duration": 14,
    "start_time": "2022-12-18T08:27:48.469Z"
   },
   {
    "duration": 379,
    "start_time": "2022-12-18T08:52:08.464Z"
   },
   {
    "duration": 37,
    "start_time": "2022-12-18T08:53:02.799Z"
   },
   {
    "duration": 4,
    "start_time": "2022-12-18T08:53:27.362Z"
   },
   {
    "duration": 30,
    "start_time": "2022-12-18T08:53:27.370Z"
   },
   {
    "duration": 10,
    "start_time": "2022-12-18T08:53:27.402Z"
   },
   {
    "duration": 37,
    "start_time": "2022-12-18T08:53:27.414Z"
   },
   {
    "duration": 14,
    "start_time": "2022-12-18T08:53:27.453Z"
   },
   {
    "duration": 45,
    "start_time": "2022-12-18T08:53:27.469Z"
   },
   {
    "duration": 12,
    "start_time": "2022-12-18T08:53:27.528Z"
   },
   {
    "duration": 21,
    "start_time": "2022-12-18T08:53:27.542Z"
   },
   {
    "duration": 14,
    "start_time": "2022-12-18T08:53:27.565Z"
   },
   {
    "duration": 21,
    "start_time": "2022-12-18T08:53:27.580Z"
   },
   {
    "duration": 27,
    "start_time": "2022-12-18T08:53:27.603Z"
   },
   {
    "duration": 16,
    "start_time": "2022-12-18T08:53:27.631Z"
   },
   {
    "duration": 22,
    "start_time": "2022-12-18T08:53:27.649Z"
   },
   {
    "duration": 315,
    "start_time": "2022-12-18T08:53:27.673Z"
   },
   {
    "duration": 382,
    "start_time": "2022-12-18T08:53:27.991Z"
   },
   {
    "duration": 397,
    "start_time": "2022-12-18T08:53:28.374Z"
   },
   {
    "duration": 510,
    "start_time": "2022-12-18T08:53:28.772Z"
   },
   {
    "duration": 390,
    "start_time": "2022-12-18T08:53:29.284Z"
   },
   {
    "duration": 511,
    "start_time": "2022-12-18T08:53:29.676Z"
   },
   {
    "duration": 120,
    "start_time": "2022-12-18T08:53:30.189Z"
   },
   {
    "duration": 10,
    "start_time": "2022-12-18T08:53:30.311Z"
   },
   {
    "duration": 182,
    "start_time": "2022-12-18T08:53:30.322Z"
   },
   {
    "duration": 134,
    "start_time": "2022-12-18T08:53:30.506Z"
   },
   {
    "duration": 5,
    "start_time": "2022-12-18T08:53:30.642Z"
   },
   {
    "duration": 416,
    "start_time": "2022-12-18T08:53:30.648Z"
   },
   {
    "duration": 9,
    "start_time": "2022-12-18T08:53:31.066Z"
   },
   {
    "duration": 62,
    "start_time": "2022-12-18T08:53:31.077Z"
   },
   {
    "duration": 75,
    "start_time": "2022-12-18T08:53:31.141Z"
   },
   {
    "duration": 42,
    "start_time": "2022-12-18T08:53:31.218Z"
   },
   {
    "duration": 9,
    "start_time": "2022-12-18T09:06:21.288Z"
   },
   {
    "duration": 3,
    "start_time": "2022-12-18T09:16:57.342Z"
   },
   {
    "duration": 36,
    "start_time": "2022-12-18T09:16:57.349Z"
   },
   {
    "duration": 9,
    "start_time": "2022-12-18T09:16:57.386Z"
   },
   {
    "duration": 15,
    "start_time": "2022-12-18T09:16:57.397Z"
   },
   {
    "duration": 29,
    "start_time": "2022-12-18T09:16:57.414Z"
   },
   {
    "duration": 48,
    "start_time": "2022-12-18T09:16:57.446Z"
   },
   {
    "duration": 10,
    "start_time": "2022-12-18T09:16:57.495Z"
   },
   {
    "duration": 36,
    "start_time": "2022-12-18T09:16:57.506Z"
   },
   {
    "duration": 7,
    "start_time": "2022-12-18T09:16:57.543Z"
   },
   {
    "duration": 26,
    "start_time": "2022-12-18T09:16:57.551Z"
   },
   {
    "duration": 11,
    "start_time": "2022-12-18T09:16:57.580Z"
   },
   {
    "duration": 13,
    "start_time": "2022-12-18T09:16:57.592Z"
   },
   {
    "duration": 40,
    "start_time": "2022-12-18T09:16:57.607Z"
   },
   {
    "duration": 288,
    "start_time": "2022-12-18T09:16:57.648Z"
   },
   {
    "duration": 386,
    "start_time": "2022-12-18T09:16:57.937Z"
   },
   {
    "duration": 364,
    "start_time": "2022-12-18T09:16:58.333Z"
   },
   {
    "duration": 573,
    "start_time": "2022-12-18T09:16:58.699Z"
   },
   {
    "duration": 388,
    "start_time": "2022-12-18T09:16:59.273Z"
   },
   {
    "duration": 532,
    "start_time": "2022-12-18T09:16:59.663Z"
   },
   {
    "duration": 134,
    "start_time": "2022-12-18T09:17:00.196Z"
   },
   {
    "duration": 5,
    "start_time": "2022-12-18T09:17:00.332Z"
   },
   {
    "duration": 167,
    "start_time": "2022-12-18T09:17:00.339Z"
   },
   {
    "duration": 134,
    "start_time": "2022-12-18T09:17:00.508Z"
   },
   {
    "duration": 9,
    "start_time": "2022-12-18T09:17:00.644Z"
   },
   {
    "duration": 19,
    "start_time": "2022-12-18T09:17:00.655Z"
   },
   {
    "duration": 386,
    "start_time": "2022-12-18T09:17:00.676Z"
   },
   {
    "duration": 10,
    "start_time": "2022-12-18T09:17:01.063Z"
   },
   {
    "duration": 23,
    "start_time": "2022-12-18T09:17:01.075Z"
   },
   {
    "duration": 71,
    "start_time": "2022-12-18T09:17:01.101Z"
   },
   {
    "duration": 62,
    "start_time": "2022-12-18T09:17:01.174Z"
   },
   {
    "duration": 1155,
    "start_time": "2022-12-18T14:29:00.102Z"
   },
   {
    "duration": 161,
    "start_time": "2022-12-18T14:29:01.260Z"
   },
   {
    "duration": 10,
    "start_time": "2022-12-18T14:29:01.423Z"
   },
   {
    "duration": 32,
    "start_time": "2022-12-18T14:29:01.435Z"
   },
   {
    "duration": 29,
    "start_time": "2022-12-18T14:29:01.469Z"
   },
   {
    "duration": 113,
    "start_time": "2022-12-18T14:29:01.499Z"
   },
   {
    "duration": 11,
    "start_time": "2022-12-18T14:29:01.614Z"
   },
   {
    "duration": 35,
    "start_time": "2022-12-18T14:29:01.627Z"
   },
   {
    "duration": 23,
    "start_time": "2022-12-18T14:29:01.664Z"
   },
   {
    "duration": 100,
    "start_time": "2022-12-18T14:29:01.689Z"
   },
   {
    "duration": 11,
    "start_time": "2022-12-18T14:29:01.791Z"
   },
   {
    "duration": 35,
    "start_time": "2022-12-18T14:29:01.803Z"
   },
   {
    "duration": 18,
    "start_time": "2022-12-18T14:29:01.840Z"
   },
   {
    "duration": 271,
    "start_time": "2022-12-18T14:29:01.860Z"
   },
   {
    "duration": 471,
    "start_time": "2022-12-18T14:29:02.133Z"
   },
   {
    "duration": 357,
    "start_time": "2022-12-18T14:29:02.606Z"
   },
   {
    "duration": 511,
    "start_time": "2022-12-18T14:29:02.966Z"
   },
   {
    "duration": 354,
    "start_time": "2022-12-18T14:29:03.478Z"
   },
   {
    "duration": 492,
    "start_time": "2022-12-18T14:29:03.834Z"
   },
   {
    "duration": 112,
    "start_time": "2022-12-18T14:29:04.328Z"
   },
   {
    "duration": 13,
    "start_time": "2022-12-18T14:29:04.442Z"
   },
   {
    "duration": 139,
    "start_time": "2022-12-18T14:29:04.458Z"
   },
   {
    "duration": 137,
    "start_time": "2022-12-18T14:29:04.599Z"
   },
   {
    "duration": 20,
    "start_time": "2022-12-18T14:29:04.738Z"
   },
   {
    "duration": 5,
    "start_time": "2022-12-18T14:29:04.759Z"
   },
   {
    "duration": 353,
    "start_time": "2022-12-18T14:29:04.766Z"
   },
   {
    "duration": 10,
    "start_time": "2022-12-18T14:29:05.121Z"
   },
   {
    "duration": 22,
    "start_time": "2022-12-18T14:29:05.133Z"
   },
   {
    "duration": 26,
    "start_time": "2022-12-18T14:29:05.156Z"
   },
   {
    "duration": 15,
    "start_time": "2022-12-18T14:29:05.183Z"
   },
   {
    "duration": 1316,
    "start_time": "2022-12-19T02:59:19.017Z"
   },
   {
    "duration": 149,
    "start_time": "2022-12-19T02:59:21.166Z"
   },
   {
    "duration": 13,
    "start_time": "2022-12-19T02:59:22.147Z"
   },
   {
    "duration": 13,
    "start_time": "2022-12-19T02:59:25.945Z"
   },
   {
    "duration": 16,
    "start_time": "2022-12-19T02:59:30.681Z"
   },
   {
    "duration": 119,
    "start_time": "2022-12-19T02:59:37.257Z"
   },
   {
    "duration": 12,
    "start_time": "2022-12-19T02:59:40.013Z"
   },
   {
    "duration": 22,
    "start_time": "2022-12-19T02:59:43.698Z"
   },
   {
    "duration": 6,
    "start_time": "2022-12-19T02:59:44.461Z"
   },
   {
    "duration": 78,
    "start_time": "2022-12-19T02:59:47.135Z"
   },
   {
    "duration": 10,
    "start_time": "2022-12-19T02:59:47.823Z"
   },
   {
    "duration": 12,
    "start_time": "2022-12-19T02:59:51.581Z"
   },
   {
    "duration": 5,
    "start_time": "2022-12-19T02:59:52.365Z"
   },
   {
    "duration": 4,
    "start_time": "2022-12-19T02:59:58.864Z"
   },
   {
    "duration": 15,
    "start_time": "2022-12-19T02:59:59.791Z"
   },
   {
    "duration": 62,
    "start_time": "2022-12-19T03:09:08.955Z"
   },
   {
    "duration": 14,
    "start_time": "2022-12-19T03:09:36.174Z"
   },
   {
    "duration": 12,
    "start_time": "2022-12-19T03:13:19.852Z"
   },
   {
    "duration": 15,
    "start_time": "2022-12-19T03:17:09.213Z"
   },
   {
    "duration": 13,
    "start_time": "2022-12-19T03:17:22.078Z"
   },
   {
    "duration": 120,
    "start_time": "2022-12-19T03:18:57.515Z"
   },
   {
    "duration": 6,
    "start_time": "2022-12-19T03:20:19.790Z"
   },
   {
    "duration": 14,
    "start_time": "2022-12-19T03:20:34.477Z"
   },
   {
    "duration": 12,
    "start_time": "2022-12-19T03:22:59.068Z"
   },
   {
    "duration": 12,
    "start_time": "2022-12-19T03:23:00.288Z"
   },
   {
    "duration": 278,
    "start_time": "2022-12-19T03:26:28.538Z"
   },
   {
    "duration": 464,
    "start_time": "2022-12-19T03:26:37.076Z"
   },
   {
    "duration": 351,
    "start_time": "2022-12-19T03:26:49.492Z"
   },
   {
    "duration": 361,
    "start_time": "2022-12-19T03:27:57.266Z"
   },
   {
    "duration": 587,
    "start_time": "2022-12-19T03:28:12.665Z"
   },
   {
    "duration": 368,
    "start_time": "2022-12-19T03:28:20.470Z"
   },
   {
    "duration": 450,
    "start_time": "2022-12-19T03:28:27.269Z"
   },
   {
    "duration": 393,
    "start_time": "2022-12-19T03:28:37.521Z"
   },
   {
    "duration": 393,
    "start_time": "2022-12-19T03:28:42.073Z"
   },
   {
    "duration": 475,
    "start_time": "2022-12-19T03:28:58.065Z"
   },
   {
    "duration": 565,
    "start_time": "2022-12-19T03:29:02.829Z"
   },
   {
    "duration": 10,
    "start_time": "2022-12-19T03:48:42.054Z"
   },
   {
    "duration": 157,
    "start_time": "2022-12-19T03:48:50.370Z"
   },
   {
    "duration": 8,
    "start_time": "2022-12-19T03:48:59.903Z"
   },
   {
    "duration": 54,
    "start_time": "2022-12-19T10:09:48.756Z"
   },
   {
    "duration": 151,
    "start_time": "2022-12-19T10:18:30.858Z"
   },
   {
    "duration": 145,
    "start_time": "2022-12-19T10:19:04.421Z"
   },
   {
    "duration": 6,
    "start_time": "2022-12-19T10:19:29.543Z"
   },
   {
    "duration": 179,
    "start_time": "2022-12-19T10:19:42.433Z"
   },
   {
    "duration": 131,
    "start_time": "2022-12-19T10:19:52.002Z"
   },
   {
    "duration": 110,
    "start_time": "2022-12-19T10:20:10.524Z"
   },
   {
    "duration": 122,
    "start_time": "2022-12-19T10:20:14.502Z"
   },
   {
    "duration": 11,
    "start_time": "2022-12-19T10:20:19.594Z"
   },
   {
    "duration": 5,
    "start_time": "2022-12-19T10:20:27.007Z"
   },
   {
    "duration": 358,
    "start_time": "2022-12-19T10:20:35.567Z"
   },
   {
    "duration": 14,
    "start_time": "2022-12-19T10:20:49.293Z"
   },
   {
    "duration": 12,
    "start_time": "2022-12-19T10:20:56.755Z"
   },
   {
    "duration": 29,
    "start_time": "2022-12-19T10:21:09.842Z"
   },
   {
    "duration": 17,
    "start_time": "2022-12-19T10:21:13.454Z"
   },
   {
    "duration": 4,
    "start_time": "2022-12-19T10:22:42.055Z"
   },
   {
    "duration": 4,
    "start_time": "2022-12-19T10:22:43.577Z"
   },
   {
    "duration": 1137,
    "start_time": "2022-12-19T14:16:39.628Z"
   },
   {
    "duration": 123,
    "start_time": "2022-12-19T14:16:40.767Z"
   },
   {
    "duration": 11,
    "start_time": "2022-12-19T14:16:40.892Z"
   },
   {
    "duration": 30,
    "start_time": "2022-12-19T14:16:40.905Z"
   },
   {
    "duration": 12,
    "start_time": "2022-12-19T14:16:40.936Z"
   },
   {
    "duration": 97,
    "start_time": "2022-12-19T14:16:40.949Z"
   },
   {
    "duration": 12,
    "start_time": "2022-12-19T14:16:41.048Z"
   },
   {
    "duration": 27,
    "start_time": "2022-12-19T14:16:41.061Z"
   },
   {
    "duration": 7,
    "start_time": "2022-12-19T14:16:41.089Z"
   },
   {
    "duration": 65,
    "start_time": "2022-12-19T14:16:41.099Z"
   },
   {
    "duration": 10,
    "start_time": "2022-12-19T14:16:41.166Z"
   },
   {
    "duration": 22,
    "start_time": "2022-12-19T14:16:41.177Z"
   },
   {
    "duration": 8,
    "start_time": "2022-12-19T14:16:41.201Z"
   },
   {
    "duration": 14,
    "start_time": "2022-12-19T14:16:41.211Z"
   },
   {
    "duration": 13,
    "start_time": "2022-12-19T14:16:41.226Z"
   },
   {
    "duration": 6,
    "start_time": "2022-12-19T14:16:41.241Z"
   },
   {
    "duration": 13,
    "start_time": "2022-12-19T14:16:41.248Z"
   },
   {
    "duration": 285,
    "start_time": "2022-12-19T14:16:41.262Z"
   },
   {
    "duration": 401,
    "start_time": "2022-12-19T14:16:41.549Z"
   },
   {
    "duration": 334,
    "start_time": "2022-12-19T14:16:41.952Z"
   },
   {
    "duration": 483,
    "start_time": "2022-12-19T14:16:42.288Z"
   },
   {
    "duration": 357,
    "start_time": "2022-12-19T14:16:42.772Z"
   },
   {
    "duration": 431,
    "start_time": "2022-12-19T14:16:43.130Z"
   },
   {
    "duration": 142,
    "start_time": "2022-12-19T14:16:43.563Z"
   },
   {
    "duration": 14,
    "start_time": "2022-12-19T14:16:43.707Z"
   },
   {
    "duration": 132,
    "start_time": "2022-12-19T14:16:43.722Z"
   },
   {
    "duration": 116,
    "start_time": "2022-12-19T14:16:43.855Z"
   },
   {
    "duration": 8,
    "start_time": "2022-12-19T14:16:43.974Z"
   },
   {
    "duration": 4,
    "start_time": "2022-12-19T14:16:43.984Z"
   },
   {
    "duration": 364,
    "start_time": "2022-12-19T14:16:43.989Z"
   },
   {
    "duration": 10,
    "start_time": "2022-12-19T14:16:44.355Z"
   },
   {
    "duration": 9,
    "start_time": "2022-12-19T14:16:44.366Z"
   },
   {
    "duration": 48,
    "start_time": "2022-12-19T14:16:44.377Z"
   },
   {
    "duration": 14,
    "start_time": "2022-12-19T14:16:44.426Z"
   },
   {
    "duration": 7,
    "start_time": "2022-12-19T14:22:21.855Z"
   },
   {
    "duration": 97,
    "start_time": "2022-12-19T14:22:32.024Z"
   },
   {
    "duration": 5,
    "start_time": "2022-12-19T14:22:42.816Z"
   },
   {
    "duration": 4,
    "start_time": "2022-12-19T14:23:37.652Z"
   },
   {
    "duration": 41,
    "start_time": "2022-12-19T14:23:37.657Z"
   },
   {
    "duration": 12,
    "start_time": "2022-12-19T14:23:37.701Z"
   },
   {
    "duration": 30,
    "start_time": "2022-12-19T14:23:37.715Z"
   },
   {
    "duration": 32,
    "start_time": "2022-12-19T14:23:37.748Z"
   },
   {
    "duration": 46,
    "start_time": "2022-12-19T14:23:37.781Z"
   },
   {
    "duration": 10,
    "start_time": "2022-12-19T14:23:37.830Z"
   },
   {
    "duration": 26,
    "start_time": "2022-12-19T14:23:37.842Z"
   },
   {
    "duration": 12,
    "start_time": "2022-12-19T14:23:37.869Z"
   },
   {
    "duration": 33,
    "start_time": "2022-12-19T14:23:37.883Z"
   },
   {
    "duration": 9,
    "start_time": "2022-12-19T14:23:37.919Z"
   },
   {
    "duration": 24,
    "start_time": "2022-12-19T14:23:37.930Z"
   },
   {
    "duration": 32,
    "start_time": "2022-12-19T14:23:37.957Z"
   },
   {
    "duration": 21,
    "start_time": "2022-12-19T14:23:37.991Z"
   },
   {
    "duration": 12,
    "start_time": "2022-12-19T14:23:38.014Z"
   },
   {
    "duration": 21,
    "start_time": "2022-12-19T14:23:38.028Z"
   },
   {
    "duration": 263,
    "start_time": "2022-12-19T14:23:38.051Z"
   },
   {
    "duration": 408,
    "start_time": "2022-12-19T14:23:38.315Z"
   },
   {
    "duration": 343,
    "start_time": "2022-12-19T14:23:38.725Z"
   },
   {
    "duration": 444,
    "start_time": "2022-12-19T14:23:39.069Z"
   },
   {
    "duration": 336,
    "start_time": "2022-12-19T14:23:39.521Z"
   },
   {
    "duration": 479,
    "start_time": "2022-12-19T14:23:39.859Z"
   },
   {
    "duration": 144,
    "start_time": "2022-12-19T14:23:40.340Z"
   },
   {
    "duration": 4,
    "start_time": "2022-12-19T14:23:40.486Z"
   },
   {
    "duration": 150,
    "start_time": "2022-12-19T14:23:40.492Z"
   },
   {
    "duration": 113,
    "start_time": "2022-12-19T14:23:40.643Z"
   },
   {
    "duration": 9,
    "start_time": "2022-12-19T14:23:40.757Z"
   },
   {
    "duration": 11,
    "start_time": "2022-12-19T14:23:40.768Z"
   },
   {
    "duration": 349,
    "start_time": "2022-12-19T14:23:40.781Z"
   },
   {
    "duration": 9,
    "start_time": "2022-12-19T14:23:41.132Z"
   },
   {
    "duration": 67,
    "start_time": "2022-12-19T14:23:41.142Z"
   },
   {
    "duration": 51,
    "start_time": "2022-12-19T14:23:41.211Z"
   },
   {
    "duration": 16,
    "start_time": "2022-12-19T14:23:41.264Z"
   },
   {
    "duration": 465,
    "start_time": "2022-12-19T14:53:51.167Z"
   },
   {
    "duration": 123,
    "start_time": "2022-12-19T14:57:37.087Z"
   },
   {
    "duration": 46,
    "start_time": "2022-12-19T14:57:40.745Z"
   },
   {
    "duration": 51,
    "start_time": "2022-12-19T14:59:36.265Z"
   },
   {
    "duration": 49,
    "start_time": "2022-12-19T14:59:46.505Z"
   },
   {
    "duration": 144,
    "start_time": "2022-12-19T14:59:51.798Z"
   },
   {
    "duration": 53,
    "start_time": "2022-12-19T15:00:16.131Z"
   },
   {
    "duration": 188,
    "start_time": "2022-12-19T15:05:53.544Z"
   },
   {
    "duration": 402,
    "start_time": "2022-12-19T15:11:32.530Z"
   },
   {
    "duration": 362,
    "start_time": "2022-12-19T15:12:04.744Z"
   },
   {
    "duration": 10,
    "start_time": "2022-12-19T15:16:27.818Z"
   },
   {
    "duration": 10,
    "start_time": "2022-12-19T15:16:32.804Z"
   },
   {
    "duration": 9,
    "start_time": "2022-12-19T15:16:37.543Z"
   },
   {
    "duration": 12,
    "start_time": "2022-12-19T15:17:46.679Z"
   },
   {
    "duration": 26,
    "start_time": "2022-12-19T15:18:18.437Z"
   },
   {
    "duration": 9,
    "start_time": "2022-12-19T15:24:53.239Z"
   },
   {
    "duration": 3,
    "start_time": "2022-12-19T15:29:43.649Z"
   },
   {
    "duration": 38,
    "start_time": "2022-12-19T15:29:43.654Z"
   },
   {
    "duration": 8,
    "start_time": "2022-12-19T15:29:43.694Z"
   },
   {
    "duration": 22,
    "start_time": "2022-12-19T15:29:43.704Z"
   },
   {
    "duration": 20,
    "start_time": "2022-12-19T15:29:43.728Z"
   },
   {
    "duration": 56,
    "start_time": "2022-12-19T15:29:43.749Z"
   },
   {
    "duration": 9,
    "start_time": "2022-12-19T15:29:43.807Z"
   },
   {
    "duration": 21,
    "start_time": "2022-12-19T15:29:43.817Z"
   },
   {
    "duration": 4,
    "start_time": "2022-12-19T15:29:43.840Z"
   },
   {
    "duration": 20,
    "start_time": "2022-12-19T15:29:43.846Z"
   },
   {
    "duration": 8,
    "start_time": "2022-12-19T15:29:43.869Z"
   },
   {
    "duration": 26,
    "start_time": "2022-12-19T15:29:43.878Z"
   },
   {
    "duration": 27,
    "start_time": "2022-12-19T15:29:43.905Z"
   },
   {
    "duration": 19,
    "start_time": "2022-12-19T15:29:43.933Z"
   },
   {
    "duration": 22,
    "start_time": "2022-12-19T15:29:43.954Z"
   },
   {
    "duration": 16,
    "start_time": "2022-12-19T15:29:43.978Z"
   },
   {
    "duration": 271,
    "start_time": "2022-12-19T15:29:43.995Z"
   },
   {
    "duration": 317,
    "start_time": "2022-12-19T15:29:44.268Z"
   },
   {
    "duration": 317,
    "start_time": "2022-12-19T15:29:44.586Z"
   },
   {
    "duration": 420,
    "start_time": "2022-12-19T15:29:44.905Z"
   },
   {
    "duration": 345,
    "start_time": "2022-12-19T15:29:45.327Z"
   },
   {
    "duration": 514,
    "start_time": "2022-12-19T15:29:45.674Z"
   },
   {
    "duration": 138,
    "start_time": "2022-12-19T15:29:46.190Z"
   },
   {
    "duration": 4,
    "start_time": "2022-12-19T15:29:46.329Z"
   },
   {
    "duration": 141,
    "start_time": "2022-12-19T15:29:46.335Z"
   },
   {
    "duration": 143,
    "start_time": "2022-12-19T15:29:46.478Z"
   },
   {
    "duration": 9,
    "start_time": "2022-12-19T15:29:46.623Z"
   },
   {
    "duration": 8,
    "start_time": "2022-12-19T15:29:46.634Z"
   },
   {
    "duration": 424,
    "start_time": "2022-12-19T15:29:46.645Z"
   },
   {
    "duration": 8,
    "start_time": "2022-12-19T15:29:47.071Z"
   },
   {
    "duration": 14,
    "start_time": "2022-12-19T15:29:47.081Z"
   },
   {
    "duration": 38,
    "start_time": "2022-12-19T15:29:47.096Z"
   },
   {
    "duration": 11,
    "start_time": "2022-12-19T15:29:47.136Z"
   },
   {
    "duration": 3,
    "start_time": "2022-12-19T15:34:36.645Z"
   },
   {
    "duration": 37,
    "start_time": "2022-12-19T15:34:36.651Z"
   },
   {
    "duration": 12,
    "start_time": "2022-12-19T15:34:36.690Z"
   },
   {
    "duration": 14,
    "start_time": "2022-12-19T15:34:36.704Z"
   },
   {
    "duration": 13,
    "start_time": "2022-12-19T15:34:36.720Z"
   },
   {
    "duration": 50,
    "start_time": "2022-12-19T15:34:36.735Z"
   },
   {
    "duration": 10,
    "start_time": "2022-12-19T15:34:36.787Z"
   },
   {
    "duration": 18,
    "start_time": "2022-12-19T15:34:36.800Z"
   },
   {
    "duration": 5,
    "start_time": "2022-12-19T15:34:36.820Z"
   },
   {
    "duration": 30,
    "start_time": "2022-12-19T15:34:36.827Z"
   },
   {
    "duration": 10,
    "start_time": "2022-12-19T15:34:36.859Z"
   },
   {
    "duration": 18,
    "start_time": "2022-12-19T15:34:36.871Z"
   },
   {
    "duration": 15,
    "start_time": "2022-12-19T15:34:36.891Z"
   },
   {
    "duration": 16,
    "start_time": "2022-12-19T15:34:36.907Z"
   },
   {
    "duration": 3,
    "start_time": "2022-12-19T15:34:36.925Z"
   },
   {
    "duration": 13,
    "start_time": "2022-12-19T15:34:36.930Z"
   },
   {
    "duration": 282,
    "start_time": "2022-12-19T15:34:36.944Z"
   },
   {
    "duration": 333,
    "start_time": "2022-12-19T15:34:37.227Z"
   },
   {
    "duration": 330,
    "start_time": "2022-12-19T15:34:37.562Z"
   },
   {
    "duration": 428,
    "start_time": "2022-12-19T15:34:37.894Z"
   },
   {
    "duration": 362,
    "start_time": "2022-12-19T15:34:38.323Z"
   },
   {
    "duration": 465,
    "start_time": "2022-12-19T15:34:38.687Z"
   },
   {
    "duration": 146,
    "start_time": "2022-12-19T15:34:39.153Z"
   },
   {
    "duration": 5,
    "start_time": "2022-12-19T15:34:39.300Z"
   },
   {
    "duration": 132,
    "start_time": "2022-12-19T15:34:39.306Z"
   },
   {
    "duration": 126,
    "start_time": "2022-12-19T15:34:39.439Z"
   },
   {
    "duration": 8,
    "start_time": "2022-12-19T15:34:39.567Z"
   },
   {
    "duration": 13,
    "start_time": "2022-12-19T15:34:39.577Z"
   },
   {
    "duration": 348,
    "start_time": "2022-12-19T15:34:39.593Z"
   },
   {
    "duration": 9,
    "start_time": "2022-12-19T15:34:39.943Z"
   },
   {
    "duration": 16,
    "start_time": "2022-12-19T15:34:39.953Z"
   },
   {
    "duration": 34,
    "start_time": "2022-12-19T15:34:39.971Z"
   },
   {
    "duration": 19,
    "start_time": "2022-12-19T15:34:40.007Z"
   },
   {
    "duration": 1028,
    "start_time": "2022-12-19T15:48:04.598Z"
   },
   {
    "duration": 94,
    "start_time": "2022-12-19T15:48:05.627Z"
   },
   {
    "duration": 11,
    "start_time": "2022-12-19T15:48:05.724Z"
   },
   {
    "duration": 23,
    "start_time": "2022-12-19T15:48:05.739Z"
   },
   {
    "duration": 44,
    "start_time": "2022-12-19T15:48:05.764Z"
   },
   {
    "duration": 55,
    "start_time": "2022-12-19T15:48:05.810Z"
   },
   {
    "duration": 9,
    "start_time": "2022-12-19T15:48:05.867Z"
   },
   {
    "duration": 26,
    "start_time": "2022-12-19T15:48:05.878Z"
   },
   {
    "duration": 5,
    "start_time": "2022-12-19T15:48:05.905Z"
   },
   {
    "duration": 21,
    "start_time": "2022-12-19T15:48:05.912Z"
   },
   {
    "duration": 9,
    "start_time": "2022-12-19T15:48:05.935Z"
   },
   {
    "duration": 10,
    "start_time": "2022-12-19T15:48:05.945Z"
   },
   {
    "duration": 10,
    "start_time": "2022-12-19T15:48:05.957Z"
   },
   {
    "duration": 16,
    "start_time": "2022-12-19T15:48:05.969Z"
   },
   {
    "duration": 14,
    "start_time": "2022-12-19T15:48:05.986Z"
   },
   {
    "duration": 12,
    "start_time": "2022-12-19T15:48:06.001Z"
   },
   {
    "duration": 264,
    "start_time": "2022-12-19T15:48:06.015Z"
   },
   {
    "duration": 394,
    "start_time": "2022-12-19T15:48:06.281Z"
   },
   {
    "duration": 327,
    "start_time": "2022-12-19T15:48:06.677Z"
   },
   {
    "duration": 422,
    "start_time": "2022-12-19T15:48:07.005Z"
   },
   {
    "duration": 339,
    "start_time": "2022-12-19T15:48:07.429Z"
   },
   {
    "duration": 465,
    "start_time": "2022-12-19T15:48:07.770Z"
   },
   {
    "duration": 139,
    "start_time": "2022-12-19T15:48:08.236Z"
   },
   {
    "duration": 5,
    "start_time": "2022-12-19T15:48:08.376Z"
   },
   {
    "duration": 134,
    "start_time": "2022-12-19T15:48:08.382Z"
   },
   {
    "duration": 125,
    "start_time": "2022-12-19T15:48:08.520Z"
   },
   {
    "duration": 8,
    "start_time": "2022-12-19T15:48:08.646Z"
   },
   {
    "duration": 5,
    "start_time": "2022-12-19T15:48:08.657Z"
   },
   {
    "duration": 333,
    "start_time": "2022-12-19T15:48:08.664Z"
   },
   {
    "duration": 10,
    "start_time": "2022-12-19T15:48:08.999Z"
   },
   {
    "duration": 11,
    "start_time": "2022-12-19T15:48:09.020Z"
   },
   {
    "duration": 30,
    "start_time": "2022-12-19T15:48:09.033Z"
   },
   {
    "duration": 14,
    "start_time": "2022-12-19T15:48:09.065Z"
   },
   {
    "duration": 9,
    "start_time": "2022-12-19T16:02:24.870Z"
   },
   {
    "duration": 28,
    "start_time": "2022-12-19T16:02:37.814Z"
   },
   {
    "duration": 14,
    "start_time": "2022-12-19T16:02:51.141Z"
   },
   {
    "duration": 1083,
    "start_time": "2022-12-19T16:03:54.688Z"
   },
   {
    "duration": 81,
    "start_time": "2022-12-19T16:03:55.773Z"
   },
   {
    "duration": 10,
    "start_time": "2022-12-19T16:03:55.856Z"
   },
   {
    "duration": 16,
    "start_time": "2022-12-19T16:03:55.868Z"
   },
   {
    "duration": 12,
    "start_time": "2022-12-19T16:03:55.886Z"
   },
   {
    "duration": 46,
    "start_time": "2022-12-19T16:03:55.900Z"
   },
   {
    "duration": 10,
    "start_time": "2022-12-19T16:03:55.948Z"
   },
   {
    "duration": 21,
    "start_time": "2022-12-19T16:03:55.960Z"
   },
   {
    "duration": 7,
    "start_time": "2022-12-19T16:03:55.982Z"
   },
   {
    "duration": 19,
    "start_time": "2022-12-19T16:03:55.993Z"
   },
   {
    "duration": 8,
    "start_time": "2022-12-19T16:03:56.014Z"
   },
   {
    "duration": 11,
    "start_time": "2022-12-19T16:03:56.024Z"
   },
   {
    "duration": 4,
    "start_time": "2022-12-19T16:03:56.037Z"
   },
   {
    "duration": 12,
    "start_time": "2022-12-19T16:03:56.043Z"
   },
   {
    "duration": 4,
    "start_time": "2022-12-19T16:03:56.057Z"
   },
   {
    "duration": 12,
    "start_time": "2022-12-19T16:03:56.063Z"
   },
   {
    "duration": 303,
    "start_time": "2022-12-19T16:03:56.077Z"
   },
   {
    "duration": 407,
    "start_time": "2022-12-19T16:03:56.382Z"
   },
   {
    "duration": 327,
    "start_time": "2022-12-19T16:03:56.790Z"
   },
   {
    "duration": 418,
    "start_time": "2022-12-19T16:03:57.120Z"
   },
   {
    "duration": 345,
    "start_time": "2022-12-19T16:03:57.539Z"
   },
   {
    "duration": 469,
    "start_time": "2022-12-19T16:03:57.886Z"
   },
   {
    "duration": 140,
    "start_time": "2022-12-19T16:03:58.356Z"
   },
   {
    "duration": 5,
    "start_time": "2022-12-19T16:03:58.497Z"
   },
   {
    "duration": 149,
    "start_time": "2022-12-19T16:03:58.504Z"
   },
   {
    "duration": 127,
    "start_time": "2022-12-19T16:03:58.655Z"
   },
   {
    "duration": 9,
    "start_time": "2022-12-19T16:03:58.784Z"
   },
   {
    "duration": 21,
    "start_time": "2022-12-19T16:03:58.795Z"
   },
   {
    "duration": 333,
    "start_time": "2022-12-19T16:03:58.817Z"
   },
   {
    "duration": 10,
    "start_time": "2022-12-19T16:03:59.152Z"
   },
   {
    "duration": 14,
    "start_time": "2022-12-19T16:03:59.163Z"
   },
   {
    "duration": 26,
    "start_time": "2022-12-19T16:03:59.178Z"
   },
   {
    "duration": 13,
    "start_time": "2022-12-19T16:03:59.222Z"
   },
   {
    "duration": 955,
    "start_time": "2022-12-20T07:49:33.336Z"
   },
   {
    "duration": 82,
    "start_time": "2022-12-20T07:49:34.293Z"
   },
   {
    "duration": 9,
    "start_time": "2022-12-20T07:49:34.377Z"
   },
   {
    "duration": 19,
    "start_time": "2022-12-20T07:49:34.388Z"
   },
   {
    "duration": 11,
    "start_time": "2022-12-20T07:49:34.409Z"
   },
   {
    "duration": 44,
    "start_time": "2022-12-20T07:49:34.421Z"
   },
   {
    "duration": 10,
    "start_time": "2022-12-20T07:49:34.467Z"
   },
   {
    "duration": 28,
    "start_time": "2022-12-20T07:49:34.479Z"
   },
   {
    "duration": 6,
    "start_time": "2022-12-20T07:49:34.508Z"
   },
   {
    "duration": 19,
    "start_time": "2022-12-20T07:49:34.518Z"
   },
   {
    "duration": 9,
    "start_time": "2022-12-20T07:49:34.538Z"
   },
   {
    "duration": 17,
    "start_time": "2022-12-20T07:49:34.548Z"
   },
   {
    "duration": 7,
    "start_time": "2022-12-20T07:49:34.567Z"
   },
   {
    "duration": 26,
    "start_time": "2022-12-20T07:49:34.575Z"
   },
   {
    "duration": 3,
    "start_time": "2022-12-20T07:49:34.603Z"
   },
   {
    "duration": 12,
    "start_time": "2022-12-20T07:49:34.607Z"
   },
   {
    "duration": 277,
    "start_time": "2022-12-20T07:49:34.620Z"
   },
   {
    "duration": 418,
    "start_time": "2022-12-20T07:49:34.898Z"
   },
   {
    "duration": 339,
    "start_time": "2022-12-20T07:49:35.318Z"
   },
   {
    "duration": 490,
    "start_time": "2022-12-20T07:49:35.658Z"
   },
   {
    "duration": 364,
    "start_time": "2022-12-20T07:49:36.150Z"
   },
   {
    "duration": 460,
    "start_time": "2022-12-20T07:49:36.516Z"
   },
   {
    "duration": 150,
    "start_time": "2022-12-20T07:49:36.977Z"
   },
   {
    "duration": 4,
    "start_time": "2022-12-20T07:49:37.129Z"
   },
   {
    "duration": 140,
    "start_time": "2022-12-20T07:49:37.134Z"
   },
   {
    "duration": 128,
    "start_time": "2022-12-20T07:49:37.276Z"
   },
   {
    "duration": 10,
    "start_time": "2022-12-20T07:49:37.405Z"
   },
   {
    "duration": 5,
    "start_time": "2022-12-20T07:49:37.417Z"
   },
   {
    "duration": 364,
    "start_time": "2022-12-20T07:49:37.423Z"
   },
   {
    "duration": 9,
    "start_time": "2022-12-20T07:49:37.789Z"
   },
   {
    "duration": 96,
    "start_time": "2022-12-20T07:49:37.800Z"
   },
   {
    "duration": 29,
    "start_time": "2022-12-20T07:49:37.898Z"
   },
   {
    "duration": 15,
    "start_time": "2022-12-20T07:49:37.928Z"
   }
  ],
  "kernelspec": {
   "display_name": "Python 3 (ipykernel)",
   "language": "python",
   "name": "python3"
  },
  "language_info": {
   "codemirror_mode": {
    "name": "ipython",
    "version": 3
   },
   "file_extension": ".py",
   "mimetype": "text/x-python",
   "name": "python",
   "nbconvert_exporter": "python",
   "pygments_lexer": "ipython3",
   "version": "3.9.18"
  },
  "toc": {
   "base_numbering": 1,
   "nav_menu": {
    "height": "39px",
    "width": "342px"
   },
   "number_sections": true,
   "sideBar": true,
   "skip_h1_title": true,
   "title_cell": "Table of Contents",
   "title_sidebar": "Contents",
   "toc_cell": false,
   "toc_position": {
    "height": "calc(100% - 180px)",
    "left": "10px",
    "top": "150px",
    "width": "165px"
   },
   "toc_section_display": true,
   "toc_window_display": true
  }
 },
 "nbformat": 4,
 "nbformat_minor": 4
}
