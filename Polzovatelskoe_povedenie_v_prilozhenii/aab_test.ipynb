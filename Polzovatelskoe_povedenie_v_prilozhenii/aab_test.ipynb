{
 "cells": [
  {
   "cell_type": "markdown",
   "metadata": {},
   "source": [
    "# Анализ пользовательского поведения в мобильном приложении"
   ]
  },
  {
   "cell_type": "markdown",
   "metadata": {},
   "source": [
    "## Изучение общей информации"
   ]
  },
  {
   "cell_type": "code",
   "execution_count": 1,
   "metadata": {},
   "outputs": [],
   "source": [
    "import pandas as pd\n",
    "import datetime as dt\n",
    "import matplotlib.pyplot as plt\n",
    "import matplotlib\n",
    "from scipy import stats as st\n",
    "import numpy as np\n",
    "import math as mth\n",
    "from plotly import graph_objects as go"
   ]
  },
  {
   "cell_type": "code",
   "execution_count": 2,
   "metadata": {},
   "outputs": [],
   "source": [
    "df = pd.read_csv('...', sep='\\t')"
   ]
  },
  {
   "cell_type": "code",
   "execution_count": 3,
   "metadata": {},
   "outputs": [
    {
     "data": {
      "text/html": [
       "<div>\n",
       "<style scoped>\n",
       "    .dataframe tbody tr th:only-of-type {\n",
       "        vertical-align: middle;\n",
       "    }\n",
       "\n",
       "    .dataframe tbody tr th {\n",
       "        vertical-align: top;\n",
       "    }\n",
       "\n",
       "    .dataframe thead th {\n",
       "        text-align: right;\n",
       "    }\n",
       "</style>\n",
       "<table border=\"1\" class=\"dataframe\">\n",
       "  <thead>\n",
       "    <tr style=\"text-align: right;\">\n",
       "      <th></th>\n",
       "      <th>EventName</th>\n",
       "      <th>DeviceIDHash</th>\n",
       "      <th>EventTimestamp</th>\n",
       "      <th>ExpId</th>\n",
       "    </tr>\n",
       "  </thead>\n",
       "  <tbody>\n",
       "    <tr>\n",
       "      <th>0</th>\n",
       "      <td>MainScreenAppear</td>\n",
       "      <td>4575588528974610257</td>\n",
       "      <td>1564029816</td>\n",
       "      <td>246</td>\n",
       "    </tr>\n",
       "    <tr>\n",
       "      <th>1</th>\n",
       "      <td>MainScreenAppear</td>\n",
       "      <td>7416695313311560658</td>\n",
       "      <td>1564053102</td>\n",
       "      <td>246</td>\n",
       "    </tr>\n",
       "    <tr>\n",
       "      <th>2</th>\n",
       "      <td>PaymentScreenSuccessful</td>\n",
       "      <td>3518123091307005509</td>\n",
       "      <td>1564054127</td>\n",
       "      <td>248</td>\n",
       "    </tr>\n",
       "    <tr>\n",
       "      <th>3</th>\n",
       "      <td>CartScreenAppear</td>\n",
       "      <td>3518123091307005509</td>\n",
       "      <td>1564054127</td>\n",
       "      <td>248</td>\n",
       "    </tr>\n",
       "    <tr>\n",
       "      <th>4</th>\n",
       "      <td>PaymentScreenSuccessful</td>\n",
       "      <td>6217807653094995999</td>\n",
       "      <td>1564055322</td>\n",
       "      <td>248</td>\n",
       "    </tr>\n",
       "  </tbody>\n",
       "</table>\n",
       "</div>"
      ],
      "text/plain": [
       "                 EventName         DeviceIDHash  EventTimestamp  ExpId\n",
       "0         MainScreenAppear  4575588528974610257      1564029816    246\n",
       "1         MainScreenAppear  7416695313311560658      1564053102    246\n",
       "2  PaymentScreenSuccessful  3518123091307005509      1564054127    248\n",
       "3         CartScreenAppear  3518123091307005509      1564054127    248\n",
       "4  PaymentScreenSuccessful  6217807653094995999      1564055322    248"
      ]
     },
     "execution_count": 3,
     "metadata": {},
     "output_type": "execute_result"
    }
   ],
   "source": [
    "df.head()"
   ]
  },
  {
   "cell_type": "code",
   "execution_count": 4,
   "metadata": {},
   "outputs": [
    {
     "name": "stdout",
     "output_type": "stream",
     "text": [
      "<class 'pandas.core.frame.DataFrame'>\n",
      "RangeIndex: 244126 entries, 0 to 244125\n",
      "Data columns (total 4 columns):\n",
      " #   Column          Non-Null Count   Dtype \n",
      "---  ------          --------------   ----- \n",
      " 0   EventName       244126 non-null  object\n",
      " 1   DeviceIDHash    244126 non-null  int64 \n",
      " 2   EventTimestamp  244126 non-null  int64 \n",
      " 3   ExpId           244126 non-null  int64 \n",
      "dtypes: int64(3), object(1)\n",
      "memory usage: 7.5+ MB\n"
     ]
    }
   ],
   "source": [
    "df.info()"
   ]
  },
  {
   "cell_type": "markdown",
   "metadata": {},
   "source": [
    "<div style=\"border:solid blue 2px; padding: 20px\"> Таблица состоит из 244126 наблюдений, пропусков не наблюдается, столбец 'event_timestamp' записан в формате unix time, столбцы имеют неудобные названия."
   ]
  },
  {
   "cell_type": "markdown",
   "metadata": {},
   "source": [
    "## Подготовка данных"
   ]
  },
  {
   "cell_type": "markdown",
   "metadata": {},
   "source": [
    "Заменим названия столбцов"
   ]
  },
  {
   "cell_type": "code",
   "execution_count": 5,
   "metadata": {},
   "outputs": [
    {
     "name": "stdout",
     "output_type": "stream",
     "text": [
      "<class 'pandas.core.frame.DataFrame'>\n",
      "RangeIndex: 244126 entries, 0 to 244125\n",
      "Data columns (total 4 columns):\n",
      " #   Column           Non-Null Count   Dtype \n",
      "---  ------           --------------   ----- \n",
      " 0   event_name       244126 non-null  object\n",
      " 1   user_id          244126 non-null  int64 \n",
      " 2   event_timestamp  244126 non-null  int64 \n",
      " 3   test_id          244126 non-null  int64 \n",
      "dtypes: int64(3), object(1)\n",
      "memory usage: 7.5+ MB\n"
     ]
    }
   ],
   "source": [
    "df.columns = ['event_name', 'user_id', 'event_timestamp', 'test_id']\n",
    "df.info()"
   ]
  },
  {
   "cell_type": "markdown",
   "metadata": {},
   "source": [
    "Столбец 'event_timestamp' записан в формате unix time. Добавим новые столбцы с датой и временем **`'event_date_time'`** и только датой **`'event_date'`** в формате datetime"
   ]
  },
  {
   "cell_type": "code",
   "execution_count": 6,
   "metadata": {},
   "outputs": [
    {
     "data": {
      "text/html": [
       "<div>\n",
       "<style scoped>\n",
       "    .dataframe tbody tr th:only-of-type {\n",
       "        vertical-align: middle;\n",
       "    }\n",
       "\n",
       "    .dataframe tbody tr th {\n",
       "        vertical-align: top;\n",
       "    }\n",
       "\n",
       "    .dataframe thead th {\n",
       "        text-align: right;\n",
       "    }\n",
       "</style>\n",
       "<table border=\"1\" class=\"dataframe\">\n",
       "  <thead>\n",
       "    <tr style=\"text-align: right;\">\n",
       "      <th></th>\n",
       "      <th>event_name</th>\n",
       "      <th>user_id</th>\n",
       "      <th>event_timestamp</th>\n",
       "      <th>test_id</th>\n",
       "      <th>event_date_time</th>\n",
       "    </tr>\n",
       "  </thead>\n",
       "  <tbody>\n",
       "    <tr>\n",
       "      <th>0</th>\n",
       "      <td>MainScreenAppear</td>\n",
       "      <td>4575588528974610257</td>\n",
       "      <td>1564029816</td>\n",
       "      <td>246</td>\n",
       "      <td>2019-07-25 04:43:36</td>\n",
       "    </tr>\n",
       "    <tr>\n",
       "      <th>1</th>\n",
       "      <td>MainScreenAppear</td>\n",
       "      <td>7416695313311560658</td>\n",
       "      <td>1564053102</td>\n",
       "      <td>246</td>\n",
       "      <td>2019-07-25 11:11:42</td>\n",
       "    </tr>\n",
       "    <tr>\n",
       "      <th>2</th>\n",
       "      <td>PaymentScreenSuccessful</td>\n",
       "      <td>3518123091307005509</td>\n",
       "      <td>1564054127</td>\n",
       "      <td>248</td>\n",
       "      <td>2019-07-25 11:28:47</td>\n",
       "    </tr>\n",
       "    <tr>\n",
       "      <th>3</th>\n",
       "      <td>CartScreenAppear</td>\n",
       "      <td>3518123091307005509</td>\n",
       "      <td>1564054127</td>\n",
       "      <td>248</td>\n",
       "      <td>2019-07-25 11:28:47</td>\n",
       "    </tr>\n",
       "    <tr>\n",
       "      <th>4</th>\n",
       "      <td>PaymentScreenSuccessful</td>\n",
       "      <td>6217807653094995999</td>\n",
       "      <td>1564055322</td>\n",
       "      <td>248</td>\n",
       "      <td>2019-07-25 11:48:42</td>\n",
       "    </tr>\n",
       "  </tbody>\n",
       "</table>\n",
       "</div>"
      ],
      "text/plain": [
       "                event_name              user_id  event_timestamp  test_id  \\\n",
       "0         MainScreenAppear  4575588528974610257       1564029816      246   \n",
       "1         MainScreenAppear  7416695313311560658       1564053102      246   \n",
       "2  PaymentScreenSuccessful  3518123091307005509       1564054127      248   \n",
       "3         CartScreenAppear  3518123091307005509       1564054127      248   \n",
       "4  PaymentScreenSuccessful  6217807653094995999       1564055322      248   \n",
       "\n",
       "      event_date_time  \n",
       "0 2019-07-25 04:43:36  \n",
       "1 2019-07-25 11:11:42  \n",
       "2 2019-07-25 11:28:47  \n",
       "3 2019-07-25 11:28:47  \n",
       "4 2019-07-25 11:48:42  "
      ]
     },
     "execution_count": 6,
     "metadata": {},
     "output_type": "execute_result"
    }
   ],
   "source": [
    "df['event_date_time'] = pd.to_datetime(df['event_timestamp'], unit='s')\n",
    "df.head()"
   ]
  },
  {
   "cell_type": "code",
   "execution_count": 7,
   "metadata": {},
   "outputs": [
    {
     "data": {
      "text/html": [
       "<div>\n",
       "<style scoped>\n",
       "    .dataframe tbody tr th:only-of-type {\n",
       "        vertical-align: middle;\n",
       "    }\n",
       "\n",
       "    .dataframe tbody tr th {\n",
       "        vertical-align: top;\n",
       "    }\n",
       "\n",
       "    .dataframe thead th {\n",
       "        text-align: right;\n",
       "    }\n",
       "</style>\n",
       "<table border=\"1\" class=\"dataframe\">\n",
       "  <thead>\n",
       "    <tr style=\"text-align: right;\">\n",
       "      <th></th>\n",
       "      <th>event_name</th>\n",
       "      <th>user_id</th>\n",
       "      <th>event_timestamp</th>\n",
       "      <th>test_id</th>\n",
       "      <th>event_date_time</th>\n",
       "      <th>event_date</th>\n",
       "    </tr>\n",
       "  </thead>\n",
       "  <tbody>\n",
       "    <tr>\n",
       "      <th>0</th>\n",
       "      <td>MainScreenAppear</td>\n",
       "      <td>4575588528974610257</td>\n",
       "      <td>1564029816</td>\n",
       "      <td>246</td>\n",
       "      <td>2019-07-25 04:43:36</td>\n",
       "      <td>2019-07-25</td>\n",
       "    </tr>\n",
       "    <tr>\n",
       "      <th>1</th>\n",
       "      <td>MainScreenAppear</td>\n",
       "      <td>7416695313311560658</td>\n",
       "      <td>1564053102</td>\n",
       "      <td>246</td>\n",
       "      <td>2019-07-25 11:11:42</td>\n",
       "      <td>2019-07-25</td>\n",
       "    </tr>\n",
       "    <tr>\n",
       "      <th>2</th>\n",
       "      <td>PaymentScreenSuccessful</td>\n",
       "      <td>3518123091307005509</td>\n",
       "      <td>1564054127</td>\n",
       "      <td>248</td>\n",
       "      <td>2019-07-25 11:28:47</td>\n",
       "      <td>2019-07-25</td>\n",
       "    </tr>\n",
       "    <tr>\n",
       "      <th>3</th>\n",
       "      <td>CartScreenAppear</td>\n",
       "      <td>3518123091307005509</td>\n",
       "      <td>1564054127</td>\n",
       "      <td>248</td>\n",
       "      <td>2019-07-25 11:28:47</td>\n",
       "      <td>2019-07-25</td>\n",
       "    </tr>\n",
       "    <tr>\n",
       "      <th>4</th>\n",
       "      <td>PaymentScreenSuccessful</td>\n",
       "      <td>6217807653094995999</td>\n",
       "      <td>1564055322</td>\n",
       "      <td>248</td>\n",
       "      <td>2019-07-25 11:48:42</td>\n",
       "      <td>2019-07-25</td>\n",
       "    </tr>\n",
       "  </tbody>\n",
       "</table>\n",
       "</div>"
      ],
      "text/plain": [
       "                event_name              user_id  event_timestamp  test_id  \\\n",
       "0         MainScreenAppear  4575588528974610257       1564029816      246   \n",
       "1         MainScreenAppear  7416695313311560658       1564053102      246   \n",
       "2  PaymentScreenSuccessful  3518123091307005509       1564054127      248   \n",
       "3         CartScreenAppear  3518123091307005509       1564054127      248   \n",
       "4  PaymentScreenSuccessful  6217807653094995999       1564055322      248   \n",
       "\n",
       "      event_date_time event_date  \n",
       "0 2019-07-25 04:43:36 2019-07-25  \n",
       "1 2019-07-25 11:11:42 2019-07-25  \n",
       "2 2019-07-25 11:28:47 2019-07-25  \n",
       "3 2019-07-25 11:28:47 2019-07-25  \n",
       "4 2019-07-25 11:48:42 2019-07-25  "
      ]
     },
     "execution_count": 7,
     "metadata": {},
     "output_type": "execute_result"
    }
   ],
   "source": [
    "df['event_date'] = pd.to_datetime(df['event_date_time'], format='%Y-%M-%D').dt.date.astype('datetime64[ns]')\n",
    "df.head()"
   ]
  },
  {
   "cell_type": "code",
   "execution_count": 8,
   "metadata": {},
   "outputs": [
    {
     "name": "stdout",
     "output_type": "stream",
     "text": [
      "<class 'pandas.core.frame.DataFrame'>\n",
      "RangeIndex: 244126 entries, 0 to 244125\n",
      "Data columns (total 6 columns):\n",
      " #   Column           Non-Null Count   Dtype         \n",
      "---  ------           --------------   -----         \n",
      " 0   event_name       244126 non-null  object        \n",
      " 1   user_id          244126 non-null  int64         \n",
      " 2   event_timestamp  244126 non-null  int64         \n",
      " 3   test_id          244126 non-null  int64         \n",
      " 4   event_date_time  244126 non-null  datetime64[ns]\n",
      " 5   event_date       244126 non-null  datetime64[ns]\n",
      "dtypes: datetime64[ns](2), int64(3), object(1)\n",
      "memory usage: 11.2+ MB\n"
     ]
    }
   ],
   "source": [
    "df.info()"
   ]
  },
  {
   "cell_type": "code",
   "execution_count": 9,
   "metadata": {},
   "outputs": [
    {
     "data": {
      "text/plain": [
       "413"
      ]
     },
     "execution_count": 9,
     "metadata": {},
     "output_type": "execute_result"
    }
   ],
   "source": [
    "# Проверим на наличие дубликатов\n",
    "df.duplicated().sum()"
   ]
  },
  {
   "cell_type": "code",
   "execution_count": 10,
   "metadata": {},
   "outputs": [
    {
     "data": {
      "text/plain": [
       "0"
      ]
     },
     "execution_count": 10,
     "metadata": {},
     "output_type": "execute_result"
    }
   ],
   "source": [
    "# Удалим дубликаты\n",
    "df = df.drop_duplicates().reset_index(drop=True)\n",
    "df.duplicated().sum()"
   ]
  },
  {
   "cell_type": "markdown",
   "metadata": {},
   "source": [
    "<div style=\"border:solid blue 2px; padding: 20px\"> При подготовке данных заменили названия столбов на более удобные и понятные для нас, добавили новые столбцы с датой в привычном нам формате, а также очистили данные от полных дубликатов."
   ]
  },
  {
   "cell_type": "markdown",
   "metadata": {},
   "source": [
    "## Изучение и проверка данных"
   ]
  },
  {
   "cell_type": "markdown",
   "metadata": {},
   "source": [
    "### Количество событий в логе"
   ]
  },
  {
   "cell_type": "code",
   "execution_count": 11,
   "metadata": {},
   "outputs": [
    {
     "data": {
      "text/plain": [
       "243713"
      ]
     },
     "execution_count": 11,
     "metadata": {},
     "output_type": "execute_result"
    }
   ],
   "source": [
    "df.shape[0]"
   ]
  },
  {
   "cell_type": "markdown",
   "metadata": {},
   "source": [
    "<div style=\"border:solid blue 2px; padding: 20px\"> Всего в логе после подготовки данных 243713 событий."
   ]
  },
  {
   "cell_type": "markdown",
   "metadata": {},
   "source": [
    "### Количество пользователей в логе"
   ]
  },
  {
   "cell_type": "code",
   "execution_count": 12,
   "metadata": {},
   "outputs": [
    {
     "data": {
      "text/plain": [
       "7551"
      ]
     },
     "execution_count": 12,
     "metadata": {},
     "output_type": "execute_result"
    }
   ],
   "source": [
    "len(df['user_id'].unique())"
   ]
  },
  {
   "cell_type": "markdown",
   "metadata": {},
   "source": [
    "<div style=\"border:solid blue 2px; padding: 20px\"> В логе 7551 уникальных пользователей."
   ]
  },
  {
   "cell_type": "markdown",
   "metadata": {},
   "source": [
    "### Среднее количество событий на одного пользователя"
   ]
  },
  {
   "cell_type": "code",
   "execution_count": 13,
   "metadata": {},
   "outputs": [
    {
     "data": {
      "text/plain": [
       "32"
      ]
     },
     "execution_count": 13,
     "metadata": {},
     "output_type": "execute_result"
    }
   ],
   "source": [
    "round(df.shape[0] / len(df['user_id'].unique()))"
   ]
  },
  {
   "cell_type": "code",
   "execution_count": 14,
   "metadata": {},
   "outputs": [],
   "source": [
    "# Таблица с количеством событий на каждого пользователя\n",
    "event_user = df.groupby('user_id').agg({'event_name' : 'count'})"
   ]
  },
  {
   "cell_type": "code",
   "execution_count": 15,
   "metadata": {},
   "outputs": [
    {
     "data": {
      "text/html": [
       "<div>\n",
       "<style scoped>\n",
       "    .dataframe tbody tr th:only-of-type {\n",
       "        vertical-align: middle;\n",
       "    }\n",
       "\n",
       "    .dataframe tbody tr th {\n",
       "        vertical-align: top;\n",
       "    }\n",
       "\n",
       "    .dataframe thead th {\n",
       "        text-align: right;\n",
       "    }\n",
       "</style>\n",
       "<table border=\"1\" class=\"dataframe\">\n",
       "  <thead>\n",
       "    <tr style=\"text-align: right;\">\n",
       "      <th></th>\n",
       "      <th>event_name</th>\n",
       "    </tr>\n",
       "  </thead>\n",
       "  <tbody>\n",
       "    <tr>\n",
       "      <th>count</th>\n",
       "      <td>7551.000000</td>\n",
       "    </tr>\n",
       "    <tr>\n",
       "      <th>mean</th>\n",
       "      <td>32.275593</td>\n",
       "    </tr>\n",
       "    <tr>\n",
       "      <th>std</th>\n",
       "      <td>65.154219</td>\n",
       "    </tr>\n",
       "    <tr>\n",
       "      <th>min</th>\n",
       "      <td>1.000000</td>\n",
       "    </tr>\n",
       "    <tr>\n",
       "      <th>25%</th>\n",
       "      <td>9.000000</td>\n",
       "    </tr>\n",
       "    <tr>\n",
       "      <th>50%</th>\n",
       "      <td>20.000000</td>\n",
       "    </tr>\n",
       "    <tr>\n",
       "      <th>75%</th>\n",
       "      <td>37.000000</td>\n",
       "    </tr>\n",
       "    <tr>\n",
       "      <th>max</th>\n",
       "      <td>2307.000000</td>\n",
       "    </tr>\n",
       "  </tbody>\n",
       "</table>\n",
       "</div>"
      ],
      "text/plain": [
       "        event_name\n",
       "count  7551.000000\n",
       "mean     32.275593\n",
       "std      65.154219\n",
       "min       1.000000\n",
       "25%       9.000000\n",
       "50%      20.000000\n",
       "75%      37.000000\n",
       "max    2307.000000"
      ]
     },
     "execution_count": 15,
     "metadata": {},
     "output_type": "execute_result"
    }
   ],
   "source": [
    "event_user.describe()"
   ]
  },
  {
   "cell_type": "code",
   "execution_count": 16,
   "metadata": {},
   "outputs": [
    {
     "data": {
      "image/png": "[encoded data removed]",
      "text/plain": [
       "<Figure size 1080x360 with 1 Axes>"
      ]
     },
     "metadata": {
      "needs_background": "light"
     },
     "output_type": "display_data"
    }
   ],
   "source": [
    "x_values = pd.Series(range(0,len(event_user)))\n",
    "plt.figure(figsize=(15, 5))\n",
    "plt.scatter(x_values, event_user)\n",
    "plt.title('Точечный график количества событий в расчёте на одного пользователя')\n",
    "plt.xlabel('Номера наблюдений')\n",
    "plt.ylabel('Количество событий на одного пользователя')\n",
    "plt.show()"
   ]
  },
  {
   "cell_type": "code",
   "execution_count": 17,
   "metadata": {},
   "outputs": [
    {
     "data": {
      "text/plain": [
       "array([ 64. ,  89. , 200.5])"
      ]
     },
     "execution_count": 17,
     "metadata": {},
     "output_type": "execute_result"
    }
   ],
   "source": [
    "np.percentile(event_user, [90, 95, 99])"
   ]
  },
  {
   "cell_type": "markdown",
   "metadata": {},
   "source": [
    "<div style=\"border:solid blue 2px; padding: 20px\"> В среднем на пользователя приходится 32 события. При этом наблюдаются отдельные пользователи, на которых приходится гораздо больше событий - 1% пользователей совершили больше 200 событий, максимальное количество событий - 2307, минимальное - 1."
   ]
  },
  {
   "cell_type": "markdown",
   "metadata": {},
   "source": [
    "### Анализ временного периода"
   ]
  },
  {
   "cell_type": "code",
   "execution_count": 18,
   "metadata": {},
   "outputs": [
    {
     "data": {
      "text/plain": [
       "Timestamp('2019-07-25 04:43:36')"
      ]
     },
     "execution_count": 18,
     "metadata": {},
     "output_type": "execute_result"
    }
   ],
   "source": [
    "df['event_date_time'].min()"
   ]
  },
  {
   "cell_type": "code",
   "execution_count": 19,
   "metadata": {},
   "outputs": [
    {
     "data": {
      "text/plain": [
       "Timestamp('2019-08-07 21:15:17')"
      ]
     },
     "execution_count": 19,
     "metadata": {},
     "output_type": "execute_result"
    }
   ],
   "source": [
    "df['event_date_time'].max()"
   ]
  },
  {
   "cell_type": "code",
   "execution_count": 20,
   "metadata": {},
   "outputs": [
    {
     "data": {
      "image/png": "[encoded data removed]",
      "text/plain": [
       "<Figure size 1080x648 with 1 Axes>"
      ]
     },
     "metadata": {
      "needs_background": "light"
     },
     "output_type": "display_data"
    }
   ],
   "source": [
    "plt.figure(figsize=(15,9))\n",
    "plt.hist(df['event_date_time'], bins=200)\n",
    "plt.gca().xaxis.set_major_locator(matplotlib.dates.DayLocator(interval=1))\n",
    "plt.gca().xaxis.set_major_formatter(matplotlib.dates.DateFormatter('%Y-%m-%d'))\n",
    "plt.xticks(rotation=90)\n",
    "plt.title('Гистограмма по дате и времени события')\n",
    "plt.xlabel('Дата')\n",
    "plt.ylabel('Частота')\n",
    "plt.show()"
   ]
  },
  {
   "cell_type": "code",
   "execution_count": 21,
   "metadata": {},
   "outputs": [],
   "source": [
    "df_new = df.query('event_date_time >= \"2019-08-01\"')"
   ]
  },
  {
   "cell_type": "markdown",
   "metadata": {},
   "source": [
    "<div style=\"border:solid blue 2px; padding: 20px\"> Минимальная дата, которой мы располагаем, '2019-07-25 04:43:36', максимальная - '2019-08-07 21:15:17'. По результатам анализа гистограммы можно заметить, что у нас данные неодинаково полные за весь период, стоит отбросить данные до 1 августа."
   ]
  },
  {
   "cell_type": "markdown",
   "metadata": {},
   "source": [
    "### Сколько событий и пользователей потеряли, отбросив старые данные"
   ]
  },
  {
   "cell_type": "code",
   "execution_count": 22,
   "metadata": {},
   "outputs": [
    {
     "data": {
      "text/plain": [
       "2826"
      ]
     },
     "execution_count": 22,
     "metadata": {},
     "output_type": "execute_result"
    }
   ],
   "source": [
    "df.shape[0] - df_new.shape[0]"
   ]
  },
  {
   "cell_type": "code",
   "execution_count": 23,
   "metadata": {},
   "outputs": [
    {
     "data": {
      "text/plain": [
       "1.16"
      ]
     },
     "execution_count": 23,
     "metadata": {},
     "output_type": "execute_result"
    }
   ],
   "source": [
    "round((df.shape[0] - df_new.shape[0]) / df.shape[0] * 100, 2)"
   ]
  },
  {
   "cell_type": "code",
   "execution_count": 24,
   "metadata": {},
   "outputs": [
    {
     "data": {
      "text/plain": [
       "17"
      ]
     },
     "execution_count": 24,
     "metadata": {},
     "output_type": "execute_result"
    }
   ],
   "source": [
    "len(df['user_id'].unique()) - len(df_new['user_id'].unique())"
   ]
  },
  {
   "cell_type": "code",
   "execution_count": 25,
   "metadata": {},
   "outputs": [
    {
     "data": {
      "text/plain": [
       "0.23"
      ]
     },
     "execution_count": 25,
     "metadata": {},
     "output_type": "execute_result"
    }
   ],
   "source": [
    "round((len(df['user_id'].unique()) - len(df_new['user_id'].unique())) / len(df['user_id'].unique()) * 100, 2)"
   ]
  },
  {
   "cell_type": "markdown",
   "metadata": {},
   "source": [
    "<div style=\"border:solid blue 2px; padding: 20px\"> Отбросив старые данные, мы потеряли 2826 (1,16%) событий и 17 (0,23%) пользователей."
   ]
  },
  {
   "cell_type": "markdown",
   "metadata": {},
   "source": [
    "### Проверка на наличие пользователей из всех трёх экспериментальных групп"
   ]
  },
  {
   "cell_type": "code",
   "execution_count": 26,
   "metadata": {},
   "outputs": [
    {
     "data": {
      "text/plain": [
       "248    84563\n",
       "246    79302\n",
       "247    77022\n",
       "Name: test_id, dtype: int64"
      ]
     },
     "execution_count": 26,
     "metadata": {},
     "output_type": "execute_result"
    }
   ],
   "source": [
    "df_new['test_id'].value_counts()"
   ]
  },
  {
   "cell_type": "code",
   "execution_count": 27,
   "metadata": {},
   "outputs": [
    {
     "data": {
      "text/html": [
       "<div>\n",
       "<style scoped>\n",
       "    .dataframe tbody tr th:only-of-type {\n",
       "        vertical-align: middle;\n",
       "    }\n",
       "\n",
       "    .dataframe tbody tr th {\n",
       "        vertical-align: top;\n",
       "    }\n",
       "\n",
       "    .dataframe thead th {\n",
       "        text-align: right;\n",
       "    }\n",
       "</style>\n",
       "<table border=\"1\" class=\"dataframe\">\n",
       "  <thead>\n",
       "    <tr style=\"text-align: right;\">\n",
       "      <th></th>\n",
       "      <th>user_id</th>\n",
       "    </tr>\n",
       "    <tr>\n",
       "      <th>test_id</th>\n",
       "      <th></th>\n",
       "    </tr>\n",
       "  </thead>\n",
       "  <tbody>\n",
       "    <tr>\n",
       "      <th>246</th>\n",
       "      <td>2484</td>\n",
       "    </tr>\n",
       "    <tr>\n",
       "      <th>247</th>\n",
       "      <td>2513</td>\n",
       "    </tr>\n",
       "    <tr>\n",
       "      <th>248</th>\n",
       "      <td>2537</td>\n",
       "    </tr>\n",
       "  </tbody>\n",
       "</table>\n",
       "</div>"
      ],
      "text/plain": [
       "         user_id\n",
       "test_id         \n",
       "246         2484\n",
       "247         2513\n",
       "248         2537"
      ]
     },
     "execution_count": 27,
     "metadata": {},
     "output_type": "execute_result"
    }
   ],
   "source": [
    "df_new.pivot_table(index='test_id', values='user_id', aggfunc='nunique')"
   ]
  },
  {
   "cell_type": "markdown",
   "metadata": {},
   "source": [
    "<div style=\"border:solid blue 2px; padding: 20px\"> Убедились, что в данных присутствуют события и пользователи во всех трёх экспериментальных группах."
   ]
  },
  {
   "cell_type": "markdown",
   "metadata": {},
   "source": [
    "## Изучение воронки событий"
   ]
  },
  {
   "cell_type": "markdown",
   "metadata": {},
   "source": [
    "### События в логах"
   ]
  },
  {
   "cell_type": "code",
   "execution_count": 28,
   "metadata": {},
   "outputs": [
    {
     "data": {
      "text/plain": [
       "MainScreenAppear           117328\n",
       "OffersScreenAppear          46333\n",
       "CartScreenAppear            42303\n",
       "PaymentScreenSuccessful     33918\n",
       "Tutorial                     1005\n",
       "Name: event_name, dtype: int64"
      ]
     },
     "execution_count": 28,
     "metadata": {},
     "output_type": "execute_result"
    }
   ],
   "source": [
    "df_new['event_name'].value_counts()"
   ]
  },
  {
   "cell_type": "markdown",
   "metadata": {},
   "source": [
    "<div style=\"border:solid blue 2px; padding: 20px\"> Всего в логе встречается 5 видов событий: MainScreenAppear (главный экран), OffersScreenAppear (экран предложения), CartScreenAppear (экран корзины), PaymentScreenSuccessful (экран успешной оплаты), Tutorial (учебное пособие). Наиболее часто встречается главный экран, наименее часто - учебное пособие."
   ]
  },
  {
   "cell_type": "markdown",
   "metadata": {},
   "source": [
    "### Количество пользователей, совершавших каждое из событий. Доля пользователей, которые хоть раз совершали событие"
   ]
  },
  {
   "cell_type": "code",
   "execution_count": 29,
   "metadata": {},
   "outputs": [
    {
     "data": {
      "text/html": [
       "<div>\n",
       "<style scoped>\n",
       "    .dataframe tbody tr th:only-of-type {\n",
       "        vertical-align: middle;\n",
       "    }\n",
       "\n",
       "    .dataframe tbody tr th {\n",
       "        vertical-align: top;\n",
       "    }\n",
       "\n",
       "    .dataframe thead th {\n",
       "        text-align: right;\n",
       "    }\n",
       "</style>\n",
       "<table border=\"1\" class=\"dataframe\">\n",
       "  <thead>\n",
       "    <tr style=\"text-align: right;\">\n",
       "      <th></th>\n",
       "      <th>event_name</th>\n",
       "      <th>user_id</th>\n",
       "      <th>part_%</th>\n",
       "    </tr>\n",
       "  </thead>\n",
       "  <tbody>\n",
       "    <tr>\n",
       "      <th>0</th>\n",
       "      <td>MainScreenAppear</td>\n",
       "      <td>7419</td>\n",
       "      <td>98.47</td>\n",
       "    </tr>\n",
       "    <tr>\n",
       "      <th>1</th>\n",
       "      <td>OffersScreenAppear</td>\n",
       "      <td>4593</td>\n",
       "      <td>60.96</td>\n",
       "    </tr>\n",
       "    <tr>\n",
       "      <th>2</th>\n",
       "      <td>CartScreenAppear</td>\n",
       "      <td>3734</td>\n",
       "      <td>49.56</td>\n",
       "    </tr>\n",
       "    <tr>\n",
       "      <th>3</th>\n",
       "      <td>PaymentScreenSuccessful</td>\n",
       "      <td>3539</td>\n",
       "      <td>46.97</td>\n",
       "    </tr>\n",
       "    <tr>\n",
       "      <th>4</th>\n",
       "      <td>Tutorial</td>\n",
       "      <td>840</td>\n",
       "      <td>11.15</td>\n",
       "    </tr>\n",
       "  </tbody>\n",
       "</table>\n",
       "</div>"
      ],
      "text/plain": [
       "                event_name  user_id  part_%\n",
       "0         MainScreenAppear     7419   98.47\n",
       "1       OffersScreenAppear     4593   60.96\n",
       "2         CartScreenAppear     3734   49.56\n",
       "3  PaymentScreenSuccessful     3539   46.97\n",
       "4                 Tutorial      840   11.15"
      ]
     },
     "execution_count": 29,
     "metadata": {},
     "output_type": "execute_result"
    }
   ],
   "source": [
    "user_event = (\n",
    "    df_new.groupby('event_name').agg({'user_id' : 'nunique'}).sort_values(by='user_id', ascending=False).reset_index()\n",
    ")\n",
    "user_event['part_%'] = round(user_event['user_id'] / len(df_new['user_id'].unique()) * 100, 2)\n",
    "user_event"
   ]
  },
  {
   "cell_type": "markdown",
   "metadata": {},
   "source": [
    "<div style=\"border:solid blue 2px; padding: 20px\"> Хоть раз посетили главный экран 98,5% пользователей, т.е. 1,5% миновали главный экран, возможно попав на страницу предложения в результате перехода по внешней ссылке. Экран предложения посетили 61% пользователей, 49,6% - экран корзины, 47% дошли до успешной оплаты, и только 11% открыли учебное пособие."
   ]
  },
  {
   "cell_type": "markdown",
   "metadata": {},
   "source": [
    "### Исключение событий, не выстраивающихся в последовательную цепочку"
   ]
  },
  {
   "cell_type": "code",
   "execution_count": 30,
   "metadata": {},
   "outputs": [],
   "source": [
    "user_event = user_event.query('event_name != \"Tutorial\"')"
   ]
  },
  {
   "cell_type": "code",
   "execution_count": 31,
   "metadata": {},
   "outputs": [],
   "source": [
    "df_new = df_new.query('event_name != \"Tutorial\"')"
   ]
  },
  {
   "cell_type": "markdown",
   "metadata": {},
   "source": [
    "<div style=\"border:solid blue 2px; padding: 20px\"> Логическая последовательность событий: главый экран - экран предложения - экран корзины - экран успешной оплаты. Учебное пособие не встраивается в логическую цепочку. Исключим это событие из дальнейшего анализа."
   ]
  },
  {
   "cell_type": "markdown",
   "metadata": {},
   "source": [
    "### Расчет доли пользователей, переходящих на следующий шаг воронки (от числа пользователей на предыдущем)"
   ]
  },
  {
   "cell_type": "code",
   "execution_count": 32,
   "metadata": {},
   "outputs": [
    {
     "name": "stdout",
     "output_type": "stream",
     "text": [
      "C главного экрана на экран предложения переходит 61.91% пользователей\n",
      "C экрана предложения на экран корзины переходит 81.3% пользователей\n",
      "C экрана корзины на экран успешного платежа переходит 94.78% пользователей\n"
     ]
    }
   ],
   "source": [
    "funnel_A_B = round(user_event['user_id'][1] / user_event['user_id'][0] * 100, 2)\n",
    "funnel_B_C = round(user_event['user_id'][2] / user_event['user_id'][1] * 100, 2)\n",
    "funnel_C_D = round(user_event['user_id'][3] / user_event['user_id'][2] * 100, 2)\n",
    "print(f'C главного экрана на экран предложения переходит {funnel_A_B}% пользователей')\n",
    "print(f'C экрана предложения на экран корзины переходит {funnel_B_C}% пользователей')\n",
    "print(f'C экрана корзины на экран успешного платежа переходит {funnel_C_D}% пользователей')"
   ]
  },
  {
   "cell_type": "markdown",
   "metadata": {},
   "source": [
    "### Определение шага, на котором теряется больше всего пользователей"
   ]
  },
  {
   "cell_type": "code",
   "execution_count": null,
   "metadata": {},
   "outputs": [],
   "source": [
    "fig = go.Figure(go.Funnel(\n",
    "    y = user_event.event_name, \n",
    "    x = user_event.user_id, \n",
    "    textposition = \"inside\", \n",
    "    textinfo = \"value+percent previous+percent initial\"))\n",
    "fig.update_layout(title = \"Воронка событий\", yaxis_title=\"Событие\")\n",
    "fig.show()"
   ]
  },
  {
   "attachments": {
    "2de4b8e4-a29b-4619-a952-42052d923746.png": {
     "image/png": "[encoded data removed]"
    }
   },
   "cell_type": "markdown",
   "metadata": {},
   "source": [
    "![newplot (8).png](attachment:2de4b8e4-a29b-4619-a952-42052d923746.png)"
   ]
  },
  {
   "cell_type": "markdown",
   "metadata": {},
   "source": [
    "<div style=\"border:solid blue 2px; padding: 20px\"> Больше всего пользователей теряется на первом шаге: только 62% переходит с главной страницы на страницу предложения."
   ]
  },
  {
   "cell_type": "markdown",
   "metadata": {},
   "source": [
    "### Доля пользователей, доходящих от первого события до оплаты"
   ]
  },
  {
   "cell_type": "code",
   "execution_count": 34,
   "metadata": {},
   "outputs": [
    {
     "name": "stdout",
     "output_type": "stream",
     "text": [
      "C главного экрана до оплаты доходит 47.7% пользователей\n"
     ]
    }
   ],
   "source": [
    "funnel_A_D = round(user_event['user_id'][3] / user_event['user_id'][0] * 100, 2)\n",
    "print(f'C главного экрана до оплаты доходит {funnel_A_D}% пользователей')"
   ]
  },
  {
   "cell_type": "markdown",
   "metadata": {},
   "source": [
    "## Изучение результатов эксперимента"
   ]
  },
  {
   "cell_type": "markdown",
   "metadata": {},
   "source": [
    "### Количество пользователей в каждой экспериментальной группе. Проверка статистическими критериями разницы между выборками 246 и 247."
   ]
  },
  {
   "cell_type": "code",
   "execution_count": 35,
   "metadata": {},
   "outputs": [
    {
     "data": {
      "text/html": [
       "<div>\n",
       "<style scoped>\n",
       "    .dataframe tbody tr th:only-of-type {\n",
       "        vertical-align: middle;\n",
       "    }\n",
       "\n",
       "    .dataframe tbody tr th {\n",
       "        vertical-align: top;\n",
       "    }\n",
       "\n",
       "    .dataframe thead th {\n",
       "        text-align: right;\n",
       "    }\n",
       "</style>\n",
       "<table border=\"1\" class=\"dataframe\">\n",
       "  <thead>\n",
       "    <tr style=\"text-align: right;\">\n",
       "      <th></th>\n",
       "      <th>test_id</th>\n",
       "      <th>user_id</th>\n",
       "    </tr>\n",
       "  </thead>\n",
       "  <tbody>\n",
       "    <tr>\n",
       "      <th>0</th>\n",
       "      <td>246</td>\n",
       "      <td>2483</td>\n",
       "    </tr>\n",
       "    <tr>\n",
       "      <th>1</th>\n",
       "      <td>247</td>\n",
       "      <td>2512</td>\n",
       "    </tr>\n",
       "    <tr>\n",
       "      <th>2</th>\n",
       "      <td>248</td>\n",
       "      <td>2535</td>\n",
       "    </tr>\n",
       "  </tbody>\n",
       "</table>\n",
       "</div>"
      ],
      "text/plain": [
       "   test_id  user_id\n",
       "0      246     2483\n",
       "1      247     2512\n",
       "2      248     2535"
      ]
     },
     "execution_count": 35,
     "metadata": {},
     "output_type": "execute_result"
    }
   ],
   "source": [
    "df_test_group = df_new.groupby('test_id').agg({'user_id' : 'nunique'}).reset_index()\n",
    "df_test_group"
   ]
  },
  {
   "cell_type": "markdown",
   "metadata": {},
   "source": [
    "Один из критериев успешного А/А-теста: количество пользователей в различных группах различается не более, чем на 1%. Проверим наши группы на соответствие этому критерию."
   ]
  },
  {
   "cell_type": "code",
   "execution_count": 36,
   "metadata": {},
   "outputs": [
    {
     "data": {
      "text/plain": [
       "-1.15"
      ]
     },
     "execution_count": 36,
     "metadata": {},
     "output_type": "execute_result"
    }
   ],
   "source": [
    "round(df_test_group['user_id'][0] / df_test_group['user_id'][1] * 100 - 100, 2)"
   ]
  },
  {
   "cell_type": "code",
   "execution_count": 37,
   "metadata": {},
   "outputs": [],
   "source": [
    "df_246 = df_new.query('test_id == 246')\n",
    "df_247 = df_new.query('test_id == 247')\n",
    "df_248 = df_new.query('test_id == 248')"
   ]
  },
  {
   "cell_type": "markdown",
   "metadata": {},
   "source": [
    "Ещё один критерий успешного разделения на группы - отсутствие пересекающихся пользователей."
   ]
  },
  {
   "cell_type": "code",
   "execution_count": 38,
   "metadata": {},
   "outputs": [
    {
     "data": {
      "text/plain": [
       "0"
      ]
     },
     "execution_count": 38,
     "metadata": {},
     "output_type": "execute_result"
    }
   ],
   "source": [
    "# Проверим наличие пересекающихся пользователей\n",
    "len(df_246.merge(df_247, on='user_id')['user_id'].unique())"
   ]
  },
  {
   "cell_type": "code",
   "execution_count": 39,
   "metadata": {},
   "outputs": [
    {
     "data": {
      "text/plain": [
       "0"
      ]
     },
     "execution_count": 39,
     "metadata": {},
     "output_type": "execute_result"
    }
   ],
   "source": [
    "len(df_246.merge(df_248, on='user_id')['user_id'].unique())"
   ]
  },
  {
   "cell_type": "code",
   "execution_count": 40,
   "metadata": {},
   "outputs": [
    {
     "data": {
      "text/plain": [
       "0"
      ]
     },
     "execution_count": 40,
     "metadata": {},
     "output_type": "execute_result"
    }
   ],
   "source": [
    "len(df_248.merge(df_247, on='user_id')['user_id'].unique())"
   ]
  },
  {
   "cell_type": "markdown",
   "metadata": {},
   "source": [
    "Имеют ли выборки статистически значимые отличия проверим с помощью z-теста. Для этого напишем функцию."
   ]
  },
  {
   "cell_type": "code",
   "execution_count": 41,
   "metadata": {},
   "outputs": [],
   "source": [
    "def test_aa(trials, successes, alpha):\n",
    "\n",
    "    \n",
    "    alpha = alpha # критический уровень статистической значимости\n",
    "\n",
    "    # Пропорции в группах\n",
    "    p0 = successes[0] / trials[0]\n",
    "    p1 = successes[1] / trials[1]\n",
    "\n",
    "    # Пропорция в комбинированном датасете:\n",
    "    p_combined = (successes[0] + successes[1])/(trials[0] + trials[1])\n",
    "\n",
    "    # разница пропорций в датасетах\n",
    "    difference = p0 - p1\n",
    "\n",
    "    # считаем статистику в ст.отклонениях стандартного нормального распределения\n",
    "    z_value = difference / mth.sqrt(p_combined * (1 - p_combined) * (1/trials[0] + 1/trials[1]))\n",
    "\n",
    "    # задаем стандартное нормальное распределение (среднее 0, ст.отклонение 1)\n",
    "    distr = st.norm(0, 1)\n",
    "\n",
    "    p_value = (1 - distr.cdf(abs(z_value))) * 2\n",
    "\n",
    "    print('p-значение:',p_value)\n",
    "\n",
    "    if (p_value < alpha):\n",
    "        print(\"Отвергаем нулевую гипотезу: между долями есть значимая разница\")\n",
    "    else:\n",
    "        print(\"Не получилось отвергнуть нулевую гипотезу, нет оснований считать доли разными.\")"
   ]
  },
  {
   "cell_type": "code",
   "execution_count": 42,
   "metadata": {},
   "outputs": [
    {
     "data": {
      "text/html": [
       "<div>\n",
       "<style scoped>\n",
       "    .dataframe tbody tr th:only-of-type {\n",
       "        vertical-align: middle;\n",
       "    }\n",
       "\n",
       "    .dataframe tbody tr th {\n",
       "        vertical-align: top;\n",
       "    }\n",
       "\n",
       "    .dataframe thead th {\n",
       "        text-align: right;\n",
       "    }\n",
       "</style>\n",
       "<table border=\"1\" class=\"dataframe\">\n",
       "  <thead>\n",
       "    <tr style=\"text-align: right;\">\n",
       "      <th></th>\n",
       "      <th>event_name</th>\n",
       "      <th>no_246</th>\n",
       "      <th>no_247</th>\n",
       "      <th>no_248</th>\n",
       "    </tr>\n",
       "  </thead>\n",
       "  <tbody>\n",
       "    <tr>\n",
       "      <th>0</th>\n",
       "      <td>MainScreenAppear</td>\n",
       "      <td>2450</td>\n",
       "      <td>2476</td>\n",
       "      <td>2493</td>\n",
       "    </tr>\n",
       "    <tr>\n",
       "      <th>1</th>\n",
       "      <td>OffersScreenAppear</td>\n",
       "      <td>1542</td>\n",
       "      <td>1520</td>\n",
       "      <td>1531</td>\n",
       "    </tr>\n",
       "    <tr>\n",
       "      <th>2</th>\n",
       "      <td>CartScreenAppear</td>\n",
       "      <td>1266</td>\n",
       "      <td>1238</td>\n",
       "      <td>1230</td>\n",
       "    </tr>\n",
       "    <tr>\n",
       "      <th>3</th>\n",
       "      <td>PaymentScreenSuccessful</td>\n",
       "      <td>1200</td>\n",
       "      <td>1158</td>\n",
       "      <td>1181</td>\n",
       "    </tr>\n",
       "  </tbody>\n",
       "</table>\n",
       "</div>"
      ],
      "text/plain": [
       "                event_name  no_246  no_247  no_248\n",
       "0         MainScreenAppear    2450    2476    2493\n",
       "1       OffersScreenAppear    1542    1520    1531\n",
       "2         CartScreenAppear    1266    1238    1230\n",
       "3  PaymentScreenSuccessful    1200    1158    1181"
      ]
     },
     "execution_count": 42,
     "metadata": {},
     "output_type": "execute_result"
    }
   ],
   "source": [
    "# Сформируем таблицу с количеством пользователей в каждой группе с разбивкой по событиям.\n",
    "df_group = (\n",
    "    df_new.pivot_table(index='event_name', columns='test_id', values='user_id', aggfunc='nunique')\n",
    "    .sort_values(by=246, ascending=False).reset_index()\n",
    ")\n",
    "df_group.columns = ['event_name', 'no_246', 'no_247', 'no_248']\n",
    "df_group"
   ]
  },
  {
   "cell_type": "markdown",
   "metadata": {},
   "source": [
    "Сформулируем гипотезы для каждого события 'event_name':\n",
    "\n",
    "- Н0: Между долями пользователей события от общего количества пользователей в группах 246 и 247 соответственно нет разницы\n",
    "- Н1: Между долями пользователей события от общего количества пользователей в группах 246 и 247 соответственно есть разница"
   ]
  },
  {
   "cell_type": "code",
   "execution_count": 43,
   "metadata": {},
   "outputs": [
    {
     "name": "stdout",
     "output_type": "stream",
     "text": [
      "Для события MainScreenAppear:\n",
      "p-значение: 0.7526703436483038\n",
      "Не получилось отвергнуть нулевую гипотезу, нет оснований считать доли разными.\n",
      "\n",
      "Для события OffersScreenAppear:\n",
      "p-значение: 0.24786096925282264\n",
      "Не получилось отвергнуть нулевую гипотезу, нет оснований считать доли разными.\n",
      "\n",
      "Для события CartScreenAppear:\n",
      "p-значение: 0.22867643757335676\n",
      "Не получилось отвергнуть нулевую гипотезу, нет оснований считать доли разными.\n",
      "\n",
      "Для события PaymentScreenSuccessful:\n",
      "p-значение: 0.11446627829276612\n",
      "Не получилось отвергнуть нулевую гипотезу, нет оснований считать доли разными.\n",
      "\n"
     ]
    }
   ],
   "source": [
    "for i in range(len(df_group)):\n",
    "    trials = df_test_group.user_id[[0,1]]\n",
    "    successes = list([df_group.loc[i, 'no_246'], df_group.loc[i, 'no_247']])\n",
    "    print(f'Для события {df_group.event_name[i]}:')\n",
    "    test_aa(trials, successes, 0.05)\n",
    "    print()"
   ]
  },
  {
   "cell_type": "markdown",
   "metadata": {},
   "source": [
    "<div style=\"border:solid blue 2px; padding: 20px\"> Разбиение на группы работает корректно, между контрольными группами нет разницы в разбивке на группы, дошедших до определенного этапа. А/А тест можно считать успешным."
   ]
  },
  {
   "cell_type": "markdown",
   "metadata": {},
   "source": [
    "### Число и доля пользователей, совершивших самое популярное событие в каждой из контрольных групп"
   ]
  },
  {
   "cell_type": "markdown",
   "metadata": {},
   "source": [
    "Добавим в таблицы данные для объединенной группы и посчитаем доли."
   ]
  },
  {
   "cell_type": "code",
   "execution_count": 44,
   "metadata": {},
   "outputs": [
    {
     "data": {
      "text/html": [
       "<div>\n",
       "<style scoped>\n",
       "    .dataframe tbody tr th:only-of-type {\n",
       "        vertical-align: middle;\n",
       "    }\n",
       "\n",
       "    .dataframe tbody tr th {\n",
       "        vertical-align: top;\n",
       "    }\n",
       "\n",
       "    .dataframe thead th {\n",
       "        text-align: right;\n",
       "    }\n",
       "</style>\n",
       "<table border=\"1\" class=\"dataframe\">\n",
       "  <thead>\n",
       "    <tr style=\"text-align: right;\">\n",
       "      <th></th>\n",
       "      <th>test_id</th>\n",
       "      <th>user_id</th>\n",
       "    </tr>\n",
       "  </thead>\n",
       "  <tbody>\n",
       "    <tr>\n",
       "      <th>0</th>\n",
       "      <td>246.0</td>\n",
       "      <td>2483.0</td>\n",
       "    </tr>\n",
       "    <tr>\n",
       "      <th>1</th>\n",
       "      <td>247.0</td>\n",
       "      <td>2512.0</td>\n",
       "    </tr>\n",
       "    <tr>\n",
       "      <th>2</th>\n",
       "      <td>248.0</td>\n",
       "      <td>2535.0</td>\n",
       "    </tr>\n",
       "    <tr>\n",
       "      <th>3</th>\n",
       "      <td>246+247</td>\n",
       "      <td>4995.0</td>\n",
       "    </tr>\n",
       "  </tbody>\n",
       "</table>\n",
       "</div>"
      ],
      "text/plain": [
       "   test_id  user_id\n",
       "0    246.0   2483.0\n",
       "1    247.0   2512.0\n",
       "2    248.0   2535.0\n",
       "3  246+247   4995.0"
      ]
     },
     "execution_count": 44,
     "metadata": {},
     "output_type": "execute_result"
    }
   ],
   "source": [
    "df_test_group.loc[3,:] = df_test_group.loc[0,:] + df_test_group.loc[1,:]\n",
    "df_test_group.loc[3,'test_id'] = '246+247'\n",
    "df_test_group"
   ]
  },
  {
   "cell_type": "code",
   "execution_count": 45,
   "metadata": {},
   "outputs": [
    {
     "data": {
      "text/html": [
       "<div>\n",
       "<style scoped>\n",
       "    .dataframe tbody tr th:only-of-type {\n",
       "        vertical-align: middle;\n",
       "    }\n",
       "\n",
       "    .dataframe tbody tr th {\n",
       "        vertical-align: top;\n",
       "    }\n",
       "\n",
       "    .dataframe thead th {\n",
       "        text-align: right;\n",
       "    }\n",
       "</style>\n",
       "<table border=\"1\" class=\"dataframe\">\n",
       "  <thead>\n",
       "    <tr style=\"text-align: right;\">\n",
       "      <th></th>\n",
       "      <th>event_name</th>\n",
       "      <th>no_246</th>\n",
       "      <th>no_247</th>\n",
       "      <th>no_248</th>\n",
       "      <th>no_246+247</th>\n",
       "    </tr>\n",
       "  </thead>\n",
       "  <tbody>\n",
       "    <tr>\n",
       "      <th>0</th>\n",
       "      <td>MainScreenAppear</td>\n",
       "      <td>2450</td>\n",
       "      <td>2476</td>\n",
       "      <td>2493</td>\n",
       "      <td>4926</td>\n",
       "    </tr>\n",
       "    <tr>\n",
       "      <th>1</th>\n",
       "      <td>OffersScreenAppear</td>\n",
       "      <td>1542</td>\n",
       "      <td>1520</td>\n",
       "      <td>1531</td>\n",
       "      <td>3062</td>\n",
       "    </tr>\n",
       "    <tr>\n",
       "      <th>2</th>\n",
       "      <td>CartScreenAppear</td>\n",
       "      <td>1266</td>\n",
       "      <td>1238</td>\n",
       "      <td>1230</td>\n",
       "      <td>2504</td>\n",
       "    </tr>\n",
       "    <tr>\n",
       "      <th>3</th>\n",
       "      <td>PaymentScreenSuccessful</td>\n",
       "      <td>1200</td>\n",
       "      <td>1158</td>\n",
       "      <td>1181</td>\n",
       "      <td>2358</td>\n",
       "    </tr>\n",
       "  </tbody>\n",
       "</table>\n",
       "</div>"
      ],
      "text/plain": [
       "                event_name  no_246  no_247  no_248  no_246+247\n",
       "0         MainScreenAppear    2450    2476    2493        4926\n",
       "1       OffersScreenAppear    1542    1520    1531        3062\n",
       "2         CartScreenAppear    1266    1238    1230        2504\n",
       "3  PaymentScreenSuccessful    1200    1158    1181        2358"
      ]
     },
     "execution_count": 45,
     "metadata": {},
     "output_type": "execute_result"
    }
   ],
   "source": [
    "df_group['no_246+247'] = df_group['no_246'] + df_group['no_247']\n",
    "df_group"
   ]
  },
  {
   "cell_type": "code",
   "execution_count": 46,
   "metadata": {},
   "outputs": [
    {
     "data": {
      "text/html": [
       "<div>\n",
       "<style scoped>\n",
       "    .dataframe tbody tr th:only-of-type {\n",
       "        vertical-align: middle;\n",
       "    }\n",
       "\n",
       "    .dataframe tbody tr th {\n",
       "        vertical-align: top;\n",
       "    }\n",
       "\n",
       "    .dataframe thead th {\n",
       "        text-align: right;\n",
       "    }\n",
       "</style>\n",
       "<table border=\"1\" class=\"dataframe\">\n",
       "  <thead>\n",
       "    <tr style=\"text-align: right;\">\n",
       "      <th></th>\n",
       "      <th>event_name</th>\n",
       "      <th>no_246</th>\n",
       "      <th>no_247</th>\n",
       "      <th>no_248</th>\n",
       "      <th>no_246+247</th>\n",
       "      <th>no_246_part</th>\n",
       "      <th>no_247_part</th>\n",
       "      <th>no_248_part</th>\n",
       "      <th>no_246+247_part</th>\n",
       "    </tr>\n",
       "  </thead>\n",
       "  <tbody>\n",
       "    <tr>\n",
       "      <th>0</th>\n",
       "      <td>MainScreenAppear</td>\n",
       "      <td>2450</td>\n",
       "      <td>2476</td>\n",
       "      <td>2493</td>\n",
       "      <td>4926</td>\n",
       "      <td>0.99</td>\n",
       "      <td>0.99</td>\n",
       "      <td>0.98</td>\n",
       "      <td>0.99</td>\n",
       "    </tr>\n",
       "    <tr>\n",
       "      <th>1</th>\n",
       "      <td>OffersScreenAppear</td>\n",
       "      <td>1542</td>\n",
       "      <td>1520</td>\n",
       "      <td>1531</td>\n",
       "      <td>3062</td>\n",
       "      <td>0.62</td>\n",
       "      <td>0.61</td>\n",
       "      <td>0.60</td>\n",
       "      <td>0.61</td>\n",
       "    </tr>\n",
       "    <tr>\n",
       "      <th>2</th>\n",
       "      <td>CartScreenAppear</td>\n",
       "      <td>1266</td>\n",
       "      <td>1238</td>\n",
       "      <td>1230</td>\n",
       "      <td>2504</td>\n",
       "      <td>0.51</td>\n",
       "      <td>0.49</td>\n",
       "      <td>0.49</td>\n",
       "      <td>0.50</td>\n",
       "    </tr>\n",
       "    <tr>\n",
       "      <th>3</th>\n",
       "      <td>PaymentScreenSuccessful</td>\n",
       "      <td>1200</td>\n",
       "      <td>1158</td>\n",
       "      <td>1181</td>\n",
       "      <td>2358</td>\n",
       "      <td>0.48</td>\n",
       "      <td>0.46</td>\n",
       "      <td>0.47</td>\n",
       "      <td>0.47</td>\n",
       "    </tr>\n",
       "  </tbody>\n",
       "</table>\n",
       "</div>"
      ],
      "text/plain": [
       "                event_name  no_246  no_247  no_248  no_246+247  no_246_part  \\\n",
       "0         MainScreenAppear    2450    2476    2493        4926         0.99   \n",
       "1       OffersScreenAppear    1542    1520    1531        3062         0.62   \n",
       "2         CartScreenAppear    1266    1238    1230        2504         0.51   \n",
       "3  PaymentScreenSuccessful    1200    1158    1181        2358         0.48   \n",
       "\n",
       "   no_247_part  no_248_part  no_246+247_part  \n",
       "0         0.99         0.98             0.99  \n",
       "1         0.61         0.60             0.61  \n",
       "2         0.49         0.49             0.50  \n",
       "3         0.46         0.47             0.47  "
      ]
     },
     "execution_count": 46,
     "metadata": {},
     "output_type": "execute_result"
    }
   ],
   "source": [
    "df_group['no_246_part'] = round(df_group['no_246'] / df_test_group.loc[0,'user_id'],2)\n",
    "df_group['no_247_part'] = round(df_group['no_247'] / df_test_group.loc[1,'user_id'],2)\n",
    "df_group['no_248_part'] = round(df_group['no_248'] / df_test_group.loc[2,'user_id'],2)\n",
    "df_group['no_246+247_part'] = round(df_group['no_246+247'] / df_test_group.loc[3,'user_id'],2)\n",
    "df_group"
   ]
  },
  {
   "cell_type": "markdown",
   "metadata": {},
   "source": [
    "<div style=\"border:solid blue 2px; padding: 20px\"> Самым популярным событием является главный экран, во всех группах доля пользователей, совершивших это событие, практически одинакова. Доли для других событий также практически не отличаются. Далее проверим, имеют ли эти небольшие различия статистическую значимость."
   ]
  },
  {
   "cell_type": "markdown",
   "metadata": {},
   "source": [
    "### Проверка статистической достоверности между группами."
   ]
  },
  {
   "cell_type": "markdown",
   "metadata": {},
   "source": [
    "Чтобы снизить вероятность ложнопозитивного результата при множественном тестировании гипотез, применим метод корректировки уровня значимости Бонферрони. Т.к. будем рассматривать три пары групп по 4 события, то разделим уровень значимости alpha = 0,05  на 12."
   ]
  },
  {
   "cell_type": "code",
   "execution_count": 47,
   "metadata": {},
   "outputs": [],
   "source": [
    "bonferroni_alpha = 0.05 / 12"
   ]
  },
  {
   "cell_type": "markdown",
   "metadata": {},
   "source": [
    "Сформулируем гипотезы для каждого события 'event_name':\n",
    "\n",
    "- Н0: Между долями пользователей события от общего количества пользователей в группах 247 и 248 соответственно нет разницы\n",
    "- Н1: Между долями пользователей события от общего количества пользователей в группах 247 и 248 соответственно есть разница"
   ]
  },
  {
   "cell_type": "code",
   "execution_count": 48,
   "metadata": {},
   "outputs": [
    {
     "name": "stdout",
     "output_type": "stream",
     "text": [
      "Для события MainScreenAppear:\n",
      "p-значение: 0.5194964354051703\n",
      "Не получилось отвергнуть нулевую гипотезу, нет оснований считать доли разными.\n",
      "\n",
      "Для события OffersScreenAppear:\n",
      "p-значение: 0.9333751305879443\n",
      "Не получилось отвергнуть нулевую гипотезу, нет оснований считать доли разными.\n",
      "\n",
      "Для события CartScreenAppear:\n",
      "p-значение: 0.5878284605111943\n",
      "Не получилось отвергнуть нулевую гипотезу, нет оснований считать доли разными.\n",
      "\n",
      "Для события PaymentScreenSuccessful:\n",
      "p-значение: 0.7275718682261119\n",
      "Не получилось отвергнуть нулевую гипотезу, нет оснований считать доли разными.\n",
      "\n"
     ]
    }
   ],
   "source": [
    "for i in range(len(df_group)):\n",
    "    trials = list(df_test_group.user_id[[1,2]])\n",
    "    successes = list([df_group.loc[i, 'no_247'], df_group.loc[i, 'no_248']])\n",
    "    print(f'Для события {df_group.event_name[i]}:')\n",
    "    test_aa(trials, successes, bonferroni_alpha)\n",
    "    print()"
   ]
  },
  {
   "cell_type": "markdown",
   "metadata": {},
   "source": [
    "Сформулируем гипотезы для каждого события 'event_name':\n",
    "\n",
    "- Н0: Между долями пользователей события от общего количества пользователей в группах 246 и 248 соответственно нет разницы\n",
    "- Н1: Между долями пользователей события от общего количества пользователей в группах 246 и 248 соответственно есть разница"
   ]
  },
  {
   "cell_type": "code",
   "execution_count": 49,
   "metadata": {},
   "outputs": [
    {
     "name": "stdout",
     "output_type": "stream",
     "text": [
      "Для события MainScreenAppear:\n",
      "p-значение: 0.3387114076159288\n",
      "Не получилось отвергнуть нулевую гипотезу, нет оснований считать доли разными.\n",
      "\n",
      "Для события OffersScreenAppear:\n",
      "p-значение: 0.21442476639710506\n",
      "Не получилось отвергнуть нулевую гипотезу, нет оснований считать доли разными.\n",
      "\n",
      "Для события CartScreenAppear:\n",
      "p-значение: 0.08067367598823139\n",
      "Не получилось отвергнуть нулевую гипотезу, нет оснований считать доли разными.\n",
      "\n",
      "Для события PaymentScreenSuccessful:\n",
      "p-значение: 0.21693033984516674\n",
      "Не получилось отвергнуть нулевую гипотезу, нет оснований считать доли разными.\n",
      "\n"
     ]
    }
   ],
   "source": [
    "for i in range(len(df_group)):\n",
    "    trials = list(df_test_group.user_id[[0,2]])\n",
    "    successes = list([df_group.loc[i, 'no_246'], df_group.loc[i, 'no_248']])\n",
    "    print(f'Для события {df_group.event_name[i]}:')\n",
    "    test_aa(trials, successes, bonferroni_alpha)\n",
    "    print()"
   ]
  },
  {
   "cell_type": "markdown",
   "metadata": {},
   "source": [
    "Сформулируем гипотезы для каждого события 'event_name':\n",
    "\n",
    "- Н0: Между долями пользователей события от общего количества пользователей в группах 246+247 и 248 соответственно нет разницы\n",
    "- Н1: Между долями пользователей события от общего количества пользователей в группах 246+247 и 248 соответственно есть разница"
   ]
  },
  {
   "cell_type": "code",
   "execution_count": 50,
   "metadata": {},
   "outputs": [
    {
     "name": "stdout",
     "output_type": "stream",
     "text": [
      "Для события MainScreenAppear:\n",
      "p-значение: 0.3486684291093256\n",
      "Не получилось отвергнуть нулевую гипотезу, нет оснований считать доли разными.\n",
      "\n",
      "Для события OffersScreenAppear:\n",
      "p-значение: 0.44582745409482394\n",
      "Не получилось отвергнуть нулевую гипотезу, нет оснований считать доли разными.\n",
      "\n",
      "Для события CartScreenAppear:\n",
      "p-значение: 0.18683558686831558\n",
      "Не получилось отвергнуть нулевую гипотезу, нет оснований считать доли разными.\n",
      "\n",
      "Для события PaymentScreenSuccessful:\n",
      "p-значение: 0.6107918742187335\n",
      "Не получилось отвергнуть нулевую гипотезу, нет оснований считать доли разными.\n",
      "\n"
     ]
    }
   ],
   "source": [
    "for i in range(len(df_group)):\n",
    "    trials = list(df_test_group.user_id[[2,3]])\n",
    "    successes = list([df_group.loc[i, 'no_248'], df_group.loc[i, 'no_246+247']])\n",
    "    print(f'Для события {df_group.event_name[i]}:')\n",
    "    test_aa(trials, successes, bonferroni_alpha)\n",
    "    print()"
   ]
  },
  {
   "cell_type": "markdown",
   "metadata": {},
   "source": [
    "<div style=\"border:solid blue 2px; padding: 20px\"> В результате не получилось отвергнуть ни одной нулевой гипотезы, т.е. у нас нет оснований считать, что между долями пользователей в каждой из групп, дошедших до определенного события есть различия. При этом значения p_value настолько высокие, что даже без поправок на множественные сравнения при уровне значимости 0,05 ни одна из нулевых гипотез не была бы отвергнута. Проверку на статистичекую значимость при уровне 0,1 вижу нецелесообразным, т.к. с учетом поправки Бонферрони результаты проверки останутся прежними."
   ]
  },
  {
   "cell_type": "markdown",
   "metadata": {},
   "source": [
    "## Выводы  \n",
    "\n",
    "Таким образом, по результатм анализа воронки продаж и А/А/В-тестирования с 1 по 7 августа 2019 года стоит отметить:\n",
    "- Почти 48% пользователей доходит с главного экрана до успешной оплаты заказа, при этом на главном экране теряется больше всего пользователей - только 62% переходят на экран с предложением.\n",
    "- Учебное пособие никак не встраивается в логическую цепочку, данную страницу посещают только 11% пользователей.\n",
    "- По результатам А/А/В-тестирования не наблюдается статистически значимой разницы между группами, т.е. изменение шрифтов в приложении не повлияло на пропорции пользователей, переходящих с одного этапа воронки на другой.\n",
    "<div>\n",
    "    Рекомендуется более подробно рассмотреть причины, по которым почти 40% пользователей отсеиваются на этапе главного экрана приложения.\n",
    "\n",
    "\n",
    "\n"
   ]
  }
 ],
 "metadata": {
  "ExecuteTimeLog": [
   {
    "duration": 413,
    "start_time": "2022-12-26T14:37:36.477Z"
   },
   {
    "duration": 876,
    "start_time": "2022-12-26T14:37:36.989Z"
   },
   {
    "duration": 21,
    "start_time": "2022-12-26T14:42:06.100Z"
   },
   {
    "duration": 17,
    "start_time": "2022-12-26T14:42:27.534Z"
   },
   {
    "duration": 167,
    "start_time": "2022-12-26T14:42:41.260Z"
   },
   {
    "duration": 8,
    "start_time": "2022-12-26T14:42:42.014Z"
   },
   {
    "duration": 19,
    "start_time": "2022-12-26T14:42:57.781Z"
   },
   {
    "duration": 21,
    "start_time": "2022-12-26T14:47:45.612Z"
   },
   {
    "duration": 25,
    "start_time": "2022-12-26T14:59:18.201Z"
   },
   {
    "duration": 2,
    "start_time": "2022-12-26T15:00:34.309Z"
   },
   {
    "duration": 13,
    "start_time": "2022-12-26T15:01:23.397Z"
   },
   {
    "duration": 53,
    "start_time": "2022-12-26T15:01:34.327Z"
   },
   {
    "duration": 3,
    "start_time": "2022-12-26T15:01:46.518Z"
   },
   {
    "duration": 184,
    "start_time": "2022-12-26T15:01:46.523Z"
   },
   {
    "duration": 8,
    "start_time": "2022-12-26T15:01:46.709Z"
   },
   {
    "duration": 43,
    "start_time": "2022-12-26T15:01:46.718Z"
   },
   {
    "duration": 19,
    "start_time": "2022-12-26T15:01:46.763Z"
   },
   {
    "duration": 45,
    "start_time": "2022-12-26T15:01:46.783Z"
   },
   {
    "duration": 17,
    "start_time": "2022-12-26T15:02:03.822Z"
   },
   {
    "duration": 16,
    "start_time": "2022-12-26T15:02:10.945Z"
   },
   {
    "duration": 3,
    "start_time": "2022-12-26T15:02:14.932Z"
   },
   {
    "duration": 174,
    "start_time": "2022-12-26T15:02:14.937Z"
   },
   {
    "duration": 7,
    "start_time": "2022-12-26T15:02:15.113Z"
   },
   {
    "duration": 22,
    "start_time": "2022-12-26T15:02:15.122Z"
   },
   {
    "duration": 20,
    "start_time": "2022-12-26T15:02:15.146Z"
   },
   {
    "duration": 39,
    "start_time": "2022-12-26T15:02:15.168Z"
   },
   {
    "duration": 77,
    "start_time": "2022-12-26T15:35:17.351Z"
   },
   {
    "duration": 7,
    "start_time": "2022-12-26T15:38:43.243Z"
   },
   {
    "duration": 8,
    "start_time": "2022-12-26T15:39:06.102Z"
   },
   {
    "duration": 26,
    "start_time": "2022-12-26T15:39:21.385Z"
   },
   {
    "duration": 7,
    "start_time": "2022-12-26T15:39:29.667Z"
   },
   {
    "duration": 16,
    "start_time": "2022-12-26T15:44:06.797Z"
   },
   {
    "duration": 12,
    "start_time": "2022-12-26T15:44:17.477Z"
   },
   {
    "duration": 77,
    "start_time": "2022-12-26T15:45:16.641Z"
   },
   {
    "duration": 17,
    "start_time": "2022-12-26T15:46:19.588Z"
   },
   {
    "duration": 412,
    "start_time": "2022-12-26T15:46:29.602Z"
   },
   {
    "duration": 175,
    "start_time": "2022-12-26T15:46:30.016Z"
   },
   {
    "duration": 27,
    "start_time": "2022-12-26T15:46:30.193Z"
   },
   {
    "duration": 39,
    "start_time": "2022-12-26T15:46:30.223Z"
   },
   {
    "duration": 22,
    "start_time": "2022-12-26T15:46:30.264Z"
   },
   {
    "duration": 34,
    "start_time": "2022-12-26T15:46:30.288Z"
   },
   {
    "duration": 1010,
    "start_time": "2022-12-26T15:46:30.324Z"
   },
   {
    "duration": 122,
    "start_time": "2022-12-26T15:47:12.529Z"
   },
   {
    "duration": 9,
    "start_time": "2022-12-26T15:52:46.730Z"
   },
   {
    "duration": 91,
    "start_time": "2022-12-26T15:52:53.536Z"
   },
   {
    "duration": 85,
    "start_time": "2022-12-26T15:53:11.062Z"
   },
   {
    "duration": 82,
    "start_time": "2022-12-26T15:53:51.744Z"
   },
   {
    "duration": 123,
    "start_time": "2022-12-26T15:55:42.643Z"
   },
   {
    "duration": 189,
    "start_time": "2022-12-26T15:55:59.639Z"
   },
   {
    "duration": 4,
    "start_time": "2022-12-26T15:59:02.696Z"
   },
   {
    "duration": 7,
    "start_time": "2022-12-26T16:00:10.565Z"
   },
   {
    "duration": 8,
    "start_time": "2022-12-26T16:00:29.509Z"
   },
   {
    "duration": 5,
    "start_time": "2022-12-26T16:00:47.645Z"
   },
   {
    "duration": 11,
    "start_time": "2022-12-26T16:02:39.710Z"
   },
   {
    "duration": 23,
    "start_time": "2022-12-26T16:02:48.841Z"
   },
   {
    "duration": 33,
    "start_time": "2022-12-26T16:03:41.731Z"
   },
   {
    "duration": 21,
    "start_time": "2022-12-26T16:04:16.421Z"
   },
   {
    "duration": 5,
    "start_time": "2022-12-26T16:05:11.972Z"
   },
   {
    "duration": 5,
    "start_time": "2022-12-26T16:05:15.444Z"
   },
   {
    "duration": 647,
    "start_time": "2022-12-26T16:07:59.047Z"
   },
   {
    "duration": 19,
    "start_time": "2022-12-26T16:08:23.070Z"
   },
   {
    "duration": 901,
    "start_time": "2022-12-27T14:10:43.143Z"
   },
   {
    "duration": 978,
    "start_time": "2022-12-27T14:10:44.047Z"
   },
   {
    "duration": 12,
    "start_time": "2022-12-27T14:10:45.027Z"
   },
   {
    "duration": 23,
    "start_time": "2022-12-27T14:10:47.875Z"
   },
   {
    "duration": 21,
    "start_time": "2022-12-27T14:10:48.973Z"
   },
   {
    "duration": 18,
    "start_time": "2022-12-27T14:10:51.777Z"
   },
   {
    "duration": 89,
    "start_time": "2022-12-27T14:10:52.491Z"
   },
   {
    "duration": 111,
    "start_time": "2022-12-27T14:10:53.841Z"
   },
   {
    "duration": 226,
    "start_time": "2022-12-27T14:10:54.815Z"
   },
   {
    "duration": 4,
    "start_time": "2022-12-27T14:10:58.458Z"
   },
   {
    "duration": 8,
    "start_time": "2022-12-27T14:11:02.219Z"
   },
   {
    "duration": 24,
    "start_time": "2022-12-27T14:11:03.822Z"
   },
   {
    "duration": 6,
    "start_time": "2022-12-27T14:11:08.174Z"
   },
   {
    "duration": 6,
    "start_time": "2022-12-27T14:11:08.967Z"
   },
   {
    "duration": 74,
    "start_time": "2022-12-27T14:11:17.563Z"
   },
   {
    "duration": 8,
    "start_time": "2022-12-27T14:11:58.217Z"
   },
   {
    "duration": 295,
    "start_time": "2022-12-27T14:12:12.856Z"
   },
   {
    "duration": 192,
    "start_time": "2022-12-27T14:12:25.414Z"
   },
   {
    "duration": 373,
    "start_time": "2022-12-27T14:12:42.804Z"
   },
   {
    "duration": 318,
    "start_time": "2022-12-27T14:14:48.555Z"
   },
   {
    "duration": 3,
    "start_time": "2022-12-27T14:15:18.631Z"
   },
   {
    "duration": 402,
    "start_time": "2022-12-27T14:15:32.312Z"
   },
   {
    "duration": 394,
    "start_time": "2022-12-27T14:15:47.961Z"
   },
   {
    "duration": 361,
    "start_time": "2022-12-27T14:16:18.637Z"
   },
   {
    "duration": 590,
    "start_time": "2022-12-27T14:16:31.251Z"
   },
   {
    "duration": 319,
    "start_time": "2022-12-27T14:21:52.223Z"
   },
   {
    "duration": 58,
    "start_time": "2022-12-27T14:25:52.719Z"
   },
   {
    "duration": 23,
    "start_time": "2022-12-27T14:26:21.446Z"
   },
   {
    "duration": 479,
    "start_time": "2022-12-27T14:26:55.839Z"
   },
   {
    "duration": 20,
    "start_time": "2022-12-27T14:27:53.324Z"
   },
   {
    "duration": 462,
    "start_time": "2022-12-27T14:27:55.544Z"
   },
   {
    "duration": 22,
    "start_time": "2022-12-27T14:28:43.607Z"
   },
   {
    "duration": 20,
    "start_time": "2022-12-27T14:29:10.618Z"
   },
   {
    "duration": 4,
    "start_time": "2022-12-27T14:30:37.571Z"
   },
   {
    "duration": 16,
    "start_time": "2022-12-27T14:30:51.202Z"
   },
   {
    "duration": 11,
    "start_time": "2022-12-27T14:31:41.475Z"
   },
   {
    "duration": 7,
    "start_time": "2022-12-27T14:31:51.093Z"
   },
   {
    "duration": 7,
    "start_time": "2022-12-27T14:34:27.246Z"
   },
   {
    "duration": 24,
    "start_time": "2022-12-27T14:34:48.352Z"
   },
   {
    "duration": 23,
    "start_time": "2022-12-27T14:39:09.105Z"
   },
   {
    "duration": 58,
    "start_time": "2022-12-27T14:40:13.149Z"
   },
   {
    "duration": 59,
    "start_time": "2022-12-27T14:40:53.617Z"
   },
   {
    "duration": 50,
    "start_time": "2022-12-27T14:49:18.638Z"
   },
   {
    "duration": 159,
    "start_time": "2022-12-27T14:49:50.953Z"
   },
   {
    "duration": 26,
    "start_time": "2022-12-27T14:49:53.215Z"
   },
   {
    "duration": 47,
    "start_time": "2022-12-27T14:58:54.348Z"
   },
   {
    "duration": 60,
    "start_time": "2022-12-27T15:12:07.088Z"
   },
   {
    "duration": 59,
    "start_time": "2022-12-27T15:14:40.985Z"
   },
   {
    "duration": 64,
    "start_time": "2022-12-27T15:16:53.688Z"
   },
   {
    "duration": 72,
    "start_time": "2022-12-27T15:22:06.846Z"
   },
   {
    "duration": 797,
    "start_time": "2022-12-29T07:17:19.910Z"
   },
   {
    "duration": 670,
    "start_time": "2022-12-29T07:17:20.709Z"
   },
   {
    "duration": 11,
    "start_time": "2022-12-29T07:17:21.381Z"
   },
   {
    "duration": 33,
    "start_time": "2022-12-29T07:17:21.393Z"
   },
   {
    "duration": 20,
    "start_time": "2022-12-29T07:17:21.428Z"
   },
   {
    "duration": 32,
    "start_time": "2022-12-29T07:17:21.450Z"
   },
   {
    "duration": 142,
    "start_time": "2022-12-29T07:17:21.483Z"
   },
   {
    "duration": 20,
    "start_time": "2022-12-29T07:17:21.627Z"
   },
   {
    "duration": 86,
    "start_time": "2022-12-29T07:17:21.649Z"
   },
   {
    "duration": 161,
    "start_time": "2022-12-29T07:17:21.737Z"
   },
   {
    "duration": 4,
    "start_time": "2022-12-29T07:17:21.900Z"
   },
   {
    "duration": 17,
    "start_time": "2022-12-29T07:17:21.920Z"
   },
   {
    "duration": 40,
    "start_time": "2022-12-29T07:17:21.939Z"
   },
   {
    "duration": 5,
    "start_time": "2022-12-29T07:17:21.983Z"
   },
   {
    "duration": 5,
    "start_time": "2022-12-29T07:17:21.990Z"
   },
   {
    "duration": 644,
    "start_time": "2022-12-29T07:17:21.997Z"
   },
   {
    "duration": 14,
    "start_time": "2022-12-29T07:17:22.643Z"
   },
   {
    "duration": 4,
    "start_time": "2022-12-29T07:17:22.659Z"
   },
   {
    "duration": 15,
    "start_time": "2022-12-29T07:17:22.665Z"
   },
   {
    "duration": 66,
    "start_time": "2022-12-29T07:17:22.682Z"
   },
   {
    "duration": 19,
    "start_time": "2022-12-29T07:17:22.750Z"
   },
   {
    "duration": 77,
    "start_time": "2022-12-29T07:17:22.770Z"
   },
   {
    "duration": 77,
    "start_time": "2022-12-29T07:17:22.849Z"
   },
   {
    "duration": 4,
    "start_time": "2022-12-29T07:37:50.171Z"
   },
   {
    "duration": 4,
    "start_time": "2022-12-29T07:38:16.600Z"
   },
   {
    "duration": 3,
    "start_time": "2022-12-29T07:39:21.434Z"
   },
   {
    "duration": 6,
    "start_time": "2022-12-29T07:41:55.557Z"
   },
   {
    "duration": 7,
    "start_time": "2022-12-29T07:48:27.966Z"
   },
   {
    "duration": 53,
    "start_time": "2022-12-29T07:54:46.629Z"
   },
   {
    "duration": 70,
    "start_time": "2022-12-29T07:55:26.592Z"
   },
   {
    "duration": 185,
    "start_time": "2022-12-29T07:56:17.606Z"
   },
   {
    "duration": 5,
    "start_time": "2022-12-29T09:39:22.767Z"
   },
   {
    "duration": 4,
    "start_time": "2022-12-29T09:39:30.635Z"
   },
   {
    "duration": 4,
    "start_time": "2022-12-29T09:41:49.307Z"
   },
   {
    "duration": 4,
    "start_time": "2022-12-29T09:42:52.687Z"
   },
   {
    "duration": 3,
    "start_time": "2022-12-29T09:44:21.305Z"
   },
   {
    "duration": 395,
    "start_time": "2022-12-29T10:13:11.116Z"
   },
   {
    "duration": 49,
    "start_time": "2022-12-29T10:14:32.787Z"
   },
   {
    "duration": 18,
    "start_time": "2022-12-29T10:15:00.713Z"
   },
   {
    "duration": 26,
    "start_time": "2022-12-29T10:15:25.858Z"
   },
   {
    "duration": 9845,
    "start_time": "2022-12-29T10:18:19.981Z"
   },
   {
    "duration": 3,
    "start_time": "2022-12-29T10:20:12.934Z"
   },
   {
    "duration": 36,
    "start_time": "2022-12-29T10:28:06.548Z"
   },
   {
    "duration": 53,
    "start_time": "2022-12-29T10:29:21.273Z"
   },
   {
    "duration": 96,
    "start_time": "2022-12-29T10:32:39.261Z"
   },
   {
    "duration": 68,
    "start_time": "2022-12-29T10:32:45.743Z"
   },
   {
    "duration": 58,
    "start_time": "2022-12-29T10:33:09.366Z"
   },
   {
    "duration": 58,
    "start_time": "2022-12-29T10:33:40.975Z"
   },
   {
    "duration": 46,
    "start_time": "2022-12-29T14:34:02.809Z"
   },
   {
    "duration": 1237,
    "start_time": "2022-12-29T14:34:07.134Z"
   },
   {
    "duration": 700,
    "start_time": "2022-12-29T14:34:08.373Z"
   },
   {
    "duration": 12,
    "start_time": "2022-12-29T14:34:09.074Z"
   },
   {
    "duration": 19,
    "start_time": "2022-12-29T14:34:09.087Z"
   },
   {
    "duration": 17,
    "start_time": "2022-12-29T14:34:09.108Z"
   },
   {
    "duration": 14,
    "start_time": "2022-12-29T14:34:09.126Z"
   },
   {
    "duration": 127,
    "start_time": "2022-12-29T14:34:09.142Z"
   },
   {
    "duration": 17,
    "start_time": "2022-12-29T14:34:09.271Z"
   },
   {
    "duration": 91,
    "start_time": "2022-12-29T14:34:09.290Z"
   },
   {
    "duration": 149,
    "start_time": "2022-12-29T14:34:09.383Z"
   },
   {
    "duration": 4,
    "start_time": "2022-12-29T14:34:09.534Z"
   },
   {
    "duration": 22,
    "start_time": "2022-12-29T14:34:09.539Z"
   },
   {
    "duration": 32,
    "start_time": "2022-12-29T14:34:09.563Z"
   },
   {
    "duration": 5,
    "start_time": "2022-12-29T14:34:09.597Z"
   },
   {
    "duration": 9,
    "start_time": "2022-12-29T14:34:09.604Z"
   },
   {
    "duration": 548,
    "start_time": "2022-12-29T14:34:09.615Z"
   },
   {
    "duration": 14,
    "start_time": "2022-12-29T14:34:10.165Z"
   },
   {
    "duration": 4,
    "start_time": "2022-12-29T14:34:10.181Z"
   },
   {
    "duration": 9,
    "start_time": "2022-12-29T14:34:10.187Z"
   },
   {
    "duration": 63,
    "start_time": "2022-12-29T14:34:10.197Z"
   },
   {
    "duration": 19,
    "start_time": "2022-12-29T14:34:10.262Z"
   },
   {
    "duration": 73,
    "start_time": "2022-12-29T14:34:10.282Z"
   },
   {
    "duration": 53,
    "start_time": "2022-12-29T14:34:10.356Z"
   },
   {
    "duration": 63,
    "start_time": "2022-12-29T14:34:10.410Z"
   },
   {
    "duration": 0,
    "start_time": "2022-12-29T14:34:10.475Z"
   },
   {
    "duration": 0,
    "start_time": "2022-12-29T14:34:10.476Z"
   },
   {
    "duration": 0,
    "start_time": "2022-12-29T14:34:10.477Z"
   },
   {
    "duration": 0,
    "start_time": "2022-12-29T14:34:10.478Z"
   },
   {
    "duration": 56,
    "start_time": "2022-12-29T14:36:22.346Z"
   },
   {
    "duration": 68,
    "start_time": "2022-12-29T14:37:43.352Z"
   },
   {
    "duration": 2,
    "start_time": "2022-12-29T14:37:54.993Z"
   },
   {
    "duration": 5,
    "start_time": "2022-12-29T14:38:05.763Z"
   },
   {
    "duration": 6,
    "start_time": "2022-12-29T14:38:15.688Z"
   },
   {
    "duration": 3,
    "start_time": "2022-12-29T14:38:31.029Z"
   },
   {
    "duration": 36,
    "start_time": "2022-12-29T14:39:31.421Z"
   },
   {
    "duration": 4,
    "start_time": "2022-12-29T15:07:45.383Z"
   },
   {
    "duration": 35,
    "start_time": "2022-12-29T15:14:51.722Z"
   },
   {
    "duration": 50,
    "start_time": "2022-12-29T15:26:35.233Z"
   },
   {
    "duration": 54,
    "start_time": "2022-12-29T15:29:34.738Z"
   },
   {
    "duration": 20,
    "start_time": "2022-12-29T15:33:21.917Z"
   },
   {
    "duration": 32,
    "start_time": "2022-12-29T15:33:42.065Z"
   },
   {
    "duration": 27,
    "start_time": "2022-12-29T15:34:02.713Z"
   },
   {
    "duration": 23,
    "start_time": "2022-12-29T15:34:03.516Z"
   },
   {
    "duration": 85,
    "start_time": "2022-12-29T15:42:57.425Z"
   },
   {
    "duration": 30,
    "start_time": "2022-12-29T15:43:06.632Z"
   },
   {
    "duration": 71,
    "start_time": "2022-12-29T15:43:08.590Z"
   },
   {
    "duration": 1154,
    "start_time": "2022-12-29T15:43:22.258Z"
   },
   {
    "duration": 1218,
    "start_time": "2022-12-29T15:44:03.193Z"
   },
   {
    "duration": 1176,
    "start_time": "2022-12-29T15:44:28.901Z"
   },
   {
    "duration": 1149,
    "start_time": "2022-12-29T15:45:17.800Z"
   },
   {
    "duration": 49,
    "start_time": "2022-12-29T15:45:32.454Z"
   },
   {
    "duration": 1161,
    "start_time": "2022-12-29T15:45:48.057Z"
   },
   {
    "duration": 36,
    "start_time": "2022-12-29T15:46:59.306Z"
   },
   {
    "duration": 33,
    "start_time": "2022-12-29T15:47:05.752Z"
   },
   {
    "duration": 43,
    "start_time": "2022-12-29T15:47:25.673Z"
   },
   {
    "duration": 5,
    "start_time": "2022-12-29T15:47:43.250Z"
   },
   {
    "duration": 4,
    "start_time": "2022-12-29T15:47:49.190Z"
   },
   {
    "duration": 7,
    "start_time": "2022-12-29T15:48:03.358Z"
   },
   {
    "duration": 5,
    "start_time": "2022-12-29T15:48:29.077Z"
   },
   {
    "duration": 6,
    "start_time": "2022-12-29T15:48:50.394Z"
   },
   {
    "duration": 5,
    "start_time": "2022-12-29T15:48:51.985Z"
   },
   {
    "duration": 45,
    "start_time": "2022-12-29T15:50:33.221Z"
   },
   {
    "duration": 13,
    "start_time": "2022-12-29T15:52:35.261Z"
   },
   {
    "duration": 13,
    "start_time": "2022-12-29T15:53:18.184Z"
   },
   {
    "duration": 14,
    "start_time": "2022-12-29T15:54:13.378Z"
   },
   {
    "duration": 13,
    "start_time": "2022-12-29T15:54:29.644Z"
   },
   {
    "duration": 74,
    "start_time": "2022-12-29T16:02:37.652Z"
   },
   {
    "duration": 65,
    "start_time": "2022-12-29T16:05:35.097Z"
   },
   {
    "duration": 70,
    "start_time": "2022-12-29T16:05:57.785Z"
   },
   {
    "duration": 6,
    "start_time": "2022-12-29T16:06:34.699Z"
   },
   {
    "duration": 65,
    "start_time": "2022-12-29T16:07:32.282Z"
   },
   {
    "duration": 80,
    "start_time": "2022-12-29T16:07:47.795Z"
   },
   {
    "duration": 1306,
    "start_time": "2023-01-06T09:10:41.558Z"
   },
   {
    "duration": 473,
    "start_time": "2023-01-06T09:10:42.866Z"
   },
   {
    "duration": 15,
    "start_time": "2023-01-06T09:10:43.340Z"
   },
   {
    "duration": 28,
    "start_time": "2023-01-06T09:10:43.357Z"
   },
   {
    "duration": 27,
    "start_time": "2023-01-06T09:10:43.396Z"
   },
   {
    "duration": 22,
    "start_time": "2023-01-06T09:10:43.425Z"
   },
   {
    "duration": 177,
    "start_time": "2023-01-06T09:10:43.450Z"
   },
   {
    "duration": 22,
    "start_time": "2023-01-06T09:10:43.629Z"
   },
   {
    "duration": 98,
    "start_time": "2023-01-06T09:10:43.653Z"
   },
   {
    "duration": 150,
    "start_time": "2023-01-06T09:10:43.753Z"
   },
   {
    "duration": 10,
    "start_time": "2023-01-06T09:10:43.906Z"
   },
   {
    "duration": 24,
    "start_time": "2023-01-06T09:10:43.918Z"
   },
   {
    "duration": 33,
    "start_time": "2023-01-06T09:10:43.945Z"
   },
   {
    "duration": 5,
    "start_time": "2023-01-06T09:10:43.983Z"
   },
   {
    "duration": 18,
    "start_time": "2023-01-06T09:10:43.990Z"
   },
   {
    "duration": 541,
    "start_time": "2023-01-06T09:10:44.009Z"
   },
   {
    "duration": 15,
    "start_time": "2023-01-06T09:10:44.551Z"
   },
   {
    "duration": 4,
    "start_time": "2023-01-06T09:10:44.568Z"
   },
   {
    "duration": 27,
    "start_time": "2023-01-06T09:10:44.574Z"
   },
   {
    "duration": 49,
    "start_time": "2023-01-06T09:10:44.603Z"
   },
   {
    "duration": 19,
    "start_time": "2023-01-06T09:10:44.654Z"
   },
   {
    "duration": 83,
    "start_time": "2023-01-06T09:10:44.674Z"
   },
   {
    "duration": 3,
    "start_time": "2023-01-06T09:10:44.759Z"
   },
   {
    "duration": 10,
    "start_time": "2023-01-06T09:10:44.763Z"
   },
   {
    "duration": 35,
    "start_time": "2023-01-06T09:10:44.774Z"
   },
   {
    "duration": 6,
    "start_time": "2023-01-06T09:10:44.810Z"
   },
   {
    "duration": 7,
    "start_time": "2023-01-06T09:10:44.817Z"
   },
   {
    "duration": 35,
    "start_time": "2023-01-06T09:10:44.825Z"
   },
   {
    "duration": 5,
    "start_time": "2023-01-06T09:10:44.862Z"
   },
   {
    "duration": 33,
    "start_time": "2023-01-06T09:10:44.896Z"
   },
   {
    "duration": 19,
    "start_time": "2023-01-06T09:10:44.931Z"
   },
   {
    "duration": 47,
    "start_time": "2023-01-06T09:10:44.951Z"
   },
   {
    "duration": 17,
    "start_time": "2023-01-06T09:10:44.999Z"
   },
   {
    "duration": 100,
    "start_time": "2023-01-06T09:10:45.018Z"
   },
   {
    "duration": 46,
    "start_time": "2023-01-06T09:10:45.121Z"
   },
   {
    "duration": 7,
    "start_time": "2023-01-06T09:14:03.105Z"
   },
   {
    "duration": 7,
    "start_time": "2023-01-06T09:14:28.057Z"
   },
   {
    "duration": 110,
    "start_time": "2023-01-06T12:33:26.274Z"
   },
   {
    "duration": 6,
    "start_time": "2023-01-06T12:34:42.012Z"
   },
   {
    "duration": 189,
    "start_time": "2023-01-06T12:34:49.163Z"
   },
   {
    "duration": 9,
    "start_time": "2023-01-06T12:40:29.807Z"
   },
   {
    "duration": 11,
    "start_time": "2023-01-06T12:40:48.071Z"
   },
   {
    "duration": 11,
    "start_time": "2023-01-06T12:41:06.837Z"
   },
   {
    "duration": 22,
    "start_time": "2023-01-06T13:25:20.588Z"
   },
   {
    "duration": 90,
    "start_time": "2023-01-06T13:27:11.149Z"
   },
   {
    "duration": 47,
    "start_time": "2023-01-06T13:28:56.193Z"
   },
   {
    "duration": 267,
    "start_time": "2023-01-06T13:30:48.012Z"
   },
   {
    "duration": 75,
    "start_time": "2023-01-06T13:30:53.065Z"
   },
   {
    "duration": 81,
    "start_time": "2023-01-06T13:31:19.812Z"
   },
   {
    "duration": 77,
    "start_time": "2023-01-06T13:31:50.313Z"
   },
   {
    "duration": 7,
    "start_time": "2023-01-06T13:32:24.159Z"
   },
   {
    "duration": 2,
    "start_time": "2023-01-06T13:33:01.589Z"
   },
   {
    "duration": 48,
    "start_time": "2023-01-06T13:45:28.855Z"
   },
   {
    "duration": 4,
    "start_time": "2023-01-06T13:45:58.833Z"
   },
   {
    "duration": 51,
    "start_time": "2023-01-06T13:47:36.137Z"
   },
   {
    "duration": 44,
    "start_time": "2023-01-06T13:49:13.243Z"
   },
   {
    "duration": 5,
    "start_time": "2023-01-06T13:49:23.487Z"
   },
   {
    "duration": 10,
    "start_time": "2023-01-06T13:52:44.531Z"
   },
   {
    "duration": 5,
    "start_time": "2023-01-06T13:52:49.366Z"
   },
   {
    "duration": 5,
    "start_time": "2023-01-06T13:52:50.781Z"
   },
   {
    "duration": 5,
    "start_time": "2023-01-06T13:54:23.630Z"
   },
   {
    "duration": 5,
    "start_time": "2023-01-06T13:54:39.944Z"
   },
   {
    "duration": 5,
    "start_time": "2023-01-06T13:54:41.248Z"
   },
   {
    "duration": 3,
    "start_time": "2023-01-06T14:16:49.670Z"
   },
   {
    "duration": 12,
    "start_time": "2023-01-06T14:17:06.141Z"
   },
   {
    "duration": 735,
    "start_time": "2023-01-06T14:17:23.613Z"
   },
   {
    "duration": 5,
    "start_time": "2023-01-06T14:18:50.986Z"
   },
   {
    "duration": 7,
    "start_time": "2023-01-06T14:26:09.587Z"
   },
   {
    "duration": 10,
    "start_time": "2023-01-06T14:30:46.392Z"
   },
   {
    "duration": 6,
    "start_time": "2023-01-06T14:31:05.537Z"
   },
   {
    "duration": 10,
    "start_time": "2023-01-06T14:39:21.789Z"
   },
   {
    "duration": 9,
    "start_time": "2023-01-06T14:39:30.988Z"
   },
   {
    "duration": 11,
    "start_time": "2023-01-06T14:41:26.879Z"
   },
   {
    "duration": 9,
    "start_time": "2023-01-06T14:41:51.306Z"
   },
   {
    "duration": 9,
    "start_time": "2023-01-06T14:42:12.260Z"
   },
   {
    "duration": 1333,
    "start_time": "2023-01-07T06:16:03.972Z"
   },
   {
    "duration": 581,
    "start_time": "2023-01-07T06:16:05.308Z"
   },
   {
    "duration": 11,
    "start_time": "2023-01-07T06:16:05.890Z"
   },
   {
    "duration": 27,
    "start_time": "2023-01-07T06:16:05.903Z"
   },
   {
    "duration": 28,
    "start_time": "2023-01-07T06:16:05.931Z"
   },
   {
    "duration": 23,
    "start_time": "2023-01-07T06:16:05.961Z"
   },
   {
    "duration": 161,
    "start_time": "2023-01-07T06:16:05.986Z"
   },
   {
    "duration": 25,
    "start_time": "2023-01-07T06:16:06.149Z"
   },
   {
    "duration": 91,
    "start_time": "2023-01-07T06:16:06.176Z"
   },
   {
    "duration": 164,
    "start_time": "2023-01-07T06:16:06.271Z"
   },
   {
    "duration": 6,
    "start_time": "2023-01-07T06:16:06.437Z"
   },
   {
    "duration": 14,
    "start_time": "2023-01-07T06:16:06.444Z"
   },
   {
    "duration": 27,
    "start_time": "2023-01-07T06:16:06.460Z"
   },
   {
    "duration": 6,
    "start_time": "2023-01-07T06:16:06.489Z"
   },
   {
    "duration": 28,
    "start_time": "2023-01-07T06:16:06.497Z"
   },
   {
    "duration": 15,
    "start_time": "2023-01-07T06:16:06.527Z"
   },
   {
    "duration": 632,
    "start_time": "2023-01-07T06:16:06.544Z"
   },
   {
    "duration": 14,
    "start_time": "2023-01-07T06:16:07.178Z"
   },
   {
    "duration": 6,
    "start_time": "2023-01-07T06:16:07.195Z"
   },
   {
    "duration": 24,
    "start_time": "2023-01-07T06:16:07.203Z"
   },
   {
    "duration": 56,
    "start_time": "2023-01-07T06:16:07.229Z"
   },
   {
    "duration": 22,
    "start_time": "2023-01-07T06:16:07.287Z"
   },
   {
    "duration": 79,
    "start_time": "2023-01-07T06:16:07.311Z"
   },
   {
    "duration": 2,
    "start_time": "2023-01-07T06:16:07.392Z"
   },
   {
    "duration": 15,
    "start_time": "2023-01-07T06:16:07.396Z"
   },
   {
    "duration": 33,
    "start_time": "2023-01-07T06:16:07.412Z"
   },
   {
    "duration": 7,
    "start_time": "2023-01-07T06:16:07.447Z"
   },
   {
    "duration": 17,
    "start_time": "2023-01-07T06:16:07.458Z"
   },
   {
    "duration": 177,
    "start_time": "2023-01-07T06:16:07.479Z"
   },
   {
    "duration": 35,
    "start_time": "2023-01-07T06:16:07.658Z"
   },
   {
    "duration": 27,
    "start_time": "2023-01-07T06:16:07.694Z"
   },
   {
    "duration": 26,
    "start_time": "2023-01-07T06:16:07.723Z"
   },
   {
    "duration": 71,
    "start_time": "2023-01-07T06:16:07.751Z"
   },
   {
    "duration": 16,
    "start_time": "2023-01-07T06:16:07.824Z"
   },
   {
    "duration": 27,
    "start_time": "2023-01-07T06:16:07.841Z"
   },
   {
    "duration": 129,
    "start_time": "2023-01-07T06:16:07.870Z"
   },
   {
    "duration": 0,
    "start_time": "2023-01-07T06:16:08.001Z"
   },
   {
    "duration": 0,
    "start_time": "2023-01-07T06:16:08.002Z"
   },
   {
    "duration": 0,
    "start_time": "2023-01-07T06:16:08.003Z"
   },
   {
    "duration": 0,
    "start_time": "2023-01-07T06:16:08.005Z"
   },
   {
    "duration": 0,
    "start_time": "2023-01-07T06:16:08.006Z"
   },
   {
    "duration": 0,
    "start_time": "2023-01-07T06:16:08.007Z"
   },
   {
    "duration": 0,
    "start_time": "2023-01-07T06:16:08.024Z"
   },
   {
    "duration": 1,
    "start_time": "2023-01-07T06:16:08.024Z"
   },
   {
    "duration": 3,
    "start_time": "2023-01-07T06:18:23.654Z"
   },
   {
    "duration": 7,
    "start_time": "2023-01-07T06:18:25.336Z"
   },
   {
    "duration": 6,
    "start_time": "2023-01-07T06:18:42.242Z"
   },
   {
    "duration": 11,
    "start_time": "2023-01-07T06:18:49.160Z"
   },
   {
    "duration": 83,
    "start_time": "2023-01-07T06:19:18.321Z"
   },
   {
    "duration": 5,
    "start_time": "2023-01-07T06:19:24.343Z"
   },
   {
    "duration": 12,
    "start_time": "2023-01-07T06:19:25.521Z"
   },
   {
    "duration": 8,
    "start_time": "2023-01-07T06:23:30.067Z"
   },
   {
    "duration": 3,
    "start_time": "2023-01-07T06:40:55.966Z"
   },
   {
    "duration": 375,
    "start_time": "2023-01-07T06:48:55.819Z"
   },
   {
    "duration": 711,
    "start_time": "2023-01-07T06:49:34.776Z"
   },
   {
    "duration": 672,
    "start_time": "2023-01-07T06:50:36.145Z"
   },
   {
    "duration": 381,
    "start_time": "2023-01-07T06:50:51.374Z"
   },
   {
    "duration": 6,
    "start_time": "2023-01-07T06:51:08.579Z"
   },
   {
    "duration": 9,
    "start_time": "2023-01-07T06:51:57.656Z"
   },
   {
    "duration": 696,
    "start_time": "2023-01-07T06:55:17.627Z"
   },
   {
    "duration": 728,
    "start_time": "2023-01-07T06:55:42.329Z"
   },
   {
    "duration": 10,
    "start_time": "2023-01-07T06:56:39.448Z"
   },
   {
    "duration": 9,
    "start_time": "2023-01-07T07:14:24.011Z"
   },
   {
    "duration": 19,
    "start_time": "2023-01-07T07:14:30.927Z"
   },
   {
    "duration": 43,
    "start_time": "2023-01-07T07:14:58.918Z"
   },
   {
    "duration": 584,
    "start_time": "2023-01-07T07:16:19.229Z"
   },
   {
    "duration": 46,
    "start_time": "2023-01-07T07:16:57.970Z"
   },
   {
    "duration": 771,
    "start_time": "2023-01-07T07:24:58.811Z"
   },
   {
    "duration": 10,
    "start_time": "2023-01-07T07:25:08.573Z"
   },
   {
    "duration": 816,
    "start_time": "2023-01-07T07:26:34.338Z"
   },
   {
    "duration": 435,
    "start_time": "2023-01-07T07:28:30.667Z"
   },
   {
    "duration": 54,
    "start_time": "2023-01-07T07:29:12.285Z"
   },
   {
    "duration": 417,
    "start_time": "2023-01-07T07:29:47.767Z"
   },
   {
    "duration": 390,
    "start_time": "2023-01-07T07:30:15.843Z"
   },
   {
    "duration": 397,
    "start_time": "2023-01-07T07:31:05.922Z"
   },
   {
    "duration": 9,
    "start_time": "2023-01-07T07:31:12.995Z"
   },
   {
    "duration": 14,
    "start_time": "2023-01-07T07:32:55.840Z"
   },
   {
    "duration": 16,
    "start_time": "2023-01-07T07:33:16.260Z"
   },
   {
    "duration": 6,
    "start_time": "2023-01-07T07:42:13.374Z"
   },
   {
    "duration": 692,
    "start_time": "2023-01-07T07:42:21.940Z"
   },
   {
    "duration": 762,
    "start_time": "2023-01-07T07:42:55.010Z"
   },
   {
    "duration": 6,
    "start_time": "2023-01-07T07:43:37.666Z"
   },
   {
    "duration": 10,
    "start_time": "2023-01-07T07:44:08.319Z"
   },
   {
    "duration": 13,
    "start_time": "2023-01-07T07:44:32.277Z"
   },
   {
    "duration": 12,
    "start_time": "2023-01-07T07:48:13.482Z"
   },
   {
    "duration": 9,
    "start_time": "2023-01-07T07:49:22.954Z"
   },
   {
    "duration": 5,
    "start_time": "2023-01-07T07:51:54.556Z"
   },
   {
    "duration": 746,
    "start_time": "2023-01-07T07:52:02.756Z"
   },
   {
    "duration": 867,
    "start_time": "2023-01-07T07:52:45.016Z"
   },
   {
    "duration": 4,
    "start_time": "2023-01-07T07:52:55.172Z"
   },
   {
    "duration": 197,
    "start_time": "2023-01-07T07:52:55.178Z"
   },
   {
    "duration": 11,
    "start_time": "2023-01-07T07:52:55.377Z"
   },
   {
    "duration": 51,
    "start_time": "2023-01-07T07:52:55.390Z"
   },
   {
    "duration": 37,
    "start_time": "2023-01-07T07:52:55.443Z"
   },
   {
    "duration": 23,
    "start_time": "2023-01-07T07:52:55.482Z"
   },
   {
    "duration": 132,
    "start_time": "2023-01-07T07:52:55.506Z"
   },
   {
    "duration": 33,
    "start_time": "2023-01-07T07:52:55.640Z"
   },
   {
    "duration": 87,
    "start_time": "2023-01-07T07:52:55.675Z"
   },
   {
    "duration": 160,
    "start_time": "2023-01-07T07:52:55.763Z"
   },
   {
    "duration": 7,
    "start_time": "2023-01-07T07:52:55.925Z"
   },
   {
    "duration": 12,
    "start_time": "2023-01-07T07:52:55.934Z"
   },
   {
    "duration": 22,
    "start_time": "2023-01-07T07:52:55.950Z"
   },
   {
    "duration": 9,
    "start_time": "2023-01-07T07:52:55.974Z"
   },
   {
    "duration": 7,
    "start_time": "2023-01-07T07:52:55.984Z"
   },
   {
    "duration": 5,
    "start_time": "2023-01-07T07:52:56.021Z"
   },
   {
    "duration": 532,
    "start_time": "2023-01-07T07:52:56.027Z"
   },
   {
    "duration": 13,
    "start_time": "2023-01-07T07:52:56.561Z"
   },
   {
    "duration": 4,
    "start_time": "2023-01-07T07:52:56.576Z"
   },
   {
    "duration": 16,
    "start_time": "2023-01-07T07:52:56.582Z"
   },
   {
    "duration": 53,
    "start_time": "2023-01-07T07:52:56.600Z"
   },
   {
    "duration": 24,
    "start_time": "2023-01-07T07:52:56.655Z"
   },
   {
    "duration": 73,
    "start_time": "2023-01-07T07:52:56.680Z"
   },
   {
    "duration": 2,
    "start_time": "2023-01-07T07:52:56.754Z"
   },
   {
    "duration": 14,
    "start_time": "2023-01-07T07:52:56.758Z"
   },
   {
    "duration": 19,
    "start_time": "2023-01-07T07:52:56.773Z"
   },
   {
    "duration": 5,
    "start_time": "2023-01-07T07:52:56.794Z"
   },
   {
    "duration": 26,
    "start_time": "2023-01-07T07:52:56.800Z"
   },
   {
    "duration": 16,
    "start_time": "2023-01-07T07:52:56.828Z"
   },
   {
    "duration": 33,
    "start_time": "2023-01-07T07:52:56.846Z"
   },
   {
    "duration": 5,
    "start_time": "2023-01-07T07:52:56.880Z"
   },
   {
    "duration": 53,
    "start_time": "2023-01-07T07:52:56.887Z"
   },
   {
    "duration": 13,
    "start_time": "2023-01-07T07:52:56.942Z"
   },
   {
    "duration": 13,
    "start_time": "2023-01-07T07:52:56.957Z"
   },
   {
    "duration": 12,
    "start_time": "2023-01-07T07:52:56.972Z"
   },
   {
    "duration": 3,
    "start_time": "2023-01-07T07:52:56.986Z"
   },
   {
    "duration": 5,
    "start_time": "2023-01-07T07:52:57.022Z"
   },
   {
    "duration": 74,
    "start_time": "2023-01-07T07:52:57.030Z"
   },
   {
    "duration": 5,
    "start_time": "2023-01-07T07:52:57.106Z"
   },
   {
    "duration": 11,
    "start_time": "2023-01-07T07:52:57.121Z"
   },
   {
    "duration": 12,
    "start_time": "2023-01-07T07:52:57.133Z"
   },
   {
    "duration": 9,
    "start_time": "2023-01-07T07:52:57.147Z"
   },
   {
    "duration": 11,
    "start_time": "2023-01-07T07:52:57.158Z"
   },
   {
    "duration": 722,
    "start_time": "2023-01-07T07:52:57.171Z"
   },
   {
    "duration": 0,
    "start_time": "2023-01-07T07:52:57.894Z"
   },
   {
    "duration": 0,
    "start_time": "2023-01-07T07:52:57.896Z"
   },
   {
    "duration": 778,
    "start_time": "2023-01-07T07:57:30.126Z"
   },
   {
    "duration": 6,
    "start_time": "2023-01-07T07:59:13.944Z"
   },
   {
    "duration": 14,
    "start_time": "2023-01-07T07:59:48.724Z"
   },
   {
    "duration": 3,
    "start_time": "2023-01-07T08:00:10.348Z"
   },
   {
    "duration": 813,
    "start_time": "2023-01-07T08:00:12.641Z"
   },
   {
    "duration": 4,
    "start_time": "2023-01-07T08:00:29.020Z"
   },
   {
    "duration": 4,
    "start_time": "2023-01-07T08:00:51.206Z"
   },
   {
    "duration": 5,
    "start_time": "2023-01-07T08:00:57.931Z"
   },
   {
    "duration": 732,
    "start_time": "2023-01-07T08:01:06.188Z"
   },
   {
    "duration": 11,
    "start_time": "2023-01-07T08:01:27.478Z"
   },
   {
    "duration": 11,
    "start_time": "2023-01-07T08:02:56.501Z"
   },
   {
    "duration": 13,
    "start_time": "2023-01-07T08:04:24.335Z"
   },
   {
    "duration": 11,
    "start_time": "2023-01-07T08:10:34.363Z"
   },
   {
    "duration": 1187,
    "start_time": "2023-01-08T06:00:45.772Z"
   },
   {
    "duration": 491,
    "start_time": "2023-01-08T06:00:46.961Z"
   },
   {
    "duration": 10,
    "start_time": "2023-01-08T06:00:47.453Z"
   },
   {
    "duration": 20,
    "start_time": "2023-01-08T06:00:47.464Z"
   },
   {
    "duration": 17,
    "start_time": "2023-01-08T06:00:47.486Z"
   },
   {
    "duration": 22,
    "start_time": "2023-01-08T06:00:47.504Z"
   },
   {
    "duration": 122,
    "start_time": "2023-01-08T06:00:47.528Z"
   },
   {
    "duration": 19,
    "start_time": "2023-01-08T06:00:47.651Z"
   },
   {
    "duration": 87,
    "start_time": "2023-01-08T06:00:47.671Z"
   },
   {
    "duration": 155,
    "start_time": "2023-01-08T06:00:47.760Z"
   },
   {
    "duration": 7,
    "start_time": "2023-01-08T06:00:47.916Z"
   },
   {
    "duration": 25,
    "start_time": "2023-01-08T06:00:47.924Z"
   },
   {
    "duration": 19,
    "start_time": "2023-01-08T06:00:47.951Z"
   },
   {
    "duration": 8,
    "start_time": "2023-01-08T06:00:47.974Z"
   },
   {
    "duration": 7,
    "start_time": "2023-01-08T06:00:47.984Z"
   },
   {
    "duration": 7,
    "start_time": "2023-01-08T06:00:47.993Z"
   },
   {
    "duration": 542,
    "start_time": "2023-01-08T06:00:48.001Z"
   },
   {
    "duration": 26,
    "start_time": "2023-01-08T06:00:48.545Z"
   },
   {
    "duration": 6,
    "start_time": "2023-01-08T06:00:48.573Z"
   },
   {
    "duration": 11,
    "start_time": "2023-01-08T06:00:48.581Z"
   },
   {
    "duration": 53,
    "start_time": "2023-01-08T06:00:48.593Z"
   },
   {
    "duration": 22,
    "start_time": "2023-01-08T06:00:48.648Z"
   },
   {
    "duration": 71,
    "start_time": "2023-01-08T06:00:48.671Z"
   },
   {
    "duration": 3,
    "start_time": "2023-01-08T06:00:48.743Z"
   },
   {
    "duration": 16,
    "start_time": "2023-01-08T06:00:48.747Z"
   },
   {
    "duration": 20,
    "start_time": "2023-01-08T06:00:48.764Z"
   },
   {
    "duration": 5,
    "start_time": "2023-01-08T06:00:48.786Z"
   },
   {
    "duration": 12,
    "start_time": "2023-01-08T06:00:48.792Z"
   },
   {
    "duration": 203,
    "start_time": "2023-01-08T06:00:48.805Z"
   },
   {
    "duration": 33,
    "start_time": "2023-01-08T06:00:49.009Z"
   },
   {
    "duration": 5,
    "start_time": "2023-01-08T06:00:49.043Z"
   },
   {
    "duration": 72,
    "start_time": "2023-01-08T06:00:49.049Z"
   },
   {
    "duration": 17,
    "start_time": "2023-01-08T06:00:49.123Z"
   },
   {
    "duration": 15,
    "start_time": "2023-01-08T06:00:49.141Z"
   },
   {
    "duration": 13,
    "start_time": "2023-01-08T06:00:49.158Z"
   },
   {
    "duration": 6,
    "start_time": "2023-01-08T06:00:49.172Z"
   },
   {
    "duration": 116,
    "start_time": "2023-01-08T06:00:49.179Z"
   },
   {
    "duration": 27,
    "start_time": "2023-01-08T06:00:49.297Z"
   },
   {
    "duration": 16,
    "start_time": "2023-01-08T06:00:49.325Z"
   },
   {
    "duration": 15,
    "start_time": "2023-01-08T06:00:49.342Z"
   },
   {
    "duration": 17,
    "start_time": "2023-01-08T06:00:49.360Z"
   },
   {
    "duration": 11,
    "start_time": "2023-01-08T06:00:49.379Z"
   },
   {
    "duration": 31,
    "start_time": "2023-01-08T06:00:49.391Z"
   },
   {
    "duration": 3,
    "start_time": "2023-01-08T06:00:49.423Z"
   },
   {
    "duration": 9,
    "start_time": "2023-01-08T06:00:49.427Z"
   },
   {
    "duration": 11,
    "start_time": "2023-01-08T06:02:36.781Z"
   },
   {
    "duration": 2,
    "start_time": "2023-01-08T06:39:05.716Z"
   },
   {
    "duration": 13,
    "start_time": "2023-01-08T06:39:06.596Z"
   },
   {
    "duration": 15,
    "start_time": "2023-01-08T06:39:58.652Z"
   },
   {
    "duration": 12,
    "start_time": "2023-01-08T06:40:33.274Z"
   },
   {
    "duration": 12,
    "start_time": "2023-01-08T06:41:21.026Z"
   },
   {
    "duration": 11,
    "start_time": "2023-01-08T07:03:55.272Z"
   },
   {
    "duration": 57,
    "start_time": "2023-01-08T07:16:17.950Z"
   },
   {
    "duration": 3,
    "start_time": "2023-01-08T07:17:58.372Z"
   },
   {
    "duration": 158,
    "start_time": "2023-01-08T07:17:58.379Z"
   },
   {
    "duration": 7,
    "start_time": "2023-01-08T07:17:58.539Z"
   },
   {
    "duration": 29,
    "start_time": "2023-01-08T07:17:58.547Z"
   },
   {
    "duration": 23,
    "start_time": "2023-01-08T07:17:58.579Z"
   },
   {
    "duration": 25,
    "start_time": "2023-01-08T07:17:58.608Z"
   },
   {
    "duration": 136,
    "start_time": "2023-01-08T07:17:58.634Z"
   },
   {
    "duration": 20,
    "start_time": "2023-01-08T07:17:58.771Z"
   },
   {
    "duration": 96,
    "start_time": "2023-01-08T07:17:58.793Z"
   },
   {
    "duration": 161,
    "start_time": "2023-01-08T07:17:58.891Z"
   },
   {
    "duration": 4,
    "start_time": "2023-01-08T07:17:59.054Z"
   },
   {
    "duration": 10,
    "start_time": "2023-01-08T07:17:59.059Z"
   },
   {
    "duration": 5,
    "start_time": "2023-01-08T07:17:59.070Z"
   },
   {
    "duration": 8,
    "start_time": "2023-01-08T07:17:59.077Z"
   },
   {
    "duration": 6,
    "start_time": "2023-01-08T07:17:59.087Z"
   },
   {
    "duration": 500,
    "start_time": "2023-01-08T07:17:59.121Z"
   },
   {
    "duration": 15,
    "start_time": "2023-01-08T07:17:59.622Z"
   },
   {
    "duration": 4,
    "start_time": "2023-01-08T07:17:59.639Z"
   },
   {
    "duration": 11,
    "start_time": "2023-01-08T07:17:59.646Z"
   },
   {
    "duration": 11,
    "start_time": "2023-01-08T07:17:59.659Z"
   },
   {
    "duration": 61,
    "start_time": "2023-01-08T07:17:59.673Z"
   },
   {
    "duration": 22,
    "start_time": "2023-01-08T07:17:59.735Z"
   },
   {
    "duration": 67,
    "start_time": "2023-01-08T07:17:59.759Z"
   },
   {
    "duration": 6,
    "start_time": "2023-01-08T07:17:59.827Z"
   },
   {
    "duration": 21,
    "start_time": "2023-01-08T07:17:59.835Z"
   },
   {
    "duration": 5,
    "start_time": "2023-01-08T07:17:59.858Z"
   },
   {
    "duration": 9,
    "start_time": "2023-01-08T07:17:59.864Z"
   },
   {
    "duration": 14,
    "start_time": "2023-01-08T07:17:59.875Z"
   },
   {
    "duration": 64,
    "start_time": "2023-01-08T07:17:59.892Z"
   },
   {
    "duration": 5,
    "start_time": "2023-01-08T07:17:59.958Z"
   },
   {
    "duration": 21,
    "start_time": "2023-01-08T07:17:59.965Z"
   },
   {
    "duration": 35,
    "start_time": "2023-01-08T07:17:59.988Z"
   },
   {
    "duration": 13,
    "start_time": "2023-01-08T07:18:00.025Z"
   },
   {
    "duration": 23,
    "start_time": "2023-01-08T07:18:00.040Z"
   },
   {
    "duration": 5,
    "start_time": "2023-01-08T07:18:00.065Z"
   },
   {
    "duration": 91,
    "start_time": "2023-01-08T07:18:00.072Z"
   },
   {
    "duration": 15,
    "start_time": "2023-01-08T07:18:00.164Z"
   },
   {
    "duration": 16,
    "start_time": "2023-01-08T07:18:00.181Z"
   },
   {
    "duration": 23,
    "start_time": "2023-01-08T07:18:00.198Z"
   },
   {
    "duration": 11,
    "start_time": "2023-01-08T07:18:00.223Z"
   },
   {
    "duration": 14,
    "start_time": "2023-01-08T07:18:00.236Z"
   },
   {
    "duration": 25,
    "start_time": "2023-01-08T07:18:00.251Z"
   },
   {
    "duration": 27,
    "start_time": "2023-01-08T07:18:00.277Z"
   },
   {
    "duration": 40,
    "start_time": "2023-01-08T07:18:00.306Z"
   },
   {
    "duration": 13,
    "start_time": "2023-01-08T07:18:00.348Z"
   },
   {
    "duration": 11,
    "start_time": "2023-01-08T07:38:19.075Z"
   },
   {
    "duration": 10,
    "start_time": "2023-01-08T07:38:51.059Z"
   },
   {
    "duration": 10,
    "start_time": "2023-01-08T07:42:20.914Z"
   },
   {
    "duration": 15,
    "start_time": "2023-01-08T07:43:26.957Z"
   },
   {
    "duration": 3,
    "start_time": "2023-01-08T07:57:18.259Z"
   },
   {
    "duration": 17,
    "start_time": "2023-01-08T07:59:05.111Z"
   },
   {
    "duration": 11,
    "start_time": "2023-01-08T07:59:13.691Z"
   },
   {
    "duration": 16,
    "start_time": "2023-01-08T07:59:22.215Z"
   },
   {
    "duration": 3,
    "start_time": "2023-01-08T08:01:42.875Z"
   },
   {
    "duration": 13,
    "start_time": "2023-01-08T08:01:51.193Z"
   },
   {
    "duration": 3,
    "start_time": "2023-01-08T08:02:06.697Z"
   },
   {
    "duration": 32,
    "start_time": "2023-01-08T08:02:11.819Z"
   },
   {
    "duration": 12,
    "start_time": "2023-01-08T08:02:21.846Z"
   },
   {
    "duration": 3,
    "start_time": "2023-01-08T08:07:31.479Z"
   },
   {
    "duration": 12,
    "start_time": "2023-01-08T08:07:42.038Z"
   },
   {
    "duration": 16,
    "start_time": "2023-01-08T08:07:45.239Z"
   },
   {
    "duration": 12,
    "start_time": "2023-01-08T08:07:48.001Z"
   },
   {
    "duration": 3,
    "start_time": "2023-01-08T08:27:10.698Z"
   },
   {
    "duration": 155,
    "start_time": "2023-01-08T08:27:10.703Z"
   },
   {
    "duration": 8,
    "start_time": "2023-01-08T08:27:10.860Z"
   },
   {
    "duration": 59,
    "start_time": "2023-01-08T08:27:10.870Z"
   },
   {
    "duration": 19,
    "start_time": "2023-01-08T08:27:10.932Z"
   },
   {
    "duration": 14,
    "start_time": "2023-01-08T08:27:10.953Z"
   },
   {
    "duration": 146,
    "start_time": "2023-01-08T08:27:10.968Z"
   },
   {
    "duration": 21,
    "start_time": "2023-01-08T08:27:11.116Z"
   },
   {
    "duration": 54,
    "start_time": "2023-01-08T08:27:11.138Z"
   },
   {
    "duration": 147,
    "start_time": "2023-01-08T08:27:11.194Z"
   },
   {
    "duration": 4,
    "start_time": "2023-01-08T08:27:11.343Z"
   },
   {
    "duration": 13,
    "start_time": "2023-01-08T08:27:11.348Z"
   },
   {
    "duration": 10,
    "start_time": "2023-01-08T08:27:11.363Z"
   },
   {
    "duration": 12,
    "start_time": "2023-01-08T08:27:11.374Z"
   },
   {
    "duration": 6,
    "start_time": "2023-01-08T08:27:11.387Z"
   },
   {
    "duration": 466,
    "start_time": "2023-01-08T08:27:11.395Z"
   },
   {
    "duration": 11,
    "start_time": "2023-01-08T08:27:11.863Z"
   },
   {
    "duration": 10,
    "start_time": "2023-01-08T08:27:11.875Z"
   },
   {
    "duration": 19,
    "start_time": "2023-01-08T08:27:11.886Z"
   },
   {
    "duration": 18,
    "start_time": "2023-01-08T08:27:11.906Z"
   },
   {
    "duration": 41,
    "start_time": "2023-01-08T08:27:11.926Z"
   },
   {
    "duration": 23,
    "start_time": "2023-01-08T08:27:11.968Z"
   },
   {
    "duration": 53,
    "start_time": "2023-01-08T08:27:12.021Z"
   },
   {
    "duration": 5,
    "start_time": "2023-01-08T08:27:12.075Z"
   },
   {
    "duration": 24,
    "start_time": "2023-01-08T08:27:12.081Z"
   },
   {
    "duration": 15,
    "start_time": "2023-01-08T08:27:12.107Z"
   },
   {
    "duration": 27,
    "start_time": "2023-01-08T08:27:12.124Z"
   },
   {
    "duration": 11,
    "start_time": "2023-01-08T08:27:12.153Z"
   },
   {
    "duration": 36,
    "start_time": "2023-01-08T08:27:12.167Z"
   },
   {
    "duration": 16,
    "start_time": "2023-01-08T08:27:12.205Z"
   },
   {
    "duration": 19,
    "start_time": "2023-01-08T08:27:12.223Z"
   },
   {
    "duration": 12,
    "start_time": "2023-01-08T08:27:12.244Z"
   },
   {
    "duration": 12,
    "start_time": "2023-01-08T08:27:12.257Z"
   },
   {
    "duration": 11,
    "start_time": "2023-01-08T08:27:12.270Z"
   },
   {
    "duration": 39,
    "start_time": "2023-01-08T08:27:12.283Z"
   },
   {
    "duration": 81,
    "start_time": "2023-01-08T08:27:12.323Z"
   },
   {
    "duration": 23,
    "start_time": "2023-01-08T08:27:12.406Z"
   },
   {
    "duration": 12,
    "start_time": "2023-01-08T08:27:12.431Z"
   },
   {
    "duration": 24,
    "start_time": "2023-01-08T08:27:12.445Z"
   },
   {
    "duration": 25,
    "start_time": "2023-01-08T08:27:12.470Z"
   },
   {
    "duration": 5,
    "start_time": "2023-01-08T08:27:12.497Z"
   },
   {
    "duration": 11,
    "start_time": "2023-01-08T08:27:12.521Z"
   },
   {
    "duration": 14,
    "start_time": "2023-01-08T08:27:12.534Z"
   },
   {
    "duration": 19,
    "start_time": "2023-01-08T08:27:12.549Z"
   },
   {
    "duration": 3,
    "start_time": "2023-01-08T08:29:23.281Z"
   },
   {
    "duration": 151,
    "start_time": "2023-01-08T08:29:23.285Z"
   },
   {
    "duration": 7,
    "start_time": "2023-01-08T08:29:23.438Z"
   },
   {
    "duration": 27,
    "start_time": "2023-01-08T08:29:23.447Z"
   },
   {
    "duration": 18,
    "start_time": "2023-01-08T08:29:23.476Z"
   },
   {
    "duration": 34,
    "start_time": "2023-01-08T08:29:23.495Z"
   },
   {
    "duration": 137,
    "start_time": "2023-01-08T08:29:23.531Z"
   },
   {
    "duration": 19,
    "start_time": "2023-01-08T08:29:23.669Z"
   },
   {
    "duration": 78,
    "start_time": "2023-01-08T08:29:23.690Z"
   },
   {
    "duration": 128,
    "start_time": "2023-01-08T08:29:23.769Z"
   },
   {
    "duration": 4,
    "start_time": "2023-01-08T08:29:23.899Z"
   },
   {
    "duration": 17,
    "start_time": "2023-01-08T08:29:23.904Z"
   },
   {
    "duration": 5,
    "start_time": "2023-01-08T08:29:23.923Z"
   },
   {
    "duration": 17,
    "start_time": "2023-01-08T08:29:23.930Z"
   },
   {
    "duration": 7,
    "start_time": "2023-01-08T08:29:23.949Z"
   },
   {
    "duration": 544,
    "start_time": "2023-01-08T08:29:23.958Z"
   },
   {
    "duration": 17,
    "start_time": "2023-01-08T08:29:24.504Z"
   },
   {
    "duration": 3,
    "start_time": "2023-01-08T08:29:24.523Z"
   },
   {
    "duration": 20,
    "start_time": "2023-01-08T08:29:24.528Z"
   },
   {
    "duration": 30,
    "start_time": "2023-01-08T08:29:24.549Z"
   },
   {
    "duration": 42,
    "start_time": "2023-01-08T08:29:24.581Z"
   },
   {
    "duration": 21,
    "start_time": "2023-01-08T08:29:24.625Z"
   },
   {
    "duration": 72,
    "start_time": "2023-01-08T08:29:24.648Z"
   },
   {
    "duration": 5,
    "start_time": "2023-01-08T08:29:24.722Z"
   },
   {
    "duration": 20,
    "start_time": "2023-01-08T08:29:24.728Z"
   },
   {
    "duration": 5,
    "start_time": "2023-01-08T08:29:24.749Z"
   },
   {
    "duration": 21,
    "start_time": "2023-01-08T08:29:24.755Z"
   },
   {
    "duration": 4,
    "start_time": "2023-01-08T08:29:24.778Z"
   },
   {
    "duration": 49,
    "start_time": "2023-01-08T08:29:24.785Z"
   },
   {
    "duration": 4,
    "start_time": "2023-01-08T08:29:24.835Z"
   },
   {
    "duration": 24,
    "start_time": "2023-01-08T08:29:24.841Z"
   },
   {
    "duration": 12,
    "start_time": "2023-01-08T08:29:24.867Z"
   },
   {
    "duration": 12,
    "start_time": "2023-01-08T08:29:24.881Z"
   },
   {
    "duration": 35,
    "start_time": "2023-01-08T08:29:24.894Z"
   },
   {
    "duration": 4,
    "start_time": "2023-01-08T08:29:24.931Z"
   },
   {
    "duration": 74,
    "start_time": "2023-01-08T08:29:24.937Z"
   },
   {
    "duration": 21,
    "start_time": "2023-01-08T08:29:25.013Z"
   },
   {
    "duration": 18,
    "start_time": "2023-01-08T08:29:25.036Z"
   },
   {
    "duration": 37,
    "start_time": "2023-01-08T08:29:25.055Z"
   },
   {
    "duration": 28,
    "start_time": "2023-01-08T08:29:25.094Z"
   },
   {
    "duration": 12,
    "start_time": "2023-01-08T08:29:25.123Z"
   },
   {
    "duration": 15,
    "start_time": "2023-01-08T08:29:25.136Z"
   },
   {
    "duration": 16,
    "start_time": "2023-01-08T08:29:25.152Z"
   },
   {
    "duration": 19,
    "start_time": "2023-01-08T08:29:25.170Z"
   },
   {
    "duration": 3,
    "start_time": "2023-01-08T08:30:33.653Z"
   },
   {
    "duration": 142,
    "start_time": "2023-01-08T08:30:33.660Z"
   },
   {
    "duration": 24,
    "start_time": "2023-01-08T08:30:33.804Z"
   },
   {
    "duration": 35,
    "start_time": "2023-01-08T08:30:33.829Z"
   },
   {
    "duration": 19,
    "start_time": "2023-01-08T08:30:33.866Z"
   },
   {
    "duration": 11,
    "start_time": "2023-01-08T08:30:33.887Z"
   },
   {
    "duration": 136,
    "start_time": "2023-01-08T08:30:33.900Z"
   },
   {
    "duration": 19,
    "start_time": "2023-01-08T08:30:34.038Z"
   },
   {
    "duration": 82,
    "start_time": "2023-01-08T08:30:34.058Z"
   },
   {
    "duration": 149,
    "start_time": "2023-01-08T08:30:34.142Z"
   },
   {
    "duration": 3,
    "start_time": "2023-01-08T08:30:34.294Z"
   },
   {
    "duration": 23,
    "start_time": "2023-01-08T08:30:34.298Z"
   },
   {
    "duration": 6,
    "start_time": "2023-01-08T08:30:34.322Z"
   },
   {
    "duration": 11,
    "start_time": "2023-01-08T08:30:34.329Z"
   },
   {
    "duration": 11,
    "start_time": "2023-01-08T08:30:34.341Z"
   },
   {
    "duration": 461,
    "start_time": "2023-01-08T08:30:34.353Z"
   },
   {
    "duration": 13,
    "start_time": "2023-01-08T08:30:34.820Z"
   },
   {
    "duration": 4,
    "start_time": "2023-01-08T08:30:34.835Z"
   },
   {
    "duration": 13,
    "start_time": "2023-01-08T08:30:34.840Z"
   },
   {
    "duration": 14,
    "start_time": "2023-01-08T08:30:34.854Z"
   },
   {
    "duration": 53,
    "start_time": "2023-01-08T08:30:34.870Z"
   },
   {
    "duration": 23,
    "start_time": "2023-01-08T08:30:34.925Z"
   },
   {
    "duration": 57,
    "start_time": "2023-01-08T08:30:34.949Z"
   },
   {
    "duration": 5,
    "start_time": "2023-01-08T08:30:35.022Z"
   },
   {
    "duration": 20,
    "start_time": "2023-01-08T08:30:35.028Z"
   },
   {
    "duration": 5,
    "start_time": "2023-01-08T08:30:35.050Z"
   },
   {
    "duration": 16,
    "start_time": "2023-01-08T08:30:35.057Z"
   },
   {
    "duration": 12,
    "start_time": "2023-01-08T08:30:35.075Z"
   },
   {
    "duration": 47,
    "start_time": "2023-01-08T08:30:35.090Z"
   },
   {
    "duration": 4,
    "start_time": "2023-01-08T08:30:35.139Z"
   },
   {
    "duration": 40,
    "start_time": "2023-01-08T08:30:35.144Z"
   },
   {
    "duration": 18,
    "start_time": "2023-01-08T08:30:35.186Z"
   },
   {
    "duration": 28,
    "start_time": "2023-01-08T08:30:35.205Z"
   },
   {
    "duration": 17,
    "start_time": "2023-01-08T08:30:35.235Z"
   },
   {
    "duration": 6,
    "start_time": "2023-01-08T08:30:35.254Z"
   },
   {
    "duration": 136,
    "start_time": "2023-01-08T08:30:35.262Z"
   },
   {
    "duration": 21,
    "start_time": "2023-01-08T08:30:35.400Z"
   },
   {
    "duration": 19,
    "start_time": "2023-01-08T08:30:35.423Z"
   },
   {
    "duration": 23,
    "start_time": "2023-01-08T08:30:35.443Z"
   },
   {
    "duration": 30,
    "start_time": "2023-01-08T08:30:35.467Z"
   },
   {
    "duration": 13,
    "start_time": "2023-01-08T08:30:35.499Z"
   },
   {
    "duration": 17,
    "start_time": "2023-01-08T08:30:35.514Z"
   },
   {
    "duration": 19,
    "start_time": "2023-01-08T08:30:35.532Z"
   },
   {
    "duration": 23,
    "start_time": "2023-01-08T08:30:35.552Z"
   },
   {
    "duration": 3,
    "start_time": "2023-01-08T08:31:21.618Z"
   },
   {
    "duration": 149,
    "start_time": "2023-01-08T08:31:21.627Z"
   },
   {
    "duration": 11,
    "start_time": "2023-01-08T08:31:21.779Z"
   },
   {
    "duration": 53,
    "start_time": "2023-01-08T08:31:21.792Z"
   },
   {
    "duration": 22,
    "start_time": "2023-01-08T08:31:21.847Z"
   },
   {
    "duration": 13,
    "start_time": "2023-01-08T08:31:21.871Z"
   },
   {
    "duration": 142,
    "start_time": "2023-01-08T08:31:21.885Z"
   },
   {
    "duration": 19,
    "start_time": "2023-01-08T08:31:22.029Z"
   },
   {
    "duration": 78,
    "start_time": "2023-01-08T08:31:22.049Z"
   },
   {
    "duration": 136,
    "start_time": "2023-01-08T08:31:22.128Z"
   },
   {
    "duration": 4,
    "start_time": "2023-01-08T08:31:22.266Z"
   },
   {
    "duration": 15,
    "start_time": "2023-01-08T08:31:22.271Z"
   },
   {
    "duration": 8,
    "start_time": "2023-01-08T08:31:22.287Z"
   },
   {
    "duration": 23,
    "start_time": "2023-01-08T08:31:22.298Z"
   },
   {
    "duration": 6,
    "start_time": "2023-01-08T08:31:22.326Z"
   },
   {
    "duration": 597,
    "start_time": "2023-01-08T08:31:22.334Z"
   },
   {
    "duration": 13,
    "start_time": "2023-01-08T08:31:22.933Z"
   },
   {
    "duration": 4,
    "start_time": "2023-01-08T08:31:22.947Z"
   },
   {
    "duration": 12,
    "start_time": "2023-01-08T08:31:22.953Z"
   },
   {
    "duration": 7,
    "start_time": "2023-01-08T08:31:22.967Z"
   },
   {
    "duration": 91,
    "start_time": "2023-01-08T08:31:22.975Z"
   },
   {
    "duration": 24,
    "start_time": "2023-01-08T08:31:23.068Z"
   },
   {
    "duration": 91,
    "start_time": "2023-01-08T08:31:23.094Z"
   },
   {
    "duration": 4,
    "start_time": "2023-01-08T08:31:23.187Z"
   },
   {
    "duration": 37,
    "start_time": "2023-01-08T08:31:23.193Z"
   },
   {
    "duration": 8,
    "start_time": "2023-01-08T08:31:23.235Z"
   },
   {
    "duration": 21,
    "start_time": "2023-01-08T08:31:23.246Z"
   },
   {
    "duration": 5,
    "start_time": "2023-01-08T08:31:23.269Z"
   },
   {
    "duration": 42,
    "start_time": "2023-01-08T08:31:23.275Z"
   },
   {
    "duration": 6,
    "start_time": "2023-01-08T08:31:23.319Z"
   },
   {
    "duration": 27,
    "start_time": "2023-01-08T08:31:23.327Z"
   },
   {
    "duration": 19,
    "start_time": "2023-01-08T08:31:23.356Z"
   },
   {
    "duration": 13,
    "start_time": "2023-01-08T08:31:23.377Z"
   },
   {
    "duration": 46,
    "start_time": "2023-01-08T08:31:23.393Z"
   },
   {
    "duration": 7,
    "start_time": "2023-01-08T08:31:23.442Z"
   },
   {
    "duration": 119,
    "start_time": "2023-01-08T08:31:23.451Z"
   },
   {
    "duration": 17,
    "start_time": "2023-01-08T08:31:23.573Z"
   },
   {
    "duration": 29,
    "start_time": "2023-01-08T08:31:23.592Z"
   },
   {
    "duration": 13,
    "start_time": "2023-01-08T08:31:23.624Z"
   },
   {
    "duration": 16,
    "start_time": "2023-01-08T08:31:23.638Z"
   },
   {
    "duration": 5,
    "start_time": "2023-01-08T08:31:23.656Z"
   },
   {
    "duration": 14,
    "start_time": "2023-01-08T08:31:23.664Z"
   },
   {
    "duration": 52,
    "start_time": "2023-01-08T08:31:23.679Z"
   },
   {
    "duration": 11,
    "start_time": "2023-01-08T08:31:23.733Z"
   },
   {
    "duration": 1036,
    "start_time": "2023-01-08T08:32:49.859Z"
   },
   {
    "duration": 164,
    "start_time": "2023-01-08T08:32:50.897Z"
   },
   {
    "duration": 9,
    "start_time": "2023-01-08T08:32:51.063Z"
   },
   {
    "duration": 82,
    "start_time": "2023-01-08T08:32:51.074Z"
   },
   {
    "duration": 16,
    "start_time": "2023-01-08T08:32:51.158Z"
   },
   {
    "duration": 25,
    "start_time": "2023-01-08T08:32:51.176Z"
   },
   {
    "duration": 122,
    "start_time": "2023-01-08T08:32:51.203Z"
   },
   {
    "duration": 19,
    "start_time": "2023-01-08T08:32:51.327Z"
   },
   {
    "duration": 83,
    "start_time": "2023-01-08T08:32:51.347Z"
   },
   {
    "duration": 162,
    "start_time": "2023-01-08T08:32:51.432Z"
   },
   {
    "duration": 4,
    "start_time": "2023-01-08T08:32:51.596Z"
   },
   {
    "duration": 19,
    "start_time": "2023-01-08T08:32:51.602Z"
   },
   {
    "duration": 7,
    "start_time": "2023-01-08T08:32:51.623Z"
   },
   {
    "duration": 15,
    "start_time": "2023-01-08T08:32:51.633Z"
   },
   {
    "duration": 13,
    "start_time": "2023-01-08T08:32:51.650Z"
   },
   {
    "duration": 515,
    "start_time": "2023-01-08T08:32:51.664Z"
   },
   {
    "duration": 14,
    "start_time": "2023-01-08T08:32:52.181Z"
   },
   {
    "duration": 4,
    "start_time": "2023-01-08T08:32:52.197Z"
   },
   {
    "duration": 27,
    "start_time": "2023-01-08T08:32:52.202Z"
   },
   {
    "duration": 6,
    "start_time": "2023-01-08T08:32:52.231Z"
   },
   {
    "duration": 41,
    "start_time": "2023-01-08T08:32:52.239Z"
   },
   {
    "duration": 44,
    "start_time": "2023-01-08T08:32:52.281Z"
   },
   {
    "duration": 61,
    "start_time": "2023-01-08T08:32:52.327Z"
   },
   {
    "duration": 4,
    "start_time": "2023-01-08T08:32:52.390Z"
   },
   {
    "duration": 30,
    "start_time": "2023-01-08T08:32:52.395Z"
   },
   {
    "duration": 7,
    "start_time": "2023-01-08T08:32:52.427Z"
   },
   {
    "duration": 139,
    "start_time": "2023-01-08T08:32:52.436Z"
   },
   {
    "duration": 3,
    "start_time": "2023-01-08T08:32:52.577Z"
   },
   {
    "duration": 67,
    "start_time": "2023-01-08T08:32:52.582Z"
   },
   {
    "duration": 5,
    "start_time": "2023-01-08T08:32:52.651Z"
   },
   {
    "duration": 74,
    "start_time": "2023-01-08T08:32:52.657Z"
   },
   {
    "duration": 14,
    "start_time": "2023-01-08T08:32:52.733Z"
   },
   {
    "duration": 12,
    "start_time": "2023-01-08T08:32:52.748Z"
   },
   {
    "duration": 11,
    "start_time": "2023-01-08T08:32:52.761Z"
   },
   {
    "duration": 47,
    "start_time": "2023-01-08T08:32:52.774Z"
   },
   {
    "duration": 90,
    "start_time": "2023-01-08T08:32:52.824Z"
   },
   {
    "duration": 13,
    "start_time": "2023-01-08T08:32:52.916Z"
   },
   {
    "duration": 13,
    "start_time": "2023-01-08T08:32:52.931Z"
   },
   {
    "duration": 16,
    "start_time": "2023-01-08T08:32:52.946Z"
   },
   {
    "duration": 15,
    "start_time": "2023-01-08T08:32:52.963Z"
   },
   {
    "duration": 4,
    "start_time": "2023-01-08T08:32:52.981Z"
   },
   {
    "duration": 13,
    "start_time": "2023-01-08T08:32:52.986Z"
   },
   {
    "duration": 27,
    "start_time": "2023-01-08T08:32:53.000Z"
   },
   {
    "duration": 11,
    "start_time": "2023-01-08T08:32:53.028Z"
   },
   {
    "duration": 1246,
    "start_time": "2023-01-09T08:00:40.332Z"
   },
   {
    "duration": 483,
    "start_time": "2023-01-09T08:00:41.580Z"
   },
   {
    "duration": 10,
    "start_time": "2023-01-09T08:00:42.064Z"
   },
   {
    "duration": 25,
    "start_time": "2023-01-09T08:00:42.075Z"
   },
   {
    "duration": 18,
    "start_time": "2023-01-09T08:00:42.102Z"
   },
   {
    "duration": 23,
    "start_time": "2023-01-09T08:00:42.121Z"
   },
   {
    "duration": 123,
    "start_time": "2023-01-09T08:00:42.146Z"
   },
   {
    "duration": 20,
    "start_time": "2023-01-09T08:00:42.271Z"
   },
   {
    "duration": 78,
    "start_time": "2023-01-09T08:00:42.292Z"
   },
   {
    "duration": 153,
    "start_time": "2023-01-09T08:00:42.371Z"
   },
   {
    "duration": 3,
    "start_time": "2023-01-09T08:00:42.526Z"
   },
   {
    "duration": 14,
    "start_time": "2023-01-09T08:00:42.531Z"
   },
   {
    "duration": 10,
    "start_time": "2023-01-09T08:00:42.546Z"
   },
   {
    "duration": 4,
    "start_time": "2023-01-09T08:00:42.559Z"
   },
   {
    "duration": 11,
    "start_time": "2023-01-09T08:00:42.565Z"
   },
   {
    "duration": 507,
    "start_time": "2023-01-09T08:00:42.578Z"
   },
   {
    "duration": 14,
    "start_time": "2023-01-09T08:00:43.086Z"
   },
   {
    "duration": 3,
    "start_time": "2023-01-09T08:00:43.102Z"
   },
   {
    "duration": 20,
    "start_time": "2023-01-09T08:00:43.107Z"
   },
   {
    "duration": 5,
    "start_time": "2023-01-09T08:00:43.129Z"
   },
   {
    "duration": 44,
    "start_time": "2023-01-09T08:00:43.136Z"
   },
   {
    "duration": 42,
    "start_time": "2023-01-09T08:00:43.182Z"
   },
   {
    "duration": 58,
    "start_time": "2023-01-09T08:00:43.225Z"
   },
   {
    "duration": 5,
    "start_time": "2023-01-09T08:00:43.285Z"
   },
   {
    "duration": 30,
    "start_time": "2023-01-09T08:00:43.291Z"
   },
   {
    "duration": 5,
    "start_time": "2023-01-09T08:00:43.323Z"
   },
   {
    "duration": 155,
    "start_time": "2023-01-09T08:00:43.329Z"
   },
   {
    "duration": 3,
    "start_time": "2023-01-09T08:00:43.486Z"
   },
   {
    "duration": 42,
    "start_time": "2023-01-09T08:00:43.490Z"
   },
   {
    "duration": 4,
    "start_time": "2023-01-09T08:00:43.533Z"
   },
   {
    "duration": 21,
    "start_time": "2023-01-09T08:00:43.539Z"
   },
   {
    "duration": 68,
    "start_time": "2023-01-09T08:00:43.562Z"
   },
   {
    "duration": 12,
    "start_time": "2023-01-09T08:00:43.632Z"
   },
   {
    "duration": 12,
    "start_time": "2023-01-09T08:00:43.646Z"
   },
   {
    "duration": 4,
    "start_time": "2023-01-09T08:00:43.660Z"
   },
   {
    "duration": 94,
    "start_time": "2023-01-09T08:00:43.666Z"
   },
   {
    "duration": 11,
    "start_time": "2023-01-09T08:00:43.762Z"
   },
   {
    "duration": 12,
    "start_time": "2023-01-09T08:00:43.775Z"
   },
   {
    "duration": 14,
    "start_time": "2023-01-09T08:00:43.789Z"
   },
   {
    "duration": 29,
    "start_time": "2023-01-09T08:00:43.805Z"
   },
   {
    "duration": 4,
    "start_time": "2023-01-09T08:00:43.838Z"
   },
   {
    "duration": 12,
    "start_time": "2023-01-09T08:00:43.843Z"
   },
   {
    "duration": 14,
    "start_time": "2023-01-09T08:00:43.857Z"
   },
   {
    "duration": 12,
    "start_time": "2023-01-09T08:00:43.872Z"
   },
   {
    "duration": 10,
    "start_time": "2023-01-09T08:02:01.884Z"
   },
   {
    "duration": 9,
    "start_time": "2023-01-09T08:02:21.637Z"
   },
   {
    "duration": 5,
    "start_time": "2023-01-09T08:03:32.377Z"
   },
   {
    "duration": 4,
    "start_time": "2023-01-09T08:03:48.653Z"
   },
   {
    "duration": 4,
    "start_time": "2023-01-09T08:04:03.961Z"
   },
   {
    "duration": 10,
    "start_time": "2023-01-09T08:05:21.086Z"
   },
   {
    "duration": 3,
    "start_time": "2023-01-09T08:05:28.758Z"
   },
   {
    "duration": 142,
    "start_time": "2023-01-09T08:05:28.763Z"
   },
   {
    "duration": 7,
    "start_time": "2023-01-09T08:05:28.906Z"
   },
   {
    "duration": 18,
    "start_time": "2023-01-09T08:05:28.921Z"
   },
   {
    "duration": 17,
    "start_time": "2023-01-09T08:05:28.941Z"
   },
   {
    "duration": 17,
    "start_time": "2023-01-09T08:05:28.959Z"
   },
   {
    "duration": 144,
    "start_time": "2023-01-09T08:05:28.978Z"
   },
   {
    "duration": 19,
    "start_time": "2023-01-09T08:05:29.123Z"
   },
   {
    "duration": 84,
    "start_time": "2023-01-09T08:05:29.144Z"
   },
   {
    "duration": 152,
    "start_time": "2023-01-09T08:05:29.230Z"
   },
   {
    "duration": 3,
    "start_time": "2023-01-09T08:05:29.384Z"
   },
   {
    "duration": 25,
    "start_time": "2023-01-09T08:05:29.389Z"
   },
   {
    "duration": 19,
    "start_time": "2023-01-09T08:05:29.416Z"
   },
   {
    "duration": 26,
    "start_time": "2023-01-09T08:05:29.438Z"
   },
   {
    "duration": 13,
    "start_time": "2023-01-09T08:05:29.465Z"
   },
   {
    "duration": 480,
    "start_time": "2023-01-09T08:05:29.479Z"
   },
   {
    "duration": 11,
    "start_time": "2023-01-09T08:05:29.960Z"
   },
   {
    "duration": 14,
    "start_time": "2023-01-09T08:05:29.973Z"
   },
   {
    "duration": 13,
    "start_time": "2023-01-09T08:05:29.988Z"
   },
   {
    "duration": 25,
    "start_time": "2023-01-09T08:05:30.003Z"
   },
   {
    "duration": 19,
    "start_time": "2023-01-09T08:05:30.030Z"
   },
   {
    "duration": 24,
    "start_time": "2023-01-09T08:05:30.051Z"
   },
   {
    "duration": 46,
    "start_time": "2023-01-09T08:05:30.076Z"
   },
   {
    "duration": 41,
    "start_time": "2023-01-09T08:05:30.123Z"
   },
   {
    "duration": 71,
    "start_time": "2023-01-09T08:05:30.166Z"
   },
   {
    "duration": 4,
    "start_time": "2023-01-09T08:05:30.238Z"
   },
   {
    "duration": 35,
    "start_time": "2023-01-09T08:05:30.243Z"
   },
   {
    "duration": 19,
    "start_time": "2023-01-09T08:05:30.279Z"
   },
   {
    "duration": 33,
    "start_time": "2023-01-09T08:05:30.299Z"
   },
   {
    "duration": 30,
    "start_time": "2023-01-09T08:05:30.334Z"
   },
   {
    "duration": 53,
    "start_time": "2023-01-09T08:05:30.365Z"
   },
   {
    "duration": 4,
    "start_time": "2023-01-09T08:05:30.420Z"
   },
   {
    "duration": 37,
    "start_time": "2023-01-09T08:05:30.426Z"
   },
   {
    "duration": 16,
    "start_time": "2023-01-09T08:05:30.464Z"
   },
   {
    "duration": 49,
    "start_time": "2023-01-09T08:05:30.482Z"
   },
   {
    "duration": 20,
    "start_time": "2023-01-09T08:05:30.532Z"
   },
   {
    "duration": 18,
    "start_time": "2023-01-09T08:05:30.553Z"
   },
   {
    "duration": 97,
    "start_time": "2023-01-09T08:05:30.573Z"
   },
   {
    "duration": 11,
    "start_time": "2023-01-09T08:05:30.672Z"
   },
   {
    "duration": 47,
    "start_time": "2023-01-09T08:05:30.684Z"
   },
   {
    "duration": 27,
    "start_time": "2023-01-09T08:05:30.735Z"
   },
   {
    "duration": 46,
    "start_time": "2023-01-09T08:05:30.763Z"
   },
   {
    "duration": 44,
    "start_time": "2023-01-09T08:05:30.811Z"
   },
   {
    "duration": 24,
    "start_time": "2023-01-09T08:05:30.857Z"
   },
   {
    "duration": 35,
    "start_time": "2023-01-09T08:05:30.882Z"
   },
   {
    "duration": 27,
    "start_time": "2023-01-09T08:05:30.919Z"
   },
   {
    "duration": 23,
    "start_time": "2023-01-09T08:11:23.595Z"
   },
   {
    "duration": 98,
    "start_time": "2023-01-09T08:11:53.687Z"
   },
   {
    "duration": 31,
    "start_time": "2023-01-09T08:12:15.580Z"
   },
   {
    "duration": 145,
    "start_time": "2023-01-09T08:13:36.228Z"
   },
   {
    "duration": 26,
    "start_time": "2023-01-09T08:16:50.044Z"
   },
   {
    "duration": 161,
    "start_time": "2023-01-09T08:19:00.253Z"
   },
   {
    "duration": 166,
    "start_time": "2023-01-09T08:20:41.270Z"
   },
   {
    "duration": 17,
    "start_time": "2023-01-09T08:22:27.473Z"
   },
   {
    "duration": 175,
    "start_time": "2023-01-09T08:22:28.301Z"
   },
   {
    "duration": 159,
    "start_time": "2023-01-09T08:23:08.894Z"
   },
   {
    "duration": 7,
    "start_time": "2023-01-09T08:27:45.343Z"
   },
   {
    "duration": 10,
    "start_time": "2023-01-09T08:29:37.447Z"
   },
   {
    "duration": 6,
    "start_time": "2023-01-09T08:30:08.483Z"
   },
   {
    "duration": 5,
    "start_time": "2023-01-09T08:30:31.593Z"
   },
   {
    "duration": 3,
    "start_time": "2023-01-09T08:30:36.150Z"
   },
   {
    "duration": 158,
    "start_time": "2023-01-09T08:30:36.155Z"
   },
   {
    "duration": 7,
    "start_time": "2023-01-09T08:30:36.321Z"
   },
   {
    "duration": 25,
    "start_time": "2023-01-09T08:30:36.330Z"
   },
   {
    "duration": 24,
    "start_time": "2023-01-09T08:30:36.357Z"
   },
   {
    "duration": 10,
    "start_time": "2023-01-09T08:30:36.383Z"
   },
   {
    "duration": 132,
    "start_time": "2023-01-09T08:30:36.395Z"
   },
   {
    "duration": 18,
    "start_time": "2023-01-09T08:30:36.529Z"
   },
   {
    "duration": 84,
    "start_time": "2023-01-09T08:30:36.548Z"
   },
   {
    "duration": 140,
    "start_time": "2023-01-09T08:30:36.634Z"
   },
   {
    "duration": 138,
    "start_time": "2023-01-09T08:30:36.776Z"
   },
   {
    "duration": 43,
    "start_time": "2023-01-09T08:30:36.916Z"
   },
   {
    "duration": 18,
    "start_time": "2023-01-09T08:30:36.961Z"
   },
   {
    "duration": 63,
    "start_time": "2023-01-09T08:30:36.981Z"
   },
   {
    "duration": 16,
    "start_time": "2023-01-09T08:30:37.046Z"
   },
   {
    "duration": 5,
    "start_time": "2023-01-09T08:30:37.064Z"
   },
   {
    "duration": 173,
    "start_time": "2023-01-09T08:30:37.070Z"
   },
   {
    "duration": 5,
    "start_time": "2023-01-09T08:30:37.245Z"
   },
   {
    "duration": 5,
    "start_time": "2023-01-09T08:30:37.252Z"
   },
   {
    "duration": 502,
    "start_time": "2023-01-09T08:30:37.259Z"
   },
   {
    "duration": 12,
    "start_time": "2023-01-09T08:30:37.762Z"
   },
   {
    "duration": 4,
    "start_time": "2023-01-09T08:30:37.776Z"
   },
   {
    "duration": 9,
    "start_time": "2023-01-09T08:30:37.781Z"
   },
   {
    "duration": 11,
    "start_time": "2023-01-09T08:30:37.791Z"
   },
   {
    "duration": 27,
    "start_time": "2023-01-09T08:30:37.803Z"
   },
   {
    "duration": 16,
    "start_time": "2023-01-09T08:30:37.832Z"
   },
   {
    "duration": 38,
    "start_time": "2023-01-09T08:30:37.850Z"
   },
   {
    "duration": 20,
    "start_time": "2023-01-09T08:30:37.890Z"
   },
   {
    "duration": 67,
    "start_time": "2023-01-09T08:30:37.912Z"
   },
   {
    "duration": 4,
    "start_time": "2023-01-09T08:30:37.981Z"
   },
   {
    "duration": 28,
    "start_time": "2023-01-09T08:30:37.986Z"
   },
   {
    "duration": 5,
    "start_time": "2023-01-09T08:30:38.016Z"
   },
   {
    "duration": 31,
    "start_time": "2023-01-09T08:30:38.022Z"
   },
   {
    "duration": 7,
    "start_time": "2023-01-09T08:30:38.054Z"
   },
   {
    "duration": 44,
    "start_time": "2023-01-09T08:30:38.063Z"
   },
   {
    "duration": 3,
    "start_time": "2023-01-09T08:30:38.109Z"
   },
   {
    "duration": 31,
    "start_time": "2023-01-09T08:30:38.114Z"
   },
   {
    "duration": 12,
    "start_time": "2023-01-09T08:30:38.146Z"
   },
   {
    "duration": 20,
    "start_time": "2023-01-09T08:30:38.160Z"
   },
   {
    "duration": 11,
    "start_time": "2023-01-09T08:30:38.181Z"
   },
   {
    "duration": 4,
    "start_time": "2023-01-09T08:30:38.196Z"
   },
   {
    "duration": 77,
    "start_time": "2023-01-09T08:30:38.201Z"
   },
   {
    "duration": 13,
    "start_time": "2023-01-09T08:30:38.280Z"
   },
   {
    "duration": 17,
    "start_time": "2023-01-09T08:30:38.295Z"
   },
   {
    "duration": 29,
    "start_time": "2023-01-09T08:30:38.313Z"
   },
   {
    "duration": 18,
    "start_time": "2023-01-09T08:30:38.343Z"
   },
   {
    "duration": 8,
    "start_time": "2023-01-09T08:30:38.363Z"
   },
   {
    "duration": 20,
    "start_time": "2023-01-09T08:30:38.373Z"
   },
   {
    "duration": 12,
    "start_time": "2023-01-09T08:30:38.395Z"
   },
   {
    "duration": 18,
    "start_time": "2023-01-09T08:30:38.409Z"
   },
   {
    "duration": 6,
    "start_time": "2023-01-09T08:31:30.155Z"
   },
   {
    "duration": 12,
    "start_time": "2023-01-09T08:32:52.800Z"
   },
   {
    "duration": 5,
    "start_time": "2023-01-09T08:38:43.740Z"
   },
   {
    "duration": 5,
    "start_time": "2023-01-09T08:39:04.498Z"
   },
   {
    "duration": 3,
    "start_time": "2023-01-09T08:56:43.184Z"
   },
   {
    "duration": 160,
    "start_time": "2023-01-09T08:56:43.188Z"
   },
   {
    "duration": 7,
    "start_time": "2023-01-09T08:56:43.350Z"
   },
   {
    "duration": 21,
    "start_time": "2023-01-09T08:56:43.358Z"
   },
   {
    "duration": 21,
    "start_time": "2023-01-09T08:56:43.381Z"
   },
   {
    "duration": 12,
    "start_time": "2023-01-09T08:56:43.421Z"
   },
   {
    "duration": 127,
    "start_time": "2023-01-09T08:56:43.434Z"
   },
   {
    "duration": 18,
    "start_time": "2023-01-09T08:56:43.562Z"
   },
   {
    "duration": 69,
    "start_time": "2023-01-09T08:56:43.581Z"
   },
   {
    "duration": 126,
    "start_time": "2023-01-09T08:56:43.651Z"
   },
   {
    "duration": 4,
    "start_time": "2023-01-09T08:56:43.779Z"
   },
   {
    "duration": 12,
    "start_time": "2023-01-09T08:56:43.784Z"
   },
   {
    "duration": 8,
    "start_time": "2023-01-09T08:56:43.797Z"
   },
   {
    "duration": 29,
    "start_time": "2023-01-09T08:56:43.807Z"
   },
   {
    "duration": 10,
    "start_time": "2023-01-09T08:56:43.838Z"
   },
   {
    "duration": 172,
    "start_time": "2023-01-09T08:56:43.849Z"
   },
   {
    "duration": 4,
    "start_time": "2023-01-09T08:56:44.023Z"
   },
   {
    "duration": 14,
    "start_time": "2023-01-09T08:56:44.028Z"
   },
   {
    "duration": 5,
    "start_time": "2023-01-09T08:56:44.043Z"
   },
   {
    "duration": 454,
    "start_time": "2023-01-09T08:56:44.050Z"
   },
   {
    "duration": 18,
    "start_time": "2023-01-09T08:56:44.505Z"
   },
   {
    "duration": 25,
    "start_time": "2023-01-09T08:56:44.525Z"
   },
   {
    "duration": 12,
    "start_time": "2023-01-09T08:56:44.552Z"
   },
   {
    "duration": 14,
    "start_time": "2023-01-09T08:56:44.566Z"
   },
   {
    "duration": 9,
    "start_time": "2023-01-09T08:56:44.581Z"
   },
   {
    "duration": 12,
    "start_time": "2023-01-09T08:56:44.592Z"
   },
   {
    "duration": 36,
    "start_time": "2023-01-09T08:56:44.605Z"
   },
   {
    "duration": 22,
    "start_time": "2023-01-09T08:56:44.642Z"
   },
   {
    "duration": 61,
    "start_time": "2023-01-09T08:56:44.667Z"
   },
   {
    "duration": 4,
    "start_time": "2023-01-09T08:56:44.730Z"
   },
   {
    "duration": 31,
    "start_time": "2023-01-09T08:56:44.735Z"
   },
   {
    "duration": 5,
    "start_time": "2023-01-09T08:56:44.768Z"
   },
   {
    "duration": 14,
    "start_time": "2023-01-09T08:56:44.774Z"
   },
   {
    "duration": 5,
    "start_time": "2023-01-09T08:56:44.789Z"
   },
   {
    "duration": 46,
    "start_time": "2023-01-09T08:56:44.795Z"
   },
   {
    "duration": 5,
    "start_time": "2023-01-09T08:56:44.842Z"
   },
   {
    "duration": 23,
    "start_time": "2023-01-09T08:56:44.848Z"
   },
   {
    "duration": 12,
    "start_time": "2023-01-09T08:56:44.873Z"
   },
   {
    "duration": 35,
    "start_time": "2023-01-09T08:56:44.887Z"
   },
   {
    "duration": 13,
    "start_time": "2023-01-09T08:56:44.923Z"
   },
   {
    "duration": 15,
    "start_time": "2023-01-09T08:56:44.937Z"
   },
   {
    "duration": 107,
    "start_time": "2023-01-09T08:56:44.953Z"
   },
   {
    "duration": 13,
    "start_time": "2023-01-09T08:56:45.061Z"
   },
   {
    "duration": 13,
    "start_time": "2023-01-09T08:56:45.075Z"
   },
   {
    "duration": 76,
    "start_time": "2023-01-09T08:56:45.090Z"
   },
   {
    "duration": 21,
    "start_time": "2023-01-09T08:56:45.167Z"
   },
   {
    "duration": 26,
    "start_time": "2023-01-09T08:56:45.189Z"
   },
   {
    "duration": 23,
    "start_time": "2023-01-09T08:56:45.217Z"
   },
   {
    "duration": 22,
    "start_time": "2023-01-09T08:56:45.242Z"
   },
   {
    "duration": 13,
    "start_time": "2023-01-09T08:56:45.266Z"
   },
   {
    "duration": 1080,
    "start_time": "2023-01-09T08:56:56.090Z"
   },
   {
    "duration": 152,
    "start_time": "2023-01-09T08:56:57.171Z"
   },
   {
    "duration": 11,
    "start_time": "2023-01-09T08:56:57.325Z"
   },
   {
    "duration": 29,
    "start_time": "2023-01-09T08:56:57.339Z"
   },
   {
    "duration": 20,
    "start_time": "2023-01-09T08:56:57.370Z"
   },
   {
    "duration": 31,
    "start_time": "2023-01-09T08:56:57.391Z"
   },
   {
    "duration": 131,
    "start_time": "2023-01-09T08:56:57.424Z"
   },
   {
    "duration": 20,
    "start_time": "2023-01-09T08:56:57.556Z"
   },
   {
    "duration": 88,
    "start_time": "2023-01-09T08:56:57.577Z"
   },
   {
    "duration": 158,
    "start_time": "2023-01-09T08:56:57.667Z"
   },
   {
    "duration": 3,
    "start_time": "2023-01-09T08:56:57.827Z"
   },
   {
    "duration": 14,
    "start_time": "2023-01-09T08:56:57.832Z"
   },
   {
    "duration": 9,
    "start_time": "2023-01-09T08:56:57.848Z"
   },
   {
    "duration": 26,
    "start_time": "2023-01-09T08:56:57.859Z"
   },
   {
    "duration": 11,
    "start_time": "2023-01-09T08:56:57.886Z"
   },
   {
    "duration": 174,
    "start_time": "2023-01-09T08:56:57.898Z"
   },
   {
    "duration": 5,
    "start_time": "2023-01-09T08:56:58.073Z"
   },
   {
    "duration": 10,
    "start_time": "2023-01-09T08:56:58.079Z"
   },
   {
    "duration": 5,
    "start_time": "2023-01-09T08:56:58.090Z"
   },
   {
    "duration": 534,
    "start_time": "2023-01-09T08:56:58.096Z"
   },
   {
    "duration": 15,
    "start_time": "2023-01-09T08:56:58.632Z"
   },
   {
    "duration": 4,
    "start_time": "2023-01-09T08:56:58.648Z"
   },
   {
    "duration": 10,
    "start_time": "2023-01-09T08:56:58.653Z"
   },
   {
    "duration": 14,
    "start_time": "2023-01-09T08:56:58.664Z"
   },
   {
    "duration": 21,
    "start_time": "2023-01-09T08:56:58.679Z"
   },
   {
    "duration": 10,
    "start_time": "2023-01-09T08:56:58.702Z"
   },
   {
    "duration": 50,
    "start_time": "2023-01-09T08:56:58.713Z"
   },
   {
    "duration": 20,
    "start_time": "2023-01-09T08:56:58.766Z"
   },
   {
    "duration": 71,
    "start_time": "2023-01-09T08:56:58.788Z"
   },
   {
    "duration": 5,
    "start_time": "2023-01-09T08:56:58.861Z"
   },
   {
    "duration": 24,
    "start_time": "2023-01-09T08:56:58.867Z"
   },
   {
    "duration": 7,
    "start_time": "2023-01-09T08:56:58.893Z"
   },
   {
    "duration": 172,
    "start_time": "2023-01-09T08:56:58.901Z"
   },
   {
    "duration": 4,
    "start_time": "2023-01-09T08:56:59.074Z"
   },
   {
    "duration": 45,
    "start_time": "2023-01-09T08:56:59.079Z"
   },
   {
    "duration": 4,
    "start_time": "2023-01-09T08:56:59.125Z"
   },
   {
    "duration": 45,
    "start_time": "2023-01-09T08:56:59.131Z"
   },
   {
    "duration": 17,
    "start_time": "2023-01-09T08:56:59.222Z"
   },
   {
    "duration": 13,
    "start_time": "2023-01-09T08:56:59.240Z"
   },
   {
    "duration": 11,
    "start_time": "2023-01-09T08:56:59.255Z"
   },
   {
    "duration": 19,
    "start_time": "2023-01-09T08:56:59.268Z"
   },
   {
    "duration": 124,
    "start_time": "2023-01-09T08:56:59.289Z"
   },
   {
    "duration": 16,
    "start_time": "2023-01-09T08:56:59.415Z"
   },
   {
    "duration": 10,
    "start_time": "2023-01-09T08:56:59.433Z"
   },
   {
    "duration": 20,
    "start_time": "2023-01-09T08:56:59.444Z"
   },
   {
    "duration": 17,
    "start_time": "2023-01-09T08:56:59.466Z"
   },
   {
    "duration": 9,
    "start_time": "2023-01-09T08:56:59.485Z"
   },
   {
    "duration": 41,
    "start_time": "2023-01-09T08:56:59.496Z"
   },
   {
    "duration": 16,
    "start_time": "2023-01-09T08:56:59.538Z"
   },
   {
    "duration": 15,
    "start_time": "2023-01-09T08:56:59.555Z"
   },
   {
    "duration": 1031,
    "start_time": "2023-01-09T09:21:21.660Z"
   },
   {
    "duration": 149,
    "start_time": "2023-01-09T09:21:22.693Z"
   },
   {
    "duration": 13,
    "start_time": "2023-01-09T09:21:22.845Z"
   },
   {
    "duration": 23,
    "start_time": "2023-01-09T09:21:22.860Z"
   },
   {
    "duration": 18,
    "start_time": "2023-01-09T09:21:22.885Z"
   },
   {
    "duration": 31,
    "start_time": "2023-01-09T09:21:22.904Z"
   },
   {
    "duration": 147,
    "start_time": "2023-01-09T09:21:22.937Z"
   },
   {
    "duration": 20,
    "start_time": "2023-01-09T09:21:23.086Z"
   },
   {
    "duration": 88,
    "start_time": "2023-01-09T09:21:23.108Z"
   },
   {
    "duration": 167,
    "start_time": "2023-01-09T09:21:23.198Z"
   },
   {
    "duration": 4,
    "start_time": "2023-01-09T09:21:23.367Z"
   },
   {
    "duration": 28,
    "start_time": "2023-01-09T09:21:23.373Z"
   },
   {
    "duration": 6,
    "start_time": "2023-01-09T09:21:23.403Z"
   },
   {
    "duration": 19,
    "start_time": "2023-01-09T09:21:23.412Z"
   },
   {
    "duration": 11,
    "start_time": "2023-01-09T09:21:23.433Z"
   },
   {
    "duration": 184,
    "start_time": "2023-01-09T09:21:23.446Z"
   },
   {
    "duration": 5,
    "start_time": "2023-01-09T09:21:23.632Z"
   },
   {
    "duration": 15,
    "start_time": "2023-01-09T09:21:23.638Z"
   },
   {
    "duration": 10,
    "start_time": "2023-01-09T09:21:23.654Z"
   },
   {
    "duration": 537,
    "start_time": "2023-01-09T09:21:23.665Z"
   },
   {
    "duration": 20,
    "start_time": "2023-01-09T09:21:24.203Z"
   },
   {
    "duration": 4,
    "start_time": "2023-01-09T09:21:24.225Z"
   },
   {
    "duration": 10,
    "start_time": "2023-01-09T09:21:24.230Z"
   },
   {
    "duration": 13,
    "start_time": "2023-01-09T09:21:24.241Z"
   },
   {
    "duration": 10,
    "start_time": "2023-01-09T09:21:24.255Z"
   },
   {
    "duration": 5,
    "start_time": "2023-01-09T09:21:24.267Z"
   },
   {
    "duration": 67,
    "start_time": "2023-01-09T09:21:24.273Z"
   },
   {
    "duration": 23,
    "start_time": "2023-01-09T09:21:24.342Z"
   },
   {
    "duration": 74,
    "start_time": "2023-01-09T09:21:24.366Z"
   },
   {
    "duration": 5,
    "start_time": "2023-01-09T09:21:24.442Z"
   },
   {
    "duration": 23,
    "start_time": "2023-01-09T09:21:24.448Z"
   },
   {
    "duration": 5,
    "start_time": "2023-01-09T09:21:24.473Z"
   },
   {
    "duration": 172,
    "start_time": "2023-01-09T09:21:24.480Z"
   },
   {
    "duration": 3,
    "start_time": "2023-01-09T09:21:24.654Z"
   },
   {
    "duration": 42,
    "start_time": "2023-01-09T09:21:24.659Z"
   },
   {
    "duration": 5,
    "start_time": "2023-01-09T09:21:24.721Z"
   },
   {
    "duration": 26,
    "start_time": "2023-01-09T09:21:24.728Z"
   },
   {
    "duration": 17,
    "start_time": "2023-01-09T09:21:24.756Z"
   },
   {
    "duration": 56,
    "start_time": "2023-01-09T09:21:24.774Z"
   },
   {
    "duration": 12,
    "start_time": "2023-01-09T09:21:24.832Z"
   },
   {
    "duration": 5,
    "start_time": "2023-01-09T09:21:24.847Z"
   },
   {
    "duration": 99,
    "start_time": "2023-01-09T09:21:24.853Z"
   },
   {
    "duration": 11,
    "start_time": "2023-01-09T09:21:24.954Z"
   },
   {
    "duration": 22,
    "start_time": "2023-01-09T09:21:24.966Z"
   },
   {
    "duration": 10,
    "start_time": "2023-01-09T09:21:24.990Z"
   },
   {
    "duration": 25,
    "start_time": "2023-01-09T09:21:25.001Z"
   },
   {
    "duration": 17,
    "start_time": "2023-01-09T09:21:25.028Z"
   },
   {
    "duration": 42,
    "start_time": "2023-01-09T09:21:25.047Z"
   },
   {
    "duration": 20,
    "start_time": "2023-01-09T09:21:25.091Z"
   },
   {
    "duration": 24,
    "start_time": "2023-01-09T09:21:25.112Z"
   },
   {
    "duration": 1087,
    "start_time": "2023-01-23T06:34:34.393Z"
   },
   {
    "duration": 672,
    "start_time": "2023-01-23T06:34:35.482Z"
   },
   {
    "duration": 11,
    "start_time": "2023-01-23T06:34:36.155Z"
   },
   {
    "duration": 20,
    "start_time": "2023-01-23T06:34:36.168Z"
   },
   {
    "duration": 18,
    "start_time": "2023-01-23T06:34:36.190Z"
   },
   {
    "duration": 27,
    "start_time": "2023-01-23T06:34:36.209Z"
   },
   {
    "duration": 153,
    "start_time": "2023-01-23T06:34:36.238Z"
   },
   {
    "duration": 36,
    "start_time": "2023-01-23T06:34:36.392Z"
   },
   {
    "duration": 125,
    "start_time": "2023-01-23T06:34:36.431Z"
   },
   {
    "duration": 183,
    "start_time": "2023-01-23T06:34:36.557Z"
   },
   {
    "duration": 4,
    "start_time": "2023-01-23T06:34:36.742Z"
   },
   {
    "duration": 12,
    "start_time": "2023-01-23T06:34:36.748Z"
   },
   {
    "duration": 7,
    "start_time": "2023-01-23T06:34:36.762Z"
   },
   {
    "duration": 25,
    "start_time": "2023-01-23T06:34:36.773Z"
   },
   {
    "duration": 34,
    "start_time": "2023-01-23T06:34:36.800Z"
   },
   {
    "duration": 207,
    "start_time": "2023-01-23T06:34:36.836Z"
   },
   {
    "duration": 6,
    "start_time": "2023-01-23T06:34:37.044Z"
   },
   {
    "duration": 8,
    "start_time": "2023-01-23T06:34:37.051Z"
   },
   {
    "duration": 8,
    "start_time": "2023-01-23T06:34:37.061Z"
   },
   {
    "duration": 583,
    "start_time": "2023-01-23T06:34:37.070Z"
   },
   {
    "duration": 18,
    "start_time": "2023-01-23T06:34:37.654Z"
   },
   {
    "duration": 5,
    "start_time": "2023-01-23T06:34:37.675Z"
   },
   {
    "duration": 6,
    "start_time": "2023-01-23T06:34:37.682Z"
   },
   {
    "duration": 38,
    "start_time": "2023-01-23T06:34:37.690Z"
   },
   {
    "duration": 14,
    "start_time": "2023-01-23T06:34:37.730Z"
   },
   {
    "duration": 8,
    "start_time": "2023-01-23T06:34:37.745Z"
   },
   {
    "duration": 68,
    "start_time": "2023-01-23T06:34:37.756Z"
   },
   {
    "duration": 34,
    "start_time": "2023-01-23T06:34:37.826Z"
   },
   {
    "duration": 77,
    "start_time": "2023-01-23T06:34:37.861Z"
   },
   {
    "duration": 5,
    "start_time": "2023-01-23T06:34:37.939Z"
   },
   {
    "duration": 26,
    "start_time": "2023-01-23T06:34:37.945Z"
   },
   {
    "duration": 6,
    "start_time": "2023-01-23T06:34:37.972Z"
   },
   {
    "duration": 167,
    "start_time": "2023-01-23T06:34:37.980Z"
   },
   {
    "duration": 4,
    "start_time": "2023-01-23T06:34:38.149Z"
   },
   {
    "duration": 90,
    "start_time": "2023-01-23T06:34:38.155Z"
   },
   {
    "duration": 7,
    "start_time": "2023-01-23T06:34:38.247Z"
   },
   {
    "duration": 85,
    "start_time": "2023-01-23T06:34:38.256Z"
   },
   {
    "duration": 17,
    "start_time": "2023-01-23T06:34:38.343Z"
   },
   {
    "duration": 13,
    "start_time": "2023-01-23T06:34:38.361Z"
   },
   {
    "duration": 14,
    "start_time": "2023-01-23T06:34:38.376Z"
   },
   {
    "duration": 33,
    "start_time": "2023-01-23T06:34:38.394Z"
   },
   {
    "duration": 89,
    "start_time": "2023-01-23T06:34:38.429Z"
   },
   {
    "duration": 17,
    "start_time": "2023-01-23T06:34:38.520Z"
   },
   {
    "duration": 18,
    "start_time": "2023-01-23T06:34:38.538Z"
   },
   {
    "duration": 17,
    "start_time": "2023-01-23T06:34:38.557Z"
   },
   {
    "duration": 19,
    "start_time": "2023-01-23T06:34:38.576Z"
   },
   {
    "duration": 5,
    "start_time": "2023-01-23T06:34:38.597Z"
   },
   {
    "duration": 27,
    "start_time": "2023-01-23T06:34:38.604Z"
   },
   {
    "duration": 12,
    "start_time": "2023-01-23T06:34:38.633Z"
   },
   {
    "duration": 16,
    "start_time": "2023-01-23T06:34:38.647Z"
   },
   {
    "duration": 9159,
    "start_time": "2023-02-06T08:53:57.683Z"
   },
   {
    "duration": 79,
    "start_time": "2023-02-06T08:54:22.654Z"
   }
  ],
  "kernelspec": {
   "display_name": "Python 3 (ipykernel)",
   "language": "python",
   "name": "python3"
  },
  "language_info": {
   "codemirror_mode": {
    "name": "ipython",
    "version": 3
   },
   "file_extension": ".py",
   "mimetype": "text/x-python",
   "name": "python",
   "nbconvert_exporter": "python",
   "pygments_lexer": "ipython3",
   "version": "3.9.18"
  },
  "toc": {
   "base_numbering": 1,
   "nav_menu": {},
   "number_sections": true,
   "sideBar": true,
   "skip_h1_title": true,
   "title_cell": "Table of Contents",
   "title_sidebar": "Contents",
   "toc_cell": false,
   "toc_position": {},
   "toc_section_display": true,
   "toc_window_display": false
  }
 },
 "nbformat": 4,
 "nbformat_minor": 4
}
